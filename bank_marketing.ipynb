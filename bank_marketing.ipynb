{
 "cells": [
  {
   "cell_type": "code",
   "metadata": {
    "ExecuteTime": {
     "end_time": "2025-08-09T22:00:43.458599Z",
     "start_time": "2025-08-09T22:00:42.642941Z"
    }
   },
   "source": [
    "import os.path\n",
    "\n",
    "import joblib\n",
    "import plotly.express as px\n",
    "import plotly.graph_objects as go\n",
    "import pandas as pd\n",
    "import numpy as np\n",
    "\n",
    "from plotly.subplots import make_subplots\n",
    "from sklearn.compose import ColumnTransformer\n",
    "from sklearn.decomposition import PCA\n",
    "from sklearn.ensemble import RandomForestRegressor\n",
    "from sklearn.linear_model import Ridge, LinearRegression, Lasso\n",
    "from sklearn.metrics import (\n",
    "    accuracy_score,\n",
    "    roc_curve,\n",
    "precision_score,\n",
    "recall_score,\n",
    "f1_score\n",
    ")\n",
    "from sklearn.model_selection import train_test_split, GridSearchCV\n",
    "from sklearn.pipeline import Pipeline\n",
    "from sklearn.preprocessing import (\n",
    "    StandardScaler,\n",
    "    OneHotEncoder,\n",
    ")\n",
    "from warnings import filterwarnings\n",
    "\n",
    "filterwarnings(\"ignore\")"
   ],
   "outputs": [],
   "execution_count": 1
  },
  {
   "metadata": {},
   "cell_type": "markdown",
   "source": [
    "### Business Objective\n",
    "\n",
    "It comes as no surprise that large marketing campaigns have negative sentiment amongst the general populace. Think about the last time you answered an unexpected phone call from an unknown number, if your experience is anything like my then, it was either a scam caller, telemarketer or survey taker. I find myself hanging up quickly when it comes to these types of calls, if I were to ever answer them. Every failed cold call costs the company commissioning the campaign time and money. The bank partner commissioning this study is seeking to increase campaign success and reduce costs by focusing on profiles that are more likely to accept their offerings. The bank partner would like a model that can better predict the type of person that would accept offers from our partner bank."
   ]
  },
  {
   "metadata": {},
   "cell_type": "markdown",
   "source": [
    "### Understanding the Features\n",
    "\n",
    "```\n",
    "Input variables:\n",
    "# bank client data:\n",
    "1 - age (numeric)\n",
    "2 - job : type of job (categorical: 'admin.','blue-collar','entrepreneur','housemaid','management','retired','self-employed','services','student','technician','unemployed','unknown')\n",
    "3 - marital : marital status (categorical: 'divorced','married','single','unknown'; note: 'divorced' means divorced or widowed)\n",
    "4 - education (categorical: 'basic.4y','basic.6y','basic.9y','high.school','illiterate','professional.course','university.degree','unknown')\n",
    "5 - default: has credit in default? (categorical: 'no','yes','unknown')\n",
    "6 - housing: has housing loan? (categorical: 'no','yes','unknown')\n",
    "7 - loan: has personal loan? (categorical: 'no','yes','unknown')\n",
    "# related with the last contact of the current campaign:\n",
    "8 - contact: contact communication type (categorical: 'cellular','telephone')\n",
    "9 - month: last contact month of year (categorical: 'jan', 'feb', 'mar', ..., 'nov', 'dec')\n",
    "10 - day_of_week: last contact day of the week (categorical: 'mon','tue','wed','thu','fri')\n",
    "11 - duration: last contact duration, in seconds (numeric). Important note: this attribute highly affects the output target (e.g., if duration=0 then y='no'). Yet, the duration is not known before a call is performed. Also, after the end of the call y is obviously known. Thus, this input should only be included for benchmark purposes and should be discarded if the intention is to have a realistic predictive model.\n",
    "# other attributes:\n",
    "12 - campaign: number of contacts performed during this campaign and for this client (numeric, includes last contact)\n",
    "13 - pdays: number of days that passed by after the client was last contacted from a previous campaign (numeric; 999 means client was not previously contacted)\n",
    "14 - previous: number of contacts performed before this campaign and for this client (numeric)\n",
    "15 - poutcome: outcome of the previous marketing campaign (categorical: 'failure','nonexistent','success')\n",
    "# social and economic context attributes\n",
    "16 - emp.var.rate: employment variation rate - quarterly indicator (numeric)\n",
    "17 - cons.price.idx: consumer price index - monthly indicator (numeric)\n",
    "18 - cons.conf.idx: consumer confidence index - monthly indicator (numeric)\n",
    "19 - euribor3m: euribor 3 month rate - daily indicator (numeric)\n",
    "20 - nr.employed: number of employees - quarterly indicator (numeric)\n",
    "\n",
    "Output variable (desired target):\n",
    "21 - y - has the client subscribed a term deposit? (binary: 'yes','no')\n",
    "```\n",
    "\n"
   ]
  },
  {
   "metadata": {},
   "cell_type": "markdown",
   "source": "### Understanding the Data\n"
  },
  {
   "metadata": {
    "ExecuteTime": {
     "end_time": "2025-08-09T22:00:43.627480Z",
     "start_time": "2025-08-09T22:00:43.536216Z"
    }
   },
   "cell_type": "code",
   "source": "df = pd.read_csv('data/bank-additional-full.csv', sep = ';')",
   "outputs": [],
   "execution_count": 2
  },
  {
   "metadata": {
    "ExecuteTime": {
     "end_time": "2025-08-09T22:00:43.648340Z",
     "start_time": "2025-08-09T22:00:43.638633Z"
    }
   },
   "cell_type": "code",
   "source": "df.head()",
   "outputs": [
    {
     "data": {
      "text/plain": [
       "   age        job  marital    education  default housing loan    contact  \\\n",
       "0   56  housemaid  married     basic.4y       no      no   no  telephone   \n",
       "1   57   services  married  high.school  unknown      no   no  telephone   \n",
       "2   37   services  married  high.school       no     yes   no  telephone   \n",
       "3   40     admin.  married     basic.6y       no      no   no  telephone   \n",
       "4   56   services  married  high.school       no      no  yes  telephone   \n",
       "\n",
       "  month day_of_week  ...  campaign  pdays  previous     poutcome emp.var.rate  \\\n",
       "0   may         mon  ...         1    999         0  nonexistent          1.1   \n",
       "1   may         mon  ...         1    999         0  nonexistent          1.1   \n",
       "2   may         mon  ...         1    999         0  nonexistent          1.1   \n",
       "3   may         mon  ...         1    999         0  nonexistent          1.1   \n",
       "4   may         mon  ...         1    999         0  nonexistent          1.1   \n",
       "\n",
       "   cons.price.idx  cons.conf.idx  euribor3m  nr.employed   y  \n",
       "0          93.994          -36.4      4.857       5191.0  no  \n",
       "1          93.994          -36.4      4.857       5191.0  no  \n",
       "2          93.994          -36.4      4.857       5191.0  no  \n",
       "3          93.994          -36.4      4.857       5191.0  no  \n",
       "4          93.994          -36.4      4.857       5191.0  no  \n",
       "\n",
       "[5 rows x 21 columns]"
      ],
      "text/html": [
       "<div>\n",
       "<style scoped>\n",
       "    .dataframe tbody tr th:only-of-type {\n",
       "        vertical-align: middle;\n",
       "    }\n",
       "\n",
       "    .dataframe tbody tr th {\n",
       "        vertical-align: top;\n",
       "    }\n",
       "\n",
       "    .dataframe thead th {\n",
       "        text-align: right;\n",
       "    }\n",
       "</style>\n",
       "<table border=\"1\" class=\"dataframe\">\n",
       "  <thead>\n",
       "    <tr style=\"text-align: right;\">\n",
       "      <th></th>\n",
       "      <th>age</th>\n",
       "      <th>job</th>\n",
       "      <th>marital</th>\n",
       "      <th>education</th>\n",
       "      <th>default</th>\n",
       "      <th>housing</th>\n",
       "      <th>loan</th>\n",
       "      <th>contact</th>\n",
       "      <th>month</th>\n",
       "      <th>day_of_week</th>\n",
       "      <th>...</th>\n",
       "      <th>campaign</th>\n",
       "      <th>pdays</th>\n",
       "      <th>previous</th>\n",
       "      <th>poutcome</th>\n",
       "      <th>emp.var.rate</th>\n",
       "      <th>cons.price.idx</th>\n",
       "      <th>cons.conf.idx</th>\n",
       "      <th>euribor3m</th>\n",
       "      <th>nr.employed</th>\n",
       "      <th>y</th>\n",
       "    </tr>\n",
       "  </thead>\n",
       "  <tbody>\n",
       "    <tr>\n",
       "      <th>0</th>\n",
       "      <td>56</td>\n",
       "      <td>housemaid</td>\n",
       "      <td>married</td>\n",
       "      <td>basic.4y</td>\n",
       "      <td>no</td>\n",
       "      <td>no</td>\n",
       "      <td>no</td>\n",
       "      <td>telephone</td>\n",
       "      <td>may</td>\n",
       "      <td>mon</td>\n",
       "      <td>...</td>\n",
       "      <td>1</td>\n",
       "      <td>999</td>\n",
       "      <td>0</td>\n",
       "      <td>nonexistent</td>\n",
       "      <td>1.1</td>\n",
       "      <td>93.994</td>\n",
       "      <td>-36.4</td>\n",
       "      <td>4.857</td>\n",
       "      <td>5191.0</td>\n",
       "      <td>no</td>\n",
       "    </tr>\n",
       "    <tr>\n",
       "      <th>1</th>\n",
       "      <td>57</td>\n",
       "      <td>services</td>\n",
       "      <td>married</td>\n",
       "      <td>high.school</td>\n",
       "      <td>unknown</td>\n",
       "      <td>no</td>\n",
       "      <td>no</td>\n",
       "      <td>telephone</td>\n",
       "      <td>may</td>\n",
       "      <td>mon</td>\n",
       "      <td>...</td>\n",
       "      <td>1</td>\n",
       "      <td>999</td>\n",
       "      <td>0</td>\n",
       "      <td>nonexistent</td>\n",
       "      <td>1.1</td>\n",
       "      <td>93.994</td>\n",
       "      <td>-36.4</td>\n",
       "      <td>4.857</td>\n",
       "      <td>5191.0</td>\n",
       "      <td>no</td>\n",
       "    </tr>\n",
       "    <tr>\n",
       "      <th>2</th>\n",
       "      <td>37</td>\n",
       "      <td>services</td>\n",
       "      <td>married</td>\n",
       "      <td>high.school</td>\n",
       "      <td>no</td>\n",
       "      <td>yes</td>\n",
       "      <td>no</td>\n",
       "      <td>telephone</td>\n",
       "      <td>may</td>\n",
       "      <td>mon</td>\n",
       "      <td>...</td>\n",
       "      <td>1</td>\n",
       "      <td>999</td>\n",
       "      <td>0</td>\n",
       "      <td>nonexistent</td>\n",
       "      <td>1.1</td>\n",
       "      <td>93.994</td>\n",
       "      <td>-36.4</td>\n",
       "      <td>4.857</td>\n",
       "      <td>5191.0</td>\n",
       "      <td>no</td>\n",
       "    </tr>\n",
       "    <tr>\n",
       "      <th>3</th>\n",
       "      <td>40</td>\n",
       "      <td>admin.</td>\n",
       "      <td>married</td>\n",
       "      <td>basic.6y</td>\n",
       "      <td>no</td>\n",
       "      <td>no</td>\n",
       "      <td>no</td>\n",
       "      <td>telephone</td>\n",
       "      <td>may</td>\n",
       "      <td>mon</td>\n",
       "      <td>...</td>\n",
       "      <td>1</td>\n",
       "      <td>999</td>\n",
       "      <td>0</td>\n",
       "      <td>nonexistent</td>\n",
       "      <td>1.1</td>\n",
       "      <td>93.994</td>\n",
       "      <td>-36.4</td>\n",
       "      <td>4.857</td>\n",
       "      <td>5191.0</td>\n",
       "      <td>no</td>\n",
       "    </tr>\n",
       "    <tr>\n",
       "      <th>4</th>\n",
       "      <td>56</td>\n",
       "      <td>services</td>\n",
       "      <td>married</td>\n",
       "      <td>high.school</td>\n",
       "      <td>no</td>\n",
       "      <td>no</td>\n",
       "      <td>yes</td>\n",
       "      <td>telephone</td>\n",
       "      <td>may</td>\n",
       "      <td>mon</td>\n",
       "      <td>...</td>\n",
       "      <td>1</td>\n",
       "      <td>999</td>\n",
       "      <td>0</td>\n",
       "      <td>nonexistent</td>\n",
       "      <td>1.1</td>\n",
       "      <td>93.994</td>\n",
       "      <td>-36.4</td>\n",
       "      <td>4.857</td>\n",
       "      <td>5191.0</td>\n",
       "      <td>no</td>\n",
       "    </tr>\n",
       "  </tbody>\n",
       "</table>\n",
       "<p>5 rows × 21 columns</p>\n",
       "</div>"
      ]
     },
     "execution_count": 3,
     "metadata": {},
     "output_type": "execute_result"
    }
   ],
   "execution_count": 3
  },
  {
   "cell_type": "code",
   "metadata": {
    "ExecuteTime": {
     "end_time": "2025-08-09T22:00:43.725959Z",
     "start_time": "2025-08-09T22:00:43.712232Z"
    }
   },
   "source": "df.info()",
   "outputs": [
    {
     "name": "stdout",
     "output_type": "stream",
     "text": [
      "<class 'pandas.core.frame.DataFrame'>\n",
      "RangeIndex: 41188 entries, 0 to 41187\n",
      "Data columns (total 21 columns):\n",
      " #   Column          Non-Null Count  Dtype  \n",
      "---  ------          --------------  -----  \n",
      " 0   age             41188 non-null  int64  \n",
      " 1   job             41188 non-null  object \n",
      " 2   marital         41188 non-null  object \n",
      " 3   education       41188 non-null  object \n",
      " 4   default         41188 non-null  object \n",
      " 5   housing         41188 non-null  object \n",
      " 6   loan            41188 non-null  object \n",
      " 7   contact         41188 non-null  object \n",
      " 8   month           41188 non-null  object \n",
      " 9   day_of_week     41188 non-null  object \n",
      " 10  duration        41188 non-null  int64  \n",
      " 11  campaign        41188 non-null  int64  \n",
      " 12  pdays           41188 non-null  int64  \n",
      " 13  previous        41188 non-null  int64  \n",
      " 14  poutcome        41188 non-null  object \n",
      " 15  emp.var.rate    41188 non-null  float64\n",
      " 16  cons.price.idx  41188 non-null  float64\n",
      " 17  cons.conf.idx   41188 non-null  float64\n",
      " 18  euribor3m       41188 non-null  float64\n",
      " 19  nr.employed     41188 non-null  float64\n",
      " 20  y               41188 non-null  object \n",
      "dtypes: float64(5), int64(5), object(11)\n",
      "memory usage: 6.6+ MB\n"
     ]
    }
   ],
   "execution_count": 4
  },
  {
   "metadata": {
    "ExecuteTime": {
     "end_time": "2025-08-09T22:00:43.863039Z",
     "start_time": "2025-08-09T22:00:43.834858Z"
    }
   },
   "cell_type": "code",
   "source": "df.describe(include=\"object\")\n",
   "outputs": [
    {
     "data": {
      "text/plain": [
       "           job  marital          education default housing   loan   contact  \\\n",
       "count    41188    41188              41188   41188   41188  41188     41188   \n",
       "unique      12        4                  8       3       3      3         2   \n",
       "top     admin.  married  university.degree      no     yes     no  cellular   \n",
       "freq     10422    24928              12168   32588   21576  33950     26144   \n",
       "\n",
       "        month day_of_week     poutcome      y  \n",
       "count   41188       41188        41188  41188  \n",
       "unique     10           5            3      2  \n",
       "top       may         thu  nonexistent     no  \n",
       "freq    13769        8623        35563  36548  "
      ],
      "text/html": [
       "<div>\n",
       "<style scoped>\n",
       "    .dataframe tbody tr th:only-of-type {\n",
       "        vertical-align: middle;\n",
       "    }\n",
       "\n",
       "    .dataframe tbody tr th {\n",
       "        vertical-align: top;\n",
       "    }\n",
       "\n",
       "    .dataframe thead th {\n",
       "        text-align: right;\n",
       "    }\n",
       "</style>\n",
       "<table border=\"1\" class=\"dataframe\">\n",
       "  <thead>\n",
       "    <tr style=\"text-align: right;\">\n",
       "      <th></th>\n",
       "      <th>job</th>\n",
       "      <th>marital</th>\n",
       "      <th>education</th>\n",
       "      <th>default</th>\n",
       "      <th>housing</th>\n",
       "      <th>loan</th>\n",
       "      <th>contact</th>\n",
       "      <th>month</th>\n",
       "      <th>day_of_week</th>\n",
       "      <th>poutcome</th>\n",
       "      <th>y</th>\n",
       "    </tr>\n",
       "  </thead>\n",
       "  <tbody>\n",
       "    <tr>\n",
       "      <th>count</th>\n",
       "      <td>41188</td>\n",
       "      <td>41188</td>\n",
       "      <td>41188</td>\n",
       "      <td>41188</td>\n",
       "      <td>41188</td>\n",
       "      <td>41188</td>\n",
       "      <td>41188</td>\n",
       "      <td>41188</td>\n",
       "      <td>41188</td>\n",
       "      <td>41188</td>\n",
       "      <td>41188</td>\n",
       "    </tr>\n",
       "    <tr>\n",
       "      <th>unique</th>\n",
       "      <td>12</td>\n",
       "      <td>4</td>\n",
       "      <td>8</td>\n",
       "      <td>3</td>\n",
       "      <td>3</td>\n",
       "      <td>3</td>\n",
       "      <td>2</td>\n",
       "      <td>10</td>\n",
       "      <td>5</td>\n",
       "      <td>3</td>\n",
       "      <td>2</td>\n",
       "    </tr>\n",
       "    <tr>\n",
       "      <th>top</th>\n",
       "      <td>admin.</td>\n",
       "      <td>married</td>\n",
       "      <td>university.degree</td>\n",
       "      <td>no</td>\n",
       "      <td>yes</td>\n",
       "      <td>no</td>\n",
       "      <td>cellular</td>\n",
       "      <td>may</td>\n",
       "      <td>thu</td>\n",
       "      <td>nonexistent</td>\n",
       "      <td>no</td>\n",
       "    </tr>\n",
       "    <tr>\n",
       "      <th>freq</th>\n",
       "      <td>10422</td>\n",
       "      <td>24928</td>\n",
       "      <td>12168</td>\n",
       "      <td>32588</td>\n",
       "      <td>21576</td>\n",
       "      <td>33950</td>\n",
       "      <td>26144</td>\n",
       "      <td>13769</td>\n",
       "      <td>8623</td>\n",
       "      <td>35563</td>\n",
       "      <td>36548</td>\n",
       "    </tr>\n",
       "  </tbody>\n",
       "</table>\n",
       "</div>"
      ]
     },
     "execution_count": 5,
     "metadata": {},
     "output_type": "execute_result"
    }
   ],
   "execution_count": 5
  },
  {
   "metadata": {
    "ExecuteTime": {
     "end_time": "2025-08-09T22:00:43.927310Z",
     "start_time": "2025-08-09T22:00:43.908073Z"
    }
   },
   "cell_type": "code",
   "source": [
    "print(\n",
    "    f\"Row count: {df.shape[0]}, Duplicate count: {df.shape[0] - df.drop_duplicates().shape[0]}\"\n",
    ")"
   ],
   "outputs": [
    {
     "name": "stdout",
     "output_type": "stream",
     "text": [
      "Row count: 41188, Duplicate count: 12\n"
     ]
    }
   ],
   "execution_count": 6
  },
  {
   "metadata": {
    "ExecuteTime": {
     "end_time": "2025-08-09T22:00:44.052243Z",
     "start_time": "2025-08-09T22:00:44.039678Z"
    }
   },
   "cell_type": "code",
   "source": "df.isna().mean().round(2)",
   "outputs": [
    {
     "data": {
      "text/plain": [
       "age               0.0\n",
       "job               0.0\n",
       "marital           0.0\n",
       "education         0.0\n",
       "default           0.0\n",
       "housing           0.0\n",
       "loan              0.0\n",
       "contact           0.0\n",
       "month             0.0\n",
       "day_of_week       0.0\n",
       "duration          0.0\n",
       "campaign          0.0\n",
       "pdays             0.0\n",
       "previous          0.0\n",
       "poutcome          0.0\n",
       "emp.var.rate      0.0\n",
       "cons.price.idx    0.0\n",
       "cons.conf.idx     0.0\n",
       "euribor3m         0.0\n",
       "nr.employed       0.0\n",
       "y                 0.0\n",
       "dtype: float64"
      ]
     },
     "execution_count": 7,
     "metadata": {},
     "output_type": "execute_result"
    }
   ],
   "execution_count": 7
  },
  {
   "metadata": {
    "ExecuteTime": {
     "end_time": "2025-08-09T22:00:44.207443Z",
     "start_time": "2025-08-09T22:00:44.198441Z"
    }
   },
   "cell_type": "code",
   "source": "df.sample(5)",
   "outputs": [
    {
     "data": {
      "text/plain": [
       "       age          job   marital          education  default housing loan  \\\n",
       "23781   51       admin.  divorced  university.degree  unknown      no   no   \n",
       "3894    53   technician   married        high.school       no      no  yes   \n",
       "4666    36     services   married        high.school       no     yes  yes   \n",
       "14860   37  blue-collar   married           basic.9y       no      no   no   \n",
       "20459   38   technician   married        high.school       no      no   no   \n",
       "\n",
       "         contact month day_of_week  ...  campaign  pdays  previous  \\\n",
       "23781   cellular   aug         fri  ...         1    999         0   \n",
       "3894   telephone   may         mon  ...         2    999         0   \n",
       "4666   telephone   may         wed  ...         1    999         0   \n",
       "14860   cellular   jul         wed  ...         1    999         0   \n",
       "20459   cellular   aug         tue  ...         2    999         0   \n",
       "\n",
       "          poutcome emp.var.rate  cons.price.idx  cons.conf.idx  euribor3m  \\\n",
       "23781  nonexistent          1.4          93.444          -36.1      4.963   \n",
       "3894   nonexistent          1.1          93.994          -36.4      4.858   \n",
       "4666   nonexistent          1.1          93.994          -36.4      4.858   \n",
       "14860  nonexistent          1.4          93.918          -42.7      4.957   \n",
       "20459  nonexistent          1.4          93.444          -36.1      4.966   \n",
       "\n",
       "       nr.employed   y  \n",
       "23781       5228.1  no  \n",
       "3894        5191.0  no  \n",
       "4666        5191.0  no  \n",
       "14860       5228.1  no  \n",
       "20459       5228.1  no  \n",
       "\n",
       "[5 rows x 21 columns]"
      ],
      "text/html": [
       "<div>\n",
       "<style scoped>\n",
       "    .dataframe tbody tr th:only-of-type {\n",
       "        vertical-align: middle;\n",
       "    }\n",
       "\n",
       "    .dataframe tbody tr th {\n",
       "        vertical-align: top;\n",
       "    }\n",
       "\n",
       "    .dataframe thead th {\n",
       "        text-align: right;\n",
       "    }\n",
       "</style>\n",
       "<table border=\"1\" class=\"dataframe\">\n",
       "  <thead>\n",
       "    <tr style=\"text-align: right;\">\n",
       "      <th></th>\n",
       "      <th>age</th>\n",
       "      <th>job</th>\n",
       "      <th>marital</th>\n",
       "      <th>education</th>\n",
       "      <th>default</th>\n",
       "      <th>housing</th>\n",
       "      <th>loan</th>\n",
       "      <th>contact</th>\n",
       "      <th>month</th>\n",
       "      <th>day_of_week</th>\n",
       "      <th>...</th>\n",
       "      <th>campaign</th>\n",
       "      <th>pdays</th>\n",
       "      <th>previous</th>\n",
       "      <th>poutcome</th>\n",
       "      <th>emp.var.rate</th>\n",
       "      <th>cons.price.idx</th>\n",
       "      <th>cons.conf.idx</th>\n",
       "      <th>euribor3m</th>\n",
       "      <th>nr.employed</th>\n",
       "      <th>y</th>\n",
       "    </tr>\n",
       "  </thead>\n",
       "  <tbody>\n",
       "    <tr>\n",
       "      <th>23781</th>\n",
       "      <td>51</td>\n",
       "      <td>admin.</td>\n",
       "      <td>divorced</td>\n",
       "      <td>university.degree</td>\n",
       "      <td>unknown</td>\n",
       "      <td>no</td>\n",
       "      <td>no</td>\n",
       "      <td>cellular</td>\n",
       "      <td>aug</td>\n",
       "      <td>fri</td>\n",
       "      <td>...</td>\n",
       "      <td>1</td>\n",
       "      <td>999</td>\n",
       "      <td>0</td>\n",
       "      <td>nonexistent</td>\n",
       "      <td>1.4</td>\n",
       "      <td>93.444</td>\n",
       "      <td>-36.1</td>\n",
       "      <td>4.963</td>\n",
       "      <td>5228.1</td>\n",
       "      <td>no</td>\n",
       "    </tr>\n",
       "    <tr>\n",
       "      <th>3894</th>\n",
       "      <td>53</td>\n",
       "      <td>technician</td>\n",
       "      <td>married</td>\n",
       "      <td>high.school</td>\n",
       "      <td>no</td>\n",
       "      <td>no</td>\n",
       "      <td>yes</td>\n",
       "      <td>telephone</td>\n",
       "      <td>may</td>\n",
       "      <td>mon</td>\n",
       "      <td>...</td>\n",
       "      <td>2</td>\n",
       "      <td>999</td>\n",
       "      <td>0</td>\n",
       "      <td>nonexistent</td>\n",
       "      <td>1.1</td>\n",
       "      <td>93.994</td>\n",
       "      <td>-36.4</td>\n",
       "      <td>4.858</td>\n",
       "      <td>5191.0</td>\n",
       "      <td>no</td>\n",
       "    </tr>\n",
       "    <tr>\n",
       "      <th>4666</th>\n",
       "      <td>36</td>\n",
       "      <td>services</td>\n",
       "      <td>married</td>\n",
       "      <td>high.school</td>\n",
       "      <td>no</td>\n",
       "      <td>yes</td>\n",
       "      <td>yes</td>\n",
       "      <td>telephone</td>\n",
       "      <td>may</td>\n",
       "      <td>wed</td>\n",
       "      <td>...</td>\n",
       "      <td>1</td>\n",
       "      <td>999</td>\n",
       "      <td>0</td>\n",
       "      <td>nonexistent</td>\n",
       "      <td>1.1</td>\n",
       "      <td>93.994</td>\n",
       "      <td>-36.4</td>\n",
       "      <td>4.858</td>\n",
       "      <td>5191.0</td>\n",
       "      <td>no</td>\n",
       "    </tr>\n",
       "    <tr>\n",
       "      <th>14860</th>\n",
       "      <td>37</td>\n",
       "      <td>blue-collar</td>\n",
       "      <td>married</td>\n",
       "      <td>basic.9y</td>\n",
       "      <td>no</td>\n",
       "      <td>no</td>\n",
       "      <td>no</td>\n",
       "      <td>cellular</td>\n",
       "      <td>jul</td>\n",
       "      <td>wed</td>\n",
       "      <td>...</td>\n",
       "      <td>1</td>\n",
       "      <td>999</td>\n",
       "      <td>0</td>\n",
       "      <td>nonexistent</td>\n",
       "      <td>1.4</td>\n",
       "      <td>93.918</td>\n",
       "      <td>-42.7</td>\n",
       "      <td>4.957</td>\n",
       "      <td>5228.1</td>\n",
       "      <td>no</td>\n",
       "    </tr>\n",
       "    <tr>\n",
       "      <th>20459</th>\n",
       "      <td>38</td>\n",
       "      <td>technician</td>\n",
       "      <td>married</td>\n",
       "      <td>high.school</td>\n",
       "      <td>no</td>\n",
       "      <td>no</td>\n",
       "      <td>no</td>\n",
       "      <td>cellular</td>\n",
       "      <td>aug</td>\n",
       "      <td>tue</td>\n",
       "      <td>...</td>\n",
       "      <td>2</td>\n",
       "      <td>999</td>\n",
       "      <td>0</td>\n",
       "      <td>nonexistent</td>\n",
       "      <td>1.4</td>\n",
       "      <td>93.444</td>\n",
       "      <td>-36.1</td>\n",
       "      <td>4.966</td>\n",
       "      <td>5228.1</td>\n",
       "      <td>no</td>\n",
       "    </tr>\n",
       "  </tbody>\n",
       "</table>\n",
       "<p>5 rows × 21 columns</p>\n",
       "</div>"
      ]
     },
     "execution_count": 8,
     "metadata": {},
     "output_type": "execute_result"
    }
   ],
   "execution_count": 8
  },
  {
   "metadata": {
    "ExecuteTime": {
     "end_time": "2025-08-09T22:23:04.818570Z",
     "start_time": "2025-08-09T22:23:04.776126Z"
    }
   },
   "cell_type": "code",
   "source": [
    "y_counts = df['y'].value_counts()\n",
    "fig = px.bar(\n",
    "    y_counts,\n",
    "    y='count',\n",
    "    title=\"Those that say yes are in a minority class, suggesting an imbalanced dataset\",\n",
    "    labels={\"count\": \"Count\", 'y': 'Accepted Campaign'},\n",
    ")\n",
    "fig.show()\n",
    "fig.write_image(\"images/acceptance_count.png\")"
   ],
   "outputs": [
    {
     "data": {
      "application/vnd.plotly.v1+json": {
       "data": [
        {
         "hovertemplate": "Accepted Campaign=%{x}<br>Count=%{y}<extra></extra>",
         "legendgroup": "",
         "marker": {
          "color": "#636efa",
          "pattern": {
           "shape": ""
          }
         },
         "name": "",
         "orientation": "v",
         "showlegend": false,
         "textposition": "auto",
         "x": [
          "no",
          "yes"
         ],
         "xaxis": "x",
         "y": {
          "dtype": "i4",
          "bdata": "xI4AACASAAA="
         },
         "yaxis": "y",
         "type": "bar"
        }
       ],
       "layout": {
        "template": {
         "data": {
          "histogram2dcontour": [
           {
            "type": "histogram2dcontour",
            "colorbar": {
             "outlinewidth": 0,
             "ticks": ""
            },
            "colorscale": [
             [
              0.0,
              "#0d0887"
             ],
             [
              0.1111111111111111,
              "#46039f"
             ],
             [
              0.2222222222222222,
              "#7201a8"
             ],
             [
              0.3333333333333333,
              "#9c179e"
             ],
             [
              0.4444444444444444,
              "#bd3786"
             ],
             [
              0.5555555555555556,
              "#d8576b"
             ],
             [
              0.6666666666666666,
              "#ed7953"
             ],
             [
              0.7777777777777778,
              "#fb9f3a"
             ],
             [
              0.8888888888888888,
              "#fdca26"
             ],
             [
              1.0,
              "#f0f921"
             ]
            ]
           }
          ],
          "choropleth": [
           {
            "type": "choropleth",
            "colorbar": {
             "outlinewidth": 0,
             "ticks": ""
            }
           }
          ],
          "histogram2d": [
           {
            "type": "histogram2d",
            "colorbar": {
             "outlinewidth": 0,
             "ticks": ""
            },
            "colorscale": [
             [
              0.0,
              "#0d0887"
             ],
             [
              0.1111111111111111,
              "#46039f"
             ],
             [
              0.2222222222222222,
              "#7201a8"
             ],
             [
              0.3333333333333333,
              "#9c179e"
             ],
             [
              0.4444444444444444,
              "#bd3786"
             ],
             [
              0.5555555555555556,
              "#d8576b"
             ],
             [
              0.6666666666666666,
              "#ed7953"
             ],
             [
              0.7777777777777778,
              "#fb9f3a"
             ],
             [
              0.8888888888888888,
              "#fdca26"
             ],
             [
              1.0,
              "#f0f921"
             ]
            ]
           }
          ],
          "heatmap": [
           {
            "type": "heatmap",
            "colorbar": {
             "outlinewidth": 0,
             "ticks": ""
            },
            "colorscale": [
             [
              0.0,
              "#0d0887"
             ],
             [
              0.1111111111111111,
              "#46039f"
             ],
             [
              0.2222222222222222,
              "#7201a8"
             ],
             [
              0.3333333333333333,
              "#9c179e"
             ],
             [
              0.4444444444444444,
              "#bd3786"
             ],
             [
              0.5555555555555556,
              "#d8576b"
             ],
             [
              0.6666666666666666,
              "#ed7953"
             ],
             [
              0.7777777777777778,
              "#fb9f3a"
             ],
             [
              0.8888888888888888,
              "#fdca26"
             ],
             [
              1.0,
              "#f0f921"
             ]
            ]
           }
          ],
          "contourcarpet": [
           {
            "type": "contourcarpet",
            "colorbar": {
             "outlinewidth": 0,
             "ticks": ""
            }
           }
          ],
          "contour": [
           {
            "type": "contour",
            "colorbar": {
             "outlinewidth": 0,
             "ticks": ""
            },
            "colorscale": [
             [
              0.0,
              "#0d0887"
             ],
             [
              0.1111111111111111,
              "#46039f"
             ],
             [
              0.2222222222222222,
              "#7201a8"
             ],
             [
              0.3333333333333333,
              "#9c179e"
             ],
             [
              0.4444444444444444,
              "#bd3786"
             ],
             [
              0.5555555555555556,
              "#d8576b"
             ],
             [
              0.6666666666666666,
              "#ed7953"
             ],
             [
              0.7777777777777778,
              "#fb9f3a"
             ],
             [
              0.8888888888888888,
              "#fdca26"
             ],
             [
              1.0,
              "#f0f921"
             ]
            ]
           }
          ],
          "surface": [
           {
            "type": "surface",
            "colorbar": {
             "outlinewidth": 0,
             "ticks": ""
            },
            "colorscale": [
             [
              0.0,
              "#0d0887"
             ],
             [
              0.1111111111111111,
              "#46039f"
             ],
             [
              0.2222222222222222,
              "#7201a8"
             ],
             [
              0.3333333333333333,
              "#9c179e"
             ],
             [
              0.4444444444444444,
              "#bd3786"
             ],
             [
              0.5555555555555556,
              "#d8576b"
             ],
             [
              0.6666666666666666,
              "#ed7953"
             ],
             [
              0.7777777777777778,
              "#fb9f3a"
             ],
             [
              0.8888888888888888,
              "#fdca26"
             ],
             [
              1.0,
              "#f0f921"
             ]
            ]
           }
          ],
          "mesh3d": [
           {
            "type": "mesh3d",
            "colorbar": {
             "outlinewidth": 0,
             "ticks": ""
            }
           }
          ],
          "scatter": [
           {
            "fillpattern": {
             "fillmode": "overlay",
             "size": 10,
             "solidity": 0.2
            },
            "type": "scatter"
           }
          ],
          "parcoords": [
           {
            "type": "parcoords",
            "line": {
             "colorbar": {
              "outlinewidth": 0,
              "ticks": ""
             }
            }
           }
          ],
          "scatterpolargl": [
           {
            "type": "scatterpolargl",
            "marker": {
             "colorbar": {
              "outlinewidth": 0,
              "ticks": ""
             }
            }
           }
          ],
          "bar": [
           {
            "error_x": {
             "color": "#2a3f5f"
            },
            "error_y": {
             "color": "#2a3f5f"
            },
            "marker": {
             "line": {
              "color": "#E5ECF6",
              "width": 0.5
             },
             "pattern": {
              "fillmode": "overlay",
              "size": 10,
              "solidity": 0.2
             }
            },
            "type": "bar"
           }
          ],
          "scattergeo": [
           {
            "type": "scattergeo",
            "marker": {
             "colorbar": {
              "outlinewidth": 0,
              "ticks": ""
             }
            }
           }
          ],
          "scatterpolar": [
           {
            "type": "scatterpolar",
            "marker": {
             "colorbar": {
              "outlinewidth": 0,
              "ticks": ""
             }
            }
           }
          ],
          "histogram": [
           {
            "marker": {
             "pattern": {
              "fillmode": "overlay",
              "size": 10,
              "solidity": 0.2
             }
            },
            "type": "histogram"
           }
          ],
          "scattergl": [
           {
            "type": "scattergl",
            "marker": {
             "colorbar": {
              "outlinewidth": 0,
              "ticks": ""
             }
            }
           }
          ],
          "scatter3d": [
           {
            "type": "scatter3d",
            "line": {
             "colorbar": {
              "outlinewidth": 0,
              "ticks": ""
             }
            },
            "marker": {
             "colorbar": {
              "outlinewidth": 0,
              "ticks": ""
             }
            }
           }
          ],
          "scattermap": [
           {
            "type": "scattermap",
            "marker": {
             "colorbar": {
              "outlinewidth": 0,
              "ticks": ""
             }
            }
           }
          ],
          "scattermapbox": [
           {
            "type": "scattermapbox",
            "marker": {
             "colorbar": {
              "outlinewidth": 0,
              "ticks": ""
             }
            }
           }
          ],
          "scatterternary": [
           {
            "type": "scatterternary",
            "marker": {
             "colorbar": {
              "outlinewidth": 0,
              "ticks": ""
             }
            }
           }
          ],
          "scattercarpet": [
           {
            "type": "scattercarpet",
            "marker": {
             "colorbar": {
              "outlinewidth": 0,
              "ticks": ""
             }
            }
           }
          ],
          "carpet": [
           {
            "aaxis": {
             "endlinecolor": "#2a3f5f",
             "gridcolor": "white",
             "linecolor": "white",
             "minorgridcolor": "white",
             "startlinecolor": "#2a3f5f"
            },
            "baxis": {
             "endlinecolor": "#2a3f5f",
             "gridcolor": "white",
             "linecolor": "white",
             "minorgridcolor": "white",
             "startlinecolor": "#2a3f5f"
            },
            "type": "carpet"
           }
          ],
          "table": [
           {
            "cells": {
             "fill": {
              "color": "#EBF0F8"
             },
             "line": {
              "color": "white"
             }
            },
            "header": {
             "fill": {
              "color": "#C8D4E3"
             },
             "line": {
              "color": "white"
             }
            },
            "type": "table"
           }
          ],
          "barpolar": [
           {
            "marker": {
             "line": {
              "color": "#E5ECF6",
              "width": 0.5
             },
             "pattern": {
              "fillmode": "overlay",
              "size": 10,
              "solidity": 0.2
             }
            },
            "type": "barpolar"
           }
          ],
          "pie": [
           {
            "automargin": true,
            "type": "pie"
           }
          ]
         },
         "layout": {
          "autotypenumbers": "strict",
          "colorway": [
           "#636efa",
           "#EF553B",
           "#00cc96",
           "#ab63fa",
           "#FFA15A",
           "#19d3f3",
           "#FF6692",
           "#B6E880",
           "#FF97FF",
           "#FECB52"
          ],
          "font": {
           "color": "#2a3f5f"
          },
          "hovermode": "closest",
          "hoverlabel": {
           "align": "left"
          },
          "paper_bgcolor": "white",
          "plot_bgcolor": "#E5ECF6",
          "polar": {
           "bgcolor": "#E5ECF6",
           "angularaxis": {
            "gridcolor": "white",
            "linecolor": "white",
            "ticks": ""
           },
           "radialaxis": {
            "gridcolor": "white",
            "linecolor": "white",
            "ticks": ""
           }
          },
          "ternary": {
           "bgcolor": "#E5ECF6",
           "aaxis": {
            "gridcolor": "white",
            "linecolor": "white",
            "ticks": ""
           },
           "baxis": {
            "gridcolor": "white",
            "linecolor": "white",
            "ticks": ""
           },
           "caxis": {
            "gridcolor": "white",
            "linecolor": "white",
            "ticks": ""
           }
          },
          "coloraxis": {
           "colorbar": {
            "outlinewidth": 0,
            "ticks": ""
           }
          },
          "colorscale": {
           "sequential": [
            [
             0.0,
             "#0d0887"
            ],
            [
             0.1111111111111111,
             "#46039f"
            ],
            [
             0.2222222222222222,
             "#7201a8"
            ],
            [
             0.3333333333333333,
             "#9c179e"
            ],
            [
             0.4444444444444444,
             "#bd3786"
            ],
            [
             0.5555555555555556,
             "#d8576b"
            ],
            [
             0.6666666666666666,
             "#ed7953"
            ],
            [
             0.7777777777777778,
             "#fb9f3a"
            ],
            [
             0.8888888888888888,
             "#fdca26"
            ],
            [
             1.0,
             "#f0f921"
            ]
           ],
           "sequentialminus": [
            [
             0.0,
             "#0d0887"
            ],
            [
             0.1111111111111111,
             "#46039f"
            ],
            [
             0.2222222222222222,
             "#7201a8"
            ],
            [
             0.3333333333333333,
             "#9c179e"
            ],
            [
             0.4444444444444444,
             "#bd3786"
            ],
            [
             0.5555555555555556,
             "#d8576b"
            ],
            [
             0.6666666666666666,
             "#ed7953"
            ],
            [
             0.7777777777777778,
             "#fb9f3a"
            ],
            [
             0.8888888888888888,
             "#fdca26"
            ],
            [
             1.0,
             "#f0f921"
            ]
           ],
           "diverging": [
            [
             0,
             "#8e0152"
            ],
            [
             0.1,
             "#c51b7d"
            ],
            [
             0.2,
             "#de77ae"
            ],
            [
             0.3,
             "#f1b6da"
            ],
            [
             0.4,
             "#fde0ef"
            ],
            [
             0.5,
             "#f7f7f7"
            ],
            [
             0.6,
             "#e6f5d0"
            ],
            [
             0.7,
             "#b8e186"
            ],
            [
             0.8,
             "#7fbc41"
            ],
            [
             0.9,
             "#4d9221"
            ],
            [
             1,
             "#276419"
            ]
           ]
          },
          "xaxis": {
           "gridcolor": "white",
           "linecolor": "white",
           "ticks": "",
           "title": {
            "standoff": 15
           },
           "zerolinecolor": "white",
           "automargin": true,
           "zerolinewidth": 2
          },
          "yaxis": {
           "gridcolor": "white",
           "linecolor": "white",
           "ticks": "",
           "title": {
            "standoff": 15
           },
           "zerolinecolor": "white",
           "automargin": true,
           "zerolinewidth": 2
          },
          "scene": {
           "xaxis": {
            "backgroundcolor": "#E5ECF6",
            "gridcolor": "white",
            "linecolor": "white",
            "showbackground": true,
            "ticks": "",
            "zerolinecolor": "white",
            "gridwidth": 2
           },
           "yaxis": {
            "backgroundcolor": "#E5ECF6",
            "gridcolor": "white",
            "linecolor": "white",
            "showbackground": true,
            "ticks": "",
            "zerolinecolor": "white",
            "gridwidth": 2
           },
           "zaxis": {
            "backgroundcolor": "#E5ECF6",
            "gridcolor": "white",
            "linecolor": "white",
            "showbackground": true,
            "ticks": "",
            "zerolinecolor": "white",
            "gridwidth": 2
           }
          },
          "shapedefaults": {
           "line": {
            "color": "#2a3f5f"
           }
          },
          "annotationdefaults": {
           "arrowcolor": "#2a3f5f",
           "arrowhead": 0,
           "arrowwidth": 1
          },
          "geo": {
           "bgcolor": "white",
           "landcolor": "#E5ECF6",
           "subunitcolor": "white",
           "showland": true,
           "showlakes": true,
           "lakecolor": "white"
          },
          "title": {
           "x": 0.05
          },
          "mapbox": {
           "style": "light"
          }
         }
        },
        "xaxis": {
         "anchor": "y",
         "domain": [
          0.0,
          1.0
         ],
         "title": {
          "text": "Accepted Campaign"
         }
        },
        "yaxis": {
         "anchor": "x",
         "domain": [
          0.0,
          1.0
         ],
         "title": {
          "text": "Count"
         }
        },
        "legend": {
         "tracegroupgap": 0
        },
        "title": {
         "text": "Those that say yes are in a minority class, suggesting an imbalanced dataset"
        },
        "barmode": "relative"
       },
       "config": {
        "plotlyServerURL": "https://plot.ly"
       }
      }
     },
     "metadata": {},
     "output_type": "display_data"
    }
   ],
   "execution_count": 24
  },
  {
   "metadata": {
    "ExecuteTime": {
     "end_time": "2025-08-09T22:15:01.364695Z",
     "start_time": "2025-08-09T22:15:01.312739Z"
    }
   },
   "cell_type": "code",
   "outputs": [
    {
     "data": {
      "text/plain": [
       "       job                      marital                        education  \\\n",
       "     count unique     top  freq   count unique      top   freq     count   \n",
       "y                                                                          \n",
       "no   36548     12  admin.  9070   36548      4  married  22396     36548   \n",
       "yes   4640     12  admin.  1352    4640      4  married   2532      4640   \n",
       "\n",
       "            ... month        day_of_week                   poutcome         \\\n",
       "    unique  ...   top   freq       count unique  top  freq    count unique   \n",
       "y           ...                                                              \n",
       "no       8  ...   may  12883       36548      5  mon  7667    36548      3   \n",
       "yes      8  ...   may    886        4640      5  thu  1045     4640      3   \n",
       "\n",
       "                         \n",
       "             top   freq  \n",
       "y                        \n",
       "no   nonexistent  32422  \n",
       "yes  nonexistent   3141  \n",
       "\n",
       "[2 rows x 40 columns]"
      ],
      "text/html": [
       "<div>\n",
       "<style scoped>\n",
       "    .dataframe tbody tr th:only-of-type {\n",
       "        vertical-align: middle;\n",
       "    }\n",
       "\n",
       "    .dataframe tbody tr th {\n",
       "        vertical-align: top;\n",
       "    }\n",
       "\n",
       "    .dataframe thead tr th {\n",
       "        text-align: left;\n",
       "    }\n",
       "\n",
       "    .dataframe thead tr:last-of-type th {\n",
       "        text-align: right;\n",
       "    }\n",
       "</style>\n",
       "<table border=\"1\" class=\"dataframe\">\n",
       "  <thead>\n",
       "    <tr>\n",
       "      <th></th>\n",
       "      <th colspan=\"4\" halign=\"left\">job</th>\n",
       "      <th colspan=\"4\" halign=\"left\">marital</th>\n",
       "      <th colspan=\"2\" halign=\"left\">education</th>\n",
       "      <th>...</th>\n",
       "      <th colspan=\"2\" halign=\"left\">month</th>\n",
       "      <th colspan=\"4\" halign=\"left\">day_of_week</th>\n",
       "      <th colspan=\"4\" halign=\"left\">poutcome</th>\n",
       "    </tr>\n",
       "    <tr>\n",
       "      <th></th>\n",
       "      <th>count</th>\n",
       "      <th>unique</th>\n",
       "      <th>top</th>\n",
       "      <th>freq</th>\n",
       "      <th>count</th>\n",
       "      <th>unique</th>\n",
       "      <th>top</th>\n",
       "      <th>freq</th>\n",
       "      <th>count</th>\n",
       "      <th>unique</th>\n",
       "      <th>...</th>\n",
       "      <th>top</th>\n",
       "      <th>freq</th>\n",
       "      <th>count</th>\n",
       "      <th>unique</th>\n",
       "      <th>top</th>\n",
       "      <th>freq</th>\n",
       "      <th>count</th>\n",
       "      <th>unique</th>\n",
       "      <th>top</th>\n",
       "      <th>freq</th>\n",
       "    </tr>\n",
       "    <tr>\n",
       "      <th>y</th>\n",
       "      <th></th>\n",
       "      <th></th>\n",
       "      <th></th>\n",
       "      <th></th>\n",
       "      <th></th>\n",
       "      <th></th>\n",
       "      <th></th>\n",
       "      <th></th>\n",
       "      <th></th>\n",
       "      <th></th>\n",
       "      <th></th>\n",
       "      <th></th>\n",
       "      <th></th>\n",
       "      <th></th>\n",
       "      <th></th>\n",
       "      <th></th>\n",
       "      <th></th>\n",
       "      <th></th>\n",
       "      <th></th>\n",
       "      <th></th>\n",
       "      <th></th>\n",
       "    </tr>\n",
       "  </thead>\n",
       "  <tbody>\n",
       "    <tr>\n",
       "      <th>no</th>\n",
       "      <td>36548</td>\n",
       "      <td>12</td>\n",
       "      <td>admin.</td>\n",
       "      <td>9070</td>\n",
       "      <td>36548</td>\n",
       "      <td>4</td>\n",
       "      <td>married</td>\n",
       "      <td>22396</td>\n",
       "      <td>36548</td>\n",
       "      <td>8</td>\n",
       "      <td>...</td>\n",
       "      <td>may</td>\n",
       "      <td>12883</td>\n",
       "      <td>36548</td>\n",
       "      <td>5</td>\n",
       "      <td>mon</td>\n",
       "      <td>7667</td>\n",
       "      <td>36548</td>\n",
       "      <td>3</td>\n",
       "      <td>nonexistent</td>\n",
       "      <td>32422</td>\n",
       "    </tr>\n",
       "    <tr>\n",
       "      <th>yes</th>\n",
       "      <td>4640</td>\n",
       "      <td>12</td>\n",
       "      <td>admin.</td>\n",
       "      <td>1352</td>\n",
       "      <td>4640</td>\n",
       "      <td>4</td>\n",
       "      <td>married</td>\n",
       "      <td>2532</td>\n",
       "      <td>4640</td>\n",
       "      <td>8</td>\n",
       "      <td>...</td>\n",
       "      <td>may</td>\n",
       "      <td>886</td>\n",
       "      <td>4640</td>\n",
       "      <td>5</td>\n",
       "      <td>thu</td>\n",
       "      <td>1045</td>\n",
       "      <td>4640</td>\n",
       "      <td>3</td>\n",
       "      <td>nonexistent</td>\n",
       "      <td>3141</td>\n",
       "    </tr>\n",
       "  </tbody>\n",
       "</table>\n",
       "<p>2 rows × 40 columns</p>\n",
       "</div>"
      ]
     },
     "execution_count": 19,
     "metadata": {},
     "output_type": "execute_result"
    }
   ],
   "execution_count": 19,
   "source": [
    "by_y_df = df.groupby('y')\n",
    "by_y_df.describe(include=\"object\")"
   ]
  },
  {
   "metadata": {
    "ExecuteTime": {
     "end_time": "2025-08-09T22:00:46.574724Z",
     "start_time": "2025-08-09T22:00:44.538585Z"
    }
   },
   "cell_type": "code",
   "source": [
    "job_ratio = (by_y_df['job'].value_counts() / df['job'].value_counts()).reset_index()\n",
    "fig = px.bar(\n",
    "    job_ratio.sort_values(by='count'),\n",
    "    x='job',\n",
    "    y='count',\n",
    "    color='y',\n",
    "    title=\"Students and retirees are more likely to accept campaign\",\n",
    "    labels={\"job\": \"Job\", \"count\": \"Ratio accepting campaign\", 'y': 'Accepted Campaign'},\n",
    ")\n",
    "fig.show()\n",
    "fig.write_image(\"images/job_acceptance_ratio.png\")"
   ],
   "outputs": [
    {
     "name": "stderr",
     "output_type": "stream",
     "text": [
      "/bin/bash: warning: setlocale: LC_ALL: cannot change locale (en_US.UTF-8)\n"
     ]
    },
    {
     "data": {
      "application/vnd.plotly.v1+json": {
       "data": [
        {
         "hovertemplate": "Accepted Campaign=yes<br>Job=%{x}<br>Ratio accepting campaign=%{y}<extra></extra>",
         "legendgroup": "yes",
         "marker": {
          "color": "#636efa",
          "pattern": {
           "shape": ""
          }
         },
         "name": "yes",
         "orientation": "v",
         "showlegend": true,
         "textposition": "auto",
         "x": [
          "blue-collar",
          "services",
          "entrepreneur",
          "housemaid",
          "self-employed",
          "technician",
          "unknown",
          "management",
          "admin.",
          "unemployed",
          "retired",
          "student"
         ],
         "xaxis": "x",
         "y": {
          "dtype": "f8",
          "bdata": "RvNBSEKmsT8Zft2WXdW0P9ZczdVczbU/mpmZmZmZuT86rFRS09e6P89pq2v0trs/tJw/y/mzvD9qwxbtgbe8P4dm2wrZmsA/Jg8GnHEtwj+jYQIyGibQP9RBHdRBHdQ/"
         },
         "yaxis": "y",
         "type": "bar"
        },
        {
         "hovertemplate": "Accepted Campaign=no<br>Job=%{x}<br>Ratio accepting campaign=%{y}<extra></extra>",
         "legendgroup": "no",
         "marker": {
          "color": "#EF553B",
          "pattern": {
           "shape": ""
          }
         },
         "name": "no",
         "orientation": "v",
         "showlegend": true,
         "textposition": "auto",
         "x": [
          "student",
          "retired",
          "unemployed",
          "admin.",
          "management",
          "unknown",
          "technician",
          "self-employed",
          "housemaid",
          "entrepreneur",
          "services",
          "blue-collar"
         ],
         "xaxis": "x",
         "y": {
          "dtype": "f8",
          "bdata": "Fl/xFV/x5T8uz/7m8uznPzd8/pijdOs/XiZJvUnZ6z+TJ13CD2nsP2oMmMaAaew/xpKKciGJ7D95arWVBaXsP83MzMzMzOw/ZVRGZVRG7T89UCRNVGXtP5fB97Y3y+0/"
         },
         "yaxis": "y",
         "type": "bar"
        }
       ],
       "layout": {
        "template": {
         "data": {
          "histogram2dcontour": [
           {
            "type": "histogram2dcontour",
            "colorbar": {
             "outlinewidth": 0,
             "ticks": ""
            },
            "colorscale": [
             [
              0.0,
              "#0d0887"
             ],
             [
              0.1111111111111111,
              "#46039f"
             ],
             [
              0.2222222222222222,
              "#7201a8"
             ],
             [
              0.3333333333333333,
              "#9c179e"
             ],
             [
              0.4444444444444444,
              "#bd3786"
             ],
             [
              0.5555555555555556,
              "#d8576b"
             ],
             [
              0.6666666666666666,
              "#ed7953"
             ],
             [
              0.7777777777777778,
              "#fb9f3a"
             ],
             [
              0.8888888888888888,
              "#fdca26"
             ],
             [
              1.0,
              "#f0f921"
             ]
            ]
           }
          ],
          "choropleth": [
           {
            "type": "choropleth",
            "colorbar": {
             "outlinewidth": 0,
             "ticks": ""
            }
           }
          ],
          "histogram2d": [
           {
            "type": "histogram2d",
            "colorbar": {
             "outlinewidth": 0,
             "ticks": ""
            },
            "colorscale": [
             [
              0.0,
              "#0d0887"
             ],
             [
              0.1111111111111111,
              "#46039f"
             ],
             [
              0.2222222222222222,
              "#7201a8"
             ],
             [
              0.3333333333333333,
              "#9c179e"
             ],
             [
              0.4444444444444444,
              "#bd3786"
             ],
             [
              0.5555555555555556,
              "#d8576b"
             ],
             [
              0.6666666666666666,
              "#ed7953"
             ],
             [
              0.7777777777777778,
              "#fb9f3a"
             ],
             [
              0.8888888888888888,
              "#fdca26"
             ],
             [
              1.0,
              "#f0f921"
             ]
            ]
           }
          ],
          "heatmap": [
           {
            "type": "heatmap",
            "colorbar": {
             "outlinewidth": 0,
             "ticks": ""
            },
            "colorscale": [
             [
              0.0,
              "#0d0887"
             ],
             [
              0.1111111111111111,
              "#46039f"
             ],
             [
              0.2222222222222222,
              "#7201a8"
             ],
             [
              0.3333333333333333,
              "#9c179e"
             ],
             [
              0.4444444444444444,
              "#bd3786"
             ],
             [
              0.5555555555555556,
              "#d8576b"
             ],
             [
              0.6666666666666666,
              "#ed7953"
             ],
             [
              0.7777777777777778,
              "#fb9f3a"
             ],
             [
              0.8888888888888888,
              "#fdca26"
             ],
             [
              1.0,
              "#f0f921"
             ]
            ]
           }
          ],
          "contourcarpet": [
           {
            "type": "contourcarpet",
            "colorbar": {
             "outlinewidth": 0,
             "ticks": ""
            }
           }
          ],
          "contour": [
           {
            "type": "contour",
            "colorbar": {
             "outlinewidth": 0,
             "ticks": ""
            },
            "colorscale": [
             [
              0.0,
              "#0d0887"
             ],
             [
              0.1111111111111111,
              "#46039f"
             ],
             [
              0.2222222222222222,
              "#7201a8"
             ],
             [
              0.3333333333333333,
              "#9c179e"
             ],
             [
              0.4444444444444444,
              "#bd3786"
             ],
             [
              0.5555555555555556,
              "#d8576b"
             ],
             [
              0.6666666666666666,
              "#ed7953"
             ],
             [
              0.7777777777777778,
              "#fb9f3a"
             ],
             [
              0.8888888888888888,
              "#fdca26"
             ],
             [
              1.0,
              "#f0f921"
             ]
            ]
           }
          ],
          "surface": [
           {
            "type": "surface",
            "colorbar": {
             "outlinewidth": 0,
             "ticks": ""
            },
            "colorscale": [
             [
              0.0,
              "#0d0887"
             ],
             [
              0.1111111111111111,
              "#46039f"
             ],
             [
              0.2222222222222222,
              "#7201a8"
             ],
             [
              0.3333333333333333,
              "#9c179e"
             ],
             [
              0.4444444444444444,
              "#bd3786"
             ],
             [
              0.5555555555555556,
              "#d8576b"
             ],
             [
              0.6666666666666666,
              "#ed7953"
             ],
             [
              0.7777777777777778,
              "#fb9f3a"
             ],
             [
              0.8888888888888888,
              "#fdca26"
             ],
             [
              1.0,
              "#f0f921"
             ]
            ]
           }
          ],
          "mesh3d": [
           {
            "type": "mesh3d",
            "colorbar": {
             "outlinewidth": 0,
             "ticks": ""
            }
           }
          ],
          "scatter": [
           {
            "fillpattern": {
             "fillmode": "overlay",
             "size": 10,
             "solidity": 0.2
            },
            "type": "scatter"
           }
          ],
          "parcoords": [
           {
            "type": "parcoords",
            "line": {
             "colorbar": {
              "outlinewidth": 0,
              "ticks": ""
             }
            }
           }
          ],
          "scatterpolargl": [
           {
            "type": "scatterpolargl",
            "marker": {
             "colorbar": {
              "outlinewidth": 0,
              "ticks": ""
             }
            }
           }
          ],
          "bar": [
           {
            "error_x": {
             "color": "#2a3f5f"
            },
            "error_y": {
             "color": "#2a3f5f"
            },
            "marker": {
             "line": {
              "color": "#E5ECF6",
              "width": 0.5
             },
             "pattern": {
              "fillmode": "overlay",
              "size": 10,
              "solidity": 0.2
             }
            },
            "type": "bar"
           }
          ],
          "scattergeo": [
           {
            "type": "scattergeo",
            "marker": {
             "colorbar": {
              "outlinewidth": 0,
              "ticks": ""
             }
            }
           }
          ],
          "scatterpolar": [
           {
            "type": "scatterpolar",
            "marker": {
             "colorbar": {
              "outlinewidth": 0,
              "ticks": ""
             }
            }
           }
          ],
          "histogram": [
           {
            "marker": {
             "pattern": {
              "fillmode": "overlay",
              "size": 10,
              "solidity": 0.2
             }
            },
            "type": "histogram"
           }
          ],
          "scattergl": [
           {
            "type": "scattergl",
            "marker": {
             "colorbar": {
              "outlinewidth": 0,
              "ticks": ""
             }
            }
           }
          ],
          "scatter3d": [
           {
            "type": "scatter3d",
            "line": {
             "colorbar": {
              "outlinewidth": 0,
              "ticks": ""
             }
            },
            "marker": {
             "colorbar": {
              "outlinewidth": 0,
              "ticks": ""
             }
            }
           }
          ],
          "scattermap": [
           {
            "type": "scattermap",
            "marker": {
             "colorbar": {
              "outlinewidth": 0,
              "ticks": ""
             }
            }
           }
          ],
          "scattermapbox": [
           {
            "type": "scattermapbox",
            "marker": {
             "colorbar": {
              "outlinewidth": 0,
              "ticks": ""
             }
            }
           }
          ],
          "scatterternary": [
           {
            "type": "scatterternary",
            "marker": {
             "colorbar": {
              "outlinewidth": 0,
              "ticks": ""
             }
            }
           }
          ],
          "scattercarpet": [
           {
            "type": "scattercarpet",
            "marker": {
             "colorbar": {
              "outlinewidth": 0,
              "ticks": ""
             }
            }
           }
          ],
          "carpet": [
           {
            "aaxis": {
             "endlinecolor": "#2a3f5f",
             "gridcolor": "white",
             "linecolor": "white",
             "minorgridcolor": "white",
             "startlinecolor": "#2a3f5f"
            },
            "baxis": {
             "endlinecolor": "#2a3f5f",
             "gridcolor": "white",
             "linecolor": "white",
             "minorgridcolor": "white",
             "startlinecolor": "#2a3f5f"
            },
            "type": "carpet"
           }
          ],
          "table": [
           {
            "cells": {
             "fill": {
              "color": "#EBF0F8"
             },
             "line": {
              "color": "white"
             }
            },
            "header": {
             "fill": {
              "color": "#C8D4E3"
             },
             "line": {
              "color": "white"
             }
            },
            "type": "table"
           }
          ],
          "barpolar": [
           {
            "marker": {
             "line": {
              "color": "#E5ECF6",
              "width": 0.5
             },
             "pattern": {
              "fillmode": "overlay",
              "size": 10,
              "solidity": 0.2
             }
            },
            "type": "barpolar"
           }
          ],
          "pie": [
           {
            "automargin": true,
            "type": "pie"
           }
          ]
         },
         "layout": {
          "autotypenumbers": "strict",
          "colorway": [
           "#636efa",
           "#EF553B",
           "#00cc96",
           "#ab63fa",
           "#FFA15A",
           "#19d3f3",
           "#FF6692",
           "#B6E880",
           "#FF97FF",
           "#FECB52"
          ],
          "font": {
           "color": "#2a3f5f"
          },
          "hovermode": "closest",
          "hoverlabel": {
           "align": "left"
          },
          "paper_bgcolor": "white",
          "plot_bgcolor": "#E5ECF6",
          "polar": {
           "bgcolor": "#E5ECF6",
           "angularaxis": {
            "gridcolor": "white",
            "linecolor": "white",
            "ticks": ""
           },
           "radialaxis": {
            "gridcolor": "white",
            "linecolor": "white",
            "ticks": ""
           }
          },
          "ternary": {
           "bgcolor": "#E5ECF6",
           "aaxis": {
            "gridcolor": "white",
            "linecolor": "white",
            "ticks": ""
           },
           "baxis": {
            "gridcolor": "white",
            "linecolor": "white",
            "ticks": ""
           },
           "caxis": {
            "gridcolor": "white",
            "linecolor": "white",
            "ticks": ""
           }
          },
          "coloraxis": {
           "colorbar": {
            "outlinewidth": 0,
            "ticks": ""
           }
          },
          "colorscale": {
           "sequential": [
            [
             0.0,
             "#0d0887"
            ],
            [
             0.1111111111111111,
             "#46039f"
            ],
            [
             0.2222222222222222,
             "#7201a8"
            ],
            [
             0.3333333333333333,
             "#9c179e"
            ],
            [
             0.4444444444444444,
             "#bd3786"
            ],
            [
             0.5555555555555556,
             "#d8576b"
            ],
            [
             0.6666666666666666,
             "#ed7953"
            ],
            [
             0.7777777777777778,
             "#fb9f3a"
            ],
            [
             0.8888888888888888,
             "#fdca26"
            ],
            [
             1.0,
             "#f0f921"
            ]
           ],
           "sequentialminus": [
            [
             0.0,
             "#0d0887"
            ],
            [
             0.1111111111111111,
             "#46039f"
            ],
            [
             0.2222222222222222,
             "#7201a8"
            ],
            [
             0.3333333333333333,
             "#9c179e"
            ],
            [
             0.4444444444444444,
             "#bd3786"
            ],
            [
             0.5555555555555556,
             "#d8576b"
            ],
            [
             0.6666666666666666,
             "#ed7953"
            ],
            [
             0.7777777777777778,
             "#fb9f3a"
            ],
            [
             0.8888888888888888,
             "#fdca26"
            ],
            [
             1.0,
             "#f0f921"
            ]
           ],
           "diverging": [
            [
             0,
             "#8e0152"
            ],
            [
             0.1,
             "#c51b7d"
            ],
            [
             0.2,
             "#de77ae"
            ],
            [
             0.3,
             "#f1b6da"
            ],
            [
             0.4,
             "#fde0ef"
            ],
            [
             0.5,
             "#f7f7f7"
            ],
            [
             0.6,
             "#e6f5d0"
            ],
            [
             0.7,
             "#b8e186"
            ],
            [
             0.8,
             "#7fbc41"
            ],
            [
             0.9,
             "#4d9221"
            ],
            [
             1,
             "#276419"
            ]
           ]
          },
          "xaxis": {
           "gridcolor": "white",
           "linecolor": "white",
           "ticks": "",
           "title": {
            "standoff": 15
           },
           "zerolinecolor": "white",
           "automargin": true,
           "zerolinewidth": 2
          },
          "yaxis": {
           "gridcolor": "white",
           "linecolor": "white",
           "ticks": "",
           "title": {
            "standoff": 15
           },
           "zerolinecolor": "white",
           "automargin": true,
           "zerolinewidth": 2
          },
          "scene": {
           "xaxis": {
            "backgroundcolor": "#E5ECF6",
            "gridcolor": "white",
            "linecolor": "white",
            "showbackground": true,
            "ticks": "",
            "zerolinecolor": "white",
            "gridwidth": 2
           },
           "yaxis": {
            "backgroundcolor": "#E5ECF6",
            "gridcolor": "white",
            "linecolor": "white",
            "showbackground": true,
            "ticks": "",
            "zerolinecolor": "white",
            "gridwidth": 2
           },
           "zaxis": {
            "backgroundcolor": "#E5ECF6",
            "gridcolor": "white",
            "linecolor": "white",
            "showbackground": true,
            "ticks": "",
            "zerolinecolor": "white",
            "gridwidth": 2
           }
          },
          "shapedefaults": {
           "line": {
            "color": "#2a3f5f"
           }
          },
          "annotationdefaults": {
           "arrowcolor": "#2a3f5f",
           "arrowhead": 0,
           "arrowwidth": 1
          },
          "geo": {
           "bgcolor": "white",
           "landcolor": "#E5ECF6",
           "subunitcolor": "white",
           "showland": true,
           "showlakes": true,
           "lakecolor": "white"
          },
          "title": {
           "x": 0.05
          },
          "mapbox": {
           "style": "light"
          }
         }
        },
        "xaxis": {
         "anchor": "y",
         "domain": [
          0.0,
          1.0
         ],
         "title": {
          "text": "Job"
         }
        },
        "yaxis": {
         "anchor": "x",
         "domain": [
          0.0,
          1.0
         ],
         "title": {
          "text": "Ratio accepting campaign"
         }
        },
        "legend": {
         "title": {
          "text": "Accepted Campaign"
         },
         "tracegroupgap": 0
        },
        "title": {
         "text": "Students and retirees are more likely to accept campaign"
        },
        "barmode": "relative"
       },
       "config": {
        "plotlyServerURL": "https://plot.ly"
       }
      }
     },
     "metadata": {},
     "output_type": "display_data"
    }
   ],
   "execution_count": 10
  },
  {
   "metadata": {
    "ExecuteTime": {
     "end_time": "2025-08-09T22:03:46.231278Z",
     "start_time": "2025-08-09T22:03:46.170044Z"
    }
   },
   "cell_type": "code",
   "source": [
    "education_ratio = (by_y_df['education'].value_counts() / df['education'].value_counts()).reset_index()\n",
    "fig = px.bar(\n",
    "    education_ratio.sort_values(by='count'),\n",
    "    x='education',\n",
    "    y='count',\n",
    "    color='y',\n",
    "    title=\"People who are illiterate are more likely to accept campaign\",\n",
    "    labels={\"education\": \"Education\", \"count\": \"Ratio accepting campaign\", 'y': 'Accepted Campaign'},\n",
    ")\n",
    "fig.show()\n",
    "fig.write_image(\"images/education_acceptance_ratio.png\")"
   ],
   "outputs": [
    {
     "data": {
      "application/vnd.plotly.v1+json": {
       "data": [
        {
         "hovertemplate": "Accepted Campaign=yes<br>Education=%{x}<br>Ratio accepting campaign=%{y}<extra></extra>",
         "legendgroup": "yes",
         "marker": {
          "color": "#636efa",
          "pattern": {
           "shape": ""
          }
         },
         "name": "yes",
         "orientation": "v",
         "showlegend": true,
         "textposition": "auto",
         "x": [
          "basic.9y",
          "basic.6y",
          "basic.4y",
          "high.school",
          "professional.course",
          "university.degree",
          "unknown",
          "illiterate"
         ],
         "xaxis": "x",
         "y": {
          "dtype": "f8",
          "bdata": "uSfOLPYHtD+oE2Sgjf+0P6p3TvDPPLo/sx4hEyu9uz/+XQFsVA29PzuPfXZAkcE/J375Y3SPwj8cx3Ecx3HMPw=="
         },
         "yaxis": "y",
         "type": "bar"
        },
        {
         "hovertemplate": "Accepted Campaign=no<br>Education=%{x}<br>Ratio accepting campaign=%{y}<extra></extra>",
         "legendgroup": "no",
         "marker": {
          "color": "#EF553B",
          "pattern": {
           "shape": ""
          }
         },
         "name": "no",
         "orientation": "v",
         "showlegend": true,
         "textposition": "auto",
         "x": [
          "illiterate",
          "unknown",
          "university.degree",
          "professional.course",
          "high.school",
          "basic.4y",
          "basic.6y",
          "basic.9y"
         ],
         "xaxis": "x",
         "y": {
          "dtype": "f8",
          "bdata": "OY7jOI7j6D92oAHnIlzrPzGcYOKvm+s/QNR/clVe7D8q3JudWojsPwsx9gFmuOw/i33zSw5g7T8JO2Y6AX/tPw=="
         },
         "yaxis": "y",
         "type": "bar"
        }
       ],
       "layout": {
        "template": {
         "data": {
          "histogram2dcontour": [
           {
            "type": "histogram2dcontour",
            "colorbar": {
             "outlinewidth": 0,
             "ticks": ""
            },
            "colorscale": [
             [
              0.0,
              "#0d0887"
             ],
             [
              0.1111111111111111,
              "#46039f"
             ],
             [
              0.2222222222222222,
              "#7201a8"
             ],
             [
              0.3333333333333333,
              "#9c179e"
             ],
             [
              0.4444444444444444,
              "#bd3786"
             ],
             [
              0.5555555555555556,
              "#d8576b"
             ],
             [
              0.6666666666666666,
              "#ed7953"
             ],
             [
              0.7777777777777778,
              "#fb9f3a"
             ],
             [
              0.8888888888888888,
              "#fdca26"
             ],
             [
              1.0,
              "#f0f921"
             ]
            ]
           }
          ],
          "choropleth": [
           {
            "type": "choropleth",
            "colorbar": {
             "outlinewidth": 0,
             "ticks": ""
            }
           }
          ],
          "histogram2d": [
           {
            "type": "histogram2d",
            "colorbar": {
             "outlinewidth": 0,
             "ticks": ""
            },
            "colorscale": [
             [
              0.0,
              "#0d0887"
             ],
             [
              0.1111111111111111,
              "#46039f"
             ],
             [
              0.2222222222222222,
              "#7201a8"
             ],
             [
              0.3333333333333333,
              "#9c179e"
             ],
             [
              0.4444444444444444,
              "#bd3786"
             ],
             [
              0.5555555555555556,
              "#d8576b"
             ],
             [
              0.6666666666666666,
              "#ed7953"
             ],
             [
              0.7777777777777778,
              "#fb9f3a"
             ],
             [
              0.8888888888888888,
              "#fdca26"
             ],
             [
              1.0,
              "#f0f921"
             ]
            ]
           }
          ],
          "heatmap": [
           {
            "type": "heatmap",
            "colorbar": {
             "outlinewidth": 0,
             "ticks": ""
            },
            "colorscale": [
             [
              0.0,
              "#0d0887"
             ],
             [
              0.1111111111111111,
              "#46039f"
             ],
             [
              0.2222222222222222,
              "#7201a8"
             ],
             [
              0.3333333333333333,
              "#9c179e"
             ],
             [
              0.4444444444444444,
              "#bd3786"
             ],
             [
              0.5555555555555556,
              "#d8576b"
             ],
             [
              0.6666666666666666,
              "#ed7953"
             ],
             [
              0.7777777777777778,
              "#fb9f3a"
             ],
             [
              0.8888888888888888,
              "#fdca26"
             ],
             [
              1.0,
              "#f0f921"
             ]
            ]
           }
          ],
          "contourcarpet": [
           {
            "type": "contourcarpet",
            "colorbar": {
             "outlinewidth": 0,
             "ticks": ""
            }
           }
          ],
          "contour": [
           {
            "type": "contour",
            "colorbar": {
             "outlinewidth": 0,
             "ticks": ""
            },
            "colorscale": [
             [
              0.0,
              "#0d0887"
             ],
             [
              0.1111111111111111,
              "#46039f"
             ],
             [
              0.2222222222222222,
              "#7201a8"
             ],
             [
              0.3333333333333333,
              "#9c179e"
             ],
             [
              0.4444444444444444,
              "#bd3786"
             ],
             [
              0.5555555555555556,
              "#d8576b"
             ],
             [
              0.6666666666666666,
              "#ed7953"
             ],
             [
              0.7777777777777778,
              "#fb9f3a"
             ],
             [
              0.8888888888888888,
              "#fdca26"
             ],
             [
              1.0,
              "#f0f921"
             ]
            ]
           }
          ],
          "surface": [
           {
            "type": "surface",
            "colorbar": {
             "outlinewidth": 0,
             "ticks": ""
            },
            "colorscale": [
             [
              0.0,
              "#0d0887"
             ],
             [
              0.1111111111111111,
              "#46039f"
             ],
             [
              0.2222222222222222,
              "#7201a8"
             ],
             [
              0.3333333333333333,
              "#9c179e"
             ],
             [
              0.4444444444444444,
              "#bd3786"
             ],
             [
              0.5555555555555556,
              "#d8576b"
             ],
             [
              0.6666666666666666,
              "#ed7953"
             ],
             [
              0.7777777777777778,
              "#fb9f3a"
             ],
             [
              0.8888888888888888,
              "#fdca26"
             ],
             [
              1.0,
              "#f0f921"
             ]
            ]
           }
          ],
          "mesh3d": [
           {
            "type": "mesh3d",
            "colorbar": {
             "outlinewidth": 0,
             "ticks": ""
            }
           }
          ],
          "scatter": [
           {
            "fillpattern": {
             "fillmode": "overlay",
             "size": 10,
             "solidity": 0.2
            },
            "type": "scatter"
           }
          ],
          "parcoords": [
           {
            "type": "parcoords",
            "line": {
             "colorbar": {
              "outlinewidth": 0,
              "ticks": ""
             }
            }
           }
          ],
          "scatterpolargl": [
           {
            "type": "scatterpolargl",
            "marker": {
             "colorbar": {
              "outlinewidth": 0,
              "ticks": ""
             }
            }
           }
          ],
          "bar": [
           {
            "error_x": {
             "color": "#2a3f5f"
            },
            "error_y": {
             "color": "#2a3f5f"
            },
            "marker": {
             "line": {
              "color": "#E5ECF6",
              "width": 0.5
             },
             "pattern": {
              "fillmode": "overlay",
              "size": 10,
              "solidity": 0.2
             }
            },
            "type": "bar"
           }
          ],
          "scattergeo": [
           {
            "type": "scattergeo",
            "marker": {
             "colorbar": {
              "outlinewidth": 0,
              "ticks": ""
             }
            }
           }
          ],
          "scatterpolar": [
           {
            "type": "scatterpolar",
            "marker": {
             "colorbar": {
              "outlinewidth": 0,
              "ticks": ""
             }
            }
           }
          ],
          "histogram": [
           {
            "marker": {
             "pattern": {
              "fillmode": "overlay",
              "size": 10,
              "solidity": 0.2
             }
            },
            "type": "histogram"
           }
          ],
          "scattergl": [
           {
            "type": "scattergl",
            "marker": {
             "colorbar": {
              "outlinewidth": 0,
              "ticks": ""
             }
            }
           }
          ],
          "scatter3d": [
           {
            "type": "scatter3d",
            "line": {
             "colorbar": {
              "outlinewidth": 0,
              "ticks": ""
             }
            },
            "marker": {
             "colorbar": {
              "outlinewidth": 0,
              "ticks": ""
             }
            }
           }
          ],
          "scattermap": [
           {
            "type": "scattermap",
            "marker": {
             "colorbar": {
              "outlinewidth": 0,
              "ticks": ""
             }
            }
           }
          ],
          "scattermapbox": [
           {
            "type": "scattermapbox",
            "marker": {
             "colorbar": {
              "outlinewidth": 0,
              "ticks": ""
             }
            }
           }
          ],
          "scatterternary": [
           {
            "type": "scatterternary",
            "marker": {
             "colorbar": {
              "outlinewidth": 0,
              "ticks": ""
             }
            }
           }
          ],
          "scattercarpet": [
           {
            "type": "scattercarpet",
            "marker": {
             "colorbar": {
              "outlinewidth": 0,
              "ticks": ""
             }
            }
           }
          ],
          "carpet": [
           {
            "aaxis": {
             "endlinecolor": "#2a3f5f",
             "gridcolor": "white",
             "linecolor": "white",
             "minorgridcolor": "white",
             "startlinecolor": "#2a3f5f"
            },
            "baxis": {
             "endlinecolor": "#2a3f5f",
             "gridcolor": "white",
             "linecolor": "white",
             "minorgridcolor": "white",
             "startlinecolor": "#2a3f5f"
            },
            "type": "carpet"
           }
          ],
          "table": [
           {
            "cells": {
             "fill": {
              "color": "#EBF0F8"
             },
             "line": {
              "color": "white"
             }
            },
            "header": {
             "fill": {
              "color": "#C8D4E3"
             },
             "line": {
              "color": "white"
             }
            },
            "type": "table"
           }
          ],
          "barpolar": [
           {
            "marker": {
             "line": {
              "color": "#E5ECF6",
              "width": 0.5
             },
             "pattern": {
              "fillmode": "overlay",
              "size": 10,
              "solidity": 0.2
             }
            },
            "type": "barpolar"
           }
          ],
          "pie": [
           {
            "automargin": true,
            "type": "pie"
           }
          ]
         },
         "layout": {
          "autotypenumbers": "strict",
          "colorway": [
           "#636efa",
           "#EF553B",
           "#00cc96",
           "#ab63fa",
           "#FFA15A",
           "#19d3f3",
           "#FF6692",
           "#B6E880",
           "#FF97FF",
           "#FECB52"
          ],
          "font": {
           "color": "#2a3f5f"
          },
          "hovermode": "closest",
          "hoverlabel": {
           "align": "left"
          },
          "paper_bgcolor": "white",
          "plot_bgcolor": "#E5ECF6",
          "polar": {
           "bgcolor": "#E5ECF6",
           "angularaxis": {
            "gridcolor": "white",
            "linecolor": "white",
            "ticks": ""
           },
           "radialaxis": {
            "gridcolor": "white",
            "linecolor": "white",
            "ticks": ""
           }
          },
          "ternary": {
           "bgcolor": "#E5ECF6",
           "aaxis": {
            "gridcolor": "white",
            "linecolor": "white",
            "ticks": ""
           },
           "baxis": {
            "gridcolor": "white",
            "linecolor": "white",
            "ticks": ""
           },
           "caxis": {
            "gridcolor": "white",
            "linecolor": "white",
            "ticks": ""
           }
          },
          "coloraxis": {
           "colorbar": {
            "outlinewidth": 0,
            "ticks": ""
           }
          },
          "colorscale": {
           "sequential": [
            [
             0.0,
             "#0d0887"
            ],
            [
             0.1111111111111111,
             "#46039f"
            ],
            [
             0.2222222222222222,
             "#7201a8"
            ],
            [
             0.3333333333333333,
             "#9c179e"
            ],
            [
             0.4444444444444444,
             "#bd3786"
            ],
            [
             0.5555555555555556,
             "#d8576b"
            ],
            [
             0.6666666666666666,
             "#ed7953"
            ],
            [
             0.7777777777777778,
             "#fb9f3a"
            ],
            [
             0.8888888888888888,
             "#fdca26"
            ],
            [
             1.0,
             "#f0f921"
            ]
           ],
           "sequentialminus": [
            [
             0.0,
             "#0d0887"
            ],
            [
             0.1111111111111111,
             "#46039f"
            ],
            [
             0.2222222222222222,
             "#7201a8"
            ],
            [
             0.3333333333333333,
             "#9c179e"
            ],
            [
             0.4444444444444444,
             "#bd3786"
            ],
            [
             0.5555555555555556,
             "#d8576b"
            ],
            [
             0.6666666666666666,
             "#ed7953"
            ],
            [
             0.7777777777777778,
             "#fb9f3a"
            ],
            [
             0.8888888888888888,
             "#fdca26"
            ],
            [
             1.0,
             "#f0f921"
            ]
           ],
           "diverging": [
            [
             0,
             "#8e0152"
            ],
            [
             0.1,
             "#c51b7d"
            ],
            [
             0.2,
             "#de77ae"
            ],
            [
             0.3,
             "#f1b6da"
            ],
            [
             0.4,
             "#fde0ef"
            ],
            [
             0.5,
             "#f7f7f7"
            ],
            [
             0.6,
             "#e6f5d0"
            ],
            [
             0.7,
             "#b8e186"
            ],
            [
             0.8,
             "#7fbc41"
            ],
            [
             0.9,
             "#4d9221"
            ],
            [
             1,
             "#276419"
            ]
           ]
          },
          "xaxis": {
           "gridcolor": "white",
           "linecolor": "white",
           "ticks": "",
           "title": {
            "standoff": 15
           },
           "zerolinecolor": "white",
           "automargin": true,
           "zerolinewidth": 2
          },
          "yaxis": {
           "gridcolor": "white",
           "linecolor": "white",
           "ticks": "",
           "title": {
            "standoff": 15
           },
           "zerolinecolor": "white",
           "automargin": true,
           "zerolinewidth": 2
          },
          "scene": {
           "xaxis": {
            "backgroundcolor": "#E5ECF6",
            "gridcolor": "white",
            "linecolor": "white",
            "showbackground": true,
            "ticks": "",
            "zerolinecolor": "white",
            "gridwidth": 2
           },
           "yaxis": {
            "backgroundcolor": "#E5ECF6",
            "gridcolor": "white",
            "linecolor": "white",
            "showbackground": true,
            "ticks": "",
            "zerolinecolor": "white",
            "gridwidth": 2
           },
           "zaxis": {
            "backgroundcolor": "#E5ECF6",
            "gridcolor": "white",
            "linecolor": "white",
            "showbackground": true,
            "ticks": "",
            "zerolinecolor": "white",
            "gridwidth": 2
           }
          },
          "shapedefaults": {
           "line": {
            "color": "#2a3f5f"
           }
          },
          "annotationdefaults": {
           "arrowcolor": "#2a3f5f",
           "arrowhead": 0,
           "arrowwidth": 1
          },
          "geo": {
           "bgcolor": "white",
           "landcolor": "#E5ECF6",
           "subunitcolor": "white",
           "showland": true,
           "showlakes": true,
           "lakecolor": "white"
          },
          "title": {
           "x": 0.05
          },
          "mapbox": {
           "style": "light"
          }
         }
        },
        "xaxis": {
         "anchor": "y",
         "domain": [
          0.0,
          1.0
         ],
         "title": {
          "text": "Education"
         }
        },
        "yaxis": {
         "anchor": "x",
         "domain": [
          0.0,
          1.0
         ],
         "title": {
          "text": "Ratio accepting campaign"
         }
        },
        "legend": {
         "title": {
          "text": "Accepted Campaign"
         },
         "tracegroupgap": 0
        },
        "title": {
         "text": "People who are illiterate are more likely to accept campaign"
        },
        "barmode": "relative"
       },
       "config": {
        "plotlyServerURL": "https://plot.ly"
       }
      }
     },
     "metadata": {},
     "output_type": "display_data"
    }
   ],
   "execution_count": 14
  },
  {
   "metadata": {
    "ExecuteTime": {
     "end_time": "2025-08-09T22:20:07.761729Z",
     "start_time": "2025-08-09T22:20:07.700665Z"
    }
   },
   "cell_type": "code",
   "source": [
    "month_ratio = (by_y_df['month'].value_counts() / df['month'].value_counts()).reset_index()\n",
    "fig = px.bar(\n",
    "    month_ratio.sort_values(by='count'),\n",
    "    x='month',\n",
    "    y='count',\n",
    "    color='y',\n",
    "    title=\"Month has a strong effect on acceptance. Best chance of success in March, December, September and October\",\n",
    "    labels={\"month\": \"Month\", \"count\": \"Ratio accepting campaign\", 'y': 'Accepted Campaign'},\n",
    ")\n",
    "fig.show()\n",
    "fig.write_image(\"images/month_acceptance_ratio.png\")"
   ],
   "outputs": [
    {
     "data": {
      "application/vnd.plotly.v1+json": {
       "data": [
        {
         "hovertemplate": "Accepted Campaign=yes<br>Month=%{x}<br>Ratio accepting campaign=%{y}<extra></extra>",
         "legendgroup": "yes",
         "marker": {
          "color": "#636efa",
          "pattern": {
           "shape": ""
          }
         },
         "name": "yes",
         "orientation": "v",
         "showlegend": true,
         "textposition": "auto",
         "x": [
          "may",
          "jul",
          "nov",
          "jun",
          "aug",
          "apr",
          "oct",
          "sep",
          "dec",
          "mar"
         ],
         "xaxis": "x",
         "y": {
          "dtype": "f8",
          "bdata": "QW4mBRN5sD9GDw5pwCi3P2YfNYni97k/SrVXG8zouj/JUz1cNyS7P6nvbNR3Nso/j7FhcfcT3D/nywGWbb7cP7/0S7/0S98/0AIt0AIt4D8="
         },
         "yaxis": "y",
         "type": "bar"
        },
        {
         "hovertemplate": "Accepted Campaign=no<br>Month=%{x}<br>Ratio accepting campaign=%{y}<extra></extra>",
         "legendgroup": "no",
         "marker": {
          "color": "#EF553B",
          "pattern": {
           "shape": ""
          }
         },
         "name": "no",
         "orientation": "v",
         "showlegend": true,
         "textposition": "auto",
         "x": [
          "mar",
          "dec",
          "sep",
          "oct",
          "apr",
          "aug",
          "jun",
          "nov",
          "jul",
          "may"
         ],
         "xaxis": "x",
         "y": {
          "dtype": "f8",
          "bdata": "YPqlX/ql3z+gBVqgBVrgPw0a/zTJoOE/OCdPRwT24T8WxOQKYnLpP4dVeBR5m+w/VwmVfOai7D8TXNmuA8HsPxc+3vLnGu0/ODJbn93w7T8="
         },
         "yaxis": "y",
         "type": "bar"
        }
       ],
       "layout": {
        "template": {
         "data": {
          "histogram2dcontour": [
           {
            "type": "histogram2dcontour",
            "colorbar": {
             "outlinewidth": 0,
             "ticks": ""
            },
            "colorscale": [
             [
              0.0,
              "#0d0887"
             ],
             [
              0.1111111111111111,
              "#46039f"
             ],
             [
              0.2222222222222222,
              "#7201a8"
             ],
             [
              0.3333333333333333,
              "#9c179e"
             ],
             [
              0.4444444444444444,
              "#bd3786"
             ],
             [
              0.5555555555555556,
              "#d8576b"
             ],
             [
              0.6666666666666666,
              "#ed7953"
             ],
             [
              0.7777777777777778,
              "#fb9f3a"
             ],
             [
              0.8888888888888888,
              "#fdca26"
             ],
             [
              1.0,
              "#f0f921"
             ]
            ]
           }
          ],
          "choropleth": [
           {
            "type": "choropleth",
            "colorbar": {
             "outlinewidth": 0,
             "ticks": ""
            }
           }
          ],
          "histogram2d": [
           {
            "type": "histogram2d",
            "colorbar": {
             "outlinewidth": 0,
             "ticks": ""
            },
            "colorscale": [
             [
              0.0,
              "#0d0887"
             ],
             [
              0.1111111111111111,
              "#46039f"
             ],
             [
              0.2222222222222222,
              "#7201a8"
             ],
             [
              0.3333333333333333,
              "#9c179e"
             ],
             [
              0.4444444444444444,
              "#bd3786"
             ],
             [
              0.5555555555555556,
              "#d8576b"
             ],
             [
              0.6666666666666666,
              "#ed7953"
             ],
             [
              0.7777777777777778,
              "#fb9f3a"
             ],
             [
              0.8888888888888888,
              "#fdca26"
             ],
             [
              1.0,
              "#f0f921"
             ]
            ]
           }
          ],
          "heatmap": [
           {
            "type": "heatmap",
            "colorbar": {
             "outlinewidth": 0,
             "ticks": ""
            },
            "colorscale": [
             [
              0.0,
              "#0d0887"
             ],
             [
              0.1111111111111111,
              "#46039f"
             ],
             [
              0.2222222222222222,
              "#7201a8"
             ],
             [
              0.3333333333333333,
              "#9c179e"
             ],
             [
              0.4444444444444444,
              "#bd3786"
             ],
             [
              0.5555555555555556,
              "#d8576b"
             ],
             [
              0.6666666666666666,
              "#ed7953"
             ],
             [
              0.7777777777777778,
              "#fb9f3a"
             ],
             [
              0.8888888888888888,
              "#fdca26"
             ],
             [
              1.0,
              "#f0f921"
             ]
            ]
           }
          ],
          "contourcarpet": [
           {
            "type": "contourcarpet",
            "colorbar": {
             "outlinewidth": 0,
             "ticks": ""
            }
           }
          ],
          "contour": [
           {
            "type": "contour",
            "colorbar": {
             "outlinewidth": 0,
             "ticks": ""
            },
            "colorscale": [
             [
              0.0,
              "#0d0887"
             ],
             [
              0.1111111111111111,
              "#46039f"
             ],
             [
              0.2222222222222222,
              "#7201a8"
             ],
             [
              0.3333333333333333,
              "#9c179e"
             ],
             [
              0.4444444444444444,
              "#bd3786"
             ],
             [
              0.5555555555555556,
              "#d8576b"
             ],
             [
              0.6666666666666666,
              "#ed7953"
             ],
             [
              0.7777777777777778,
              "#fb9f3a"
             ],
             [
              0.8888888888888888,
              "#fdca26"
             ],
             [
              1.0,
              "#f0f921"
             ]
            ]
           }
          ],
          "surface": [
           {
            "type": "surface",
            "colorbar": {
             "outlinewidth": 0,
             "ticks": ""
            },
            "colorscale": [
             [
              0.0,
              "#0d0887"
             ],
             [
              0.1111111111111111,
              "#46039f"
             ],
             [
              0.2222222222222222,
              "#7201a8"
             ],
             [
              0.3333333333333333,
              "#9c179e"
             ],
             [
              0.4444444444444444,
              "#bd3786"
             ],
             [
              0.5555555555555556,
              "#d8576b"
             ],
             [
              0.6666666666666666,
              "#ed7953"
             ],
             [
              0.7777777777777778,
              "#fb9f3a"
             ],
             [
              0.8888888888888888,
              "#fdca26"
             ],
             [
              1.0,
              "#f0f921"
             ]
            ]
           }
          ],
          "mesh3d": [
           {
            "type": "mesh3d",
            "colorbar": {
             "outlinewidth": 0,
             "ticks": ""
            }
           }
          ],
          "scatter": [
           {
            "fillpattern": {
             "fillmode": "overlay",
             "size": 10,
             "solidity": 0.2
            },
            "type": "scatter"
           }
          ],
          "parcoords": [
           {
            "type": "parcoords",
            "line": {
             "colorbar": {
              "outlinewidth": 0,
              "ticks": ""
             }
            }
           }
          ],
          "scatterpolargl": [
           {
            "type": "scatterpolargl",
            "marker": {
             "colorbar": {
              "outlinewidth": 0,
              "ticks": ""
             }
            }
           }
          ],
          "bar": [
           {
            "error_x": {
             "color": "#2a3f5f"
            },
            "error_y": {
             "color": "#2a3f5f"
            },
            "marker": {
             "line": {
              "color": "#E5ECF6",
              "width": 0.5
             },
             "pattern": {
              "fillmode": "overlay",
              "size": 10,
              "solidity": 0.2
             }
            },
            "type": "bar"
           }
          ],
          "scattergeo": [
           {
            "type": "scattergeo",
            "marker": {
             "colorbar": {
              "outlinewidth": 0,
              "ticks": ""
             }
            }
           }
          ],
          "scatterpolar": [
           {
            "type": "scatterpolar",
            "marker": {
             "colorbar": {
              "outlinewidth": 0,
              "ticks": ""
             }
            }
           }
          ],
          "histogram": [
           {
            "marker": {
             "pattern": {
              "fillmode": "overlay",
              "size": 10,
              "solidity": 0.2
             }
            },
            "type": "histogram"
           }
          ],
          "scattergl": [
           {
            "type": "scattergl",
            "marker": {
             "colorbar": {
              "outlinewidth": 0,
              "ticks": ""
             }
            }
           }
          ],
          "scatter3d": [
           {
            "type": "scatter3d",
            "line": {
             "colorbar": {
              "outlinewidth": 0,
              "ticks": ""
             }
            },
            "marker": {
             "colorbar": {
              "outlinewidth": 0,
              "ticks": ""
             }
            }
           }
          ],
          "scattermap": [
           {
            "type": "scattermap",
            "marker": {
             "colorbar": {
              "outlinewidth": 0,
              "ticks": ""
             }
            }
           }
          ],
          "scattermapbox": [
           {
            "type": "scattermapbox",
            "marker": {
             "colorbar": {
              "outlinewidth": 0,
              "ticks": ""
             }
            }
           }
          ],
          "scatterternary": [
           {
            "type": "scatterternary",
            "marker": {
             "colorbar": {
              "outlinewidth": 0,
              "ticks": ""
             }
            }
           }
          ],
          "scattercarpet": [
           {
            "type": "scattercarpet",
            "marker": {
             "colorbar": {
              "outlinewidth": 0,
              "ticks": ""
             }
            }
           }
          ],
          "carpet": [
           {
            "aaxis": {
             "endlinecolor": "#2a3f5f",
             "gridcolor": "white",
             "linecolor": "white",
             "minorgridcolor": "white",
             "startlinecolor": "#2a3f5f"
            },
            "baxis": {
             "endlinecolor": "#2a3f5f",
             "gridcolor": "white",
             "linecolor": "white",
             "minorgridcolor": "white",
             "startlinecolor": "#2a3f5f"
            },
            "type": "carpet"
           }
          ],
          "table": [
           {
            "cells": {
             "fill": {
              "color": "#EBF0F8"
             },
             "line": {
              "color": "white"
             }
            },
            "header": {
             "fill": {
              "color": "#C8D4E3"
             },
             "line": {
              "color": "white"
             }
            },
            "type": "table"
           }
          ],
          "barpolar": [
           {
            "marker": {
             "line": {
              "color": "#E5ECF6",
              "width": 0.5
             },
             "pattern": {
              "fillmode": "overlay",
              "size": 10,
              "solidity": 0.2
             }
            },
            "type": "barpolar"
           }
          ],
          "pie": [
           {
            "automargin": true,
            "type": "pie"
           }
          ]
         },
         "layout": {
          "autotypenumbers": "strict",
          "colorway": [
           "#636efa",
           "#EF553B",
           "#00cc96",
           "#ab63fa",
           "#FFA15A",
           "#19d3f3",
           "#FF6692",
           "#B6E880",
           "#FF97FF",
           "#FECB52"
          ],
          "font": {
           "color": "#2a3f5f"
          },
          "hovermode": "closest",
          "hoverlabel": {
           "align": "left"
          },
          "paper_bgcolor": "white",
          "plot_bgcolor": "#E5ECF6",
          "polar": {
           "bgcolor": "#E5ECF6",
           "angularaxis": {
            "gridcolor": "white",
            "linecolor": "white",
            "ticks": ""
           },
           "radialaxis": {
            "gridcolor": "white",
            "linecolor": "white",
            "ticks": ""
           }
          },
          "ternary": {
           "bgcolor": "#E5ECF6",
           "aaxis": {
            "gridcolor": "white",
            "linecolor": "white",
            "ticks": ""
           },
           "baxis": {
            "gridcolor": "white",
            "linecolor": "white",
            "ticks": ""
           },
           "caxis": {
            "gridcolor": "white",
            "linecolor": "white",
            "ticks": ""
           }
          },
          "coloraxis": {
           "colorbar": {
            "outlinewidth": 0,
            "ticks": ""
           }
          },
          "colorscale": {
           "sequential": [
            [
             0.0,
             "#0d0887"
            ],
            [
             0.1111111111111111,
             "#46039f"
            ],
            [
             0.2222222222222222,
             "#7201a8"
            ],
            [
             0.3333333333333333,
             "#9c179e"
            ],
            [
             0.4444444444444444,
             "#bd3786"
            ],
            [
             0.5555555555555556,
             "#d8576b"
            ],
            [
             0.6666666666666666,
             "#ed7953"
            ],
            [
             0.7777777777777778,
             "#fb9f3a"
            ],
            [
             0.8888888888888888,
             "#fdca26"
            ],
            [
             1.0,
             "#f0f921"
            ]
           ],
           "sequentialminus": [
            [
             0.0,
             "#0d0887"
            ],
            [
             0.1111111111111111,
             "#46039f"
            ],
            [
             0.2222222222222222,
             "#7201a8"
            ],
            [
             0.3333333333333333,
             "#9c179e"
            ],
            [
             0.4444444444444444,
             "#bd3786"
            ],
            [
             0.5555555555555556,
             "#d8576b"
            ],
            [
             0.6666666666666666,
             "#ed7953"
            ],
            [
             0.7777777777777778,
             "#fb9f3a"
            ],
            [
             0.8888888888888888,
             "#fdca26"
            ],
            [
             1.0,
             "#f0f921"
            ]
           ],
           "diverging": [
            [
             0,
             "#8e0152"
            ],
            [
             0.1,
             "#c51b7d"
            ],
            [
             0.2,
             "#de77ae"
            ],
            [
             0.3,
             "#f1b6da"
            ],
            [
             0.4,
             "#fde0ef"
            ],
            [
             0.5,
             "#f7f7f7"
            ],
            [
             0.6,
             "#e6f5d0"
            ],
            [
             0.7,
             "#b8e186"
            ],
            [
             0.8,
             "#7fbc41"
            ],
            [
             0.9,
             "#4d9221"
            ],
            [
             1,
             "#276419"
            ]
           ]
          },
          "xaxis": {
           "gridcolor": "white",
           "linecolor": "white",
           "ticks": "",
           "title": {
            "standoff": 15
           },
           "zerolinecolor": "white",
           "automargin": true,
           "zerolinewidth": 2
          },
          "yaxis": {
           "gridcolor": "white",
           "linecolor": "white",
           "ticks": "",
           "title": {
            "standoff": 15
           },
           "zerolinecolor": "white",
           "automargin": true,
           "zerolinewidth": 2
          },
          "scene": {
           "xaxis": {
            "backgroundcolor": "#E5ECF6",
            "gridcolor": "white",
            "linecolor": "white",
            "showbackground": true,
            "ticks": "",
            "zerolinecolor": "white",
            "gridwidth": 2
           },
           "yaxis": {
            "backgroundcolor": "#E5ECF6",
            "gridcolor": "white",
            "linecolor": "white",
            "showbackground": true,
            "ticks": "",
            "zerolinecolor": "white",
            "gridwidth": 2
           },
           "zaxis": {
            "backgroundcolor": "#E5ECF6",
            "gridcolor": "white",
            "linecolor": "white",
            "showbackground": true,
            "ticks": "",
            "zerolinecolor": "white",
            "gridwidth": 2
           }
          },
          "shapedefaults": {
           "line": {
            "color": "#2a3f5f"
           }
          },
          "annotationdefaults": {
           "arrowcolor": "#2a3f5f",
           "arrowhead": 0,
           "arrowwidth": 1
          },
          "geo": {
           "bgcolor": "white",
           "landcolor": "#E5ECF6",
           "subunitcolor": "white",
           "showland": true,
           "showlakes": true,
           "lakecolor": "white"
          },
          "title": {
           "x": 0.05
          },
          "mapbox": {
           "style": "light"
          }
         }
        },
        "xaxis": {
         "anchor": "y",
         "domain": [
          0.0,
          1.0
         ],
         "title": {
          "text": "Month"
         }
        },
        "yaxis": {
         "anchor": "x",
         "domain": [
          0.0,
          1.0
         ],
         "title": {
          "text": "Ratio accepting campaign"
         }
        },
        "legend": {
         "title": {
          "text": "Accepted Campaign"
         },
         "tracegroupgap": 0
        },
        "title": {
         "text": "Month has a strong effect on acceptance. Best chance of success in March, December, September and October"
        },
        "barmode": "relative"
       },
       "config": {
        "plotlyServerURL": "https://plot.ly"
       }
      }
     },
     "metadata": {},
     "output_type": "display_data"
    }
   ],
   "execution_count": 22
  },
  {
   "metadata": {
    "ExecuteTime": {
     "end_time": "2025-08-09T22:32:09.794707Z",
     "start_time": "2025-08-09T22:32:09.644938Z"
    }
   },
   "cell_type": "code",
   "source": [
    "fig = px.histogram(\n",
    "    df,\n",
    "    x='duration',\n",
    "    color='y',\n",
    "    title=\"The longer a call goes the higher the likelihood of acceptance\",\n",
    "    labels={\"duration\": \"Duration\", 'y': 'Accepted Campaign'},\n",
    ")\n",
    "fig.show()\n",
    "fig.write_image(\"images/duration_acceptance_ratio.png\")"
   ],
   "outputs": [
    {
     "data": {
      "application/vnd.plotly.v1+json": {
       "data": [
        {
         "bingroup": "x",
         "hovertemplate": "Accepted Campaign=no<br>Duration=%{x}<br>count=%{y}<extra></extra>",
         "legendgroup": "no",
         "marker": {
          "color": "#636efa",
          "pattern": {
           "shape": ""
          }
         },
         "name": "no",
         "orientation": "v",
         "showlegend": true,
         "x": {
          "dtype": "i2",
          "bdata": "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"
         },
         "xaxis": "x",
         "yaxis": "y",
         "type": "histogram"
        },
        {
         "bingroup": "x",
         "hovertemplate": "Accepted Campaign=yes<br>Duration=%{x}<br>count=%{y}<extra></extra>",
         "legendgroup": "yes",
         "marker": {
          "color": "#EF553B",
          "pattern": {
           "shape": ""
          }
         },
         "name": "yes",
         "orientation": "v",
         "showlegend": true,
         "x": {
          "dtype": "i2",
          "bdata": "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"
         },
         "xaxis": "x",
         "yaxis": "y",
         "type": "histogram"
        }
       ],
       "layout": {
        "template": {
         "data": {
          "histogram2dcontour": [
           {
            "type": "histogram2dcontour",
            "colorbar": {
             "outlinewidth": 0,
             "ticks": ""
            },
            "colorscale": [
             [
              0.0,
              "#0d0887"
             ],
             [
              0.1111111111111111,
              "#46039f"
             ],
             [
              0.2222222222222222,
              "#7201a8"
             ],
             [
              0.3333333333333333,
              "#9c179e"
             ],
             [
              0.4444444444444444,
              "#bd3786"
             ],
             [
              0.5555555555555556,
              "#d8576b"
             ],
             [
              0.6666666666666666,
              "#ed7953"
             ],
             [
              0.7777777777777778,
              "#fb9f3a"
             ],
             [
              0.8888888888888888,
              "#fdca26"
             ],
             [
              1.0,
              "#f0f921"
             ]
            ]
           }
          ],
          "choropleth": [
           {
            "type": "choropleth",
            "colorbar": {
             "outlinewidth": 0,
             "ticks": ""
            }
           }
          ],
          "histogram2d": [
           {
            "type": "histogram2d",
            "colorbar": {
             "outlinewidth": 0,
             "ticks": ""
            },
            "colorscale": [
             [
              0.0,
              "#0d0887"
             ],
             [
              0.1111111111111111,
              "#46039f"
             ],
             [
              0.2222222222222222,
              "#7201a8"
             ],
             [
              0.3333333333333333,
              "#9c179e"
             ],
             [
              0.4444444444444444,
              "#bd3786"
             ],
             [
              0.5555555555555556,
              "#d8576b"
             ],
             [
              0.6666666666666666,
              "#ed7953"
             ],
             [
              0.7777777777777778,
              "#fb9f3a"
             ],
             [
              0.8888888888888888,
              "#fdca26"
             ],
             [
              1.0,
              "#f0f921"
             ]
            ]
           }
          ],
          "heatmap": [
           {
            "type": "heatmap",
            "colorbar": {
             "outlinewidth": 0,
             "ticks": ""
            },
            "colorscale": [
             [
              0.0,
              "#0d0887"
             ],
             [
              0.1111111111111111,
              "#46039f"
             ],
             [
              0.2222222222222222,
              "#7201a8"
             ],
             [
              0.3333333333333333,
              "#9c179e"
             ],
             [
              0.4444444444444444,
              "#bd3786"
             ],
             [
              0.5555555555555556,
              "#d8576b"
             ],
             [
              0.6666666666666666,
              "#ed7953"
             ],
             [
              0.7777777777777778,
              "#fb9f3a"
             ],
             [
              0.8888888888888888,
              "#fdca26"
             ],
             [
              1.0,
              "#f0f921"
             ]
            ]
           }
          ],
          "contourcarpet": [
           {
            "type": "contourcarpet",
            "colorbar": {
             "outlinewidth": 0,
             "ticks": ""
            }
           }
          ],
          "contour": [
           {
            "type": "contour",
            "colorbar": {
             "outlinewidth": 0,
             "ticks": ""
            },
            "colorscale": [
             [
              0.0,
              "#0d0887"
             ],
             [
              0.1111111111111111,
              "#46039f"
             ],
             [
              0.2222222222222222,
              "#7201a8"
             ],
             [
              0.3333333333333333,
              "#9c179e"
             ],
             [
              0.4444444444444444,
              "#bd3786"
             ],
             [
              0.5555555555555556,
              "#d8576b"
             ],
             [
              0.6666666666666666,
              "#ed7953"
             ],
             [
              0.7777777777777778,
              "#fb9f3a"
             ],
             [
              0.8888888888888888,
              "#fdca26"
             ],
             [
              1.0,
              "#f0f921"
             ]
            ]
           }
          ],
          "surface": [
           {
            "type": "surface",
            "colorbar": {
             "outlinewidth": 0,
             "ticks": ""
            },
            "colorscale": [
             [
              0.0,
              "#0d0887"
             ],
             [
              0.1111111111111111,
              "#46039f"
             ],
             [
              0.2222222222222222,
              "#7201a8"
             ],
             [
              0.3333333333333333,
              "#9c179e"
             ],
             [
              0.4444444444444444,
              "#bd3786"
             ],
             [
              0.5555555555555556,
              "#d8576b"
             ],
             [
              0.6666666666666666,
              "#ed7953"
             ],
             [
              0.7777777777777778,
              "#fb9f3a"
             ],
             [
              0.8888888888888888,
              "#fdca26"
             ],
             [
              1.0,
              "#f0f921"
             ]
            ]
           }
          ],
          "mesh3d": [
           {
            "type": "mesh3d",
            "colorbar": {
             "outlinewidth": 0,
             "ticks": ""
            }
           }
          ],
          "scatter": [
           {
            "fillpattern": {
             "fillmode": "overlay",
             "size": 10,
             "solidity": 0.2
            },
            "type": "scatter"
           }
          ],
          "parcoords": [
           {
            "type": "parcoords",
            "line": {
             "colorbar": {
              "outlinewidth": 0,
              "ticks": ""
             }
            }
           }
          ],
          "scatterpolargl": [
           {
            "type": "scatterpolargl",
            "marker": {
             "colorbar": {
              "outlinewidth": 0,
              "ticks": ""
             }
            }
           }
          ],
          "bar": [
           {
            "error_x": {
             "color": "#2a3f5f"
            },
            "error_y": {
             "color": "#2a3f5f"
            },
            "marker": {
             "line": {
              "color": "#E5ECF6",
              "width": 0.5
             },
             "pattern": {
              "fillmode": "overlay",
              "size": 10,
              "solidity": 0.2
             }
            },
            "type": "bar"
           }
          ],
          "scattergeo": [
           {
            "type": "scattergeo",
            "marker": {
             "colorbar": {
              "outlinewidth": 0,
              "ticks": ""
             }
            }
           }
          ],
          "scatterpolar": [
           {
            "type": "scatterpolar",
            "marker": {
             "colorbar": {
              "outlinewidth": 0,
              "ticks": ""
             }
            }
           }
          ],
          "histogram": [
           {
            "marker": {
             "pattern": {
              "fillmode": "overlay",
              "size": 10,
              "solidity": 0.2
             }
            },
            "type": "histogram"
           }
          ],
          "scattergl": [
           {
            "type": "scattergl",
            "marker": {
             "colorbar": {
              "outlinewidth": 0,
              "ticks": ""
             }
            }
           }
          ],
          "scatter3d": [
           {
            "type": "scatter3d",
            "line": {
             "colorbar": {
              "outlinewidth": 0,
              "ticks": ""
             }
            },
            "marker": {
             "colorbar": {
              "outlinewidth": 0,
              "ticks": ""
             }
            }
           }
          ],
          "scattermap": [
           {
            "type": "scattermap",
            "marker": {
             "colorbar": {
              "outlinewidth": 0,
              "ticks": ""
             }
            }
           }
          ],
          "scattermapbox": [
           {
            "type": "scattermapbox",
            "marker": {
             "colorbar": {
              "outlinewidth": 0,
              "ticks": ""
             }
            }
           }
          ],
          "scatterternary": [
           {
            "type": "scatterternary",
            "marker": {
             "colorbar": {
              "outlinewidth": 0,
              "ticks": ""
             }
            }
           }
          ],
          "scattercarpet": [
           {
            "type": "scattercarpet",
            "marker": {
             "colorbar": {
              "outlinewidth": 0,
              "ticks": ""
             }
            }
           }
          ],
          "carpet": [
           {
            "aaxis": {
             "endlinecolor": "#2a3f5f",
             "gridcolor": "white",
             "linecolor": "white",
             "minorgridcolor": "white",
             "startlinecolor": "#2a3f5f"
            },
            "baxis": {
             "endlinecolor": "#2a3f5f",
             "gridcolor": "white",
             "linecolor": "white",
             "minorgridcolor": "white",
             "startlinecolor": "#2a3f5f"
            },
            "type": "carpet"
           }
          ],
          "table": [
           {
            "cells": {
             "fill": {
              "color": "#EBF0F8"
             },
             "line": {
              "color": "white"
             }
            },
            "header": {
             "fill": {
              "color": "#C8D4E3"
             },
             "line": {
              "color": "white"
             }
            },
            "type": "table"
           }
          ],
          "barpolar": [
           {
            "marker": {
             "line": {
              "color": "#E5ECF6",
              "width": 0.5
             },
             "pattern": {
              "fillmode": "overlay",
              "size": 10,
              "solidity": 0.2
             }
            },
            "type": "barpolar"
           }
          ],
          "pie": [
           {
            "automargin": true,
            "type": "pie"
           }
          ]
         },
         "layout": {
          "autotypenumbers": "strict",
          "colorway": [
           "#636efa",
           "#EF553B",
           "#00cc96",
           "#ab63fa",
           "#FFA15A",
           "#19d3f3",
           "#FF6692",
           "#B6E880",
           "#FF97FF",
           "#FECB52"
          ],
          "font": {
           "color": "#2a3f5f"
          },
          "hovermode": "closest",
          "hoverlabel": {
           "align": "left"
          },
          "paper_bgcolor": "white",
          "plot_bgcolor": "#E5ECF6",
          "polar": {
           "bgcolor": "#E5ECF6",
           "angularaxis": {
            "gridcolor": "white",
            "linecolor": "white",
            "ticks": ""
           },
           "radialaxis": {
            "gridcolor": "white",
            "linecolor": "white",
            "ticks": ""
           }
          },
          "ternary": {
           "bgcolor": "#E5ECF6",
           "aaxis": {
            "gridcolor": "white",
            "linecolor": "white",
            "ticks": ""
           },
           "baxis": {
            "gridcolor": "white",
            "linecolor": "white",
            "ticks": ""
           },
           "caxis": {
            "gridcolor": "white",
            "linecolor": "white",
            "ticks": ""
           }
          },
          "coloraxis": {
           "colorbar": {
            "outlinewidth": 0,
            "ticks": ""
           }
          },
          "colorscale": {
           "sequential": [
            [
             0.0,
             "#0d0887"
            ],
            [
             0.1111111111111111,
             "#46039f"
            ],
            [
             0.2222222222222222,
             "#7201a8"
            ],
            [
             0.3333333333333333,
             "#9c179e"
            ],
            [
             0.4444444444444444,
             "#bd3786"
            ],
            [
             0.5555555555555556,
             "#d8576b"
            ],
            [
             0.6666666666666666,
             "#ed7953"
            ],
            [
             0.7777777777777778,
             "#fb9f3a"
            ],
            [
             0.8888888888888888,
             "#fdca26"
            ],
            [
             1.0,
             "#f0f921"
            ]
           ],
           "sequentialminus": [
            [
             0.0,
             "#0d0887"
            ],
            [
             0.1111111111111111,
             "#46039f"
            ],
            [
             0.2222222222222222,
             "#7201a8"
            ],
            [
             0.3333333333333333,
             "#9c179e"
            ],
            [
             0.4444444444444444,
             "#bd3786"
            ],
            [
             0.5555555555555556,
             "#d8576b"
            ],
            [
             0.6666666666666666,
             "#ed7953"
            ],
            [
             0.7777777777777778,
             "#fb9f3a"
            ],
            [
             0.8888888888888888,
             "#fdca26"
            ],
            [
             1.0,
             "#f0f921"
            ]
           ],
           "diverging": [
            [
             0,
             "#8e0152"
            ],
            [
             0.1,
             "#c51b7d"
            ],
            [
             0.2,
             "#de77ae"
            ],
            [
             0.3,
             "#f1b6da"
            ],
            [
             0.4,
             "#fde0ef"
            ],
            [
             0.5,
             "#f7f7f7"
            ],
            [
             0.6,
             "#e6f5d0"
            ],
            [
             0.7,
             "#b8e186"
            ],
            [
             0.8,
             "#7fbc41"
            ],
            [
             0.9,
             "#4d9221"
            ],
            [
             1,
             "#276419"
            ]
           ]
          },
          "xaxis": {
           "gridcolor": "white",
           "linecolor": "white",
           "ticks": "",
           "title": {
            "standoff": 15
           },
           "zerolinecolor": "white",
           "automargin": true,
           "zerolinewidth": 2
          },
          "yaxis": {
           "gridcolor": "white",
           "linecolor": "white",
           "ticks": "",
           "title": {
            "standoff": 15
           },
           "zerolinecolor": "white",
           "automargin": true,
           "zerolinewidth": 2
          },
          "scene": {
           "xaxis": {
            "backgroundcolor": "#E5ECF6",
            "gridcolor": "white",
            "linecolor": "white",
            "showbackground": true,
            "ticks": "",
            "zerolinecolor": "white",
            "gridwidth": 2
           },
           "yaxis": {
            "backgroundcolor": "#E5ECF6",
            "gridcolor": "white",
            "linecolor": "white",
            "showbackground": true,
            "ticks": "",
            "zerolinecolor": "white",
            "gridwidth": 2
           },
           "zaxis": {
            "backgroundcolor": "#E5ECF6",
            "gridcolor": "white",
            "linecolor": "white",
            "showbackground": true,
            "ticks": "",
            "zerolinecolor": "white",
            "gridwidth": 2
           }
          },
          "shapedefaults": {
           "line": {
            "color": "#2a3f5f"
           }
          },
          "annotationdefaults": {
           "arrowcolor": "#2a3f5f",
           "arrowhead": 0,
           "arrowwidth": 1
          },
          "geo": {
           "bgcolor": "white",
           "landcolor": "#E5ECF6",
           "subunitcolor": "white",
           "showland": true,
           "showlakes": true,
           "lakecolor": "white"
          },
          "title": {
           "x": 0.05
          },
          "mapbox": {
           "style": "light"
          }
         }
        },
        "xaxis": {
         "anchor": "y",
         "domain": [
          0.0,
          1.0
         ],
         "title": {
          "text": "Duration"
         }
        },
        "yaxis": {
         "anchor": "x",
         "domain": [
          0.0,
          1.0
         ],
         "title": {
          "text": "count"
         }
        },
        "legend": {
         "title": {
          "text": "Accepted Campaign"
         },
         "tracegroupgap": 0
        },
        "title": {
         "text": "The longer a call goes the higher the likelihood of acceptance"
        },
        "barmode": "relative"
       },
       "config": {
        "plotlyServerURL": "https://plot.ly"
       }
      }
     },
     "metadata": {},
     "output_type": "display_data"
    }
   ],
   "execution_count": 28
  },
  {
   "cell_type": "markdown",
   "metadata": {},
   "source": "### Data Preparation"
  },
  {
   "metadata": {},
   "cell_type": "code",
   "outputs": [],
   "execution_count": null,
   "source": ""
  },
  {
   "cell_type": "markdown",
   "metadata": {},
   "source": "### Models"
  },
  {
   "cell_type": "code",
   "execution_count": null,
   "metadata": {},
   "outputs": [],
   "source": []
  },
  {
   "cell_type": "markdown",
   "metadata": {},
   "source": "### Evaluation"
  },
  {
   "cell_type": "code",
   "execution_count": null,
   "metadata": {},
   "outputs": [],
   "source": []
  }
 ],
 "metadata": {
  "kernelspec": {
   "display_name": "Python 3",
   "language": "python",
   "name": "python3"
  },
  "language_info": {
   "codemirror_mode": {
    "name": "ipython",
    "version": 3
   },
   "file_extension": ".py",
   "mimetype": "text/x-python",
   "name": "python",
   "nbconvert_exporter": "python",
   "pygments_lexer": "ipython3",
   "version": "3.8.8"
  },
  "widgets": {
   "application/vnd.jupyter.widget-state+json": {
    "state": {},
    "version_major": 2,
    "version_minor": 0
   }
  }
 },
 "nbformat": 4,
 "nbformat_minor": 4
}
