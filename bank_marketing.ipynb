{
 "cells": [
  {
   "cell_type": "code",
   "metadata": {
    "ExecuteTime": {
     "end_time": "2025-08-10T01:21:36.958071Z",
     "start_time": "2025-08-10T01:21:36.841915Z"
    }
   },
   "source": [
    "import os.path\n",
    "\n",
    "import joblib\n",
    "import plotly.express as px\n",
    "import plotly.graph_objects as go\n",
    "import pandas as pd\n",
    "import numpy as np\n",
    "\n",
    "from plotly.subplots import make_subplots\n",
    "from sklearn.compose import ColumnTransformer\n",
    "from sklearn.linear_model import LogisticRegression\n",
    "from sklearn.svm import SVC\n",
    "from sklearn.metrics import (\n",
    "    accuracy_score,\n",
    "    roc_curve,\n",
    "    precision_score,\n",
    "    recall_score,\n",
    "    f1_score\n",
    ")\n",
    "from sklearn.model_selection import train_test_split, GridSearchCV\n",
    "from imblearn.ensemble import BalancedRandomForestClassifier\n",
    "from imblearn.over_sampling import SMOTE\n",
    "from imblearn.pipeline import Pipeline\n",
    "from sklearn.preprocessing import (\n",
    "    StandardScaler,\n",
    "    OneHotEncoder,\n",
    ")\n",
    "from warnings import filterwarnings\n",
    "\n",
    "filterwarnings(\"ignore\")"
   ],
   "outputs": [],
   "execution_count": 74
  },
  {
   "metadata": {},
   "cell_type": "markdown",
   "source": [
    "### Business Objective\n",
    "\n",
    "It comes as no surprise that large marketing campaigns have negative sentiment amongst the general populace. Think about the last time you answered an unexpected phone call from an unknown number, if your experience is anything like my then, it was either a scam caller, telemarketer or survey taker. I find myself hanging up quickly when it comes to these types of calls, if I were to ever answer them. Every failed cold call costs the company commissioning the campaign time and money. The bank partner commissioning this study is seeking to increase campaign success and reduce costs by focusing on profiles that are more likely to accept their offerings. The bank partner would like a model that can better predict the type of person that would accept offers from our partner bank."
   ]
  },
  {
   "metadata": {},
   "cell_type": "markdown",
   "source": [
    "### Understanding the Features\n",
    "\n",
    "```\n",
    "Input variables:\n",
    "# bank client data:\n",
    "1 - age (numeric)\n",
    "2 - job : type of job (categorical: 'admin.','blue-collar','entrepreneur','housemaid','management','retired','self-employed','services','student','technician','unemployed','unknown')\n",
    "3 - marital : marital status (categorical: 'divorced','married','single','unknown'; note: 'divorced' means divorced or widowed)\n",
    "4 - education (categorical: 'basic.4y','basic.6y','basic.9y','high.school','illiterate','professional.course','university.degree','unknown')\n",
    "5 - default: has credit in default? (categorical: 'no','yes','unknown')\n",
    "6 - housing: has housing loan? (categorical: 'no','yes','unknown')\n",
    "7 - loan: has personal loan? (categorical: 'no','yes','unknown')\n",
    "# related with the last contact of the current campaign:\n",
    "8 - contact: contact communication type (categorical: 'cellular','telephone')\n",
    "9 - month: last contact month of year (categorical: 'jan', 'feb', 'mar', ..., 'nov', 'dec')\n",
    "10 - day_of_week: last contact day of the week (categorical: 'mon','tue','wed','thu','fri')\n",
    "11 - duration: last contact duration, in seconds (numeric). Important note: this attribute highly affects the output target (e.g., if duration=0 then y='no'). Yet, the duration is not known before a call is performed. Also, after the end of the call y is obviously known. Thus, this input should only be included for benchmark purposes and should be discarded if the intention is to have a realistic predictive model.\n",
    "# other attributes:\n",
    "12 - campaign: number of contacts performed during this campaign and for this client (numeric, includes last contact)\n",
    "13 - pdays: number of days that passed by after the client was last contacted from a previous campaign (numeric; 999 means client was not previously contacted)\n",
    "14 - previous: number of contacts performed before this campaign and for this client (numeric)\n",
    "15 - poutcome: outcome of the previous marketing campaign (categorical: 'failure','nonexistent','success')\n",
    "# social and economic context attributes\n",
    "16 - emp.var.rate: employment variation rate - quarterly indicator (numeric)\n",
    "17 - cons.price.idx: consumer price index - monthly indicator (numeric)\n",
    "18 - cons.conf.idx: consumer confidence index - monthly indicator (numeric)\n",
    "19 - euribor3m: euribor 3 month rate - daily indicator (numeric)\n",
    "20 - nr.employed: number of employees - quarterly indicator (numeric)\n",
    "\n",
    "Output variable (desired target):\n",
    "21 - y - has the client subscribed a term deposit? (binary: 'yes','no')\n",
    "```\n",
    "\n"
   ]
  },
  {
   "metadata": {},
   "cell_type": "markdown",
   "source": "### Understanding the Data\n"
  },
  {
   "metadata": {
    "ExecuteTime": {
     "end_time": "2025-08-09T22:00:43.627480Z",
     "start_time": "2025-08-09T22:00:43.536216Z"
    }
   },
   "cell_type": "code",
   "source": "df = pd.read_csv('data/bank-additional-full.csv', sep=';')",
   "outputs": [],
   "execution_count": 2
  },
  {
   "metadata": {
    "ExecuteTime": {
     "end_time": "2025-08-09T22:00:43.648340Z",
     "start_time": "2025-08-09T22:00:43.638633Z"
    }
   },
   "cell_type": "code",
   "source": "df.head()",
   "outputs": [
    {
     "data": {
      "text/plain": [
       "   age        job  marital    education  default housing loan    contact  \\\n",
       "0   56  housemaid  married     basic.4y       no      no   no  telephone   \n",
       "1   57   services  married  high.school  unknown      no   no  telephone   \n",
       "2   37   services  married  high.school       no     yes   no  telephone   \n",
       "3   40     admin.  married     basic.6y       no      no   no  telephone   \n",
       "4   56   services  married  high.school       no      no  yes  telephone   \n",
       "\n",
       "  month day_of_week  ...  campaign  pdays  previous     poutcome emp.var.rate  \\\n",
       "0   may         mon  ...         1    999         0  nonexistent          1.1   \n",
       "1   may         mon  ...         1    999         0  nonexistent          1.1   \n",
       "2   may         mon  ...         1    999         0  nonexistent          1.1   \n",
       "3   may         mon  ...         1    999         0  nonexistent          1.1   \n",
       "4   may         mon  ...         1    999         0  nonexistent          1.1   \n",
       "\n",
       "   cons.price.idx  cons.conf.idx  euribor3m  nr.employed   y  \n",
       "0          93.994          -36.4      4.857       5191.0  no  \n",
       "1          93.994          -36.4      4.857       5191.0  no  \n",
       "2          93.994          -36.4      4.857       5191.0  no  \n",
       "3          93.994          -36.4      4.857       5191.0  no  \n",
       "4          93.994          -36.4      4.857       5191.0  no  \n",
       "\n",
       "[5 rows x 21 columns]"
      ],
      "text/html": [
       "<div>\n",
       "<style scoped>\n",
       "    .dataframe tbody tr th:only-of-type {\n",
       "        vertical-align: middle;\n",
       "    }\n",
       "\n",
       "    .dataframe tbody tr th {\n",
       "        vertical-align: top;\n",
       "    }\n",
       "\n",
       "    .dataframe thead th {\n",
       "        text-align: right;\n",
       "    }\n",
       "</style>\n",
       "<table border=\"1\" class=\"dataframe\">\n",
       "  <thead>\n",
       "    <tr style=\"text-align: right;\">\n",
       "      <th></th>\n",
       "      <th>age</th>\n",
       "      <th>job</th>\n",
       "      <th>marital</th>\n",
       "      <th>education</th>\n",
       "      <th>default</th>\n",
       "      <th>housing</th>\n",
       "      <th>loan</th>\n",
       "      <th>contact</th>\n",
       "      <th>month</th>\n",
       "      <th>day_of_week</th>\n",
       "      <th>...</th>\n",
       "      <th>campaign</th>\n",
       "      <th>pdays</th>\n",
       "      <th>previous</th>\n",
       "      <th>poutcome</th>\n",
       "      <th>emp.var.rate</th>\n",
       "      <th>cons.price.idx</th>\n",
       "      <th>cons.conf.idx</th>\n",
       "      <th>euribor3m</th>\n",
       "      <th>nr.employed</th>\n",
       "      <th>y</th>\n",
       "    </tr>\n",
       "  </thead>\n",
       "  <tbody>\n",
       "    <tr>\n",
       "      <th>0</th>\n",
       "      <td>56</td>\n",
       "      <td>housemaid</td>\n",
       "      <td>married</td>\n",
       "      <td>basic.4y</td>\n",
       "      <td>no</td>\n",
       "      <td>no</td>\n",
       "      <td>no</td>\n",
       "      <td>telephone</td>\n",
       "      <td>may</td>\n",
       "      <td>mon</td>\n",
       "      <td>...</td>\n",
       "      <td>1</td>\n",
       "      <td>999</td>\n",
       "      <td>0</td>\n",
       "      <td>nonexistent</td>\n",
       "      <td>1.1</td>\n",
       "      <td>93.994</td>\n",
       "      <td>-36.4</td>\n",
       "      <td>4.857</td>\n",
       "      <td>5191.0</td>\n",
       "      <td>no</td>\n",
       "    </tr>\n",
       "    <tr>\n",
       "      <th>1</th>\n",
       "      <td>57</td>\n",
       "      <td>services</td>\n",
       "      <td>married</td>\n",
       "      <td>high.school</td>\n",
       "      <td>unknown</td>\n",
       "      <td>no</td>\n",
       "      <td>no</td>\n",
       "      <td>telephone</td>\n",
       "      <td>may</td>\n",
       "      <td>mon</td>\n",
       "      <td>...</td>\n",
       "      <td>1</td>\n",
       "      <td>999</td>\n",
       "      <td>0</td>\n",
       "      <td>nonexistent</td>\n",
       "      <td>1.1</td>\n",
       "      <td>93.994</td>\n",
       "      <td>-36.4</td>\n",
       "      <td>4.857</td>\n",
       "      <td>5191.0</td>\n",
       "      <td>no</td>\n",
       "    </tr>\n",
       "    <tr>\n",
       "      <th>2</th>\n",
       "      <td>37</td>\n",
       "      <td>services</td>\n",
       "      <td>married</td>\n",
       "      <td>high.school</td>\n",
       "      <td>no</td>\n",
       "      <td>yes</td>\n",
       "      <td>no</td>\n",
       "      <td>telephone</td>\n",
       "      <td>may</td>\n",
       "      <td>mon</td>\n",
       "      <td>...</td>\n",
       "      <td>1</td>\n",
       "      <td>999</td>\n",
       "      <td>0</td>\n",
       "      <td>nonexistent</td>\n",
       "      <td>1.1</td>\n",
       "      <td>93.994</td>\n",
       "      <td>-36.4</td>\n",
       "      <td>4.857</td>\n",
       "      <td>5191.0</td>\n",
       "      <td>no</td>\n",
       "    </tr>\n",
       "    <tr>\n",
       "      <th>3</th>\n",
       "      <td>40</td>\n",
       "      <td>admin.</td>\n",
       "      <td>married</td>\n",
       "      <td>basic.6y</td>\n",
       "      <td>no</td>\n",
       "      <td>no</td>\n",
       "      <td>no</td>\n",
       "      <td>telephone</td>\n",
       "      <td>may</td>\n",
       "      <td>mon</td>\n",
       "      <td>...</td>\n",
       "      <td>1</td>\n",
       "      <td>999</td>\n",
       "      <td>0</td>\n",
       "      <td>nonexistent</td>\n",
       "      <td>1.1</td>\n",
       "      <td>93.994</td>\n",
       "      <td>-36.4</td>\n",
       "      <td>4.857</td>\n",
       "      <td>5191.0</td>\n",
       "      <td>no</td>\n",
       "    </tr>\n",
       "    <tr>\n",
       "      <th>4</th>\n",
       "      <td>56</td>\n",
       "      <td>services</td>\n",
       "      <td>married</td>\n",
       "      <td>high.school</td>\n",
       "      <td>no</td>\n",
       "      <td>no</td>\n",
       "      <td>yes</td>\n",
       "      <td>telephone</td>\n",
       "      <td>may</td>\n",
       "      <td>mon</td>\n",
       "      <td>...</td>\n",
       "      <td>1</td>\n",
       "      <td>999</td>\n",
       "      <td>0</td>\n",
       "      <td>nonexistent</td>\n",
       "      <td>1.1</td>\n",
       "      <td>93.994</td>\n",
       "      <td>-36.4</td>\n",
       "      <td>4.857</td>\n",
       "      <td>5191.0</td>\n",
       "      <td>no</td>\n",
       "    </tr>\n",
       "  </tbody>\n",
       "</table>\n",
       "<p>5 rows × 21 columns</p>\n",
       "</div>"
      ]
     },
     "execution_count": 3,
     "metadata": {},
     "output_type": "execute_result"
    }
   ],
   "execution_count": 3
  },
  {
   "cell_type": "code",
   "metadata": {
    "ExecuteTime": {
     "end_time": "2025-08-09T22:00:43.725959Z",
     "start_time": "2025-08-09T22:00:43.712232Z"
    }
   },
   "source": "df.info()",
   "outputs": [
    {
     "name": "stdout",
     "output_type": "stream",
     "text": [
      "<class 'pandas.core.frame.DataFrame'>\n",
      "RangeIndex: 41188 entries, 0 to 41187\n",
      "Data columns (total 21 columns):\n",
      " #   Column          Non-Null Count  Dtype  \n",
      "---  ------          --------------  -----  \n",
      " 0   age             41188 non-null  int64  \n",
      " 1   job             41188 non-null  object \n",
      " 2   marital         41188 non-null  object \n",
      " 3   education       41188 non-null  object \n",
      " 4   default         41188 non-null  object \n",
      " 5   housing         41188 non-null  object \n",
      " 6   loan            41188 non-null  object \n",
      " 7   contact         41188 non-null  object \n",
      " 8   month           41188 non-null  object \n",
      " 9   day_of_week     41188 non-null  object \n",
      " 10  duration        41188 non-null  int64  \n",
      " 11  campaign        41188 non-null  int64  \n",
      " 12  pdays           41188 non-null  int64  \n",
      " 13  previous        41188 non-null  int64  \n",
      " 14  poutcome        41188 non-null  object \n",
      " 15  emp.var.rate    41188 non-null  float64\n",
      " 16  cons.price.idx  41188 non-null  float64\n",
      " 17  cons.conf.idx   41188 non-null  float64\n",
      " 18  euribor3m       41188 non-null  float64\n",
      " 19  nr.employed     41188 non-null  float64\n",
      " 20  y               41188 non-null  object \n",
      "dtypes: float64(5), int64(5), object(11)\n",
      "memory usage: 6.6+ MB\n"
     ]
    }
   ],
   "execution_count": 4
  },
  {
   "metadata": {
    "ExecuteTime": {
     "end_time": "2025-08-09T22:00:43.863039Z",
     "start_time": "2025-08-09T22:00:43.834858Z"
    }
   },
   "cell_type": "code",
   "source": "df.describe(include=\"object\")\n",
   "outputs": [
    {
     "data": {
      "text/plain": [
       "           job  marital          education default housing   loan   contact  \\\n",
       "count    41188    41188              41188   41188   41188  41188     41188   \n",
       "unique      12        4                  8       3       3      3         2   \n",
       "top     admin.  married  university.degree      no     yes     no  cellular   \n",
       "freq     10422    24928              12168   32588   21576  33950     26144   \n",
       "\n",
       "        month day_of_week     poutcome      y  \n",
       "count   41188       41188        41188  41188  \n",
       "unique     10           5            3      2  \n",
       "top       may         thu  nonexistent     no  \n",
       "freq    13769        8623        35563  36548  "
      ],
      "text/html": [
       "<div>\n",
       "<style scoped>\n",
       "    .dataframe tbody tr th:only-of-type {\n",
       "        vertical-align: middle;\n",
       "    }\n",
       "\n",
       "    .dataframe tbody tr th {\n",
       "        vertical-align: top;\n",
       "    }\n",
       "\n",
       "    .dataframe thead th {\n",
       "        text-align: right;\n",
       "    }\n",
       "</style>\n",
       "<table border=\"1\" class=\"dataframe\">\n",
       "  <thead>\n",
       "    <tr style=\"text-align: right;\">\n",
       "      <th></th>\n",
       "      <th>job</th>\n",
       "      <th>marital</th>\n",
       "      <th>education</th>\n",
       "      <th>default</th>\n",
       "      <th>housing</th>\n",
       "      <th>loan</th>\n",
       "      <th>contact</th>\n",
       "      <th>month</th>\n",
       "      <th>day_of_week</th>\n",
       "      <th>poutcome</th>\n",
       "      <th>y</th>\n",
       "    </tr>\n",
       "  </thead>\n",
       "  <tbody>\n",
       "    <tr>\n",
       "      <th>count</th>\n",
       "      <td>41188</td>\n",
       "      <td>41188</td>\n",
       "      <td>41188</td>\n",
       "      <td>41188</td>\n",
       "      <td>41188</td>\n",
       "      <td>41188</td>\n",
       "      <td>41188</td>\n",
       "      <td>41188</td>\n",
       "      <td>41188</td>\n",
       "      <td>41188</td>\n",
       "      <td>41188</td>\n",
       "    </tr>\n",
       "    <tr>\n",
       "      <th>unique</th>\n",
       "      <td>12</td>\n",
       "      <td>4</td>\n",
       "      <td>8</td>\n",
       "      <td>3</td>\n",
       "      <td>3</td>\n",
       "      <td>3</td>\n",
       "      <td>2</td>\n",
       "      <td>10</td>\n",
       "      <td>5</td>\n",
       "      <td>3</td>\n",
       "      <td>2</td>\n",
       "    </tr>\n",
       "    <tr>\n",
       "      <th>top</th>\n",
       "      <td>admin.</td>\n",
       "      <td>married</td>\n",
       "      <td>university.degree</td>\n",
       "      <td>no</td>\n",
       "      <td>yes</td>\n",
       "      <td>no</td>\n",
       "      <td>cellular</td>\n",
       "      <td>may</td>\n",
       "      <td>thu</td>\n",
       "      <td>nonexistent</td>\n",
       "      <td>no</td>\n",
       "    </tr>\n",
       "    <tr>\n",
       "      <th>freq</th>\n",
       "      <td>10422</td>\n",
       "      <td>24928</td>\n",
       "      <td>12168</td>\n",
       "      <td>32588</td>\n",
       "      <td>21576</td>\n",
       "      <td>33950</td>\n",
       "      <td>26144</td>\n",
       "      <td>13769</td>\n",
       "      <td>8623</td>\n",
       "      <td>35563</td>\n",
       "      <td>36548</td>\n",
       "    </tr>\n",
       "  </tbody>\n",
       "</table>\n",
       "</div>"
      ]
     },
     "execution_count": 5,
     "metadata": {},
     "output_type": "execute_result"
    }
   ],
   "execution_count": 5
  },
  {
   "metadata": {
    "ExecuteTime": {
     "end_time": "2025-08-09T22:00:43.927310Z",
     "start_time": "2025-08-09T22:00:43.908073Z"
    }
   },
   "cell_type": "code",
   "source": [
    "# Only 12 duplicates\n",
    "print(\n",
    "    f\"Row count: {df.shape[0]}, Duplicate count: {df.shape[0] - df.drop_duplicates().shape[0]}\"\n",
    ")"
   ],
   "outputs": [
    {
     "name": "stdout",
     "output_type": "stream",
     "text": [
      "Row count: 41188, Duplicate count: 12\n"
     ]
    }
   ],
   "execution_count": 6
  },
  {
   "metadata": {
    "ExecuteTime": {
     "end_time": "2025-08-09T22:00:44.052243Z",
     "start_time": "2025-08-09T22:00:44.039678Z"
    }
   },
   "cell_type": "code",
   "source": [
    "# No columns missing data\n",
    "df.isna().mean().round(2)"
   ],
   "outputs": [
    {
     "data": {
      "text/plain": [
       "age               0.0\n",
       "job               0.0\n",
       "marital           0.0\n",
       "education         0.0\n",
       "default           0.0\n",
       "housing           0.0\n",
       "loan              0.0\n",
       "contact           0.0\n",
       "month             0.0\n",
       "day_of_week       0.0\n",
       "duration          0.0\n",
       "campaign          0.0\n",
       "pdays             0.0\n",
       "previous          0.0\n",
       "poutcome          0.0\n",
       "emp.var.rate      0.0\n",
       "cons.price.idx    0.0\n",
       "cons.conf.idx     0.0\n",
       "euribor3m         0.0\n",
       "nr.employed       0.0\n",
       "y                 0.0\n",
       "dtype: float64"
      ]
     },
     "execution_count": 7,
     "metadata": {},
     "output_type": "execute_result"
    }
   ],
   "execution_count": 7
  },
  {
   "metadata": {
    "ExecuteTime": {
     "end_time": "2025-08-09T22:00:44.207443Z",
     "start_time": "2025-08-09T22:00:44.198441Z"
    }
   },
   "cell_type": "code",
   "source": "df.sample(5)",
   "outputs": [
    {
     "data": {
      "text/plain": [
       "       age          job   marital          education  default housing loan  \\\n",
       "23781   51       admin.  divorced  university.degree  unknown      no   no   \n",
       "3894    53   technician   married        high.school       no      no  yes   \n",
       "4666    36     services   married        high.school       no     yes  yes   \n",
       "14860   37  blue-collar   married           basic.9y       no      no   no   \n",
       "20459   38   technician   married        high.school       no      no   no   \n",
       "\n",
       "         contact month day_of_week  ...  campaign  pdays  previous  \\\n",
       "23781   cellular   aug         fri  ...         1    999         0   \n",
       "3894   telephone   may         mon  ...         2    999         0   \n",
       "4666   telephone   may         wed  ...         1    999         0   \n",
       "14860   cellular   jul         wed  ...         1    999         0   \n",
       "20459   cellular   aug         tue  ...         2    999         0   \n",
       "\n",
       "          poutcome emp.var.rate  cons.price.idx  cons.conf.idx  euribor3m  \\\n",
       "23781  nonexistent          1.4          93.444          -36.1      4.963   \n",
       "3894   nonexistent          1.1          93.994          -36.4      4.858   \n",
       "4666   nonexistent          1.1          93.994          -36.4      4.858   \n",
       "14860  nonexistent          1.4          93.918          -42.7      4.957   \n",
       "20459  nonexistent          1.4          93.444          -36.1      4.966   \n",
       "\n",
       "       nr.employed   y  \n",
       "23781       5228.1  no  \n",
       "3894        5191.0  no  \n",
       "4666        5191.0  no  \n",
       "14860       5228.1  no  \n",
       "20459       5228.1  no  \n",
       "\n",
       "[5 rows x 21 columns]"
      ],
      "text/html": [
       "<div>\n",
       "<style scoped>\n",
       "    .dataframe tbody tr th:only-of-type {\n",
       "        vertical-align: middle;\n",
       "    }\n",
       "\n",
       "    .dataframe tbody tr th {\n",
       "        vertical-align: top;\n",
       "    }\n",
       "\n",
       "    .dataframe thead th {\n",
       "        text-align: right;\n",
       "    }\n",
       "</style>\n",
       "<table border=\"1\" class=\"dataframe\">\n",
       "  <thead>\n",
       "    <tr style=\"text-align: right;\">\n",
       "      <th></th>\n",
       "      <th>age</th>\n",
       "      <th>job</th>\n",
       "      <th>marital</th>\n",
       "      <th>education</th>\n",
       "      <th>default</th>\n",
       "      <th>housing</th>\n",
       "      <th>loan</th>\n",
       "      <th>contact</th>\n",
       "      <th>month</th>\n",
       "      <th>day_of_week</th>\n",
       "      <th>...</th>\n",
       "      <th>campaign</th>\n",
       "      <th>pdays</th>\n",
       "      <th>previous</th>\n",
       "      <th>poutcome</th>\n",
       "      <th>emp.var.rate</th>\n",
       "      <th>cons.price.idx</th>\n",
       "      <th>cons.conf.idx</th>\n",
       "      <th>euribor3m</th>\n",
       "      <th>nr.employed</th>\n",
       "      <th>y</th>\n",
       "    </tr>\n",
       "  </thead>\n",
       "  <tbody>\n",
       "    <tr>\n",
       "      <th>23781</th>\n",
       "      <td>51</td>\n",
       "      <td>admin.</td>\n",
       "      <td>divorced</td>\n",
       "      <td>university.degree</td>\n",
       "      <td>unknown</td>\n",
       "      <td>no</td>\n",
       "      <td>no</td>\n",
       "      <td>cellular</td>\n",
       "      <td>aug</td>\n",
       "      <td>fri</td>\n",
       "      <td>...</td>\n",
       "      <td>1</td>\n",
       "      <td>999</td>\n",
       "      <td>0</td>\n",
       "      <td>nonexistent</td>\n",
       "      <td>1.4</td>\n",
       "      <td>93.444</td>\n",
       "      <td>-36.1</td>\n",
       "      <td>4.963</td>\n",
       "      <td>5228.1</td>\n",
       "      <td>no</td>\n",
       "    </tr>\n",
       "    <tr>\n",
       "      <th>3894</th>\n",
       "      <td>53</td>\n",
       "      <td>technician</td>\n",
       "      <td>married</td>\n",
       "      <td>high.school</td>\n",
       "      <td>no</td>\n",
       "      <td>no</td>\n",
       "      <td>yes</td>\n",
       "      <td>telephone</td>\n",
       "      <td>may</td>\n",
       "      <td>mon</td>\n",
       "      <td>...</td>\n",
       "      <td>2</td>\n",
       "      <td>999</td>\n",
       "      <td>0</td>\n",
       "      <td>nonexistent</td>\n",
       "      <td>1.1</td>\n",
       "      <td>93.994</td>\n",
       "      <td>-36.4</td>\n",
       "      <td>4.858</td>\n",
       "      <td>5191.0</td>\n",
       "      <td>no</td>\n",
       "    </tr>\n",
       "    <tr>\n",
       "      <th>4666</th>\n",
       "      <td>36</td>\n",
       "      <td>services</td>\n",
       "      <td>married</td>\n",
       "      <td>high.school</td>\n",
       "      <td>no</td>\n",
       "      <td>yes</td>\n",
       "      <td>yes</td>\n",
       "      <td>telephone</td>\n",
       "      <td>may</td>\n",
       "      <td>wed</td>\n",
       "      <td>...</td>\n",
       "      <td>1</td>\n",
       "      <td>999</td>\n",
       "      <td>0</td>\n",
       "      <td>nonexistent</td>\n",
       "      <td>1.1</td>\n",
       "      <td>93.994</td>\n",
       "      <td>-36.4</td>\n",
       "      <td>4.858</td>\n",
       "      <td>5191.0</td>\n",
       "      <td>no</td>\n",
       "    </tr>\n",
       "    <tr>\n",
       "      <th>14860</th>\n",
       "      <td>37</td>\n",
       "      <td>blue-collar</td>\n",
       "      <td>married</td>\n",
       "      <td>basic.9y</td>\n",
       "      <td>no</td>\n",
       "      <td>no</td>\n",
       "      <td>no</td>\n",
       "      <td>cellular</td>\n",
       "      <td>jul</td>\n",
       "      <td>wed</td>\n",
       "      <td>...</td>\n",
       "      <td>1</td>\n",
       "      <td>999</td>\n",
       "      <td>0</td>\n",
       "      <td>nonexistent</td>\n",
       "      <td>1.4</td>\n",
       "      <td>93.918</td>\n",
       "      <td>-42.7</td>\n",
       "      <td>4.957</td>\n",
       "      <td>5228.1</td>\n",
       "      <td>no</td>\n",
       "    </tr>\n",
       "    <tr>\n",
       "      <th>20459</th>\n",
       "      <td>38</td>\n",
       "      <td>technician</td>\n",
       "      <td>married</td>\n",
       "      <td>high.school</td>\n",
       "      <td>no</td>\n",
       "      <td>no</td>\n",
       "      <td>no</td>\n",
       "      <td>cellular</td>\n",
       "      <td>aug</td>\n",
       "      <td>tue</td>\n",
       "      <td>...</td>\n",
       "      <td>2</td>\n",
       "      <td>999</td>\n",
       "      <td>0</td>\n",
       "      <td>nonexistent</td>\n",
       "      <td>1.4</td>\n",
       "      <td>93.444</td>\n",
       "      <td>-36.1</td>\n",
       "      <td>4.966</td>\n",
       "      <td>5228.1</td>\n",
       "      <td>no</td>\n",
       "    </tr>\n",
       "  </tbody>\n",
       "</table>\n",
       "<p>5 rows × 21 columns</p>\n",
       "</div>"
      ]
     },
     "execution_count": 8,
     "metadata": {},
     "output_type": "execute_result"
    }
   ],
   "execution_count": 8
  },
  {
   "metadata": {
    "ExecuteTime": {
     "end_time": "2025-08-09T22:23:04.818570Z",
     "start_time": "2025-08-09T22:23:04.776126Z"
    }
   },
   "cell_type": "code",
   "source": [
    "y_counts = df['y'].value_counts()\n",
    "fig = px.bar(\n",
    "    y_counts,\n",
    "    y='count',\n",
    "    title=\"Those that say yes are in a minority class, suggesting an imbalanced dataset\",\n",
    "    labels={\"count\": \"Count\", 'y': 'Accepted Campaign'},\n",
    ")\n",
    "fig.show()\n",
    "fig.write_image(\"images/acceptance_count.png\")"
   ],
   "outputs": [
    {
     "data": {
      "application/vnd.plotly.v1+json": {
       "data": [
        {
         "hovertemplate": "Accepted Campaign=%{x}<br>Count=%{y}<extra></extra>",
         "legendgroup": "",
         "marker": {
          "color": "#636efa",
          "pattern": {
           "shape": ""
          }
         },
         "name": "",
         "orientation": "v",
         "showlegend": false,
         "textposition": "auto",
         "x": [
          "no",
          "yes"
         ],
         "xaxis": "x",
         "y": {
          "dtype": "i4",
          "bdata": "xI4AACASAAA="
         },
         "yaxis": "y",
         "type": "bar"
        }
       ],
       "layout": {
        "template": {
         "data": {
          "histogram2dcontour": [
           {
            "type": "histogram2dcontour",
            "colorbar": {
             "outlinewidth": 0,
             "ticks": ""
            },
            "colorscale": [
             [
              0.0,
              "#0d0887"
             ],
             [
              0.1111111111111111,
              "#46039f"
             ],
             [
              0.2222222222222222,
              "#7201a8"
             ],
             [
              0.3333333333333333,
              "#9c179e"
             ],
             [
              0.4444444444444444,
              "#bd3786"
             ],
             [
              0.5555555555555556,
              "#d8576b"
             ],
             [
              0.6666666666666666,
              "#ed7953"
             ],
             [
              0.7777777777777778,
              "#fb9f3a"
             ],
             [
              0.8888888888888888,
              "#fdca26"
             ],
             [
              1.0,
              "#f0f921"
             ]
            ]
           }
          ],
          "choropleth": [
           {
            "type": "choropleth",
            "colorbar": {
             "outlinewidth": 0,
             "ticks": ""
            }
           }
          ],
          "histogram2d": [
           {
            "type": "histogram2d",
            "colorbar": {
             "outlinewidth": 0,
             "ticks": ""
            },
            "colorscale": [
             [
              0.0,
              "#0d0887"
             ],
             [
              0.1111111111111111,
              "#46039f"
             ],
             [
              0.2222222222222222,
              "#7201a8"
             ],
             [
              0.3333333333333333,
              "#9c179e"
             ],
             [
              0.4444444444444444,
              "#bd3786"
             ],
             [
              0.5555555555555556,
              "#d8576b"
             ],
             [
              0.6666666666666666,
              "#ed7953"
             ],
             [
              0.7777777777777778,
              "#fb9f3a"
             ],
             [
              0.8888888888888888,
              "#fdca26"
             ],
             [
              1.0,
              "#f0f921"
             ]
            ]
           }
          ],
          "heatmap": [
           {
            "type": "heatmap",
            "colorbar": {
             "outlinewidth": 0,
             "ticks": ""
            },
            "colorscale": [
             [
              0.0,
              "#0d0887"
             ],
             [
              0.1111111111111111,
              "#46039f"
             ],
             [
              0.2222222222222222,
              "#7201a8"
             ],
             [
              0.3333333333333333,
              "#9c179e"
             ],
             [
              0.4444444444444444,
              "#bd3786"
             ],
             [
              0.5555555555555556,
              "#d8576b"
             ],
             [
              0.6666666666666666,
              "#ed7953"
             ],
             [
              0.7777777777777778,
              "#fb9f3a"
             ],
             [
              0.8888888888888888,
              "#fdca26"
             ],
             [
              1.0,
              "#f0f921"
             ]
            ]
           }
          ],
          "contourcarpet": [
           {
            "type": "contourcarpet",
            "colorbar": {
             "outlinewidth": 0,
             "ticks": ""
            }
           }
          ],
          "contour": [
           {
            "type": "contour",
            "colorbar": {
             "outlinewidth": 0,
             "ticks": ""
            },
            "colorscale": [
             [
              0.0,
              "#0d0887"
             ],
             [
              0.1111111111111111,
              "#46039f"
             ],
             [
              0.2222222222222222,
              "#7201a8"
             ],
             [
              0.3333333333333333,
              "#9c179e"
             ],
             [
              0.4444444444444444,
              "#bd3786"
             ],
             [
              0.5555555555555556,
              "#d8576b"
             ],
             [
              0.6666666666666666,
              "#ed7953"
             ],
             [
              0.7777777777777778,
              "#fb9f3a"
             ],
             [
              0.8888888888888888,
              "#fdca26"
             ],
             [
              1.0,
              "#f0f921"
             ]
            ]
           }
          ],
          "surface": [
           {
            "type": "surface",
            "colorbar": {
             "outlinewidth": 0,
             "ticks": ""
            },
            "colorscale": [
             [
              0.0,
              "#0d0887"
             ],
             [
              0.1111111111111111,
              "#46039f"
             ],
             [
              0.2222222222222222,
              "#7201a8"
             ],
             [
              0.3333333333333333,
              "#9c179e"
             ],
             [
              0.4444444444444444,
              "#bd3786"
             ],
             [
              0.5555555555555556,
              "#d8576b"
             ],
             [
              0.6666666666666666,
              "#ed7953"
             ],
             [
              0.7777777777777778,
              "#fb9f3a"
             ],
             [
              0.8888888888888888,
              "#fdca26"
             ],
             [
              1.0,
              "#f0f921"
             ]
            ]
           }
          ],
          "mesh3d": [
           {
            "type": "mesh3d",
            "colorbar": {
             "outlinewidth": 0,
             "ticks": ""
            }
           }
          ],
          "scatter": [
           {
            "fillpattern": {
             "fillmode": "overlay",
             "size": 10,
             "solidity": 0.2
            },
            "type": "scatter"
           }
          ],
          "parcoords": [
           {
            "type": "parcoords",
            "line": {
             "colorbar": {
              "outlinewidth": 0,
              "ticks": ""
             }
            }
           }
          ],
          "scatterpolargl": [
           {
            "type": "scatterpolargl",
            "marker": {
             "colorbar": {
              "outlinewidth": 0,
              "ticks": ""
             }
            }
           }
          ],
          "bar": [
           {
            "error_x": {
             "color": "#2a3f5f"
            },
            "error_y": {
             "color": "#2a3f5f"
            },
            "marker": {
             "line": {
              "color": "#E5ECF6",
              "width": 0.5
             },
             "pattern": {
              "fillmode": "overlay",
              "size": 10,
              "solidity": 0.2
             }
            },
            "type": "bar"
           }
          ],
          "scattergeo": [
           {
            "type": "scattergeo",
            "marker": {
             "colorbar": {
              "outlinewidth": 0,
              "ticks": ""
             }
            }
           }
          ],
          "scatterpolar": [
           {
            "type": "scatterpolar",
            "marker": {
             "colorbar": {
              "outlinewidth": 0,
              "ticks": ""
             }
            }
           }
          ],
          "histogram": [
           {
            "marker": {
             "pattern": {
              "fillmode": "overlay",
              "size": 10,
              "solidity": 0.2
             }
            },
            "type": "histogram"
           }
          ],
          "scattergl": [
           {
            "type": "scattergl",
            "marker": {
             "colorbar": {
              "outlinewidth": 0,
              "ticks": ""
             }
            }
           }
          ],
          "scatter3d": [
           {
            "type": "scatter3d",
            "line": {
             "colorbar": {
              "outlinewidth": 0,
              "ticks": ""
             }
            },
            "marker": {
             "colorbar": {
              "outlinewidth": 0,
              "ticks": ""
             }
            }
           }
          ],
          "scattermap": [
           {
            "type": "scattermap",
            "marker": {
             "colorbar": {
              "outlinewidth": 0,
              "ticks": ""
             }
            }
           }
          ],
          "scattermapbox": [
           {
            "type": "scattermapbox",
            "marker": {
             "colorbar": {
              "outlinewidth": 0,
              "ticks": ""
             }
            }
           }
          ],
          "scatterternary": [
           {
            "type": "scatterternary",
            "marker": {
             "colorbar": {
              "outlinewidth": 0,
              "ticks": ""
             }
            }
           }
          ],
          "scattercarpet": [
           {
            "type": "scattercarpet",
            "marker": {
             "colorbar": {
              "outlinewidth": 0,
              "ticks": ""
             }
            }
           }
          ],
          "carpet": [
           {
            "aaxis": {
             "endlinecolor": "#2a3f5f",
             "gridcolor": "white",
             "linecolor": "white",
             "minorgridcolor": "white",
             "startlinecolor": "#2a3f5f"
            },
            "baxis": {
             "endlinecolor": "#2a3f5f",
             "gridcolor": "white",
             "linecolor": "white",
             "minorgridcolor": "white",
             "startlinecolor": "#2a3f5f"
            },
            "type": "carpet"
           }
          ],
          "table": [
           {
            "cells": {
             "fill": {
              "color": "#EBF0F8"
             },
             "line": {
              "color": "white"
             }
            },
            "header": {
             "fill": {
              "color": "#C8D4E3"
             },
             "line": {
              "color": "white"
             }
            },
            "type": "table"
           }
          ],
          "barpolar": [
           {
            "marker": {
             "line": {
              "color": "#E5ECF6",
              "width": 0.5
             },
             "pattern": {
              "fillmode": "overlay",
              "size": 10,
              "solidity": 0.2
             }
            },
            "type": "barpolar"
           }
          ],
          "pie": [
           {
            "automargin": true,
            "type": "pie"
           }
          ]
         },
         "layout": {
          "autotypenumbers": "strict",
          "colorway": [
           "#636efa",
           "#EF553B",
           "#00cc96",
           "#ab63fa",
           "#FFA15A",
           "#19d3f3",
           "#FF6692",
           "#B6E880",
           "#FF97FF",
           "#FECB52"
          ],
          "font": {
           "color": "#2a3f5f"
          },
          "hovermode": "closest",
          "hoverlabel": {
           "align": "left"
          },
          "paper_bgcolor": "white",
          "plot_bgcolor": "#E5ECF6",
          "polar": {
           "bgcolor": "#E5ECF6",
           "angularaxis": {
            "gridcolor": "white",
            "linecolor": "white",
            "ticks": ""
           },
           "radialaxis": {
            "gridcolor": "white",
            "linecolor": "white",
            "ticks": ""
           }
          },
          "ternary": {
           "bgcolor": "#E5ECF6",
           "aaxis": {
            "gridcolor": "white",
            "linecolor": "white",
            "ticks": ""
           },
           "baxis": {
            "gridcolor": "white",
            "linecolor": "white",
            "ticks": ""
           },
           "caxis": {
            "gridcolor": "white",
            "linecolor": "white",
            "ticks": ""
           }
          },
          "coloraxis": {
           "colorbar": {
            "outlinewidth": 0,
            "ticks": ""
           }
          },
          "colorscale": {
           "sequential": [
            [
             0.0,
             "#0d0887"
            ],
            [
             0.1111111111111111,
             "#46039f"
            ],
            [
             0.2222222222222222,
             "#7201a8"
            ],
            [
             0.3333333333333333,
             "#9c179e"
            ],
            [
             0.4444444444444444,
             "#bd3786"
            ],
            [
             0.5555555555555556,
             "#d8576b"
            ],
            [
             0.6666666666666666,
             "#ed7953"
            ],
            [
             0.7777777777777778,
             "#fb9f3a"
            ],
            [
             0.8888888888888888,
             "#fdca26"
            ],
            [
             1.0,
             "#f0f921"
            ]
           ],
           "sequentialminus": [
            [
             0.0,
             "#0d0887"
            ],
            [
             0.1111111111111111,
             "#46039f"
            ],
            [
             0.2222222222222222,
             "#7201a8"
            ],
            [
             0.3333333333333333,
             "#9c179e"
            ],
            [
             0.4444444444444444,
             "#bd3786"
            ],
            [
             0.5555555555555556,
             "#d8576b"
            ],
            [
             0.6666666666666666,
             "#ed7953"
            ],
            [
             0.7777777777777778,
             "#fb9f3a"
            ],
            [
             0.8888888888888888,
             "#fdca26"
            ],
            [
             1.0,
             "#f0f921"
            ]
           ],
           "diverging": [
            [
             0,
             "#8e0152"
            ],
            [
             0.1,
             "#c51b7d"
            ],
            [
             0.2,
             "#de77ae"
            ],
            [
             0.3,
             "#f1b6da"
            ],
            [
             0.4,
             "#fde0ef"
            ],
            [
             0.5,
             "#f7f7f7"
            ],
            [
             0.6,
             "#e6f5d0"
            ],
            [
             0.7,
             "#b8e186"
            ],
            [
             0.8,
             "#7fbc41"
            ],
            [
             0.9,
             "#4d9221"
            ],
            [
             1,
             "#276419"
            ]
           ]
          },
          "xaxis": {
           "gridcolor": "white",
           "linecolor": "white",
           "ticks": "",
           "title": {
            "standoff": 15
           },
           "zerolinecolor": "white",
           "automargin": true,
           "zerolinewidth": 2
          },
          "yaxis": {
           "gridcolor": "white",
           "linecolor": "white",
           "ticks": "",
           "title": {
            "standoff": 15
           },
           "zerolinecolor": "white",
           "automargin": true,
           "zerolinewidth": 2
          },
          "scene": {
           "xaxis": {
            "backgroundcolor": "#E5ECF6",
            "gridcolor": "white",
            "linecolor": "white",
            "showbackground": true,
            "ticks": "",
            "zerolinecolor": "white",
            "gridwidth": 2
           },
           "yaxis": {
            "backgroundcolor": "#E5ECF6",
            "gridcolor": "white",
            "linecolor": "white",
            "showbackground": true,
            "ticks": "",
            "zerolinecolor": "white",
            "gridwidth": 2
           },
           "zaxis": {
            "backgroundcolor": "#E5ECF6",
            "gridcolor": "white",
            "linecolor": "white",
            "showbackground": true,
            "ticks": "",
            "zerolinecolor": "white",
            "gridwidth": 2
           }
          },
          "shapedefaults": {
           "line": {
            "color": "#2a3f5f"
           }
          },
          "annotationdefaults": {
           "arrowcolor": "#2a3f5f",
           "arrowhead": 0,
           "arrowwidth": 1
          },
          "geo": {
           "bgcolor": "white",
           "landcolor": "#E5ECF6",
           "subunitcolor": "white",
           "showland": true,
           "showlakes": true,
           "lakecolor": "white"
          },
          "title": {
           "x": 0.05
          },
          "mapbox": {
           "style": "light"
          }
         }
        },
        "xaxis": {
         "anchor": "y",
         "domain": [
          0.0,
          1.0
         ],
         "title": {
          "text": "Accepted Campaign"
         }
        },
        "yaxis": {
         "anchor": "x",
         "domain": [
          0.0,
          1.0
         ],
         "title": {
          "text": "Count"
         }
        },
        "legend": {
         "tracegroupgap": 0
        },
        "title": {
         "text": "Those that say yes are in a minority class, suggesting an imbalanced dataset"
        },
        "barmode": "relative"
       },
       "config": {
        "plotlyServerURL": "https://plot.ly"
       }
      }
     },
     "metadata": {},
     "output_type": "display_data"
    }
   ],
   "execution_count": 24
  },
  {
   "metadata": {
    "ExecuteTime": {
     "end_time": "2025-08-10T01:43:17.072726Z",
     "start_time": "2025-08-10T01:43:16.952549Z"
    }
   },
   "cell_type": "code",
   "source": [
    "fig = px.box(\n",
    "    df,\n",
    "    y='age',\n",
    "    title=\"Most potential calls are towards people aged 32-47\",\n",
    "    labels={\"age\": \"Age\"},\n",
    ")\n",
    "fig.show()\n",
    "fig.write_image(\"images/age_box.png\")"
   ],
   "outputs": [
    {
     "data": {
      "application/vnd.plotly.v1+json": {
       "data": [
        {
         "alignmentgroup": "True",
         "hovertemplate": "Age=%{y}<extra></extra>",
         "legendgroup": "",
         "marker": {
          "color": "#636efa"
         },
         "name": "",
         "notched": false,
         "offsetgroup": "",
         "orientation": "v",
         "showlegend": false,
         "x0": " ",
         "xaxis": "x",
         "y": {
          "dtype": "i1",
          "bdata": "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"
         },
         "y0": " ",
         "yaxis": "y",
         "type": "box"
        }
       ],
       "layout": {
        "template": {
         "data": {
          "histogram2dcontour": [
           {
            "type": "histogram2dcontour",
            "colorbar": {
             "outlinewidth": 0,
             "ticks": ""
            },
            "colorscale": [
             [
              0.0,
              "#0d0887"
             ],
             [
              0.1111111111111111,
              "#46039f"
             ],
             [
              0.2222222222222222,
              "#7201a8"
             ],
             [
              0.3333333333333333,
              "#9c179e"
             ],
             [
              0.4444444444444444,
              "#bd3786"
             ],
             [
              0.5555555555555556,
              "#d8576b"
             ],
             [
              0.6666666666666666,
              "#ed7953"
             ],
             [
              0.7777777777777778,
              "#fb9f3a"
             ],
             [
              0.8888888888888888,
              "#fdca26"
             ],
             [
              1.0,
              "#f0f921"
             ]
            ]
           }
          ],
          "choropleth": [
           {
            "type": "choropleth",
            "colorbar": {
             "outlinewidth": 0,
             "ticks": ""
            }
           }
          ],
          "histogram2d": [
           {
            "type": "histogram2d",
            "colorbar": {
             "outlinewidth": 0,
             "ticks": ""
            },
            "colorscale": [
             [
              0.0,
              "#0d0887"
             ],
             [
              0.1111111111111111,
              "#46039f"
             ],
             [
              0.2222222222222222,
              "#7201a8"
             ],
             [
              0.3333333333333333,
              "#9c179e"
             ],
             [
              0.4444444444444444,
              "#bd3786"
             ],
             [
              0.5555555555555556,
              "#d8576b"
             ],
             [
              0.6666666666666666,
              "#ed7953"
             ],
             [
              0.7777777777777778,
              "#fb9f3a"
             ],
             [
              0.8888888888888888,
              "#fdca26"
             ],
             [
              1.0,
              "#f0f921"
             ]
            ]
           }
          ],
          "heatmap": [
           {
            "type": "heatmap",
            "colorbar": {
             "outlinewidth": 0,
             "ticks": ""
            },
            "colorscale": [
             [
              0.0,
              "#0d0887"
             ],
             [
              0.1111111111111111,
              "#46039f"
             ],
             [
              0.2222222222222222,
              "#7201a8"
             ],
             [
              0.3333333333333333,
              "#9c179e"
             ],
             [
              0.4444444444444444,
              "#bd3786"
             ],
             [
              0.5555555555555556,
              "#d8576b"
             ],
             [
              0.6666666666666666,
              "#ed7953"
             ],
             [
              0.7777777777777778,
              "#fb9f3a"
             ],
             [
              0.8888888888888888,
              "#fdca26"
             ],
             [
              1.0,
              "#f0f921"
             ]
            ]
           }
          ],
          "contourcarpet": [
           {
            "type": "contourcarpet",
            "colorbar": {
             "outlinewidth": 0,
             "ticks": ""
            }
           }
          ],
          "contour": [
           {
            "type": "contour",
            "colorbar": {
             "outlinewidth": 0,
             "ticks": ""
            },
            "colorscale": [
             [
              0.0,
              "#0d0887"
             ],
             [
              0.1111111111111111,
              "#46039f"
             ],
             [
              0.2222222222222222,
              "#7201a8"
             ],
             [
              0.3333333333333333,
              "#9c179e"
             ],
             [
              0.4444444444444444,
              "#bd3786"
             ],
             [
              0.5555555555555556,
              "#d8576b"
             ],
             [
              0.6666666666666666,
              "#ed7953"
             ],
             [
              0.7777777777777778,
              "#fb9f3a"
             ],
             [
              0.8888888888888888,
              "#fdca26"
             ],
             [
              1.0,
              "#f0f921"
             ]
            ]
           }
          ],
          "surface": [
           {
            "type": "surface",
            "colorbar": {
             "outlinewidth": 0,
             "ticks": ""
            },
            "colorscale": [
             [
              0.0,
              "#0d0887"
             ],
             [
              0.1111111111111111,
              "#46039f"
             ],
             [
              0.2222222222222222,
              "#7201a8"
             ],
             [
              0.3333333333333333,
              "#9c179e"
             ],
             [
              0.4444444444444444,
              "#bd3786"
             ],
             [
              0.5555555555555556,
              "#d8576b"
             ],
             [
              0.6666666666666666,
              "#ed7953"
             ],
             [
              0.7777777777777778,
              "#fb9f3a"
             ],
             [
              0.8888888888888888,
              "#fdca26"
             ],
             [
              1.0,
              "#f0f921"
             ]
            ]
           }
          ],
          "mesh3d": [
           {
            "type": "mesh3d",
            "colorbar": {
             "outlinewidth": 0,
             "ticks": ""
            }
           }
          ],
          "scatter": [
           {
            "fillpattern": {
             "fillmode": "overlay",
             "size": 10,
             "solidity": 0.2
            },
            "type": "scatter"
           }
          ],
          "parcoords": [
           {
            "type": "parcoords",
            "line": {
             "colorbar": {
              "outlinewidth": 0,
              "ticks": ""
             }
            }
           }
          ],
          "scatterpolargl": [
           {
            "type": "scatterpolargl",
            "marker": {
             "colorbar": {
              "outlinewidth": 0,
              "ticks": ""
             }
            }
           }
          ],
          "bar": [
           {
            "error_x": {
             "color": "#2a3f5f"
            },
            "error_y": {
             "color": "#2a3f5f"
            },
            "marker": {
             "line": {
              "color": "#E5ECF6",
              "width": 0.5
             },
             "pattern": {
              "fillmode": "overlay",
              "size": 10,
              "solidity": 0.2
             }
            },
            "type": "bar"
           }
          ],
          "scattergeo": [
           {
            "type": "scattergeo",
            "marker": {
             "colorbar": {
              "outlinewidth": 0,
              "ticks": ""
             }
            }
           }
          ],
          "scatterpolar": [
           {
            "type": "scatterpolar",
            "marker": {
             "colorbar": {
              "outlinewidth": 0,
              "ticks": ""
             }
            }
           }
          ],
          "histogram": [
           {
            "marker": {
             "pattern": {
              "fillmode": "overlay",
              "size": 10,
              "solidity": 0.2
             }
            },
            "type": "histogram"
           }
          ],
          "scattergl": [
           {
            "type": "scattergl",
            "marker": {
             "colorbar": {
              "outlinewidth": 0,
              "ticks": ""
             }
            }
           }
          ],
          "scatter3d": [
           {
            "type": "scatter3d",
            "line": {
             "colorbar": {
              "outlinewidth": 0,
              "ticks": ""
             }
            },
            "marker": {
             "colorbar": {
              "outlinewidth": 0,
              "ticks": ""
             }
            }
           }
          ],
          "scattermap": [
           {
            "type": "scattermap",
            "marker": {
             "colorbar": {
              "outlinewidth": 0,
              "ticks": ""
             }
            }
           }
          ],
          "scattermapbox": [
           {
            "type": "scattermapbox",
            "marker": {
             "colorbar": {
              "outlinewidth": 0,
              "ticks": ""
             }
            }
           }
          ],
          "scatterternary": [
           {
            "type": "scatterternary",
            "marker": {
             "colorbar": {
              "outlinewidth": 0,
              "ticks": ""
             }
            }
           }
          ],
          "scattercarpet": [
           {
            "type": "scattercarpet",
            "marker": {
             "colorbar": {
              "outlinewidth": 0,
              "ticks": ""
             }
            }
           }
          ],
          "carpet": [
           {
            "aaxis": {
             "endlinecolor": "#2a3f5f",
             "gridcolor": "white",
             "linecolor": "white",
             "minorgridcolor": "white",
             "startlinecolor": "#2a3f5f"
            },
            "baxis": {
             "endlinecolor": "#2a3f5f",
             "gridcolor": "white",
             "linecolor": "white",
             "minorgridcolor": "white",
             "startlinecolor": "#2a3f5f"
            },
            "type": "carpet"
           }
          ],
          "table": [
           {
            "cells": {
             "fill": {
              "color": "#EBF0F8"
             },
             "line": {
              "color": "white"
             }
            },
            "header": {
             "fill": {
              "color": "#C8D4E3"
             },
             "line": {
              "color": "white"
             }
            },
            "type": "table"
           }
          ],
          "barpolar": [
           {
            "marker": {
             "line": {
              "color": "#E5ECF6",
              "width": 0.5
             },
             "pattern": {
              "fillmode": "overlay",
              "size": 10,
              "solidity": 0.2
             }
            },
            "type": "barpolar"
           }
          ],
          "pie": [
           {
            "automargin": true,
            "type": "pie"
           }
          ]
         },
         "layout": {
          "autotypenumbers": "strict",
          "colorway": [
           "#636efa",
           "#EF553B",
           "#00cc96",
           "#ab63fa",
           "#FFA15A",
           "#19d3f3",
           "#FF6692",
           "#B6E880",
           "#FF97FF",
           "#FECB52"
          ],
          "font": {
           "color": "#2a3f5f"
          },
          "hovermode": "closest",
          "hoverlabel": {
           "align": "left"
          },
          "paper_bgcolor": "white",
          "plot_bgcolor": "#E5ECF6",
          "polar": {
           "bgcolor": "#E5ECF6",
           "angularaxis": {
            "gridcolor": "white",
            "linecolor": "white",
            "ticks": ""
           },
           "radialaxis": {
            "gridcolor": "white",
            "linecolor": "white",
            "ticks": ""
           }
          },
          "ternary": {
           "bgcolor": "#E5ECF6",
           "aaxis": {
            "gridcolor": "white",
            "linecolor": "white",
            "ticks": ""
           },
           "baxis": {
            "gridcolor": "white",
            "linecolor": "white",
            "ticks": ""
           },
           "caxis": {
            "gridcolor": "white",
            "linecolor": "white",
            "ticks": ""
           }
          },
          "coloraxis": {
           "colorbar": {
            "outlinewidth": 0,
            "ticks": ""
           }
          },
          "colorscale": {
           "sequential": [
            [
             0.0,
             "#0d0887"
            ],
            [
             0.1111111111111111,
             "#46039f"
            ],
            [
             0.2222222222222222,
             "#7201a8"
            ],
            [
             0.3333333333333333,
             "#9c179e"
            ],
            [
             0.4444444444444444,
             "#bd3786"
            ],
            [
             0.5555555555555556,
             "#d8576b"
            ],
            [
             0.6666666666666666,
             "#ed7953"
            ],
            [
             0.7777777777777778,
             "#fb9f3a"
            ],
            [
             0.8888888888888888,
             "#fdca26"
            ],
            [
             1.0,
             "#f0f921"
            ]
           ],
           "sequentialminus": [
            [
             0.0,
             "#0d0887"
            ],
            [
             0.1111111111111111,
             "#46039f"
            ],
            [
             0.2222222222222222,
             "#7201a8"
            ],
            [
             0.3333333333333333,
             "#9c179e"
            ],
            [
             0.4444444444444444,
             "#bd3786"
            ],
            [
             0.5555555555555556,
             "#d8576b"
            ],
            [
             0.6666666666666666,
             "#ed7953"
            ],
            [
             0.7777777777777778,
             "#fb9f3a"
            ],
            [
             0.8888888888888888,
             "#fdca26"
            ],
            [
             1.0,
             "#f0f921"
            ]
           ],
           "diverging": [
            [
             0,
             "#8e0152"
            ],
            [
             0.1,
             "#c51b7d"
            ],
            [
             0.2,
             "#de77ae"
            ],
            [
             0.3,
             "#f1b6da"
            ],
            [
             0.4,
             "#fde0ef"
            ],
            [
             0.5,
             "#f7f7f7"
            ],
            [
             0.6,
             "#e6f5d0"
            ],
            [
             0.7,
             "#b8e186"
            ],
            [
             0.8,
             "#7fbc41"
            ],
            [
             0.9,
             "#4d9221"
            ],
            [
             1,
             "#276419"
            ]
           ]
          },
          "xaxis": {
           "gridcolor": "white",
           "linecolor": "white",
           "ticks": "",
           "title": {
            "standoff": 15
           },
           "zerolinecolor": "white",
           "automargin": true,
           "zerolinewidth": 2
          },
          "yaxis": {
           "gridcolor": "white",
           "linecolor": "white",
           "ticks": "",
           "title": {
            "standoff": 15
           },
           "zerolinecolor": "white",
           "automargin": true,
           "zerolinewidth": 2
          },
          "scene": {
           "xaxis": {
            "backgroundcolor": "#E5ECF6",
            "gridcolor": "white",
            "linecolor": "white",
            "showbackground": true,
            "ticks": "",
            "zerolinecolor": "white",
            "gridwidth": 2
           },
           "yaxis": {
            "backgroundcolor": "#E5ECF6",
            "gridcolor": "white",
            "linecolor": "white",
            "showbackground": true,
            "ticks": "",
            "zerolinecolor": "white",
            "gridwidth": 2
           },
           "zaxis": {
            "backgroundcolor": "#E5ECF6",
            "gridcolor": "white",
            "linecolor": "white",
            "showbackground": true,
            "ticks": "",
            "zerolinecolor": "white",
            "gridwidth": 2
           }
          },
          "shapedefaults": {
           "line": {
            "color": "#2a3f5f"
           }
          },
          "annotationdefaults": {
           "arrowcolor": "#2a3f5f",
           "arrowhead": 0,
           "arrowwidth": 1
          },
          "geo": {
           "bgcolor": "white",
           "landcolor": "#E5ECF6",
           "subunitcolor": "white",
           "showland": true,
           "showlakes": true,
           "lakecolor": "white"
          },
          "title": {
           "x": 0.05
          },
          "mapbox": {
           "style": "light"
          }
         }
        },
        "xaxis": {
         "anchor": "y",
         "domain": [
          0.0,
          1.0
         ]
        },
        "yaxis": {
         "anchor": "x",
         "domain": [
          0.0,
          1.0
         ],
         "title": {
          "text": "Age"
         }
        },
        "legend": {
         "tracegroupgap": 0
        },
        "title": {
         "text": "Most potential calls are towards people aged 32-47"
        },
        "boxmode": "group"
       },
       "config": {
        "plotlyServerURL": "https://plot.ly"
       }
      }
     },
     "metadata": {},
     "output_type": "display_data"
    }
   ],
   "execution_count": 85
  },
  {
   "metadata": {
    "ExecuteTime": {
     "end_time": "2025-08-09T22:15:01.364695Z",
     "start_time": "2025-08-09T22:15:01.312739Z"
    }
   },
   "cell_type": "code",
   "outputs": [
    {
     "data": {
      "text/plain": [
       "       job                      marital                        education  \\\n",
       "     count unique     top  freq   count unique      top   freq     count   \n",
       "y                                                                          \n",
       "no   36548     12  admin.  9070   36548      4  married  22396     36548   \n",
       "yes   4640     12  admin.  1352    4640      4  married   2532      4640   \n",
       "\n",
       "            ... month        day_of_week                   poutcome         \\\n",
       "    unique  ...   top   freq       count unique  top  freq    count unique   \n",
       "y           ...                                                              \n",
       "no       8  ...   may  12883       36548      5  mon  7667    36548      3   \n",
       "yes      8  ...   may    886        4640      5  thu  1045     4640      3   \n",
       "\n",
       "                         \n",
       "             top   freq  \n",
       "y                        \n",
       "no   nonexistent  32422  \n",
       "yes  nonexistent   3141  \n",
       "\n",
       "[2 rows x 40 columns]"
      ],
      "text/html": [
       "<div>\n",
       "<style scoped>\n",
       "    .dataframe tbody tr th:only-of-type {\n",
       "        vertical-align: middle;\n",
       "    }\n",
       "\n",
       "    .dataframe tbody tr th {\n",
       "        vertical-align: top;\n",
       "    }\n",
       "\n",
       "    .dataframe thead tr th {\n",
       "        text-align: left;\n",
       "    }\n",
       "\n",
       "    .dataframe thead tr:last-of-type th {\n",
       "        text-align: right;\n",
       "    }\n",
       "</style>\n",
       "<table border=\"1\" class=\"dataframe\">\n",
       "  <thead>\n",
       "    <tr>\n",
       "      <th></th>\n",
       "      <th colspan=\"4\" halign=\"left\">job</th>\n",
       "      <th colspan=\"4\" halign=\"left\">marital</th>\n",
       "      <th colspan=\"2\" halign=\"left\">education</th>\n",
       "      <th>...</th>\n",
       "      <th colspan=\"2\" halign=\"left\">month</th>\n",
       "      <th colspan=\"4\" halign=\"left\">day_of_week</th>\n",
       "      <th colspan=\"4\" halign=\"left\">poutcome</th>\n",
       "    </tr>\n",
       "    <tr>\n",
       "      <th></th>\n",
       "      <th>count</th>\n",
       "      <th>unique</th>\n",
       "      <th>top</th>\n",
       "      <th>freq</th>\n",
       "      <th>count</th>\n",
       "      <th>unique</th>\n",
       "      <th>top</th>\n",
       "      <th>freq</th>\n",
       "      <th>count</th>\n",
       "      <th>unique</th>\n",
       "      <th>...</th>\n",
       "      <th>top</th>\n",
       "      <th>freq</th>\n",
       "      <th>count</th>\n",
       "      <th>unique</th>\n",
       "      <th>top</th>\n",
       "      <th>freq</th>\n",
       "      <th>count</th>\n",
       "      <th>unique</th>\n",
       "      <th>top</th>\n",
       "      <th>freq</th>\n",
       "    </tr>\n",
       "    <tr>\n",
       "      <th>y</th>\n",
       "      <th></th>\n",
       "      <th></th>\n",
       "      <th></th>\n",
       "      <th></th>\n",
       "      <th></th>\n",
       "      <th></th>\n",
       "      <th></th>\n",
       "      <th></th>\n",
       "      <th></th>\n",
       "      <th></th>\n",
       "      <th></th>\n",
       "      <th></th>\n",
       "      <th></th>\n",
       "      <th></th>\n",
       "      <th></th>\n",
       "      <th></th>\n",
       "      <th></th>\n",
       "      <th></th>\n",
       "      <th></th>\n",
       "      <th></th>\n",
       "      <th></th>\n",
       "    </tr>\n",
       "  </thead>\n",
       "  <tbody>\n",
       "    <tr>\n",
       "      <th>no</th>\n",
       "      <td>36548</td>\n",
       "      <td>12</td>\n",
       "      <td>admin.</td>\n",
       "      <td>9070</td>\n",
       "      <td>36548</td>\n",
       "      <td>4</td>\n",
       "      <td>married</td>\n",
       "      <td>22396</td>\n",
       "      <td>36548</td>\n",
       "      <td>8</td>\n",
       "      <td>...</td>\n",
       "      <td>may</td>\n",
       "      <td>12883</td>\n",
       "      <td>36548</td>\n",
       "      <td>5</td>\n",
       "      <td>mon</td>\n",
       "      <td>7667</td>\n",
       "      <td>36548</td>\n",
       "      <td>3</td>\n",
       "      <td>nonexistent</td>\n",
       "      <td>32422</td>\n",
       "    </tr>\n",
       "    <tr>\n",
       "      <th>yes</th>\n",
       "      <td>4640</td>\n",
       "      <td>12</td>\n",
       "      <td>admin.</td>\n",
       "      <td>1352</td>\n",
       "      <td>4640</td>\n",
       "      <td>4</td>\n",
       "      <td>married</td>\n",
       "      <td>2532</td>\n",
       "      <td>4640</td>\n",
       "      <td>8</td>\n",
       "      <td>...</td>\n",
       "      <td>may</td>\n",
       "      <td>886</td>\n",
       "      <td>4640</td>\n",
       "      <td>5</td>\n",
       "      <td>thu</td>\n",
       "      <td>1045</td>\n",
       "      <td>4640</td>\n",
       "      <td>3</td>\n",
       "      <td>nonexistent</td>\n",
       "      <td>3141</td>\n",
       "    </tr>\n",
       "  </tbody>\n",
       "</table>\n",
       "<p>2 rows × 40 columns</p>\n",
       "</div>"
      ]
     },
     "execution_count": 19,
     "metadata": {},
     "output_type": "execute_result"
    }
   ],
   "execution_count": 19,
   "source": [
    "# Store commonly used group by\n",
    "by_y_df = df.groupby('y')\n",
    "by_y_df.describe(include=\"object\")"
   ]
  },
  {
   "metadata": {
    "ExecuteTime": {
     "end_time": "2025-08-09T22:00:46.574724Z",
     "start_time": "2025-08-09T22:00:44.538585Z"
    }
   },
   "cell_type": "code",
   "source": [
    "# Ratio calculation, this should be a better metric to track over counts\n",
    "job_ratio = (by_y_df['job'].value_counts() / df['job'].value_counts()).reset_index()\n",
    "fig = px.bar(\n",
    "    job_ratio.sort_values(by='count'),\n",
    "    x='job',\n",
    "    y='count',\n",
    "    color='y',\n",
    "    title=\"Students and retirees are more likely to accept campaign\",\n",
    "    labels={\"job\": \"Job\", \"count\": \"Ratio accepting campaign\", 'y': 'Accepted Campaign'},\n",
    ")\n",
    "fig.show()\n",
    "fig.write_image(\"images/job_acceptance_ratio.png\")"
   ],
   "outputs": [
    {
     "name": "stderr",
     "output_type": "stream",
     "text": [
      "/bin/bash: warning: setlocale: LC_ALL: cannot change locale (en_US.UTF-8)\n"
     ]
    },
    {
     "data": {
      "application/vnd.plotly.v1+json": {
       "data": [
        {
         "hovertemplate": "Accepted Campaign=yes<br>Job=%{x}<br>Ratio accepting campaign=%{y}<extra></extra>",
         "legendgroup": "yes",
         "marker": {
          "color": "#636efa",
          "pattern": {
           "shape": ""
          }
         },
         "name": "yes",
         "orientation": "v",
         "showlegend": true,
         "textposition": "auto",
         "x": [
          "blue-collar",
          "services",
          "entrepreneur",
          "housemaid",
          "self-employed",
          "technician",
          "unknown",
          "management",
          "admin.",
          "unemployed",
          "retired",
          "student"
         ],
         "xaxis": "x",
         "y": {
          "dtype": "f8",
          "bdata": "RvNBSEKmsT8Zft2WXdW0P9ZczdVczbU/mpmZmZmZuT86rFRS09e6P89pq2v0trs/tJw/y/mzvD9qwxbtgbe8P4dm2wrZmsA/Jg8GnHEtwj+jYQIyGibQP9RBHdRBHdQ/"
         },
         "yaxis": "y",
         "type": "bar"
        },
        {
         "hovertemplate": "Accepted Campaign=no<br>Job=%{x}<br>Ratio accepting campaign=%{y}<extra></extra>",
         "legendgroup": "no",
         "marker": {
          "color": "#EF553B",
          "pattern": {
           "shape": ""
          }
         },
         "name": "no",
         "orientation": "v",
         "showlegend": true,
         "textposition": "auto",
         "x": [
          "student",
          "retired",
          "unemployed",
          "admin.",
          "management",
          "unknown",
          "technician",
          "self-employed",
          "housemaid",
          "entrepreneur",
          "services",
          "blue-collar"
         ],
         "xaxis": "x",
         "y": {
          "dtype": "f8",
          "bdata": "Fl/xFV/x5T8uz/7m8uznPzd8/pijdOs/XiZJvUnZ6z+TJ13CD2nsP2oMmMaAaew/xpKKciGJ7D95arWVBaXsP83MzMzMzOw/ZVRGZVRG7T89UCRNVGXtP5fB97Y3y+0/"
         },
         "yaxis": "y",
         "type": "bar"
        }
       ],
       "layout": {
        "template": {
         "data": {
          "histogram2dcontour": [
           {
            "type": "histogram2dcontour",
            "colorbar": {
             "outlinewidth": 0,
             "ticks": ""
            },
            "colorscale": [
             [
              0.0,
              "#0d0887"
             ],
             [
              0.1111111111111111,
              "#46039f"
             ],
             [
              0.2222222222222222,
              "#7201a8"
             ],
             [
              0.3333333333333333,
              "#9c179e"
             ],
             [
              0.4444444444444444,
              "#bd3786"
             ],
             [
              0.5555555555555556,
              "#d8576b"
             ],
             [
              0.6666666666666666,
              "#ed7953"
             ],
             [
              0.7777777777777778,
              "#fb9f3a"
             ],
             [
              0.8888888888888888,
              "#fdca26"
             ],
             [
              1.0,
              "#f0f921"
             ]
            ]
           }
          ],
          "choropleth": [
           {
            "type": "choropleth",
            "colorbar": {
             "outlinewidth": 0,
             "ticks": ""
            }
           }
          ],
          "histogram2d": [
           {
            "type": "histogram2d",
            "colorbar": {
             "outlinewidth": 0,
             "ticks": ""
            },
            "colorscale": [
             [
              0.0,
              "#0d0887"
             ],
             [
              0.1111111111111111,
              "#46039f"
             ],
             [
              0.2222222222222222,
              "#7201a8"
             ],
             [
              0.3333333333333333,
              "#9c179e"
             ],
             [
              0.4444444444444444,
              "#bd3786"
             ],
             [
              0.5555555555555556,
              "#d8576b"
             ],
             [
              0.6666666666666666,
              "#ed7953"
             ],
             [
              0.7777777777777778,
              "#fb9f3a"
             ],
             [
              0.8888888888888888,
              "#fdca26"
             ],
             [
              1.0,
              "#f0f921"
             ]
            ]
           }
          ],
          "heatmap": [
           {
            "type": "heatmap",
            "colorbar": {
             "outlinewidth": 0,
             "ticks": ""
            },
            "colorscale": [
             [
              0.0,
              "#0d0887"
             ],
             [
              0.1111111111111111,
              "#46039f"
             ],
             [
              0.2222222222222222,
              "#7201a8"
             ],
             [
              0.3333333333333333,
              "#9c179e"
             ],
             [
              0.4444444444444444,
              "#bd3786"
             ],
             [
              0.5555555555555556,
              "#d8576b"
             ],
             [
              0.6666666666666666,
              "#ed7953"
             ],
             [
              0.7777777777777778,
              "#fb9f3a"
             ],
             [
              0.8888888888888888,
              "#fdca26"
             ],
             [
              1.0,
              "#f0f921"
             ]
            ]
           }
          ],
          "contourcarpet": [
           {
            "type": "contourcarpet",
            "colorbar": {
             "outlinewidth": 0,
             "ticks": ""
            }
           }
          ],
          "contour": [
           {
            "type": "contour",
            "colorbar": {
             "outlinewidth": 0,
             "ticks": ""
            },
            "colorscale": [
             [
              0.0,
              "#0d0887"
             ],
             [
              0.1111111111111111,
              "#46039f"
             ],
             [
              0.2222222222222222,
              "#7201a8"
             ],
             [
              0.3333333333333333,
              "#9c179e"
             ],
             [
              0.4444444444444444,
              "#bd3786"
             ],
             [
              0.5555555555555556,
              "#d8576b"
             ],
             [
              0.6666666666666666,
              "#ed7953"
             ],
             [
              0.7777777777777778,
              "#fb9f3a"
             ],
             [
              0.8888888888888888,
              "#fdca26"
             ],
             [
              1.0,
              "#f0f921"
             ]
            ]
           }
          ],
          "surface": [
           {
            "type": "surface",
            "colorbar": {
             "outlinewidth": 0,
             "ticks": ""
            },
            "colorscale": [
             [
              0.0,
              "#0d0887"
             ],
             [
              0.1111111111111111,
              "#46039f"
             ],
             [
              0.2222222222222222,
              "#7201a8"
             ],
             [
              0.3333333333333333,
              "#9c179e"
             ],
             [
              0.4444444444444444,
              "#bd3786"
             ],
             [
              0.5555555555555556,
              "#d8576b"
             ],
             [
              0.6666666666666666,
              "#ed7953"
             ],
             [
              0.7777777777777778,
              "#fb9f3a"
             ],
             [
              0.8888888888888888,
              "#fdca26"
             ],
             [
              1.0,
              "#f0f921"
             ]
            ]
           }
          ],
          "mesh3d": [
           {
            "type": "mesh3d",
            "colorbar": {
             "outlinewidth": 0,
             "ticks": ""
            }
           }
          ],
          "scatter": [
           {
            "fillpattern": {
             "fillmode": "overlay",
             "size": 10,
             "solidity": 0.2
            },
            "type": "scatter"
           }
          ],
          "parcoords": [
           {
            "type": "parcoords",
            "line": {
             "colorbar": {
              "outlinewidth": 0,
              "ticks": ""
             }
            }
           }
          ],
          "scatterpolargl": [
           {
            "type": "scatterpolargl",
            "marker": {
             "colorbar": {
              "outlinewidth": 0,
              "ticks": ""
             }
            }
           }
          ],
          "bar": [
           {
            "error_x": {
             "color": "#2a3f5f"
            },
            "error_y": {
             "color": "#2a3f5f"
            },
            "marker": {
             "line": {
              "color": "#E5ECF6",
              "width": 0.5
             },
             "pattern": {
              "fillmode": "overlay",
              "size": 10,
              "solidity": 0.2
             }
            },
            "type": "bar"
           }
          ],
          "scattergeo": [
           {
            "type": "scattergeo",
            "marker": {
             "colorbar": {
              "outlinewidth": 0,
              "ticks": ""
             }
            }
           }
          ],
          "scatterpolar": [
           {
            "type": "scatterpolar",
            "marker": {
             "colorbar": {
              "outlinewidth": 0,
              "ticks": ""
             }
            }
           }
          ],
          "histogram": [
           {
            "marker": {
             "pattern": {
              "fillmode": "overlay",
              "size": 10,
              "solidity": 0.2
             }
            },
            "type": "histogram"
           }
          ],
          "scattergl": [
           {
            "type": "scattergl",
            "marker": {
             "colorbar": {
              "outlinewidth": 0,
              "ticks": ""
             }
            }
           }
          ],
          "scatter3d": [
           {
            "type": "scatter3d",
            "line": {
             "colorbar": {
              "outlinewidth": 0,
              "ticks": ""
             }
            },
            "marker": {
             "colorbar": {
              "outlinewidth": 0,
              "ticks": ""
             }
            }
           }
          ],
          "scattermap": [
           {
            "type": "scattermap",
            "marker": {
             "colorbar": {
              "outlinewidth": 0,
              "ticks": ""
             }
            }
           }
          ],
          "scattermapbox": [
           {
            "type": "scattermapbox",
            "marker": {
             "colorbar": {
              "outlinewidth": 0,
              "ticks": ""
             }
            }
           }
          ],
          "scatterternary": [
           {
            "type": "scatterternary",
            "marker": {
             "colorbar": {
              "outlinewidth": 0,
              "ticks": ""
             }
            }
           }
          ],
          "scattercarpet": [
           {
            "type": "scattercarpet",
            "marker": {
             "colorbar": {
              "outlinewidth": 0,
              "ticks": ""
             }
            }
           }
          ],
          "carpet": [
           {
            "aaxis": {
             "endlinecolor": "#2a3f5f",
             "gridcolor": "white",
             "linecolor": "white",
             "minorgridcolor": "white",
             "startlinecolor": "#2a3f5f"
            },
            "baxis": {
             "endlinecolor": "#2a3f5f",
             "gridcolor": "white",
             "linecolor": "white",
             "minorgridcolor": "white",
             "startlinecolor": "#2a3f5f"
            },
            "type": "carpet"
           }
          ],
          "table": [
           {
            "cells": {
             "fill": {
              "color": "#EBF0F8"
             },
             "line": {
              "color": "white"
             }
            },
            "header": {
             "fill": {
              "color": "#C8D4E3"
             },
             "line": {
              "color": "white"
             }
            },
            "type": "table"
           }
          ],
          "barpolar": [
           {
            "marker": {
             "line": {
              "color": "#E5ECF6",
              "width": 0.5
             },
             "pattern": {
              "fillmode": "overlay",
              "size": 10,
              "solidity": 0.2
             }
            },
            "type": "barpolar"
           }
          ],
          "pie": [
           {
            "automargin": true,
            "type": "pie"
           }
          ]
         },
         "layout": {
          "autotypenumbers": "strict",
          "colorway": [
           "#636efa",
           "#EF553B",
           "#00cc96",
           "#ab63fa",
           "#FFA15A",
           "#19d3f3",
           "#FF6692",
           "#B6E880",
           "#FF97FF",
           "#FECB52"
          ],
          "font": {
           "color": "#2a3f5f"
          },
          "hovermode": "closest",
          "hoverlabel": {
           "align": "left"
          },
          "paper_bgcolor": "white",
          "plot_bgcolor": "#E5ECF6",
          "polar": {
           "bgcolor": "#E5ECF6",
           "angularaxis": {
            "gridcolor": "white",
            "linecolor": "white",
            "ticks": ""
           },
           "radialaxis": {
            "gridcolor": "white",
            "linecolor": "white",
            "ticks": ""
           }
          },
          "ternary": {
           "bgcolor": "#E5ECF6",
           "aaxis": {
            "gridcolor": "white",
            "linecolor": "white",
            "ticks": ""
           },
           "baxis": {
            "gridcolor": "white",
            "linecolor": "white",
            "ticks": ""
           },
           "caxis": {
            "gridcolor": "white",
            "linecolor": "white",
            "ticks": ""
           }
          },
          "coloraxis": {
           "colorbar": {
            "outlinewidth": 0,
            "ticks": ""
           }
          },
          "colorscale": {
           "sequential": [
            [
             0.0,
             "#0d0887"
            ],
            [
             0.1111111111111111,
             "#46039f"
            ],
            [
             0.2222222222222222,
             "#7201a8"
            ],
            [
             0.3333333333333333,
             "#9c179e"
            ],
            [
             0.4444444444444444,
             "#bd3786"
            ],
            [
             0.5555555555555556,
             "#d8576b"
            ],
            [
             0.6666666666666666,
             "#ed7953"
            ],
            [
             0.7777777777777778,
             "#fb9f3a"
            ],
            [
             0.8888888888888888,
             "#fdca26"
            ],
            [
             1.0,
             "#f0f921"
            ]
           ],
           "sequentialminus": [
            [
             0.0,
             "#0d0887"
            ],
            [
             0.1111111111111111,
             "#46039f"
            ],
            [
             0.2222222222222222,
             "#7201a8"
            ],
            [
             0.3333333333333333,
             "#9c179e"
            ],
            [
             0.4444444444444444,
             "#bd3786"
            ],
            [
             0.5555555555555556,
             "#d8576b"
            ],
            [
             0.6666666666666666,
             "#ed7953"
            ],
            [
             0.7777777777777778,
             "#fb9f3a"
            ],
            [
             0.8888888888888888,
             "#fdca26"
            ],
            [
             1.0,
             "#f0f921"
            ]
           ],
           "diverging": [
            [
             0,
             "#8e0152"
            ],
            [
             0.1,
             "#c51b7d"
            ],
            [
             0.2,
             "#de77ae"
            ],
            [
             0.3,
             "#f1b6da"
            ],
            [
             0.4,
             "#fde0ef"
            ],
            [
             0.5,
             "#f7f7f7"
            ],
            [
             0.6,
             "#e6f5d0"
            ],
            [
             0.7,
             "#b8e186"
            ],
            [
             0.8,
             "#7fbc41"
            ],
            [
             0.9,
             "#4d9221"
            ],
            [
             1,
             "#276419"
            ]
           ]
          },
          "xaxis": {
           "gridcolor": "white",
           "linecolor": "white",
           "ticks": "",
           "title": {
            "standoff": 15
           },
           "zerolinecolor": "white",
           "automargin": true,
           "zerolinewidth": 2
          },
          "yaxis": {
           "gridcolor": "white",
           "linecolor": "white",
           "ticks": "",
           "title": {
            "standoff": 15
           },
           "zerolinecolor": "white",
           "automargin": true,
           "zerolinewidth": 2
          },
          "scene": {
           "xaxis": {
            "backgroundcolor": "#E5ECF6",
            "gridcolor": "white",
            "linecolor": "white",
            "showbackground": true,
            "ticks": "",
            "zerolinecolor": "white",
            "gridwidth": 2
           },
           "yaxis": {
            "backgroundcolor": "#E5ECF6",
            "gridcolor": "white",
            "linecolor": "white",
            "showbackground": true,
            "ticks": "",
            "zerolinecolor": "white",
            "gridwidth": 2
           },
           "zaxis": {
            "backgroundcolor": "#E5ECF6",
            "gridcolor": "white",
            "linecolor": "white",
            "showbackground": true,
            "ticks": "",
            "zerolinecolor": "white",
            "gridwidth": 2
           }
          },
          "shapedefaults": {
           "line": {
            "color": "#2a3f5f"
           }
          },
          "annotationdefaults": {
           "arrowcolor": "#2a3f5f",
           "arrowhead": 0,
           "arrowwidth": 1
          },
          "geo": {
           "bgcolor": "white",
           "landcolor": "#E5ECF6",
           "subunitcolor": "white",
           "showland": true,
           "showlakes": true,
           "lakecolor": "white"
          },
          "title": {
           "x": 0.05
          },
          "mapbox": {
           "style": "light"
          }
         }
        },
        "xaxis": {
         "anchor": "y",
         "domain": [
          0.0,
          1.0
         ],
         "title": {
          "text": "Job"
         }
        },
        "yaxis": {
         "anchor": "x",
         "domain": [
          0.0,
          1.0
         ],
         "title": {
          "text": "Ratio accepting campaign"
         }
        },
        "legend": {
         "title": {
          "text": "Accepted Campaign"
         },
         "tracegroupgap": 0
        },
        "title": {
         "text": "Students and retirees are more likely to accept campaign"
        },
        "barmode": "relative"
       },
       "config": {
        "plotlyServerURL": "https://plot.ly"
       }
      }
     },
     "metadata": {},
     "output_type": "display_data"
    }
   ],
   "execution_count": 10
  },
  {
   "metadata": {
    "ExecuteTime": {
     "end_time": "2025-08-09T22:03:46.231278Z",
     "start_time": "2025-08-09T22:03:46.170044Z"
    }
   },
   "cell_type": "code",
   "source": [
    "education_ratio = (by_y_df['education'].value_counts() / df['education'].value_counts()).reset_index()\n",
    "fig = px.bar(\n",
    "    education_ratio.sort_values(by='count'),\n",
    "    x='education',\n",
    "    y='count',\n",
    "    color='y',\n",
    "    title=\"People who are illiterate are more likely to accept campaign\",\n",
    "    labels={\"education\": \"Education\", \"count\": \"Ratio accepting campaign\", 'y': 'Accepted Campaign'},\n",
    ")\n",
    "fig.show()\n",
    "fig.write_image(\"images/education_acceptance_ratio.png\")"
   ],
   "outputs": [
    {
     "data": {
      "application/vnd.plotly.v1+json": {
       "data": [
        {
         "hovertemplate": "Accepted Campaign=yes<br>Education=%{x}<br>Ratio accepting campaign=%{y}<extra></extra>",
         "legendgroup": "yes",
         "marker": {
          "color": "#636efa",
          "pattern": {
           "shape": ""
          }
         },
         "name": "yes",
         "orientation": "v",
         "showlegend": true,
         "textposition": "auto",
         "x": [
          "basic.9y",
          "basic.6y",
          "basic.4y",
          "high.school",
          "professional.course",
          "university.degree",
          "unknown",
          "illiterate"
         ],
         "xaxis": "x",
         "y": {
          "dtype": "f8",
          "bdata": "uSfOLPYHtD+oE2Sgjf+0P6p3TvDPPLo/sx4hEyu9uz/+XQFsVA29PzuPfXZAkcE/J375Y3SPwj8cx3Ecx3HMPw=="
         },
         "yaxis": "y",
         "type": "bar"
        },
        {
         "hovertemplate": "Accepted Campaign=no<br>Education=%{x}<br>Ratio accepting campaign=%{y}<extra></extra>",
         "legendgroup": "no",
         "marker": {
          "color": "#EF553B",
          "pattern": {
           "shape": ""
          }
         },
         "name": "no",
         "orientation": "v",
         "showlegend": true,
         "textposition": "auto",
         "x": [
          "illiterate",
          "unknown",
          "university.degree",
          "professional.course",
          "high.school",
          "basic.4y",
          "basic.6y",
          "basic.9y"
         ],
         "xaxis": "x",
         "y": {
          "dtype": "f8",
          "bdata": "OY7jOI7j6D92oAHnIlzrPzGcYOKvm+s/QNR/clVe7D8q3JudWojsPwsx9gFmuOw/i33zSw5g7T8JO2Y6AX/tPw=="
         },
         "yaxis": "y",
         "type": "bar"
        }
       ],
       "layout": {
        "template": {
         "data": {
          "histogram2dcontour": [
           {
            "type": "histogram2dcontour",
            "colorbar": {
             "outlinewidth": 0,
             "ticks": ""
            },
            "colorscale": [
             [
              0.0,
              "#0d0887"
             ],
             [
              0.1111111111111111,
              "#46039f"
             ],
             [
              0.2222222222222222,
              "#7201a8"
             ],
             [
              0.3333333333333333,
              "#9c179e"
             ],
             [
              0.4444444444444444,
              "#bd3786"
             ],
             [
              0.5555555555555556,
              "#d8576b"
             ],
             [
              0.6666666666666666,
              "#ed7953"
             ],
             [
              0.7777777777777778,
              "#fb9f3a"
             ],
             [
              0.8888888888888888,
              "#fdca26"
             ],
             [
              1.0,
              "#f0f921"
             ]
            ]
           }
          ],
          "choropleth": [
           {
            "type": "choropleth",
            "colorbar": {
             "outlinewidth": 0,
             "ticks": ""
            }
           }
          ],
          "histogram2d": [
           {
            "type": "histogram2d",
            "colorbar": {
             "outlinewidth": 0,
             "ticks": ""
            },
            "colorscale": [
             [
              0.0,
              "#0d0887"
             ],
             [
              0.1111111111111111,
              "#46039f"
             ],
             [
              0.2222222222222222,
              "#7201a8"
             ],
             [
              0.3333333333333333,
              "#9c179e"
             ],
             [
              0.4444444444444444,
              "#bd3786"
             ],
             [
              0.5555555555555556,
              "#d8576b"
             ],
             [
              0.6666666666666666,
              "#ed7953"
             ],
             [
              0.7777777777777778,
              "#fb9f3a"
             ],
             [
              0.8888888888888888,
              "#fdca26"
             ],
             [
              1.0,
              "#f0f921"
             ]
            ]
           }
          ],
          "heatmap": [
           {
            "type": "heatmap",
            "colorbar": {
             "outlinewidth": 0,
             "ticks": ""
            },
            "colorscale": [
             [
              0.0,
              "#0d0887"
             ],
             [
              0.1111111111111111,
              "#46039f"
             ],
             [
              0.2222222222222222,
              "#7201a8"
             ],
             [
              0.3333333333333333,
              "#9c179e"
             ],
             [
              0.4444444444444444,
              "#bd3786"
             ],
             [
              0.5555555555555556,
              "#d8576b"
             ],
             [
              0.6666666666666666,
              "#ed7953"
             ],
             [
              0.7777777777777778,
              "#fb9f3a"
             ],
             [
              0.8888888888888888,
              "#fdca26"
             ],
             [
              1.0,
              "#f0f921"
             ]
            ]
           }
          ],
          "contourcarpet": [
           {
            "type": "contourcarpet",
            "colorbar": {
             "outlinewidth": 0,
             "ticks": ""
            }
           }
          ],
          "contour": [
           {
            "type": "contour",
            "colorbar": {
             "outlinewidth": 0,
             "ticks": ""
            },
            "colorscale": [
             [
              0.0,
              "#0d0887"
             ],
             [
              0.1111111111111111,
              "#46039f"
             ],
             [
              0.2222222222222222,
              "#7201a8"
             ],
             [
              0.3333333333333333,
              "#9c179e"
             ],
             [
              0.4444444444444444,
              "#bd3786"
             ],
             [
              0.5555555555555556,
              "#d8576b"
             ],
             [
              0.6666666666666666,
              "#ed7953"
             ],
             [
              0.7777777777777778,
              "#fb9f3a"
             ],
             [
              0.8888888888888888,
              "#fdca26"
             ],
             [
              1.0,
              "#f0f921"
             ]
            ]
           }
          ],
          "surface": [
           {
            "type": "surface",
            "colorbar": {
             "outlinewidth": 0,
             "ticks": ""
            },
            "colorscale": [
             [
              0.0,
              "#0d0887"
             ],
             [
              0.1111111111111111,
              "#46039f"
             ],
             [
              0.2222222222222222,
              "#7201a8"
             ],
             [
              0.3333333333333333,
              "#9c179e"
             ],
             [
              0.4444444444444444,
              "#bd3786"
             ],
             [
              0.5555555555555556,
              "#d8576b"
             ],
             [
              0.6666666666666666,
              "#ed7953"
             ],
             [
              0.7777777777777778,
              "#fb9f3a"
             ],
             [
              0.8888888888888888,
              "#fdca26"
             ],
             [
              1.0,
              "#f0f921"
             ]
            ]
           }
          ],
          "mesh3d": [
           {
            "type": "mesh3d",
            "colorbar": {
             "outlinewidth": 0,
             "ticks": ""
            }
           }
          ],
          "scatter": [
           {
            "fillpattern": {
             "fillmode": "overlay",
             "size": 10,
             "solidity": 0.2
            },
            "type": "scatter"
           }
          ],
          "parcoords": [
           {
            "type": "parcoords",
            "line": {
             "colorbar": {
              "outlinewidth": 0,
              "ticks": ""
             }
            }
           }
          ],
          "scatterpolargl": [
           {
            "type": "scatterpolargl",
            "marker": {
             "colorbar": {
              "outlinewidth": 0,
              "ticks": ""
             }
            }
           }
          ],
          "bar": [
           {
            "error_x": {
             "color": "#2a3f5f"
            },
            "error_y": {
             "color": "#2a3f5f"
            },
            "marker": {
             "line": {
              "color": "#E5ECF6",
              "width": 0.5
             },
             "pattern": {
              "fillmode": "overlay",
              "size": 10,
              "solidity": 0.2
             }
            },
            "type": "bar"
           }
          ],
          "scattergeo": [
           {
            "type": "scattergeo",
            "marker": {
             "colorbar": {
              "outlinewidth": 0,
              "ticks": ""
             }
            }
           }
          ],
          "scatterpolar": [
           {
            "type": "scatterpolar",
            "marker": {
             "colorbar": {
              "outlinewidth": 0,
              "ticks": ""
             }
            }
           }
          ],
          "histogram": [
           {
            "marker": {
             "pattern": {
              "fillmode": "overlay",
              "size": 10,
              "solidity": 0.2
             }
            },
            "type": "histogram"
           }
          ],
          "scattergl": [
           {
            "type": "scattergl",
            "marker": {
             "colorbar": {
              "outlinewidth": 0,
              "ticks": ""
             }
            }
           }
          ],
          "scatter3d": [
           {
            "type": "scatter3d",
            "line": {
             "colorbar": {
              "outlinewidth": 0,
              "ticks": ""
             }
            },
            "marker": {
             "colorbar": {
              "outlinewidth": 0,
              "ticks": ""
             }
            }
           }
          ],
          "scattermap": [
           {
            "type": "scattermap",
            "marker": {
             "colorbar": {
              "outlinewidth": 0,
              "ticks": ""
             }
            }
           }
          ],
          "scattermapbox": [
           {
            "type": "scattermapbox",
            "marker": {
             "colorbar": {
              "outlinewidth": 0,
              "ticks": ""
             }
            }
           }
          ],
          "scatterternary": [
           {
            "type": "scatterternary",
            "marker": {
             "colorbar": {
              "outlinewidth": 0,
              "ticks": ""
             }
            }
           }
          ],
          "scattercarpet": [
           {
            "type": "scattercarpet",
            "marker": {
             "colorbar": {
              "outlinewidth": 0,
              "ticks": ""
             }
            }
           }
          ],
          "carpet": [
           {
            "aaxis": {
             "endlinecolor": "#2a3f5f",
             "gridcolor": "white",
             "linecolor": "white",
             "minorgridcolor": "white",
             "startlinecolor": "#2a3f5f"
            },
            "baxis": {
             "endlinecolor": "#2a3f5f",
             "gridcolor": "white",
             "linecolor": "white",
             "minorgridcolor": "white",
             "startlinecolor": "#2a3f5f"
            },
            "type": "carpet"
           }
          ],
          "table": [
           {
            "cells": {
             "fill": {
              "color": "#EBF0F8"
             },
             "line": {
              "color": "white"
             }
            },
            "header": {
             "fill": {
              "color": "#C8D4E3"
             },
             "line": {
              "color": "white"
             }
            },
            "type": "table"
           }
          ],
          "barpolar": [
           {
            "marker": {
             "line": {
              "color": "#E5ECF6",
              "width": 0.5
             },
             "pattern": {
              "fillmode": "overlay",
              "size": 10,
              "solidity": 0.2
             }
            },
            "type": "barpolar"
           }
          ],
          "pie": [
           {
            "automargin": true,
            "type": "pie"
           }
          ]
         },
         "layout": {
          "autotypenumbers": "strict",
          "colorway": [
           "#636efa",
           "#EF553B",
           "#00cc96",
           "#ab63fa",
           "#FFA15A",
           "#19d3f3",
           "#FF6692",
           "#B6E880",
           "#FF97FF",
           "#FECB52"
          ],
          "font": {
           "color": "#2a3f5f"
          },
          "hovermode": "closest",
          "hoverlabel": {
           "align": "left"
          },
          "paper_bgcolor": "white",
          "plot_bgcolor": "#E5ECF6",
          "polar": {
           "bgcolor": "#E5ECF6",
           "angularaxis": {
            "gridcolor": "white",
            "linecolor": "white",
            "ticks": ""
           },
           "radialaxis": {
            "gridcolor": "white",
            "linecolor": "white",
            "ticks": ""
           }
          },
          "ternary": {
           "bgcolor": "#E5ECF6",
           "aaxis": {
            "gridcolor": "white",
            "linecolor": "white",
            "ticks": ""
           },
           "baxis": {
            "gridcolor": "white",
            "linecolor": "white",
            "ticks": ""
           },
           "caxis": {
            "gridcolor": "white",
            "linecolor": "white",
            "ticks": ""
           }
          },
          "coloraxis": {
           "colorbar": {
            "outlinewidth": 0,
            "ticks": ""
           }
          },
          "colorscale": {
           "sequential": [
            [
             0.0,
             "#0d0887"
            ],
            [
             0.1111111111111111,
             "#46039f"
            ],
            [
             0.2222222222222222,
             "#7201a8"
            ],
            [
             0.3333333333333333,
             "#9c179e"
            ],
            [
             0.4444444444444444,
             "#bd3786"
            ],
            [
             0.5555555555555556,
             "#d8576b"
            ],
            [
             0.6666666666666666,
             "#ed7953"
            ],
            [
             0.7777777777777778,
             "#fb9f3a"
            ],
            [
             0.8888888888888888,
             "#fdca26"
            ],
            [
             1.0,
             "#f0f921"
            ]
           ],
           "sequentialminus": [
            [
             0.0,
             "#0d0887"
            ],
            [
             0.1111111111111111,
             "#46039f"
            ],
            [
             0.2222222222222222,
             "#7201a8"
            ],
            [
             0.3333333333333333,
             "#9c179e"
            ],
            [
             0.4444444444444444,
             "#bd3786"
            ],
            [
             0.5555555555555556,
             "#d8576b"
            ],
            [
             0.6666666666666666,
             "#ed7953"
            ],
            [
             0.7777777777777778,
             "#fb9f3a"
            ],
            [
             0.8888888888888888,
             "#fdca26"
            ],
            [
             1.0,
             "#f0f921"
            ]
           ],
           "diverging": [
            [
             0,
             "#8e0152"
            ],
            [
             0.1,
             "#c51b7d"
            ],
            [
             0.2,
             "#de77ae"
            ],
            [
             0.3,
             "#f1b6da"
            ],
            [
             0.4,
             "#fde0ef"
            ],
            [
             0.5,
             "#f7f7f7"
            ],
            [
             0.6,
             "#e6f5d0"
            ],
            [
             0.7,
             "#b8e186"
            ],
            [
             0.8,
             "#7fbc41"
            ],
            [
             0.9,
             "#4d9221"
            ],
            [
             1,
             "#276419"
            ]
           ]
          },
          "xaxis": {
           "gridcolor": "white",
           "linecolor": "white",
           "ticks": "",
           "title": {
            "standoff": 15
           },
           "zerolinecolor": "white",
           "automargin": true,
           "zerolinewidth": 2
          },
          "yaxis": {
           "gridcolor": "white",
           "linecolor": "white",
           "ticks": "",
           "title": {
            "standoff": 15
           },
           "zerolinecolor": "white",
           "automargin": true,
           "zerolinewidth": 2
          },
          "scene": {
           "xaxis": {
            "backgroundcolor": "#E5ECF6",
            "gridcolor": "white",
            "linecolor": "white",
            "showbackground": true,
            "ticks": "",
            "zerolinecolor": "white",
            "gridwidth": 2
           },
           "yaxis": {
            "backgroundcolor": "#E5ECF6",
            "gridcolor": "white",
            "linecolor": "white",
            "showbackground": true,
            "ticks": "",
            "zerolinecolor": "white",
            "gridwidth": 2
           },
           "zaxis": {
            "backgroundcolor": "#E5ECF6",
            "gridcolor": "white",
            "linecolor": "white",
            "showbackground": true,
            "ticks": "",
            "zerolinecolor": "white",
            "gridwidth": 2
           }
          },
          "shapedefaults": {
           "line": {
            "color": "#2a3f5f"
           }
          },
          "annotationdefaults": {
           "arrowcolor": "#2a3f5f",
           "arrowhead": 0,
           "arrowwidth": 1
          },
          "geo": {
           "bgcolor": "white",
           "landcolor": "#E5ECF6",
           "subunitcolor": "white",
           "showland": true,
           "showlakes": true,
           "lakecolor": "white"
          },
          "title": {
           "x": 0.05
          },
          "mapbox": {
           "style": "light"
          }
         }
        },
        "xaxis": {
         "anchor": "y",
         "domain": [
          0.0,
          1.0
         ],
         "title": {
          "text": "Education"
         }
        },
        "yaxis": {
         "anchor": "x",
         "domain": [
          0.0,
          1.0
         ],
         "title": {
          "text": "Ratio accepting campaign"
         }
        },
        "legend": {
         "title": {
          "text": "Accepted Campaign"
         },
         "tracegroupgap": 0
        },
        "title": {
         "text": "People who are illiterate are more likely to accept campaign"
        },
        "barmode": "relative"
       },
       "config": {
        "plotlyServerURL": "https://plot.ly"
       }
      }
     },
     "metadata": {},
     "output_type": "display_data"
    }
   ],
   "execution_count": 14
  },
  {
   "metadata": {
    "ExecuteTime": {
     "end_time": "2025-08-10T01:21:49.351685Z",
     "start_time": "2025-08-10T01:21:49.280994Z"
    }
   },
   "cell_type": "code",
   "source": [
    "month_ratio = (by_y_df['month'].value_counts() / df['month'].value_counts()).reset_index()\n",
    "fig = px.bar(\n",
    "    month_ratio.sort_values(by='count'),\n",
    "    x='month',\n",
    "    y='count',\n",
    "    color='y',\n",
    "    title=\"Month has a strong effect on acceptance\",\n",
    "    labels={\"month\": \"Month\", \"count\": \"Ratio accepting campaign\", 'y': 'Accepted Campaign'},\n",
    ")\n",
    "fig.show()\n",
    "fig.write_image(\"images/month_acceptance_ratio.png\")"
   ],
   "outputs": [
    {
     "data": {
      "application/vnd.plotly.v1+json": {
       "data": [
        {
         "hovertemplate": "Accepted Campaign=yes<br>Month=%{x}<br>Ratio accepting campaign=%{y}<extra></extra>",
         "legendgroup": "yes",
         "marker": {
          "color": "#636efa",
          "pattern": {
           "shape": ""
          }
         },
         "name": "yes",
         "orientation": "v",
         "showlegend": true,
         "textposition": "auto",
         "x": [
          "may",
          "jul",
          "nov",
          "jun",
          "aug",
          "apr",
          "oct",
          "sep",
          "dec",
          "mar"
         ],
         "xaxis": "x",
         "y": {
          "dtype": "f8",
          "bdata": "QW4mBRN5sD9GDw5pwCi3P2YfNYni97k/SrVXG8zouj/JUz1cNyS7P6nvbNR3Nso/j7FhcfcT3D/nywGWbb7cP7/0S7/0S98/0AIt0AIt4D8="
         },
         "yaxis": "y",
         "type": "bar"
        },
        {
         "hovertemplate": "Accepted Campaign=no<br>Month=%{x}<br>Ratio accepting campaign=%{y}<extra></extra>",
         "legendgroup": "no",
         "marker": {
          "color": "#EF553B",
          "pattern": {
           "shape": ""
          }
         },
         "name": "no",
         "orientation": "v",
         "showlegend": true,
         "textposition": "auto",
         "x": [
          "mar",
          "dec",
          "sep",
          "oct",
          "apr",
          "aug",
          "jun",
          "nov",
          "jul",
          "may"
         ],
         "xaxis": "x",
         "y": {
          "dtype": "f8",
          "bdata": "YPqlX/ql3z+gBVqgBVrgPw0a/zTJoOE/OCdPRwT24T8WxOQKYnLpP4dVeBR5m+w/VwmVfOai7D8TXNmuA8HsPxc+3vLnGu0/ODJbn93w7T8="
         },
         "yaxis": "y",
         "type": "bar"
        }
       ],
       "layout": {
        "template": {
         "data": {
          "histogram2dcontour": [
           {
            "type": "histogram2dcontour",
            "colorbar": {
             "outlinewidth": 0,
             "ticks": ""
            },
            "colorscale": [
             [
              0.0,
              "#0d0887"
             ],
             [
              0.1111111111111111,
              "#46039f"
             ],
             [
              0.2222222222222222,
              "#7201a8"
             ],
             [
              0.3333333333333333,
              "#9c179e"
             ],
             [
              0.4444444444444444,
              "#bd3786"
             ],
             [
              0.5555555555555556,
              "#d8576b"
             ],
             [
              0.6666666666666666,
              "#ed7953"
             ],
             [
              0.7777777777777778,
              "#fb9f3a"
             ],
             [
              0.8888888888888888,
              "#fdca26"
             ],
             [
              1.0,
              "#f0f921"
             ]
            ]
           }
          ],
          "choropleth": [
           {
            "type": "choropleth",
            "colorbar": {
             "outlinewidth": 0,
             "ticks": ""
            }
           }
          ],
          "histogram2d": [
           {
            "type": "histogram2d",
            "colorbar": {
             "outlinewidth": 0,
             "ticks": ""
            },
            "colorscale": [
             [
              0.0,
              "#0d0887"
             ],
             [
              0.1111111111111111,
              "#46039f"
             ],
             [
              0.2222222222222222,
              "#7201a8"
             ],
             [
              0.3333333333333333,
              "#9c179e"
             ],
             [
              0.4444444444444444,
              "#bd3786"
             ],
             [
              0.5555555555555556,
              "#d8576b"
             ],
             [
              0.6666666666666666,
              "#ed7953"
             ],
             [
              0.7777777777777778,
              "#fb9f3a"
             ],
             [
              0.8888888888888888,
              "#fdca26"
             ],
             [
              1.0,
              "#f0f921"
             ]
            ]
           }
          ],
          "heatmap": [
           {
            "type": "heatmap",
            "colorbar": {
             "outlinewidth": 0,
             "ticks": ""
            },
            "colorscale": [
             [
              0.0,
              "#0d0887"
             ],
             [
              0.1111111111111111,
              "#46039f"
             ],
             [
              0.2222222222222222,
              "#7201a8"
             ],
             [
              0.3333333333333333,
              "#9c179e"
             ],
             [
              0.4444444444444444,
              "#bd3786"
             ],
             [
              0.5555555555555556,
              "#d8576b"
             ],
             [
              0.6666666666666666,
              "#ed7953"
             ],
             [
              0.7777777777777778,
              "#fb9f3a"
             ],
             [
              0.8888888888888888,
              "#fdca26"
             ],
             [
              1.0,
              "#f0f921"
             ]
            ]
           }
          ],
          "contourcarpet": [
           {
            "type": "contourcarpet",
            "colorbar": {
             "outlinewidth": 0,
             "ticks": ""
            }
           }
          ],
          "contour": [
           {
            "type": "contour",
            "colorbar": {
             "outlinewidth": 0,
             "ticks": ""
            },
            "colorscale": [
             [
              0.0,
              "#0d0887"
             ],
             [
              0.1111111111111111,
              "#46039f"
             ],
             [
              0.2222222222222222,
              "#7201a8"
             ],
             [
              0.3333333333333333,
              "#9c179e"
             ],
             [
              0.4444444444444444,
              "#bd3786"
             ],
             [
              0.5555555555555556,
              "#d8576b"
             ],
             [
              0.6666666666666666,
              "#ed7953"
             ],
             [
              0.7777777777777778,
              "#fb9f3a"
             ],
             [
              0.8888888888888888,
              "#fdca26"
             ],
             [
              1.0,
              "#f0f921"
             ]
            ]
           }
          ],
          "surface": [
           {
            "type": "surface",
            "colorbar": {
             "outlinewidth": 0,
             "ticks": ""
            },
            "colorscale": [
             [
              0.0,
              "#0d0887"
             ],
             [
              0.1111111111111111,
              "#46039f"
             ],
             [
              0.2222222222222222,
              "#7201a8"
             ],
             [
              0.3333333333333333,
              "#9c179e"
             ],
             [
              0.4444444444444444,
              "#bd3786"
             ],
             [
              0.5555555555555556,
              "#d8576b"
             ],
             [
              0.6666666666666666,
              "#ed7953"
             ],
             [
              0.7777777777777778,
              "#fb9f3a"
             ],
             [
              0.8888888888888888,
              "#fdca26"
             ],
             [
              1.0,
              "#f0f921"
             ]
            ]
           }
          ],
          "mesh3d": [
           {
            "type": "mesh3d",
            "colorbar": {
             "outlinewidth": 0,
             "ticks": ""
            }
           }
          ],
          "scatter": [
           {
            "fillpattern": {
             "fillmode": "overlay",
             "size": 10,
             "solidity": 0.2
            },
            "type": "scatter"
           }
          ],
          "parcoords": [
           {
            "type": "parcoords",
            "line": {
             "colorbar": {
              "outlinewidth": 0,
              "ticks": ""
             }
            }
           }
          ],
          "scatterpolargl": [
           {
            "type": "scatterpolargl",
            "marker": {
             "colorbar": {
              "outlinewidth": 0,
              "ticks": ""
             }
            }
           }
          ],
          "bar": [
           {
            "error_x": {
             "color": "#2a3f5f"
            },
            "error_y": {
             "color": "#2a3f5f"
            },
            "marker": {
             "line": {
              "color": "#E5ECF6",
              "width": 0.5
             },
             "pattern": {
              "fillmode": "overlay",
              "size": 10,
              "solidity": 0.2
             }
            },
            "type": "bar"
           }
          ],
          "scattergeo": [
           {
            "type": "scattergeo",
            "marker": {
             "colorbar": {
              "outlinewidth": 0,
              "ticks": ""
             }
            }
           }
          ],
          "scatterpolar": [
           {
            "type": "scatterpolar",
            "marker": {
             "colorbar": {
              "outlinewidth": 0,
              "ticks": ""
             }
            }
           }
          ],
          "histogram": [
           {
            "marker": {
             "pattern": {
              "fillmode": "overlay",
              "size": 10,
              "solidity": 0.2
             }
            },
            "type": "histogram"
           }
          ],
          "scattergl": [
           {
            "type": "scattergl",
            "marker": {
             "colorbar": {
              "outlinewidth": 0,
              "ticks": ""
             }
            }
           }
          ],
          "scatter3d": [
           {
            "type": "scatter3d",
            "line": {
             "colorbar": {
              "outlinewidth": 0,
              "ticks": ""
             }
            },
            "marker": {
             "colorbar": {
              "outlinewidth": 0,
              "ticks": ""
             }
            }
           }
          ],
          "scattermap": [
           {
            "type": "scattermap",
            "marker": {
             "colorbar": {
              "outlinewidth": 0,
              "ticks": ""
             }
            }
           }
          ],
          "scattermapbox": [
           {
            "type": "scattermapbox",
            "marker": {
             "colorbar": {
              "outlinewidth": 0,
              "ticks": ""
             }
            }
           }
          ],
          "scatterternary": [
           {
            "type": "scatterternary",
            "marker": {
             "colorbar": {
              "outlinewidth": 0,
              "ticks": ""
             }
            }
           }
          ],
          "scattercarpet": [
           {
            "type": "scattercarpet",
            "marker": {
             "colorbar": {
              "outlinewidth": 0,
              "ticks": ""
             }
            }
           }
          ],
          "carpet": [
           {
            "aaxis": {
             "endlinecolor": "#2a3f5f",
             "gridcolor": "white",
             "linecolor": "white",
             "minorgridcolor": "white",
             "startlinecolor": "#2a3f5f"
            },
            "baxis": {
             "endlinecolor": "#2a3f5f",
             "gridcolor": "white",
             "linecolor": "white",
             "minorgridcolor": "white",
             "startlinecolor": "#2a3f5f"
            },
            "type": "carpet"
           }
          ],
          "table": [
           {
            "cells": {
             "fill": {
              "color": "#EBF0F8"
             },
             "line": {
              "color": "white"
             }
            },
            "header": {
             "fill": {
              "color": "#C8D4E3"
             },
             "line": {
              "color": "white"
             }
            },
            "type": "table"
           }
          ],
          "barpolar": [
           {
            "marker": {
             "line": {
              "color": "#E5ECF6",
              "width": 0.5
             },
             "pattern": {
              "fillmode": "overlay",
              "size": 10,
              "solidity": 0.2
             }
            },
            "type": "barpolar"
           }
          ],
          "pie": [
           {
            "automargin": true,
            "type": "pie"
           }
          ]
         },
         "layout": {
          "autotypenumbers": "strict",
          "colorway": [
           "#636efa",
           "#EF553B",
           "#00cc96",
           "#ab63fa",
           "#FFA15A",
           "#19d3f3",
           "#FF6692",
           "#B6E880",
           "#FF97FF",
           "#FECB52"
          ],
          "font": {
           "color": "#2a3f5f"
          },
          "hovermode": "closest",
          "hoverlabel": {
           "align": "left"
          },
          "paper_bgcolor": "white",
          "plot_bgcolor": "#E5ECF6",
          "polar": {
           "bgcolor": "#E5ECF6",
           "angularaxis": {
            "gridcolor": "white",
            "linecolor": "white",
            "ticks": ""
           },
           "radialaxis": {
            "gridcolor": "white",
            "linecolor": "white",
            "ticks": ""
           }
          },
          "ternary": {
           "bgcolor": "#E5ECF6",
           "aaxis": {
            "gridcolor": "white",
            "linecolor": "white",
            "ticks": ""
           },
           "baxis": {
            "gridcolor": "white",
            "linecolor": "white",
            "ticks": ""
           },
           "caxis": {
            "gridcolor": "white",
            "linecolor": "white",
            "ticks": ""
           }
          },
          "coloraxis": {
           "colorbar": {
            "outlinewidth": 0,
            "ticks": ""
           }
          },
          "colorscale": {
           "sequential": [
            [
             0.0,
             "#0d0887"
            ],
            [
             0.1111111111111111,
             "#46039f"
            ],
            [
             0.2222222222222222,
             "#7201a8"
            ],
            [
             0.3333333333333333,
             "#9c179e"
            ],
            [
             0.4444444444444444,
             "#bd3786"
            ],
            [
             0.5555555555555556,
             "#d8576b"
            ],
            [
             0.6666666666666666,
             "#ed7953"
            ],
            [
             0.7777777777777778,
             "#fb9f3a"
            ],
            [
             0.8888888888888888,
             "#fdca26"
            ],
            [
             1.0,
             "#f0f921"
            ]
           ],
           "sequentialminus": [
            [
             0.0,
             "#0d0887"
            ],
            [
             0.1111111111111111,
             "#46039f"
            ],
            [
             0.2222222222222222,
             "#7201a8"
            ],
            [
             0.3333333333333333,
             "#9c179e"
            ],
            [
             0.4444444444444444,
             "#bd3786"
            ],
            [
             0.5555555555555556,
             "#d8576b"
            ],
            [
             0.6666666666666666,
             "#ed7953"
            ],
            [
             0.7777777777777778,
             "#fb9f3a"
            ],
            [
             0.8888888888888888,
             "#fdca26"
            ],
            [
             1.0,
             "#f0f921"
            ]
           ],
           "diverging": [
            [
             0,
             "#8e0152"
            ],
            [
             0.1,
             "#c51b7d"
            ],
            [
             0.2,
             "#de77ae"
            ],
            [
             0.3,
             "#f1b6da"
            ],
            [
             0.4,
             "#fde0ef"
            ],
            [
             0.5,
             "#f7f7f7"
            ],
            [
             0.6,
             "#e6f5d0"
            ],
            [
             0.7,
             "#b8e186"
            ],
            [
             0.8,
             "#7fbc41"
            ],
            [
             0.9,
             "#4d9221"
            ],
            [
             1,
             "#276419"
            ]
           ]
          },
          "xaxis": {
           "gridcolor": "white",
           "linecolor": "white",
           "ticks": "",
           "title": {
            "standoff": 15
           },
           "zerolinecolor": "white",
           "automargin": true,
           "zerolinewidth": 2
          },
          "yaxis": {
           "gridcolor": "white",
           "linecolor": "white",
           "ticks": "",
           "title": {
            "standoff": 15
           },
           "zerolinecolor": "white",
           "automargin": true,
           "zerolinewidth": 2
          },
          "scene": {
           "xaxis": {
            "backgroundcolor": "#E5ECF6",
            "gridcolor": "white",
            "linecolor": "white",
            "showbackground": true,
            "ticks": "",
            "zerolinecolor": "white",
            "gridwidth": 2
           },
           "yaxis": {
            "backgroundcolor": "#E5ECF6",
            "gridcolor": "white",
            "linecolor": "white",
            "showbackground": true,
            "ticks": "",
            "zerolinecolor": "white",
            "gridwidth": 2
           },
           "zaxis": {
            "backgroundcolor": "#E5ECF6",
            "gridcolor": "white",
            "linecolor": "white",
            "showbackground": true,
            "ticks": "",
            "zerolinecolor": "white",
            "gridwidth": 2
           }
          },
          "shapedefaults": {
           "line": {
            "color": "#2a3f5f"
           }
          },
          "annotationdefaults": {
           "arrowcolor": "#2a3f5f",
           "arrowhead": 0,
           "arrowwidth": 1
          },
          "geo": {
           "bgcolor": "white",
           "landcolor": "#E5ECF6",
           "subunitcolor": "white",
           "showland": true,
           "showlakes": true,
           "lakecolor": "white"
          },
          "title": {
           "x": 0.05
          },
          "mapbox": {
           "style": "light"
          }
         }
        },
        "xaxis": {
         "anchor": "y",
         "domain": [
          0.0,
          1.0
         ],
         "title": {
          "text": "Month"
         }
        },
        "yaxis": {
         "anchor": "x",
         "domain": [
          0.0,
          1.0
         ],
         "title": {
          "text": "Ratio accepting campaign"
         }
        },
        "legend": {
         "title": {
          "text": "Accepted Campaign"
         },
         "tracegroupgap": 0
        },
        "title": {
         "text": "Month has a strong effect on acceptance"
        },
        "barmode": "relative"
       },
       "config": {
        "plotlyServerURL": "https://plot.ly"
       }
      }
     },
     "metadata": {},
     "output_type": "display_data"
    }
   ],
   "execution_count": 75
  },
  {
   "metadata": {
    "ExecuteTime": {
     "end_time": "2025-08-09T22:32:09.794707Z",
     "start_time": "2025-08-09T22:32:09.644938Z"
    }
   },
   "cell_type": "code",
   "source": [
    "fig = px.histogram(\n",
    "    df,\n",
    "    x='duration',\n",
    "    color='y',\n",
    "    title=\"The longer a call goes the higher the likelihood of acceptance\",\n",
    "    labels={\"duration\": \"Duration\", 'y': 'Accepted Campaign'},\n",
    ")\n",
    "fig.show()\n",
    "fig.write_image(\"images/duration_acceptance_ratio.png\")"
   ],
   "outputs": [
    {
     "data": {
      "application/vnd.plotly.v1+json": {
       "data": [
        {
         "bingroup": "x",
         "hovertemplate": "Accepted Campaign=no<br>Duration=%{x}<br>count=%{y}<extra></extra>",
         "legendgroup": "no",
         "marker": {
          "color": "#636efa",
          "pattern": {
           "shape": ""
          }
         },
         "name": "no",
         "orientation": "v",
         "showlegend": true,
         "x": {
          "dtype": "i2",
          "bdata": "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"
         },
         "xaxis": "x",
         "yaxis": "y",
         "type": "histogram"
        },
        {
         "bingroup": "x",
         "hovertemplate": "Accepted Campaign=yes<br>Duration=%{x}<br>count=%{y}<extra></extra>",
         "legendgroup": "yes",
         "marker": {
          "color": "#EF553B",
          "pattern": {
           "shape": ""
          }
         },
         "name": "yes",
         "orientation": "v",
         "showlegend": true,
         "x": {
          "dtype": "i2",
          "bdata": "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"
         },
         "xaxis": "x",
         "yaxis": "y",
         "type": "histogram"
        }
       ],
       "layout": {
        "template": {
         "data": {
          "histogram2dcontour": [
           {
            "type": "histogram2dcontour",
            "colorbar": {
             "outlinewidth": 0,
             "ticks": ""
            },
            "colorscale": [
             [
              0.0,
              "#0d0887"
             ],
             [
              0.1111111111111111,
              "#46039f"
             ],
             [
              0.2222222222222222,
              "#7201a8"
             ],
             [
              0.3333333333333333,
              "#9c179e"
             ],
             [
              0.4444444444444444,
              "#bd3786"
             ],
             [
              0.5555555555555556,
              "#d8576b"
             ],
             [
              0.6666666666666666,
              "#ed7953"
             ],
             [
              0.7777777777777778,
              "#fb9f3a"
             ],
             [
              0.8888888888888888,
              "#fdca26"
             ],
             [
              1.0,
              "#f0f921"
             ]
            ]
           }
          ],
          "choropleth": [
           {
            "type": "choropleth",
            "colorbar": {
             "outlinewidth": 0,
             "ticks": ""
            }
           }
          ],
          "histogram2d": [
           {
            "type": "histogram2d",
            "colorbar": {
             "outlinewidth": 0,
             "ticks": ""
            },
            "colorscale": [
             [
              0.0,
              "#0d0887"
             ],
             [
              0.1111111111111111,
              "#46039f"
             ],
             [
              0.2222222222222222,
              "#7201a8"
             ],
             [
              0.3333333333333333,
              "#9c179e"
             ],
             [
              0.4444444444444444,
              "#bd3786"
             ],
             [
              0.5555555555555556,
              "#d8576b"
             ],
             [
              0.6666666666666666,
              "#ed7953"
             ],
             [
              0.7777777777777778,
              "#fb9f3a"
             ],
             [
              0.8888888888888888,
              "#fdca26"
             ],
             [
              1.0,
              "#f0f921"
             ]
            ]
           }
          ],
          "heatmap": [
           {
            "type": "heatmap",
            "colorbar": {
             "outlinewidth": 0,
             "ticks": ""
            },
            "colorscale": [
             [
              0.0,
              "#0d0887"
             ],
             [
              0.1111111111111111,
              "#46039f"
             ],
             [
              0.2222222222222222,
              "#7201a8"
             ],
             [
              0.3333333333333333,
              "#9c179e"
             ],
             [
              0.4444444444444444,
              "#bd3786"
             ],
             [
              0.5555555555555556,
              "#d8576b"
             ],
             [
              0.6666666666666666,
              "#ed7953"
             ],
             [
              0.7777777777777778,
              "#fb9f3a"
             ],
             [
              0.8888888888888888,
              "#fdca26"
             ],
             [
              1.0,
              "#f0f921"
             ]
            ]
           }
          ],
          "contourcarpet": [
           {
            "type": "contourcarpet",
            "colorbar": {
             "outlinewidth": 0,
             "ticks": ""
            }
           }
          ],
          "contour": [
           {
            "type": "contour",
            "colorbar": {
             "outlinewidth": 0,
             "ticks": ""
            },
            "colorscale": [
             [
              0.0,
              "#0d0887"
             ],
             [
              0.1111111111111111,
              "#46039f"
             ],
             [
              0.2222222222222222,
              "#7201a8"
             ],
             [
              0.3333333333333333,
              "#9c179e"
             ],
             [
              0.4444444444444444,
              "#bd3786"
             ],
             [
              0.5555555555555556,
              "#d8576b"
             ],
             [
              0.6666666666666666,
              "#ed7953"
             ],
             [
              0.7777777777777778,
              "#fb9f3a"
             ],
             [
              0.8888888888888888,
              "#fdca26"
             ],
             [
              1.0,
              "#f0f921"
             ]
            ]
           }
          ],
          "surface": [
           {
            "type": "surface",
            "colorbar": {
             "outlinewidth": 0,
             "ticks": ""
            },
            "colorscale": [
             [
              0.0,
              "#0d0887"
             ],
             [
              0.1111111111111111,
              "#46039f"
             ],
             [
              0.2222222222222222,
              "#7201a8"
             ],
             [
              0.3333333333333333,
              "#9c179e"
             ],
             [
              0.4444444444444444,
              "#bd3786"
             ],
             [
              0.5555555555555556,
              "#d8576b"
             ],
             [
              0.6666666666666666,
              "#ed7953"
             ],
             [
              0.7777777777777778,
              "#fb9f3a"
             ],
             [
              0.8888888888888888,
              "#fdca26"
             ],
             [
              1.0,
              "#f0f921"
             ]
            ]
           }
          ],
          "mesh3d": [
           {
            "type": "mesh3d",
            "colorbar": {
             "outlinewidth": 0,
             "ticks": ""
            }
           }
          ],
          "scatter": [
           {
            "fillpattern": {
             "fillmode": "overlay",
             "size": 10,
             "solidity": 0.2
            },
            "type": "scatter"
           }
          ],
          "parcoords": [
           {
            "type": "parcoords",
            "line": {
             "colorbar": {
              "outlinewidth": 0,
              "ticks": ""
             }
            }
           }
          ],
          "scatterpolargl": [
           {
            "type": "scatterpolargl",
            "marker": {
             "colorbar": {
              "outlinewidth": 0,
              "ticks": ""
             }
            }
           }
          ],
          "bar": [
           {
            "error_x": {
             "color": "#2a3f5f"
            },
            "error_y": {
             "color": "#2a3f5f"
            },
            "marker": {
             "line": {
              "color": "#E5ECF6",
              "width": 0.5
             },
             "pattern": {
              "fillmode": "overlay",
              "size": 10,
              "solidity": 0.2
             }
            },
            "type": "bar"
           }
          ],
          "scattergeo": [
           {
            "type": "scattergeo",
            "marker": {
             "colorbar": {
              "outlinewidth": 0,
              "ticks": ""
             }
            }
           }
          ],
          "scatterpolar": [
           {
            "type": "scatterpolar",
            "marker": {
             "colorbar": {
              "outlinewidth": 0,
              "ticks": ""
             }
            }
           }
          ],
          "histogram": [
           {
            "marker": {
             "pattern": {
              "fillmode": "overlay",
              "size": 10,
              "solidity": 0.2
             }
            },
            "type": "histogram"
           }
          ],
          "scattergl": [
           {
            "type": "scattergl",
            "marker": {
             "colorbar": {
              "outlinewidth": 0,
              "ticks": ""
             }
            }
           }
          ],
          "scatter3d": [
           {
            "type": "scatter3d",
            "line": {
             "colorbar": {
              "outlinewidth": 0,
              "ticks": ""
             }
            },
            "marker": {
             "colorbar": {
              "outlinewidth": 0,
              "ticks": ""
             }
            }
           }
          ],
          "scattermap": [
           {
            "type": "scattermap",
            "marker": {
             "colorbar": {
              "outlinewidth": 0,
              "ticks": ""
             }
            }
           }
          ],
          "scattermapbox": [
           {
            "type": "scattermapbox",
            "marker": {
             "colorbar": {
              "outlinewidth": 0,
              "ticks": ""
             }
            }
           }
          ],
          "scatterternary": [
           {
            "type": "scatterternary",
            "marker": {
             "colorbar": {
              "outlinewidth": 0,
              "ticks": ""
             }
            }
           }
          ],
          "scattercarpet": [
           {
            "type": "scattercarpet",
            "marker": {
             "colorbar": {
              "outlinewidth": 0,
              "ticks": ""
             }
            }
           }
          ],
          "carpet": [
           {
            "aaxis": {
             "endlinecolor": "#2a3f5f",
             "gridcolor": "white",
             "linecolor": "white",
             "minorgridcolor": "white",
             "startlinecolor": "#2a3f5f"
            },
            "baxis": {
             "endlinecolor": "#2a3f5f",
             "gridcolor": "white",
             "linecolor": "white",
             "minorgridcolor": "white",
             "startlinecolor": "#2a3f5f"
            },
            "type": "carpet"
           }
          ],
          "table": [
           {
            "cells": {
             "fill": {
              "color": "#EBF0F8"
             },
             "line": {
              "color": "white"
             }
            },
            "header": {
             "fill": {
              "color": "#C8D4E3"
             },
             "line": {
              "color": "white"
             }
            },
            "type": "table"
           }
          ],
          "barpolar": [
           {
            "marker": {
             "line": {
              "color": "#E5ECF6",
              "width": 0.5
             },
             "pattern": {
              "fillmode": "overlay",
              "size": 10,
              "solidity": 0.2
             }
            },
            "type": "barpolar"
           }
          ],
          "pie": [
           {
            "automargin": true,
            "type": "pie"
           }
          ]
         },
         "layout": {
          "autotypenumbers": "strict",
          "colorway": [
           "#636efa",
           "#EF553B",
           "#00cc96",
           "#ab63fa",
           "#FFA15A",
           "#19d3f3",
           "#FF6692",
           "#B6E880",
           "#FF97FF",
           "#FECB52"
          ],
          "font": {
           "color": "#2a3f5f"
          },
          "hovermode": "closest",
          "hoverlabel": {
           "align": "left"
          },
          "paper_bgcolor": "white",
          "plot_bgcolor": "#E5ECF6",
          "polar": {
           "bgcolor": "#E5ECF6",
           "angularaxis": {
            "gridcolor": "white",
            "linecolor": "white",
            "ticks": ""
           },
           "radialaxis": {
            "gridcolor": "white",
            "linecolor": "white",
            "ticks": ""
           }
          },
          "ternary": {
           "bgcolor": "#E5ECF6",
           "aaxis": {
            "gridcolor": "white",
            "linecolor": "white",
            "ticks": ""
           },
           "baxis": {
            "gridcolor": "white",
            "linecolor": "white",
            "ticks": ""
           },
           "caxis": {
            "gridcolor": "white",
            "linecolor": "white",
            "ticks": ""
           }
          },
          "coloraxis": {
           "colorbar": {
            "outlinewidth": 0,
            "ticks": ""
           }
          },
          "colorscale": {
           "sequential": [
            [
             0.0,
             "#0d0887"
            ],
            [
             0.1111111111111111,
             "#46039f"
            ],
            [
             0.2222222222222222,
             "#7201a8"
            ],
            [
             0.3333333333333333,
             "#9c179e"
            ],
            [
             0.4444444444444444,
             "#bd3786"
            ],
            [
             0.5555555555555556,
             "#d8576b"
            ],
            [
             0.6666666666666666,
             "#ed7953"
            ],
            [
             0.7777777777777778,
             "#fb9f3a"
            ],
            [
             0.8888888888888888,
             "#fdca26"
            ],
            [
             1.0,
             "#f0f921"
            ]
           ],
           "sequentialminus": [
            [
             0.0,
             "#0d0887"
            ],
            [
             0.1111111111111111,
             "#46039f"
            ],
            [
             0.2222222222222222,
             "#7201a8"
            ],
            [
             0.3333333333333333,
             "#9c179e"
            ],
            [
             0.4444444444444444,
             "#bd3786"
            ],
            [
             0.5555555555555556,
             "#d8576b"
            ],
            [
             0.6666666666666666,
             "#ed7953"
            ],
            [
             0.7777777777777778,
             "#fb9f3a"
            ],
            [
             0.8888888888888888,
             "#fdca26"
            ],
            [
             1.0,
             "#f0f921"
            ]
           ],
           "diverging": [
            [
             0,
             "#8e0152"
            ],
            [
             0.1,
             "#c51b7d"
            ],
            [
             0.2,
             "#de77ae"
            ],
            [
             0.3,
             "#f1b6da"
            ],
            [
             0.4,
             "#fde0ef"
            ],
            [
             0.5,
             "#f7f7f7"
            ],
            [
             0.6,
             "#e6f5d0"
            ],
            [
             0.7,
             "#b8e186"
            ],
            [
             0.8,
             "#7fbc41"
            ],
            [
             0.9,
             "#4d9221"
            ],
            [
             1,
             "#276419"
            ]
           ]
          },
          "xaxis": {
           "gridcolor": "white",
           "linecolor": "white",
           "ticks": "",
           "title": {
            "standoff": 15
           },
           "zerolinecolor": "white",
           "automargin": true,
           "zerolinewidth": 2
          },
          "yaxis": {
           "gridcolor": "white",
           "linecolor": "white",
           "ticks": "",
           "title": {
            "standoff": 15
           },
           "zerolinecolor": "white",
           "automargin": true,
           "zerolinewidth": 2
          },
          "scene": {
           "xaxis": {
            "backgroundcolor": "#E5ECF6",
            "gridcolor": "white",
            "linecolor": "white",
            "showbackground": true,
            "ticks": "",
            "zerolinecolor": "white",
            "gridwidth": 2
           },
           "yaxis": {
            "backgroundcolor": "#E5ECF6",
            "gridcolor": "white",
            "linecolor": "white",
            "showbackground": true,
            "ticks": "",
            "zerolinecolor": "white",
            "gridwidth": 2
           },
           "zaxis": {
            "backgroundcolor": "#E5ECF6",
            "gridcolor": "white",
            "linecolor": "white",
            "showbackground": true,
            "ticks": "",
            "zerolinecolor": "white",
            "gridwidth": 2
           }
          },
          "shapedefaults": {
           "line": {
            "color": "#2a3f5f"
           }
          },
          "annotationdefaults": {
           "arrowcolor": "#2a3f5f",
           "arrowhead": 0,
           "arrowwidth": 1
          },
          "geo": {
           "bgcolor": "white",
           "landcolor": "#E5ECF6",
           "subunitcolor": "white",
           "showland": true,
           "showlakes": true,
           "lakecolor": "white"
          },
          "title": {
           "x": 0.05
          },
          "mapbox": {
           "style": "light"
          }
         }
        },
        "xaxis": {
         "anchor": "y",
         "domain": [
          0.0,
          1.0
         ],
         "title": {
          "text": "Duration"
         }
        },
        "yaxis": {
         "anchor": "x",
         "domain": [
          0.0,
          1.0
         ],
         "title": {
          "text": "count"
         }
        },
        "legend": {
         "title": {
          "text": "Accepted Campaign"
         },
         "tracegroupgap": 0
        },
        "title": {
         "text": "The longer a call goes the higher the likelihood of acceptance"
        },
        "barmode": "relative"
       },
       "config": {
        "plotlyServerURL": "https://plot.ly"
       }
      }
     },
     "metadata": {},
     "output_type": "display_data"
    }
   ],
   "execution_count": 28
  },
  {
   "metadata": {
    "ExecuteTime": {
     "end_time": "2025-08-09T22:37:53.626021Z",
     "start_time": "2025-08-09T22:37:53.523129Z"
    }
   },
   "cell_type": "code",
   "source": [
    "fig = px.histogram(\n",
    "    df,\n",
    "    x='campaign',\n",
    "    color='y',\n",
    "    title=\"There are diminishing returns when making a call to the same person\",\n",
    "    labels={\"campaign\": \"Number of calls\", 'y': 'Accepted Campaign'},\n",
    ")\n",
    "fig.show()\n",
    "fig.write_image(\"images/calls_acceptance_ratio.png\")"
   ],
   "outputs": [
    {
     "data": {
      "application/vnd.plotly.v1+json": {
       "data": [
        {
         "bingroup": "x",
         "hovertemplate": "Accepted Campaign=no<br>Number of calls=%{x}<br>count=%{y}<extra></extra>",
         "legendgroup": "no",
         "marker": {
          "color": "#636efa",
          "pattern": {
           "shape": ""
          }
         },
         "name": "no",
         "orientation": "v",
         "showlegend": true,
         "x": {
          "dtype": "i1",
          "bdata": "AQEBAQEBAQEBAQEBAQEBAQEBAQEBAQEBAQEBAQIBAQEBAQEBAQEBAQEBAQEBAQEBAQIBAQEBAgEBAQEBAQEBAQEBAQECAQEBAQEBAQIBAQEBAgEBAgECAgECAQEBAQEBAQEDAQEBAQICAQEBAgECAgECAQEBAQEBAQECAQECAQEBAQEBAgICAQEBAQEBAQEBAQEBAQEBAQEBAgICAgEDAQEBAgICAQEBAQMCAQIBAQEBAwEBAQEBAQECAgIBAQEBAgECAQIBAQEBAQEBAQEBAgECAQEBAwICAQEBAQICAwECAQIBAQEBAgIDAgEBAgECAQIBAQEBAQMCAwIBAQEBAQEDAgECAgIDAQIBAgIBAQIEAwIDAwICAgICAgICAgICAgICAwQCAgICAgICAgMCAwICAgICAgICAgMCAgMCBAMDAgMCAgUFAwQCAwICAwMDAgICAgQDAgMCAgMCBAICAwIDAgMDAQEBAQEBAQEBAQEBAQEBAQIBAQEBAQEEAQEBAQECAwECAQEBAQEBAQECAgEBAQEBAQIBAQEBAQEBAwECAQEDAQEBAQEBAgEBAQEBAQIBAQEBAQEBAQIBAQECAQIBAQQBAQEBAQMBAQEBAQIBAQEBAQEBAQEBAgEBAgICAgIBAQEBAQIBAQEBAQEDAQEBAQIBAQECAQICAQEBAQEBAQECAQICAQECAQEBAQEBAQEBAgECAgIBAQIBAgEBAQEBAQEBAQEBAQECAwICAgIEAgMEAgIDAQIBAgECAgIBBQMCAQICBAECAQEBAgEBAQEBAgUBAgEBAwECBAICAwEEAwICAQEBAgICAQIBAwICAgMFAgMCAQIDAQECAQEBAQICAgQCAgMCAwEDAgIDAgEDAQICAgICAgICAwICAgMCAgIDAgMCAgIGAwIDAgICAgMDAwIEAgICAgMFAgICAwUDAgICAwQCAgQCAwICAwIEAwMCAgMDAgIFAgMCAgIDAwIDAwMDAgMDAwMDBAIDAgMCAgIDAgICAgICAgMCAgMBAQMDAQYCBAEBAQEDAQEBAQEBAQEBAQMCAQICAQEBAQEBAQEBAQIBAQEBAgEGAQEBAwEBAQEBBAIBAQECAQEBAQMBAQECAQICAQEBAgEBAgEBAQEBAgEBAQEBAQIBAQICAQIBAQcBAQYBAgEBAQECAQICAQICAQEBAQEBAQEBAQEBAQEDAgMBAgQDAgIDAgICAgICAQIBAgMCAQEBAgEBAQUCBQEBAQECAgICAgICAwQCAQICAQMBAQIBAQEBAgEBAQEBAwIBAQECAgECAgEBAQEBAQEDAgEDAgECAwIBBQEBBQEFAQEBAgIBAQMDAwEDAgICAgIBAQEBAQICBgUCAggCAgYDBgIDAgQDAgIDAgMDAwQCBAICBAQDAgQCAwQCAgEBAwUDAgIDAwMCAwMCAwIECAIFBwIGAgMFAwEBAwEDAgEDAgECAwQCAwMEAgICAQIFAgMDAwICAgICBQIEAgMDAwIEAwMCBgICAgIDAgIBBQMDAQEBAQEBAQEBAQEBAQEBAQEBAgEBAgEBAQEBAQEBAQEBAgEBAQEDAQIBAQEBAQEBAQEBAQICAQICAQECAQMBAQEBAQcBAQEBAQECAQEBAQEBAQEDAQEBAQIBAQEBAQEBAQEBAQEBBAEBAgIBAgEBAQIBAQEBAQEBAQEBAgEBAQEBAQEBAwEBAgIBAgEBAQEBAgEBAQEBBAEBAQIBAQIEAgMDAgEBAQIBAQEDAQIBAgEDAQECAQEBAQECAQEBAQEBAwEBAQECAQUBAgICAgICAgIDAgIDAwIEAgICAgECAQEBAQIBAQEBAQECAQICAgICAQICAgICBQIFAgMBAQECAgYBAQQCBwIDAwICAwIDAgIFAwICAgIBAQIHAQUCAgICAwECAgQBAgICCQECAgICAgICBQIGAgIDAgIJAgQCAwIDAwQCAgIDAgICAgUCAgMDAgMCAgICAgMDAwIDBAQCAwICAgQHAgMDAgUEBAMCAwIFAgIDAwMDBAICAwMDAwUHAgIEAwMDAgMBBQMEBAIDBAIEAgIBBQMDAgIEBAICAgQFBQICBAEBAQUCAQQBAQEBAQEBAwEBAQEDAQIBAQEBAQIBAQICAQMBAQICAQEBAwEBAQICAgEBAQEBAQEBAgEDAwEBAQEBAQEBAQEBAQECAQEBAQEBAQICBAICAwIBAQIBAQEDAQEBAQECAgEBAQECAQEBAQICAgEBAQIBBgIBAQEBAgEBAQEBAQMCAgICAgEBAwECBQMCAgECAQEBAgECAwICAgEBAQEBAQECAQECBAMBAgIBAgMBAQECAQEBAQMEAgICAQEBAQEBAgEBAQEBAwEBAwECAgICBAIDAgIDBAECAQIBAQEBAQEBAQUCAwECAQIDAQMCAgIDBAECAgUCAQIDAQcBAgIBAQEBCQMCBwICAQIBAQECAgIEAgQCAgMCAgIDBQICBAIEAgICAgECAwIDAgQHAgICBAICAgICAgMCAgMDAgUBAwMCAgMEAgQCAwMCAwIDBgICAgcCAwICBAIDAwMBBQQCBQQEBAMDAwIHCAIDBAIDBAMEAwMDCQUDAwIEAgYEBgQDBgIFBAUCBQIFBAICAgMCBwMGBAUCBAICBQIDAgUEBwQCAwQEBAQHAgICAgICBAEBBAIBAQIBAQEBAQMCAwMIAQMCAQECAQEDAwEBAQEBAQIBAgECAgEDAQEBAQEBCAMCBAIEAgMCAwQGAgIGAgQBAQMBAgIBAgEBAQEBBAMBAQECBAEBAQECAgEGBAIDAgIEAQEEBQQBAQMBBgQCAQECAQEDAQIBBAMCAgICAwQDAwEDAgICAgQCBAMDBQoDAgEBAgsBAwUDAgMCBAcGBAMCBAQFBQQFCAMEAwMDAgIHBwMGAwUJAwMIAwMDAwUEBAwEBQIEAgYFBAQEBAQCAgYGBwMEAgUFAwMCAQEBAQECAQEBAQEBAQEBAgEDAgEBAQIBAQMBAQEBAgEBAQEBAQEBAQECAQEBAQEBAQEDBgEBAQEBAgEBAQEBAQMBAQQCAQEBAQECAQEBAQEBAQEBAQEBAQEBAQEBAQEBAQIBAQMBAgEBAQEBAQEBAQEBAQEEAwEBAQIBAQECAwEBAQIBAQIBAQUBAQEBBAEBAgEBAQIBAQEDAQEBAQIBAQEBAQEDAQEBAQEBAQECAQEBAgEBAgIBAQICAgIBAQEDAQICAQICAgICAwIBAgIBAQICAQkGAwIFAgMCAwIFAQMBAQEEAQECAwECAgECAQECAwEBAQEBAQQBAQMCAQIBAwECAQEBAgEBAQECAQIBAgICAQEDAQQBAgoNAQQDAQICAQECBAMBBAMBBAMDAgIBAgICAwMCAwICBgIEBAsLAgQCBQICAgICAgMCAgICAgQCBAcDBgwDAgIDAgIJAgICAwQCAgMEBRMCCQcCAwMCBAQCAgUCAgIDAgMEAQECBgQCBAsEAggCAwIEAgMDBAQDBAQCBAMGAgICAgIEAgMJBAEBAQQBAQEBAQEBAwEBAQEBAQcDAgMBAQEBAQgBAQEBAgMCAgEBAQECAQwCAgEBAQEBAgEBAQEBAQEBAQMCAgIBAQUJAQECAQEBAgECAQIBAQEBAQEBAQEBAQEBAQEBAQYBAQEBAgEBAQEBAQEBAQECAQEBAQEBAQICAQIBAQECAgEBAQECAQIBAQEBAQEBAgICAgIEAgMCAgECAgEBAgECCAECAQEBCwICAgICCgEBAgECAgEBAQUBAgICAQICAQIBAQIBAQEEAgEBAQQBAQEBAQEBAQECAgEBAgECBwEEAwIGBQECAQEEAQECAQMDBwICBAIBBgIJBQEBAwEEAQEEAgECCgMDAwICAQEDAgoBAQIFAgEBAQIBEgEBBAECBQIBBQIBAwELBAIBBQECAgICBAICAgIEBAMHBAICAwoEBgUDAgMCAgICAgICAwMCAgIEAgICCQMCBQcEAgUEBwMEBAICAgMCAwMHAwMCAgICAgMDBAICBQIFBQMEAgMDBwMGBQICAwMBAgEEAQQBBgEBAQEDAQEBAQEBBwEBAQUBAQECAQECAQELAQEBAQEBAgECAQECAQEBBgIBAQEBAQEBAQEBAQMBAQIBAQEBAQIBCgECBAIBAQEBAQEBAQECAQEDAgEFAwEBAgEBAQEBAQEBAwEBAQECAwEBAQIBAQEBAQEEAQIBAwQBAQIBAQEBAQEBAQUBAQECDQIDAgIDAgECBwECBAcEAQMBAQEDAQEBAgECAQEEAQEBAQEBAwIDBwIKBQMEAgIBAgIEAQIBAgICAQIFAwQCAQEBAQIBAgEBAQkBBgICAgUDAgEBAgEDAQEBAQEBAQMBAQECAwIDAwQDAwIBAgEBAQEOAQIFAwEBAQIBFgoEAgkIAQECAQICBAEBAgECBAEBAgICBQUFBQMCBAIDAgIEAwIGBxcBAgIHAwMEAgQIAggCBQIBAgIEAgUDGQIKBAUCAgQCAQMCAQcBAwIEAQMNAgYDBwcCBwICAgIGAgQDBwQCBgkEBAUCEAYDBAIEAwQEAwwEBQMGCAIEAwQGBAMCCwIFAwcMBQICAgECBAICAwIDAwIEAgMRAQEGAQEEDwEBAQEBAQEEAwEBAQEDAQIDAQEBAQEBAQQBAgEGAgECAQEBAQEEAQECAQEBAQEBBAEBAgEHAwICAQEBAQEBAQEBAQEBAQIBAgUBAQEBAQECBAEBAgEBAwECAQgBAQEGAgEBAQEBAgEWAQECBAIBAQEBAQEEAQEDAQERAQEBAwIBAgECAgEBAgEBAwECAQECAQMEAQEDAQIIAgECAQICAgEBAgIDBAMEAgICAgEEAgEBBAEBAQILBAICAgMCAg4LAQEBAQQDAQEBAQEDAQEBAQEBAwEBAQIHAxcSAwICAggBAgECBA8JAQIBAQICAwUBEQIEAgIDAgICAwcDBA8LBAICAgUCEAMEBAQCAwMIAgMFAgIFAwMGAwMDBgIDAgUCAwkKAwICAwIFBAMCAgQCBwMDBgICBgQTAgQCFAMDAgYCAgYDAwUEAwcEBwUEAwQEAgMTBAYCAgQCAgICAwIFAwICAgQGAQEBAQEHBQIDAQMEAQIBAQEBAQIBAQMCAQEBBgQBAwECAgEBAgEDAQEBAQEBAQEBAgYBAgEBAQEBAwICAQIBAQICAwEBBAEBAQwDBAEBAQEBAgEBAQECAwECAQEDAQMCBQIBAgIBAQIEAQEBAQEBAQEBAgMBAgMCCQQCAgICDAIEAQMBAQEBAQ4DAwMBBAMDAQEBAQECAgEBAQQDAQcBAQEBAQEGAQECAQEBBAEBAwIDAwIBAgIFAQMBATgBAQEBBicDAgUFAgkDCwEFAQMCAwECAgMCBAICAgMjDQMFAgICAgIGBgICAgMCBQcCBgMEBQMDAioFCgIFBwMCFgcEAwcIBgQCCgkJCQICCQMHCwMIBAsEAwcCAgUCBAIKAwkKBAcBBQEBAQEPCQEBBAEBCgEBAQwBAgEBAQQBAQEBAgEBAQEBDAEBBgEBAQEEAQIFAQEBAQEBAwEBAQIBAQEBCgECAQEBAQEBAQEBAQECAQEBAQEBAQEBAQEBAQEDAQEBAQEBAQEBAQEBAQEBAQEBAQECAgEBAQIBAgEBAQYBAgEBAQEBBAYBAQECAQECAwIDAQEBAQMCAgIEAQEBAQECAQEBAQEBAgEBAQIBAgICAgICAgICBQECAwIGAgEBAgEMCgICAQIHAgEJAgIBAQEGCgEBAQEBAQEBAQECAgEBAQgBAQEBAQECAQEBAgICAhEBAwECAQEBAQECAwICAwECAgIBCQECAQICAgMCCAIDAwgCAgIDAgIDBAEDAQYBDgYDAQoCAQcEAgEBAQIBAQgCAgIBAgICEAICAwICAgICAgIDAwIFCgQDAgwCAg0EAwMDBAYCCAIDBwMCAgICBQICAgMDEQICAwICAgICAgICDAMDAgICAgIEAgIDCgcCBgUBAQ0IAwkBAwoEAgQBAgEDBQEBAQEBAQEBAQEDAQEBAQEGAQEBAQEBAQUBHAEBAQECAQUBAQEBAgECAQEDAQIBAQEDAQEBBQEBAQECAQECAQEBAQECAQEBAQEBBQEBBQEBAQoBCwEBAQECAQEBAgEBAQEDBwIBAQICAQECAQEBAQEBAQICAwEBAQECAQEBAQEBAQIBAgEFAQgDAQYBAQEBAgIBAgEBAQwCBwEBAQIBAgIDAQECAQEEAwEBAQEBAQEBAgICAwMCAg0DAwICCQICAgICAgEBAQEBAgEBAQEBBQECAQECAQIMAgEBAQUEAgIBAwEBBAQBAQICAgEBAgECAgEBDAIBAwIBAQECAQEBAwMCAQEEAhoCAgICAQIFAgICAggCAgMCAgICAwICBAUDAgIHAgICAwICBQQCAQEBAgsCDgIBARACBQMCAwICAgQCAgMCAwICAgICBAMCAwICAQMNAg8BAgMDCQECAgMCAgIDBAIDAwIJAgMCBAMEAgUDBAMDAwMMBgUTAwQDBQUIBgYDAgQKBgQCAgoCCAkEBQMDDgIDBQYFAgMDBQMCAgMJAwIBAQQBAQEBAQEBAQEBBQEBAQEDAQEEAQICAQEBBgEBBAEBAQECAQQBAgIBAQEBAQEBAQEBAQEEAQEBAQEEAQEBAQEBAQEBAgEDAQEBAgEBAQEBAQEDAQICAQIEAQIFAQICAQMDBAIBAwEBAQEBAQICAQECAQECAgMBAQECAwECAQEBAgIBAQIBAgEBAQEBAQEBAQEBAQEBAQEBAQEBAQECAQICAgECAwICAQIBAwIEAgUDBQECAQEBAQ4DAQEBAgEBAgIBAQEEAwIEAQIDAwECAgIBAQIBAgMSAgEBAQICAQMBAQIGAgMCAgIGAgMqAgUGAgEEAQECAgYDAQIEBAEEAgICAQEBAwICAgUDBBsBAgECAgIDBAICAgMCAgQEAwICAgcBDgQBAQICAQEDAQMDBgIBAQMBBAIEAgICAwMDAgQDAgQCAwMDAwMCAgIMCgQCDQMCBQsJAwQCAxAGBQUCAgIGAwIDAwMDAgQEAgICBAIGAgMCAwQFBAQEBQQIBQILBAQDAwQDAwIFCQQHBBEHAwQJAwMCBgUDAgIGAQUDAQIBAgIBAQEBAQUBAQEBAQUBAQEBAQMGAQEBAQMBBwMCBAICBAEBAQERAQECAQUBAQIBAgIBAQEBAQEBAQEEAgEBAQIBAQEBAQEgAQECAgIBAQEBAQEBAQMBAQEBAQEBAQEBAQEBAQMCAQIBAQEBAQIBAQEBAQECAQEMAgEBAQEBAQEBAQEBBQQBAQgBAgIBAQsBBAkBAgIEAQMCAQEBAQIDAQEBAwIBAgEBAwECAQEBAQEBAQEBAQICAg4FAgICBwYBAQUDBAMCAwIBAwIBAgICAgICAQICBgIDAQIEAgMDBgMDAwMDAwMDAQEDBAMCAgECAQEBCAEDAgICAgEDAQYCAwIBAQEBAgICAgMMAQMCAgIDAgEBAQEBAgIEAwIGAwIEDgECAgICAwYDAgIDBAQCAgQCAgICAgICBQYCBAIDCwMDBAQCAwUCAwMFAgICBgUCAgQFBQIDBAYCAgsBBAcEAwMGAgMDAwcDAwQDAgQCCgYFAgYFBAUFAwUFAwQLBQIDBwICFgYEAgIFAwIEAhAEBQMEAwEEAwcHAwYDBgIEAwMFAwIDAgIEBAICAgIEAwYDBgEBAQIJAgEBAQEBAwUEBAQFAQIBAQECAQEBAgEBAwsBAgIDAQMBAQIBAQEBAQMBAQECAQEBAQEBAQEBAQIBAQEBAQIDAQECAQQBBAoDAQIBAQICAgEBAQIBAQEDAgEBAQIBAQIBAQEBAQIBAQEBAQIBAQQBAgIBAQECAgMBAgIBAgEHAQICAQEBAQUBAQMCAQECBAIBAgIBAQECARACAQEEAQEBAQEBAQEBAQEBAQEBBQICAQMCAgIBBAIBAQEDAQEBCQEBAQEBAQIBAQICCgkBAQICAQEBAQEBAQQBAgIBAgECAwEBAQIBAQIBAgIBAQEBAQEBAQICAQUDAQIBAQYCBAICAwIBAQECAgYCAgECBQEDCQIBAgIBAwICAQEBAQEBAQEBAQIIAQMCAwEEAgQCAgMCAgICAgICAgIDAgICAgsIAwICAQICAQICAQEKBQMCBgICBQUCBQIGAwIDAgICAwIEBQMCBgMDAgUCBQoCBAIDAgMCAgICAgIEBQIDAgIFAwoEAwMFAQECARMNCQQEAwICAgcCAgkDAgUCAwIGBAQIAgIDAwIDAgMEAgQDBAMEEAMCCAMDBQMFBwgFAwgDBAIDAgQCAwINAwIMAwIGCQcBAgIBBgECAQMIAgEBAgEBAQECAQQBAwYDAgMBAQECAQEEAwIBAwIBAQICAgEDAgEDAQYBAgcGAQEBAgIBAQMBAwEBAgEBAgEBAQEBAQECAQEBAQEBAQEBAQEBBAEBBgEBAgEBAQIDCgEBAQUBAQMBBAEVEgIBAgEBAgIBAgUBAQQBAQIBAQEBBQEBBAIBAQEBBAEBAQEDAgsBAQEBAQEHAgMBAQIDBAMBAQICBAEBAQEBAQEBAgIBAQIEAQEBAgECAQEBEgICAgMEAgMCAgECAgMBAgECAgQFAwEBAQECAgMCAQICAwMBAQICAQEBAgEBAQECAgEEBgECAQIDBwECAgIGAgMCAwIGBgIFAwIJAgIFAgEDAQUDAgIBAQEDAQEBAgEDAgEBAQIBAQICAgICAQQCAQEBAQICAgICBQUDAwECCAQDBBABAwEBAQECAgIFAwoBBwICAgQDAgMOAQoCAQQDAgQCAgUCAwIDAgIBAgIBAwICAgQDAgICBQIDAgMCAgICBAUEAgIDAggDAwMCBAQDAgIFAgICBwICBgQDBQMCBQUDAwMDEQIFCAQCAgICAgQEBAUEBAMDAwMEBAYDBQICAwIIAgIDAwIBAQIBAgEDAgEGAQEBAQEHBAEBAgUBAwEBAQEBAgcBAQECAgMFAQECAQEBAQECAwUBAQEBAQEBAQECBAEBAQEBAQEDAQEBAQEBAwEJAQEDAQEBCAIBAQIBAQEBAQEBAQEFAQEBAgcBCgMBBAYGAgYBAgEBAgEBAQIBAgEEAwEBAQEEAQEBAQEBAQIBAQIBAQEBAQECAgYEAQEFAwIBAQIBAQEBAwEBAgEBAQICAwUBBQMFBwEBAQEBAwMDAQMCAwQCAwMCAgICAQMCAwEBAgEBAgIEAgICAgQDAgECAgMCAwEBAQEBCgEBBQEBAQQFAgICAwICAgIDAgYBBQMDAgENBAMHBAECAgEDBAIEAwQDAgIEAQEBAwQFAwIBAQEBAwMCAgQCBAYCAgMCBQMCDwICAwMFAwIDAQMCAwIDAwICAgICAgIGBAMEAwMMAgICAgIJBgMCAwMCCQIQBAIDFgUCAwIDAgMDAgIDAgIDAgMCBwQDAgMCAxgEAwUCAwICAgUGBAUJAgQDAwIHAgYCFw8EBwQDBgIEBg8LBwMIAwMLBAcCAgMDEQIDBAIDAwEBAQEBAQEBAQECAQEDAgEGBAEDAwkCBAcCAwYEAQMFAQICBwEBAQIBAQQBAQUBAwIBAQMEBAYBEQMCAQEBAQMBAQIBAQEBAQIBAQEBAQEFAgEBAQEBAQECAQEBAQEBAQECAQEBAQEBAwEBAgMCAgIBAQEBAwMEAgIEAQQDAgIMAgIBAQIBAgIBAQICAQEBBAEDDQEDAgEBAQEBAgIBAQEBAQEBAQgEAgIDAwICAQICCAIBAgIBAwEIBQICAQIBAQUBAgIJAwMBAwICAgMCAgICAgMDAgUCAwEDAgcCCQICAQIBAQEBAQECAQECBAUCAgEBAgMDAwQDAwIHAgIGBQIDBgICAgICAgQFAwIDBgMDAgUEAgMCDgQCAgMCAwkDBAIDBQMCAgkDAgIDAhIHBAwDBwMDAggCAwUCBgMCAgsCAgQCAhACAwMEAwIDAwYCAgQCCAMKBg0FAwIFAhICAgQJBgQHAwMGAwQDGQYGAgQDAgYECQIEBQMIBAMEAgIDAwMHAwgCAgMDAhAJAxMDBQMEAwgCBQIDCQIDAgMCBAIDBAMHAwQDBAICAQMBAQIBCAECAQECAwIBAgEBAwMBAgEDAQIBAgEBAQEBAQEBAQECAQIEBAECAQEBAQIDBQENAQMBFQEBAQMCBwECAQEBAQIFAQICAQEBAgEGAgEBBgEBAQEBAwQBAQEBAQICAQEBAgIBAQICBAYBAQMDAQICAgIBAQMBAQECAQEFAQIBAQQBBQEBBAIDAgMEAgICBAIEAgIDAgMMBAECCAEDAwYBBAcBAgIEAQMLAgECAwICAgIDAggDAwMCAgIDAgUBAgEEAQMDAwkEAwIDBAMCAgUCAgIHAQICCQQCAwYDAggEAgIBAQQFAwIBAgEgBQUBAQMCAgEFAQMEBQEDBQIDBQMFAwEECgEEBggCAQEBAgQDAQQBAgQGFAIBAwIBAwIGAgMICAIPAgICAgQHEAIIAwsDBgMIBQQIAgcDAg0DCQMCAwQMCgQEBAkECAYDBA4DBgcFCgIDBQMCBQoFAQQDAQEIAQEBAQECBAEDAQEBAwEBBAIBAQEBAQIBBwEEAgEBBQEBAQIBAQEBAQQBAQEBAQEBAQEBAQEBAQEBAwECAQEBAQ0NAQEDAQEBAQEEAgIBAQEBAQMEAQIFAQIDAQMFAQIBAgIBAwYDAwEBAgEBAQQCAQEEAQUCAwEBAQEBAQICAgIEBQMGAQIFAQIDAgEaAQ8BAQMCAwIBAgIBAgIFAQwBAQEFAwQCAQECAgICAwIBAQECHAEgAQEBAQwHAQUCAwEBBQMHAgMFAQYSAQcDBAYBAwIKAgMGAQ0BAwEBAQYBAQIBAgMBAQEBAQMDAgMFBAMCAgUHAxUFCAMCBAIEAgQDBQQGAgMCBQICEgcCAgIGCgwIAgICAggDCAIHAggFBQcVBwICCQYCAQIFBgYDBBQGDgMDBgQBAQMDBgsCEwcHAQsBDgsGAQEIAQEGAQEBAwIEAQICAwICAgMDAwQDBAMFAgICAgIEBQEBAQEBAgEBAgEIAQEKAQQBAgEBCQEBAQEBCggBAQEBBgEBAQIBAgkBAQEBAQIDAQEEAgIBAQICAgIDAQEBAQEDAgQBAQECAgEIAgEDAgEBAQEBAgIBBgICAQMBBgIBAQIKAgEHCAQGBAUCAgMCAgICEAICAQEBAgcKAgEDAQIFAgECAgICAwEGAQkEBQQBAgIEAQEBBAIBAgYCDQECBgMEAgIDAwICAgIQAg8EBAQCBgIFBgICAgECAgoCBAoBAgMBAQEBAQELAwEBAQEBAQEBAQEBAQEBAQEBCAIBAQEBCwICAQEBAQEBAQEBAQEBAQEBAgEBAgYBAQEBAQEGAQEBAQECAgIBAQEBAQEBAQUBAQIBAgEBAQEBAQECAgIBAgEBAQEBAQIBAQEBAQEBAQgBAQECAQEBAgIBAQEBAQECAQECAQEBAQEBAQIBAQEBFAICAgIBAgEBAQIBAQIDAQICAgEBAgMBAQECCwMDAgMCAQEDAgIIAQICAQIBAwMCAQIBAQICAgEEAgIBAQIBAgICCAEBAQEDAgEBAgMCAQEKAQcBAQEEAQEEAgICAgIDAQIGAgMDBAEYAgQCAgsCAgICBAICAgMCBAIFAh0CAgIDAwICAwICBwIDAwMDAwMGAwIRAgIDAwIDEAUCAwINAgIHAgQCAgIaCh8FAgMCDAICAgICAgMGAwMDBwECAQIEAQEBAQIBBAQPAgIEAQsBAQEDAQEBAwkDAgECBgEBAQIFAgEDAgEBAQMCAwIBAQEBAQEBAQUDBQICBQICAQICAQEDAQUDAQECAgMDAgEBBQMCAgEBAQMQAQEBAQIBAwEBAQIDAQIBAQEBDQINAgMBAQEBAwECAgMBBQICBAEBBAIDAwMDAQEBAQEBAQEDAgIHBAIBAQECAQEBAwIBAwIFBAINAwICBAIDAgICAgUDAQEBBAICAgECBQICAgEIAQICAgICBwYCAgQCAgUCBAICAgQDAwMIAgICAgICBAQDAgQBAQIBGAICAQEDGAIBAQEGAgEBAgEDAgECCQMCFwMFBwICAQIBAgMCAgEDAwUDAQYCAwICAQcCAQIEAQICAQEBARQCAwEFAQEBAgIDAgYCAgECAwEEAgQGAwIEAwoDBAICAgQEAwcCAwQCBgQCAgMCAwQEAwUDBhAEAQEBAQEFDAEBAQEBAgUBAQEFAQEBAQMCAQEBAQcBAQMKAQEBAgIBAgMCAwEBAQESAQEBAQEBAQEBAQEBAgECAQEBAgQCAQEBAQIFAQQCAQEBAQUCAQEBAQEBAQEBAQEBAwEJAQEBAgEBAgEBAQMBAQEBAwEBAQEBAQIBAQEBAQEGBgICAQEBAQEBAgICAgQCAQEDAQMBAQEBAQEBAQEBAQEBBBECAgIBBwEDAQIBAgECAQEBAQEBAQEDAgICAQEBAQEBAQEBAQEBAgICAgIBAQEBAgIBAQEBAwICAgIEAQEBAQEEBAMDAgIDAgIGAwEBAQMEAgICAgUCAgICAgMGAgMRAgICAwQRAgMEAgIEAgIDBAUDAgMCBgMDAgIDBQQDAwIEAgUCAgICAgIDDQMCAgMMBgMCGgICAgUDAgQKAwMDBAQFBgQCCgMEAwcGCAMMBQcEAgMFBAMDBQICAgMIAgIOAwIFCgECAwEBAQQBAQEJBAEJAQEEAQIBAQUCAwEBAQIFAQEBAQEEAQEBAQEBAQEBAgMCAgEBAQEBAQEBAgEBAQEBAQIBAQEBARABAQEEAQECAQEBAQEBAQEBAQEEAQEBAQEBAgIHAQEBAQEBAQEKAQEBAQEJAgQCBxEFAgUDAgYEAgMGAg0JFgICAgkIAwICAgIGBgYEAgMJCwMDBwINAwIGAgMCCgMCBAMCBAoCBBEKBAgDAgQdAwUTAwMKAwUHAwIEAgQDAwgCBgwDAgMDAxAIAwUDAgMCAwICFgIBBAEBAQEBAQIBAQEBAQEBAQIBAgEBAQEDAQEBAgEBAQEBAQEFAQEBAQEBAQMBAgEBAQEBAQEBAQEBBgECAQEBBgEBAQEBAQIMAQEGAgEBAQEBAgEBAQUCAQEBAQEBAQEDAQEBAQEBAQEBAgIDAwICAgMCAwMCBwICBAMCBAIGAwMCAwYCAwIDAwICCAICAgYCAgICCAIEBAIEAgQCAgIDBAUCAgICBAMCAgMCAgIdBAMDAgMCAw8GBQIDBAQDFQQIAwMCAwMIBQIGAwMFAgMCAwIKAgUCBAICAgMDAgICBgQCBAMBEQEBAgYDCAEDAgIGAQEBBAIDAgIBBAIBAQICAQEBAwMFAQEBBAEBCAEBAQECAQECAgQIEwYDAgICAwIFAwIDAQEBAhkCBQwBAQEBAQICAgECAQEBAQYBAQEBAQEBAQMCAwMDAQMDAQEBAQEBBAEBAQEBAwQBAwMDAgQHARUPBgMEAwEDDgQBAwEBHgIDAyMBFQMGBAMBAgIBAQECAwMCAgMHAgMEAxkSBhQFAwIDAwYMBQIFAgMEAgQCCAMQCgMFBAMCBAgDDQcEAggCBgICAwICBAECAQEBAQEBAQEBAwEBAQEBAQEBAQEBBAEBAQEEAgEBAQEDAgEIAQIBAQEBAQUBAQEBAQEBAQMBAwECAQEBAQEBAQEBAQEBCQMCAQsJBAEBBQIBAQECAQEDAQICAQECAQEfAQEBAgUCBgQBAQECAQEDAQEBAQECBAECAQIBBQECAQIBBQICAQEBAQEBAwICAQEBAQIBAQIEAgQDAgYCBAICAwIDAgcGAgUCBAQEAwIIAgkCAgICAwMDAgIGBAICAgICAgMHAwICAgMCBQcCAgMEAwICAwIDAwYDAwIHAgUCBgMFGwcEBgICAgUCAwMCAgIGAgICCgYEAgQQCQQGBAMCAgQCAgYCAwMDAgUCAgYCAwMVBgMDBwQDAgICBwMGAgMDBQcDBwUEAwMIAgUCAwYDAgEGAQEEBAEBCQQDAQEBAQEHAQECAQMFAwMLAgoEAwUCBAUFAgQCAgMEAwICAwMDBAMBAwEBAQEBAQEBAQEBAQEIAQEBAQEBAQEBAQEDAQEBAQEBAQEBAQEBAQEBAQEBAQQBBgEKAQIBAgEBAQEFAQQCAQEBAgIBAQEBAQEBBgIBAwIDAgMBAQEDHQIBCQEBAQQCAwEBAgEBBAwBAwsTAgICBgIOEQMHAgEBBwMCEAUEAgIeAgICDgMJDAMCAwMCFwMCAwIFBAIKCgIDAwYpAgICAQIBAgYCDQQDCAIJAwEDAwURCAgOFQIUBAIIBwIFAwMDAgsCAwMDAgQGCw0GAgEBAQEBAgUDAQEBAQEEAQEBAQQBCQYBAQEBAQMBAQEBAQEfAQoBAQEBAgIBBQEBAQEBAQEBAQEBAQEBAQEBAgEBAQEBBwEBAQECAgMBAQEBAQQDAQIBBAYCAgICAQIBAQEBAQwDAQEBAQEBAQEDAQEBAQEBAwEBAQQCAQEBAQMCAQECAwEBAgQCAQUDAwoEAwICAgIBAgEBAQIBBAcCAQEBAQEBAQEBAg4BAQIBAQMBAQEBAgEBAgEJAQECAQEBAQMBAQIQAQIBBwECAQEBBAICAQEBBQIBAQICBAEBAwECAgIBAgICAwMHAgICAQICBAIIAQoCAQISAQgCAgICAgUEBwQcBQIDCQICBQICAgILDwIMAgIDAwIEAgYCCwQIAgMCBQwFAgIHHAIDAwIDAwIDAwIFFwMDAwIEAwMBAQEBAQEDAQECAQEBAQEBAQEBAgMDAQIBAQEBAQEBAQECAQEBAQEBBAEBAQEEAQECAQIBAQEBAQEBAQEBBAEDAxIWAQEDAwEDFAIBAQIIAQEMAQIBAQMBAQEDBAQBAQECAgMDAgIEAgILAgMDAgICAgUDAxEDAgMEAwQCAgEDAQECCAIGBgICBAIFBAQCAgYCAgIDDAMCAwoCBQIDBAIUAggEBQMlEgMJAwMFDgoEAwMFBAUEDgwCAwUCDRoCAgMGAxILAwMCAwQOHQ4VAwoGAwUCCwMSDQQCBAQWFQMCBAUDAwIOAxQEAwwUCQkFBQUKDAwDBAgLGwQIAxUDBAMFBRAHBAQKAg4OBhMCAwIDAgMEAwUECAQDAwIOBAMCCgIGAw4PAgMMAwMHBAMIBQcEBAMMAggDCAcLDwICCQwDDRsDHwYHBAMKAgYEBAMDAygEAgwHBQkGAwMKBAYOAg0HBwwDBgMDAxUEDQIKBQUEBQoCBQUHAwIEBgUDDxYIBwsDBwMGBgMCBBIPAwMDAgMDAwIDAwcJBgIDBQIJAggDBwUHAwUEAwMMBwQDAwUGBQIRCgcFBBMGBAQLBAMDGgQEAgUJBwQQBAMEAgIDAwQIFBATBhgXBAQEBQQEAwIDBBgNCBwPCAQCAgMFCxICAgIJBAICBQMEAgIEAgMEAgMFBQUDAwQGAwMEAwMIBgQBBQEBAQEBAQEBAQEBAQICAQIBAQECAgMCCAMFBAQCAgICAgEBAwMCAQEEAQEBAQEBAgECAgEHAwMDAgMCAgMFCAQCBQYDAgQCBAQCAwMGBAEBAwIBBgEBBAIBAgEFAQECCAIFHAEBAgEBAQIEAQECAgUCAwIDBAIDBAIFAwIDBAMCAgIFAwMDAwMCAgQEBAEDAQEBAwEBAQICAgMDBAIEBAMCBAIDAwMBAQEBAQEDAQECAQYBAQEHAQEBAgEBAgEBAQEBAQECAQEBAQEDAQQBAQECAQIBAQICAgIDBAcCAgUEAwIDAgEDAQEBAQICAwIDAwIDAwIDAQEBAQEBAQEBAgECAgEBAQEBAQMKAQEBAQQBAQEBAQEBAQEBAQEBAQEBBAEDAgEBAwICAgICBQICAgMCBAsCBgIBAwEBAQsBAQECAQEBBAEBAQEBAgEBAgMBAQIBAwEBAQMEAQEBAQEBAQEBAQMCAgICAgIBAQECAwQDAwYCAgEBAQEBAgIEAwICAgMGAwICAwMCAQEBAQEDAwIDAgQCAgQFAxMCAwMEAgIDBgUFAgUGAgYCAgIEAgICAwQFAQICAwkGAgMEBgMCAwIDAgIBAgMDAwIEBQQEBAEEAgkCBAUBAQEIAwYECAQDBgcEAQQDAwECAQEBAQEBAQEBAQEBAQEBAQEBAQEBAwEBAQEBBAEPAQEBAwEGAQMBAwEBAQEBAQEBBAEBAQECAQEJAQMBAgEBAQEEAQECAQwBAQECAwEBAQEBAQIBAgEBBAQBAgMCAgQCBwECAQIBBwEDAQQDAQIBAgQBAQEBAQIBCgICAgMFBQMCAgECAQEGAQEBAQIHAwMFAgECAQMEAQEDAh4DIQICAwEBCwIBAwIFAwQDCAgCBwIDAg0CBQMCAwQUAgQDBAcBAwMCBQICBQQDBQEEAQQDAgIBAiIDAwIFAgEBAQIDAw0KAgIFAQEDAQELAQEBEQQDCwEBAQEBAQEBAQEBAQcBAQECAwEBAQEaAQIBAQEBAQEBAQEBAQEBAQEBAQUEAQMBAQMCAQQBAgEBAQEBAQEBAQEEAQEDAQEBAQEBAQIBAgMBAQEBAQIBAQEBAgEBAgEBAQECAgECAQEBAQICAwEBAQEBAQEBAQIBAgEBAgEBAQMBAQIBAgEBAQEBAgIBAQICAQQBAgICAgMBAgIBBgEBAQIBAQEBAgEEAQEBAgEBAgEBAgEBAQEBAQEBAwIBAQICAQIBAgMCAQEEAQUBAgIBAQEDAwMCAQMBAQEBAQICAQEBAQQCCAIEAwIBBAEDAgMCAgQCBgIDAgICAwMCAQEFAgEBAQECAgIDAwIBDAIDAQEBAgMjAgkDAwQCBQIHAwECAwQCAgQDAgIEBwIDCwMCAgICAgICAgMBAwEDAwEDAwEDAwIFAwEDAQMBAQYEAQEFAQEEAgIDAQIFAQEBAQEBAQEBAQEBAQECAwECAQEBAQEBAQEDAQEBAQMDAQEBAQEBAQIBAQIBAQEBBAEBAQEBAwICAQEDAQEDAQEBAQECAQEBAQEBAQUBAQEBAQEBAgEBAQIBAQEBAQMBAQEBAQEBAQEBAQEBAQEBAQgCAQEBAQEBAQEBAwEBAQEBDQEFAQIBAQEBAQEBAQIBAQEBAQEKAQEBAQEBAQEFAQECAQEBAQEBAQEBAQEGAQECAgIDAQEBAQgFAQECAQIBAQECAQEBBgEBAQECAQIBAQICAQEBBQECAgEBAQIBAQYBAQIBAQIBAQEBAQEBAQECAQEEAQMBAgEBBQIBAQMBAQEEAQEHAQEBAQEBAQEBAQEBAQEBBgEBAQMFAQIBAQEBBAcBAQEBBAQBAgEIAwEBCwICAQIBAwUQAgEDAgERBQgBEwEFAwQBAgoBASsFAgEEBAEBBgEDAQYBAQEBAQQBAQQBAQEBAQIBAQEBAQEBAQEBAQEBAQEEAQEBAQEDBgEBAgEBAQEBAQEBBQIBAQEBAQEBAQEBAQEBAQEBAQEBAQEBAQEBAQYBAQEBAQEBAQEBAQEBAQEBAQEBAQEBAQEBAQEBAQEBAQECAQEBAwEBAQEBAQEBAQEBAQEBAQEBAQEBAQEBAQEGAQEEAgEBAQEBAQYBAQEBAQEBAQEBAQEBAQEBAQEBAQEBAQMBAQEBAQEBAQEBAQEBAQEBAQkBAQEBAQEBAQEBAQYBAgEBAQEBAgEBAgEBBgEBAQEBAwUBAQEBAQEBAQEBAQEBAQEBAQIBAgYBEQEHAQIBAwIBAQIBAQIBAQEBAQUBAQEBAQEDAQEECQIBAQIBBAEIBAcBCgEFAQUBAgEBAwMGBAMBAwEHCQUDAQQDBgUDFA8FCgIHDhsEBQMFAQEBAQIBAQEBAQEBAQIDAQEBAQEBAQEBAQEBAQEBAQEBAQEBAQEBAQEBAQEBAgEBAwICAgICAgICAgICAgICAgICAgICAgICAgICAgICAgICAgICAgICAgIDAgICAgICAgICAgICAgICAgIEBwICAgICAgMKAgICAgICAgMCAgICAgIDAgICAgICAgICAgICAgICAgIIAgICAgICAgICAgICAgICAgICDwICAgIKAgICAgICAgICAwICAgICAgICAgICAgICAgICAgICAgICAgIFAgICAwICAgIFAgIHAgICAgICDQICAgICAwICAgQCAwICAgICAgICAgICAgICAgICAgICAgMCAgICAgICAwICAgICAgcCAgIIAwIEAwIDAwQCAgcDAwIDAgMCAwYDAwIDBAICDAUCAwMDAwICAwIOBgIDAwMDAwQDAgMCAwMDAgMCAwIDAgMCAgMEAwIDAgIEAgUDAgMCAwYDAwMDAgwLAwMDAgMCAwMDAwMDAwgDAwMDAwICAwMCAwMEAwMDBAMDAgMDAwMDAgMDAwMDAwIDAgIDAwMDAwQDAwMCAgICBAgDBQUDAwQCAwICBAMDAwICAgMDAwMDBAICAgMDBQMDAwUDAwMDAwMCAwMFCAYEBQMCAwsFAwIFBAYDAwMCAgIGAwMDDQMDBAMEAwQEAwQDAwQDBAQDAwQDAwMECgMDAwICAwMFBgMDAwQEAgMDBAMKBgQEBAQDAw4DAwMDBAQCAgMDEwMDAwQDBAIDAwIDAwIEAwMDAgICAgQDAgMCAgIDAwICAwMEAwQEBAUEBAQDAwMDAwIEBAYEBAIEBAUFAgICAwQCAwIEBAQEAwMFAgICAwMCBQQDBAQEAwMFBAQDBQMDBAUFBAQCAwQDAwoEAgMCAwMEBAUEAwQGAgQDAQwCBQEFBAEBAQEBAQEBAQUBBgEBAQEFAgEEBAQEAQEBAQIGAgUEAgQBBQMEAQIBBAMCAgICAgUFCQIICwYHAQUFBAUEBAYCDgICCAUFBAMCAgUEBAQIBwQEBQMDAgQFBAUEAgcCAwQFBwQCBAIEBQYDAgIFBAQEBAQDAwQHBQwDBgUDAwUEBQQEBQUGBQgGBQMFCAUGAgQHBAgFBgIEDgYEBAgCBQQHBwgDBwMFBgQGBAEBBwEEAQECAgECAQEBAQIBAQEBAQEEAQEDAQEBAQEBBAEBAgECAQECAQEBAgIDAQEEAQIBAQEICQIBAQIBAgIBAQEBAgECBwEJAQEBAQEBAQEBAQEBAQIBAQEBAQEBAQICAQIBAQECAQIBAgEBAgYBAQEBAQEFAgECAQECAwMHAQEEAQICAgIGAwIQCQICBgICAwUFBAcEAwEFAwIFAgIHBgIGBQQCAgYCBQIGBgICBgoCBwUGBwYHAgYCAQUBAwILBQgFAgYCBQQCAQMBBgcDCwMBBwICFAIBAgMDBgEEAgICAg4BAQMBAQEBBAEBAwcBAwIBAQEBAgEBAQEBAQEBAQIBBQEBAQIBAwEDAgECAwEBAQECAQECBgEBAQEBAQEBAQIBAgEBAgEBAQoBAQIFAQEBAQEBAQEBAQEBAQEBBgEBAQEBAQEMAQEBAwIBAgMCAQECBwEBAQECAQEBAQEBAQEDAgMBAQEBAQEBAwEBAQEBAQEBAQIBAQIBAQEEBQECAQEBAQECCwICBwIDCwYGAgIBAwQCCAMRBwIDCAICAQIBBQIBAggDAwMCBQYCAwUCAwIDAQUBAwIBAwMFAgIDBAICAgIDAgMEAQgCAwICAwECBgUCAwECAQIDAgMJBAsBAQMGAgQCAgQCAxEDBQQKBQMDBwIBAQEIAQMBBgIDAQICAQMJAgICAwIDAgIJAwUDCAQDBAYHBAkKAwoEBgIBCwMDAgQCAQIBAgECAgEBAQMBAQEBAQECAQEBAQEBAQEGAgEBAQUBAwEBAQEBAQMBAQEKBwEBAwEBAQEBAgEDAQMBAQEBAQEBAQEHAQQDAQEDAgIBAQIBAQMBAQEBAgEBAQMFAgEBAQEBAgEBAQEBAgEBAQEEAwEBBAMCAQEBAwQBAQEGAQECAwcBAgcCAwECAwcCAwUDAwMFAgYCAgIHCQsHBAQCCQkGAgMKAgMDAgQCBAYLAwUDBgIDAgIHBAQCAgMCBQUCAgMCCQMCAwMEAwQFAgQCAgoIBQMCAggBAwEYAwMGAgEBAgcEAgIHAwMDAgIEAgICAgICAgMCAwQCCAICAgQDBBACBQcDBAMCAwICBwQCBAMDAgYBCwcBAgEDBAQBAQICBAICBAQUAwQCAQECAQEDAgEEAQEBAQQBAQYBBAQBAQEBAQEBAQEBBAEBAQEBAgEDAwEBAQIBBgUBBAYKAQgIAgEBAQMDAgEBAQMBAQEBAgMBAQQBAQsCAQEBAQEBAQEEAwIIAQIBAQEBBAIBAQcBAQECAw8DAQIBAQUBAQEBBQIBBAECAgIDAwEEAQUBAwICAwECAwMBAQEDAQMBAQQBAQEDAQgBAQIBAQEFAQcCAwMCCwEFAQEBAQMBAwEJCQIBAQQJAQEBAQECBAMBAQECAQECAwkCBQEBAQEBBgEBAQEBAwQBAQkFAwIFAwIFBAMDAgoCAgIMAwQDAgIEDwQEAwMFAwIEBAIDAgIDAwIfAgUEFAcCAgkDCgMFAgUDAwIEAhwFCwIVAgMHAgMEAwMDBAICAwgJAgMOBAMUCwMCBQIDAwcDAwMHAgECAwIDAQIBAQMFAwEBBQgEBQUDAQEBAQEBAQEBAQEBAQEBAQgBAQMBAQEBBgICAgQBAQEBAQMBAQEBAQEDAQEBAQEGAQEBAwEBAQgEAQ0BAQEBAgIBAQEBAQEGAQEDAgEFAQICAQICAgEBAQEBAQIBAQEBAgICAQEQAwICAQEBAQIBAQwBAQEDAgIBAQgMCQEDAQMBAwICAgMDAwMBAQEBAQwBARECAQIDAgICAgEDAwECAgIEAwIBAQEBAQEBAQEEAwEGAQIBAQEBAQECAgICAgIHAgsDBAICBwMJBAIGAQEEBwkEAQICAgEBAgMCFQIBCgICAgcCAgMCBwIDBAQNBQUCBAMDBAIFCAMNAwIFBwMCDxEFAgIBBAQKBAQDAggDAgUFAwICAgUDAgsDAgMCBAIDAQEFAQECAgEGAQkBAgICCA0FAgMCAgMCAgQFAwgEBQYKCAICAQIBAQEBAQEFAQMBAQEBAQEBAQEBAQEBAQEBAgEJAgQBAQMBAQEBAQEBAQEBAQEBAQEBAQQBAQIBAQILAQEBAQEBAQEBAQEBAQsCAQYBAQEDAQIBAQEBAQEBCQECAQEBAQECAQEBAQEJAQEBAQEIAgICAQECAwQCAQEBAwUFAgEBAgECAQEBAQEBBAEDAgECAgECAQgDAgIBAQIBBQUBAgICAgEBAwMCAgICCAEBAhECBAIBAQMEAQIDAgQBAQEDAgIBAQYDAgECGAIEAgIEAQMDAwICAwQGAgEBBAECBgMBAwICAgIJAgsHAgEEAwMDAgEKAgsDDAMCAgQKAgMCAhECAgQDBQETAQMBAQEBAgYFDQICAxACAgQCBAICAgIFAwMDAgIGAgYDBAUFAgMCAwIECgUCAgMEBA8DEQMEAgICBgQCAgQCDQIFBQMFAwQdAwQDAwIDAgYGBAMEBxQCAQQBAQEFAQECGAEBAgEDAQEBAQEBAgEEAQEBAQEBAQEBAgEBAgcDBQIBAQEBAQEBAgEBAQEBAQIBCwIBAQEBAQQBAQIFAwECAQEBAQEBAQICBgEBAQEBAQECAQICAQECAQYBAQEBAQICAwIBAQEBAQEBAQIBAgMEBAECAgIFAQEHAQEBAQEBBA4CAgEBAQEBAgEBAQEBAQEDAQICAQQBAgICBQICDAECAQEDBQEEAQMFAgIEAQIEAgECAgEDAQIDBQIBAwIDAQMBAQIBAgICAwEJAwUCCwECBg4BAQEBAQEBBgEFBgEBAgoCAwIEAgMEAwIDBgYCAgICAwMFBAIKBQUDAgoDBQMHAwITAgMDBAIQAgMCBgMMAwICAwICBwIDCgICCQwCBAQQAgQFAwcCAgIEAwUCAQECAQEFCAEBBAEBAQsBAQUBAQIBAQECAQIBAQECAQEFAQEBAgIEAQIBAgIBAgEBAQEBAQEBAQEDBQIBAQIBAQIHAQECAQEBAgEBAQIBAQECAggFAgECAQQCAQECAgMBAgEBAQECBQEFAQIFAgEBAgIBBAMCBgMBAQEBAwEBAQIBAgEBBQUDAQECAQMMAgECAQEaBwECAgQDBAkCAgMCDQIBAQYCAQEBAR4BBQcPAgMCBAIDBQIEAQEECgIDAwIDAgMLBwMDAwMEAgMECQMHBQYEBQMCAgQCBQwDDgMFAwkGBAcEAgIGAgMMBQMCAgQRBgIFAh4FBgMKEQIJAgICAwIDAwgDAgIFAwMDCxQFAgIFBgIBAwICAgYBAQICAgECAgIBBwIBAgIFAQECAQEBBAEFAwIBBwECBAIDBAEBAQEBAQQHAQIBAQEBAgQBAQMMAgMBAQYBAQUBAQMEAQMBCRcBAQEDAwEECQEBAQMBAwEBAQEDAgIDBQYBBgUSAgQEAQMCAQEDEgIBBAMBCAUDAgMDAgIDAgUKBAIEAwoBAh0CAgUIFgECAgMCAgMFAwIDAgMDCAMJBQcDAgcIDwUDBAMIBwQCAwsHAwUIBQIEAwsHAwQFBBMMAgQEAgQFCwQDBwMICgwEBgIFBAIGAgYLAwYDAwMEAwIHAwIFBhADBQQCBQQGDAMJDAcCDgMGGAgEEgYDBAIPBwMECQ0EBgQDEAQEBgQHAgcEAgYGAwoLEQMIAgMIBBAJAwIEBRAFCwYDBggGBAcCFAcHFgMBAQEEAQcBARQOBQEBAQIBBAQGAQECAwEBBAEBAQQEBQECBQEBAQEBARUBAgQBAQMBBAECAgIBAQEBAQICAQIBAQEEAQEBAQMCAgECAQYEAQEPAQEBBQICAgEBAQEEAQIBAgMDAwMDAgICAgIBAQEDAgECAQICAgEDEw4DAQIDAgICBAEBAQUHAQEGBAEEAQECCwQGCAMDAgIBAQEBEgMGAgMDEQMCAQUBAQMBCQEBBgMMEQEGAwcDAQMFIgIFDQQCBAEBAQEEAwYDBAMFBwQDAwYFAgQEAgMNBAUFCwMCDAUGAwcHBQMCAwkFBAYCBAEFAwkDAhgGFAIIBQcDAgsGBQMGEwgEBgYEDgoXHgMDBAYNFQYEBgcIBwQEBQMDAwUDBQsCAgYCAQEBFAEBAQIGAQIBAQgBBQEBBQEBAQEBAQEBAQIBAgECAQEEAQEEAQQBAQIBAgEBAwEBAwECAQEBAQECEwQIAQECAQEBARYBAQIIAR0BAQECAQEBAQEBBQIBAQEBAQECAwECBAQCCQIBAQYBAQYCAgECAgQCAQMBAgEDBAMCAQQPAwIEBAMEAggQAgIBAgECAQEIAQYCAgUFEgICAgcEBgINAgUCAwMBBwcFAQQHAQMKAQcCAwMLAgQDAwQFAxEFAwMCBwIKAgMDBQMBAwQCAQgBBAEEAQEEBwIDAwEDBQUBBAEDAwMDBhEDAwMCCQMGBwMDBQYCBAMFAwMGBQIDBAgRAwMIAwMDAwUIAwoEAwMECwMFCAcDBBcDCAMEAwMUBAQKAwICCwIDCA8EBQsCAgwUBA4KCgUEBQIEBgYCBRsDBhEQBgIHBAMCBQIDAwoDBhAXDBgFAwIDAwMCAwMIBAIDBQEDAwMBAQEBAwMBAwEBAQEBBgEDAQMBFwQFAQEUAgcDAQEFBQEBAgIBAwEBAQEBBgEBBgECAQIBAQETAQcBAQEWAQEBBgMBAQEBAhABAQQBAQUFBAEBAQEBAgIFBAEBDgMBAQEEAQEBAR0BAQECAgEDAQEBAQMBDAEBAQEBAQEBCAwGCAINAQECAQICBg8BAQECAQEBAQQBAQYBCgIBAQEBAgMHAQICBgMhAgYBAgEBAgMCAgIDBwIBBQMLBQIFAwYMCQoKAgMDAgQCBwMBAQEBBQEFAQoBAgEBAwMDAQEEAQUBBAEBAQEBAx0FCAQEBRkQAgkCAhQHBgUbIQgfBQYREgIDBAUiAgUYAwcDEgQDGwMIAwUCAwYDEiMcEggDFSAbAgMhDggDEgcEBAMZBAMGBwMDAxkXAgMDDiMDAwIFBxUGCAYKKwgQBAMIBwUHCQQGCAwNBgUEAwUJFBEECggoBBAFHhsEAwcEBQcGDA0QBQYNBAIDBwgRDAgMBg8EGQMDGAMfBxYDAwYDFQUDDg0HAwoFCgUEBgUECwcDCRUDCBUBAQEBAQEBAQEBAQEBAQEBAQEBAQEBAQEBAQEBAQEBAQEBAQEBAQEBAgEBAQEBAgEBAgEBAQIBAQECAQMBAQEBAgEBAQEBAQEBAQEBAQEBAQMBAgIBAgEBAQEBAgIBAQIBAQEDAgEBAgQBAQECAgEDAgIBAgECAgEBAwMBAgICAQIBAgECAwEBAwICAQMGAgIDAwIEAwICAgICAgICBAIDAwMCAgICAgICAgIDAgMEAwEBAQEBAQEBAQEBAQEBAQEBAQEBAQEBAwECAQIBAQEBAwEBAQEBAQEBAQMBAQECAQEBAQEBAQEBAQIBAQEBAQEBAgEBAQICAQEBAgECAgEDAgECAQEBAQQCAQIDAgECAgEBAgECAgICAgIDAgICAgEBAQECAQQBAQEEAQICAQECAQIBAQECAwMCAwIDAgICAwMEAwICAwICAgIEAgICAgQCBAICAgQCBQMDBQUFAwICBAICAQEBAwEBAQEBAQEBAQECAgEBAQEBAQEBAQEBAQEBAQECAQEDAQEBAgEBAQEDAQECAgIBAQEBAQEBAQEBAgECAQECAQEBAgEBCQEBAQEBAQECAQEBAQEBAQEBAQEDAgICAgUDAgECAgMCAgEBAgIBAQEBAQIBAQEEAgIBAQECAQECAgEBAQEBAQECAQEBBgEBAQICAgQCAgEDBAICAQEDAQQBAwcDAwMFAQEBAQEDAQMDAwMBBwEDBQUFAwMDBAMDBAIDAwIEAgQDAwMDAgQDBgkEBgUCAwMCAgICAgMCAwIHAwEBAQECAQEBAQEBAQEBAQEBAQEBAgEBAQEBAQEBAQEBAQEBAQEBAQEBAQEBAgEBAQEBAQIBAQEEAgEBAQEBAQEBAQMBAQEBAQEBAQEBAQEBAQIBAQEDAQEBAQEBAQEDAQEBAQEBAQQHAQECAQEBAQECAQEBAQIBAQECAQMCAQUCAgIFAgIFCgICAgMDAgICAgUDAgECAQEBAgQCAQECAgIGAQECAgUBAgICAQEDAgEBAQIBAQICAwIDAQIBAQEBAQEDAQIBAQMBAQQDAQMBAQUCBwMDAgMFAQECAwEBAwIDAwUDBwUEAwMHAwMDAwQEAgMDAwMFAwIEAwIDAwMDAwUDAgMDBAMEBAQDAwMDAwQDBgUEAwUHBAEBAQEBAQEBAwIBAQEBAQgBAQEDAQEBAwEEAQEBAQEBBAEBAQEBAQMBAQEFAQEBAQEBBgEBAQEBAQIBAgEEAQICAQEBAQEBAgECAQICBQMCBQEBAQEBAQEBAQEBAQEBAgEBAQECAwEBAQEBAQEBAgEBAQEBAQEDAQEBAQEBAQEBAQEFAQECAQEBAQECAQECBAEBAgECBQICBwICAwEBAQIBAQUCAgIBAQIFAQIBAwYEAgICAQUBAQEBAgMBAwEDBAcDAwEBAQcFAQEBAgEDAQEDBQEDAwEBBAMDAwQEAgIEAwMIBgMGAwMDAwMEAgMDAgQFAwMDAwUDAgMDBAQDAwIDAwUDAgcDAwQDAgMCBQYCBAMDAgICAgMBAQIDAQECAgIBAgECAQEBAQEBAQEBAQEBAQIBAQEBAQIBAQICAQEBAQEBAQMBAQEBAQEBAgEBAQEBAgICAQEBBAIBAQEBAgEFAQEDAgICAQEBAQEBAgMBAQEDAQECAgEBAQEBAQEBAQIBAQEBBQECAQEBAQIBAQEBAQEBAQEBAgICAgICAwICAgYCAgIJAwICBQICAwMBAQIDAgICAQEDAQEBAQEBBwEBAQECAgEDCgICAwMCBgMCAwMDAwIFAgIDAwEBAQQBAQIHAQEBAgcBAwEBAgYDAwEDAwMDBQMFAwUDBgMDAgUDAwUEAwUEAgMDBQMFAgMJAwMDBQIDBAMEAgEBAQIBBAQCBQYFAwYBAQcGAwEBAQUBBgUDAQEBAQEBAQEBAQEBAQEBAQEBAQEBAQEGAQMBAQIBAgEBAQIBAQQBAQEBAgEBAQUBAQEBAQEBAQEBAgIBAQEBAQEBAQIBBAEBAgICAQICAgIBAwEBAQEBAgEBAQECAQEBBQEDAQEBAQECAgECAQIBAQIBAQEBAQMDAgEBAgIFAgICAgICBgICAwIBAgIBAgICBAICAwECAgEBAQECAgICAgIEAQMIDAUBAQgBBAEEBQMFAwIIBAQDBQMCAwIDBAUDBAMHAwMEBwIDBgMIAwQEBQIFAwYDBgMDAgQCAgIDAwYHBAEBAQEBAQEBAQEBAQEEAwEBAQECAQEBAQIBAQEBBAMBAQICAQIBAQEBAQIBAQEBAQEBAQEBAQMBAQECAQEBAQIBAQEBAQEJAQEBAQEBAQEBAQEBAQECAgEBAgEBAQEBAQEGAQMBAQEFAQECAQEBAQECBAMCAwICAgICAgIBAgICAQMCAQEBAQEBAQIEDAICBQEDBQELAQEBAQEBBAEBAwUBAQEBAQEEAQIDAQEDAgIFAgEBAQIBAwMEAwMDAwMGAggCAwMCAgMDAwMFBAMCCAgDAwUEAgQCBQgEAwIBAQEBAQEBAQEBAQEDAQEBAgEBAQEBAQIDAQEBAQEBAQEFAQEBAQECAQEBAgEBAQEBAwMBAgMBAQEBAQEBBgICAwEDAQEBAQEBAgEBAgEBAQICAQECAQEBAgEBAQMCDQUBAQEBAQECAgEBAQEBAQEBAwYBAgMCAQEBAQEBAQEBAQIFAwMCAgIBAgEDAgEBAQIBAgEDAQIBAQEBAQQEDgMDAwEBAgICBAEDAQQBAgEBAQEIAgMBAwICAgQBAQEBAwIDAQIDAQIEBwEBBQEBAgIBAQEBAQIEAwEDAwMDBQQBAQIBAQMCAwIDBAMCBQMEAwIDAgMCAgMDAwUDBwMFBAICAgICAwQCAgICAgMCAwMCBAcFAgUJCQICBAMDBAkGAwIDAwUCAgIDAgsCBAUCAgICBQMCAgIDAwIEAwICAgIEAgUDAwICAwQCAwwDAgICAwMCAgICBAICAgIHBAcCBwICBAICBQQEAQQCAgEBAQEBAQQBAQMBAQEBAQEBAQECAgMBBQMBAQMBAgMCBAECAQEFAQEBBAECBwICCgMBAgICAwMEAgQDBwEBAgIDBgEBAQEBAQECAQMDBQMEBQUCBAICBAIKAwcCAwoCBgMDAwQGBQYDBgMCBAgLBAQDAwcMDAQDAgUFBwQFAgIKBgMEAwUDAwQFAwcFBAcFBgMDAgYCBgkCBAUECQUCBgEBAQEBAQEFAQECAQEBAQEMAQEFAQEBAQEBAQkBAQEBAQEEAgEBAQQEAgEBAQEBAQEBBwEDAQIBAQEBBgECAQICAQECAQIBAQIICgQDAQEGAQIBAQEBAQEBAQIBAQMCBAMCCAUDAQIBAQEBAgIBAQMDAwEBAQEBAgEBAgEBAQQBAgIBAwEDAQIBAQQCAwINAgIGAhECDQcEBAIDAgEBAQMBAgEBAgMBAQECAQIBAQMBAQICAQEDAgICAQEBAQoEAQEBAQEBAQEFAQQBAQEBAgEBAgEHAgEDAQEBAQEBAQECAgEDAQUCAQEBAQEBAQEDAQsCDQEEAgIBAgIBAgIBAQwDAQMDAwMDAwEGAQMBAwEBAQQMAQEFAwEBAQEBAgQBAgEBAQMDBgUDAgUEAgMDAwMDAwMHBQgFAwsDAwUDAwMDAwQDBwIEBgIEAwMFBAIDBQMJBQMCAgQDBgUDAwMFAwMFBAIDBwIDCAIDCwQEBAQFAwMDBAQFBAQJAwMDAwEBAQEBAQEBAQMCAQEBAQIBAQEBAQEBAQIBAgEBAQIBBAEBBAMBAQEBAQEBAQEBAgEBAQEBAQECAQEBAQEBAQECBAIBAQEBAgICAgIDAQEEAgIBAQEBAQIBAgIBAQEBBgICCAIBAQICAQECAQICAgEBAQICAQEBAQMBAQEBAgICAgEBAQ0CAQEBAgMBAQEBBQIBAQEBAgECAgMCAgICBgICAgYBAQIFAQMCAwICAgIBAgEBAQECAgICAgILAgIFAQEBBAECAQEBAQEBAgIBAQIBAQEDAQoBAQUDAwIDAwMCAgYDAwMBAQEBBwIEAwQDAwMEBQMDBAMMBAIGAwMEDQMDAgMGBAMDAwQEAgMDCAMHAwIDAwMDBQMDAwIDAwIDCAcEBAYJBAMEAwMDBwMGAgMEAwMEAwMJCQQBAQEBAQEBAQcBAwEBAwEBAQEBBwEBAQEBAwEBAQIBBAEDAQEBAQEBAQECAQEBBAIBAQQBAQEBAQIBAQEBAQEBAQEBBgIFBgIDAQEBAQEBAgICAQEBAQEDAgEBAQEBAQEBAQIBAQEBAQEFAwEJAgEBAQEBAQUDAgMCAQECAwICAgMDAgIHAgIDDwIDAwICAwMBAQMBBQIBAQUBAwIBAQECAQEDAgIEDwYEAwMEAwEDAQEBAgEGAgEBAQEBAwEDBQEBAQMDAwMDBQkFAwcDBAIDBwMNAwMDCgcDAgMGAwQCAwMEAwMDCgMDAQEDBwEBBwUBAQEEAwEBAQEOAwEBAQkDAQEBAQEBAQgEBQMDBgQEBAEBAQEBAQEBAgQBAQEBAQEBBgEBAQgBBAEBBAEBBAIEAQEBAwIBAQEBAQIBAQEBAQEBAQEBBAIDAQkBAQICAgQCAgEBBQEHAQEFAQMBAQEBAQMBAQEBAQEBAQEBAQEDAQIJAwEEAQEBAQINAQIBAQEBAQEBAQQBBgMLAQEBAQIBAQEBAgEBAQEBAgICAgMCAgICAgQNAgIFBAQCAgMCCgICBAQCBAILCQMCBQIEAgMHBAIDAgICAgQCBAIHBAQBAQIBAQMCBgIPAwIKCQICBAICAgIDAgECAgQFAwIDAwMBAwMDAgMCBQEBBQEBAQEBAQMBAwMDAwQEBwcCAgIEAwMCBwUFBwQEBQYDAwUKBgcEBgUFBwMDAQIJAwEBAQMBBQEFAQEBAQUCBQIBAQEBAwEBBQQCAwEBCAEBAQUDAQMCBwIDAwMCAgMHAwUKAgQCAwICAgMHCAMEAwMKAwUCAgQHAgQEAgIIAwgCAgIDAgEHCgICAQEHAgMDAwIDAgICAgICAwICAgIDAgYFBQICAwkDAgIDAg4CAgMCAgIMAgICAwICAgECAgICAQIBAQEGAgMEAwICAwIFCwICAwQMAgMCAgsCAgMDBgMJBwIEBQMJAgMEAgMCAg0CBgIDAgQFAwIEAgMFAwYDBAMFBAQDAwIEAw8DAgMEBQMDBAkDAgQCBAICAwMEAgMDBAIGBAUCBwQCAwcIAgMEAgQEAwYDBAIEAwMDAwMJAwUEBAIFBAUNBQIFBwUEBQMGBAUIBAIDAwUFAwILAgQCCwQEDg4DAwIDAwMCBAQDDAYECQUCAggKBQQJBwICAgIKDwQFAgEBAQMFBQEBAQEBAwQBAQEBAQEDCwINAgMBAQEBAQgCAgECAQENAQQCAQMLAQEBAQEBCgEBAQEBAQEBAQEBAQEBDAwDBwUHAgkGAgIBAgIBAQcBAQICAQEBAgIBAQEBAQEBAQIDAgYBGwIFAgcGCwMMAgMEBAICAgIDAgIDEwIKAgIKAgMCDQMJDgYDAwICAwgIAwQHEwMFBAUFAgUIAgUCCwIDAwcDAgQDBAQGBAIDAgYFCQUEAgsFBgMFBgIEBQkKCgUHCgMCAgMEAgQGGAILAwIGBAUECAUCBAIECwMEBQcLAg4HBgUEAgIEAgYCCQMFCAEBAgEJAwEBAQYBAw4GBAEEAQIFAQMBAQEBAQEBCw0CBAICBgMIBwIECQIFAgoCBAMEFQUDBAIDEAoCBQoOBgsEAwcCAgQDCw4JAgINAgQEAwsCAwIFBAMNAwIDBgMGBwYEBAMCDA8ICw0CEQQNAgIDBAoKBQYDBwcHBAIFBAMDBQICBgQFDAMHBQIRBQIFBwIHBwUCBAMEBQIGCQkJAwMEBQICCAIDAwUCBgIIAgQDCwUGBgIGBwQEAwMCCgMICwYLAwMDDQIFBwMCBwgGCQ0JAgUFBwsCAgMFAgYCAgIEBAsCAwQEAggGBw8KDAYSAQMBAQECAgYBBAEBDhIBAgUBAgEBAQICBQEBBgEFCQEBAQQCBQIFBQYGBBYCBAsCBAMNCAUDBwMCBgwHBQoCBwQREQIDDxEECQgOFQgIDwsMAwoEBQQECgoICggFCQ4EBAMEAwgIBQsCAQ8FEhQJEREBAQsGDgIBEQoQCAsJBAEJAggBAQEBAgkHBAUBCwwKBAQFCgkBAgIBAQUBAQEBAgMJEQQIBwIRCggCAgQFBwMXEgUIAgUFBAQCBAIGDgQKBAgBAQ4LBQoFEgYJAgUHBAMLDQgBAQMKAQEBAg0JAQEGBgEBAQEBAQEIAQcNAwkDBwIEARAHAQEBAQMEAgIBAQEKAQEDAQQCAQEBAQQBAQEBAgEEAQIBAQEBAQEBAQEBAgECAQECAQEBAQEBBwUBAQoBAgEBAgEBAQIBAQEBAQEBAQEBBgEBAQEBAQEBAgEBAQkBAQEBAQgBAgEBAwICBAICAgIDAgkCCQICAgIHCggKAgcDAwICAgIOCQIBAQMBAQsCAwIBAgEBBQEJAQEBAwECAQIFAQIBAQIEAQIIAgICAQEBAgMBAwECAwEBBgUFBAoDAwkHAgYFAwIDBwEBAQEBAQEBAQEBAQEBAQEBAQEBAQEBAQEBAQEBAQEBAQEBAQEBAQEBAQEBAQEBAQEBAQEBAQEBAQEBAQEBAQEBAQEBAQEBAQEBAQEBAQEBAQEBAQEBAQEBAQEBAQEBAQEBAQEBAQEBAQEBAQEBAQEBAQEBAQEBAQEBAQEBAgEBAQEBAQEBAgEBAQEBAQEBAQEBAQEBAQECAgEBAQEBAgEBAQEBAQEBAQEBAQEBAQEBAQEBAQEBAQEBAQEBAQECAQEBAQEBAgMBAQEBAgEBAQEBAQEBAQEBAQEBAQEBAgICAQEBAQEBAQEBAQIBAQIBAQEBAQEBAgIBAQECAQEBAQEBAQEBAQEBAQEBAQEBAQEBAQEBAQEBAQIBAQECAgEBAQEBAQICAgEBAQEBAQEBAQMCAgICAgICAgIBAgIBAQEBAQEBAQECAQEBAQEBAQEBAQEBAgEBAQECAQIBAQECAQECAQEBAQMDAgIBAgEBAgMBAgEBAQECAQEBAQEBAQIBAQEBAQEBAQEBAgEBAQEBAQEBAQICAQEBAgIBAgIBAQECAgIBAQMBAQICAQIDAgIDAQMCAwIBAQMCAQEBAgMCAQECAQECAQEBAQEBAQICAQEBAQEBAQEBAQEBAQEBAQECAgEBAQEBAQECAgICAQEBAQECAgIBBAIBAgECAQMBAQEBAQECAgICAwICAgICAwICAgICAgIDAgICAgICAgICAgICAgICAwMCAgICAgICBAICAwICAgICAgICAgICAgQDAgIDAgQDAgICAgICAwIDAgQCAgICAgICAgIDAgICAgMDAwMCAgMBAQEBAQEBBAICAQQCAQMBAQEBBAQBAwMBAQEDAQEBAQEBAQEDBQECAQEBAQEBAQEBAQEBAgEBAQECAgEBAQEBAQEEAQECAQEBAQEBAQIBAQEBAQIFAQEBAQEBAQEBAQEBAQEBAQEBAQEBAQEBAQEBAQEBAQEBAwEBAQEBAQEBAQEBAQEBAQEBAQEBAgEBAQEBAgIBAQEBAgECAgEBAQEBAQEBAQEBAQEBAgMBAQEBAgIBAQIBAQECBQEBAgEBAgEBAwICAQEBAgEBAgIBAQEBAQICAQEBAQEEAQEBAQEBAQEBAQEBAgEBAQEBAQECAQEEAgICAgEBAQEBAQEBAQEBAQEBAQEBAQIBAQEBAgEBAQEBAgECAQEBAQEBAQEBAgEBAQEBAQEBAQECAwIBAQEBAQEBAQEBAgEBAQIBAQEBAQEBAQICAgEBAQEBAQEBAQEBAQEBAQEBAQMBAQIBAQIDAgEBAQECAgICAQEBAQICAQEBAQEBAQECAQECAQEBAQQBAgEBAgMBAQIBAQEBAwIBAQEBAQEBAQEBAQEBAQEBAQEBAQECAwIBAQIBAQIBAQIBAwEBAQIBAQEDAQIBAQEBAQEBAgIBBAIDAgICAgMCAgICAgICAgIBBQMCAgICAgICAgUCAgIDAgICAwMCAgICAgQCAgMCAgICAgICAgMEAgICAgICAwICAgICAgMEAgMCAgMCAwMCAgICAgICBAICAgICAgICBwMGAgYDAgICAwICAgIDAgIDAgIDAgQCAwICAgQBBAEBAgEEAgICAgICAwICAgIBAgIBAQICAQIBAQICAgMDAwICAgICAgIDBQMHAgIEAwUCBQMCAgMCAwIEAgIDBAMDAgICAgMCAQYBAQMCAQEBAQQEAgMFAgICAQEBAQEBAQEBAgIBBAIBBAEBAQEDAwYCBQQBBQEDAQIBAQEBAQEBAQICAwUDAwUFBQUBAQQCAQECAwIDAQEEAQEBAQEBAQIBAQEBAQEBAQIBAQEBAQQEAQEBAQEBAQEBAQQBAQEEAQEBAQEBAQQBAgEBAQEBAQEBAQEBAQEBAQEBAQEBAQIBAQEBAQIBAQECAgEBAQMBAQEBAwEBAgIBAQEBAQEBAQEBAQEBAQEBAQEBAgEBAQEBAwEBAQEBAgEBAQEBAQEBAQEBAQEBAwIBAgEBAQQGAwICAgQCAQICAwICAQEBAQEBBQEBAgIBAQEBAgIDAgIBAQECAQEBAQEBAQEBAQEBAQEBAQEBAQEDAgICBAQCAgIBAQEBAQEDAQIBAQEBAQEBAQECAgMBAQEBAQEBAQEDAgEBAQMBAQMBAQECAgEBAQECAQIBAgEBAQEBAQEBAQIFAwEBAgECAQIBAQECAQEBAQIBAQEBAQEBAQEBAQEEAQECBQEDAQIBAQEBAQECAQIBAQEBAQIBAQEDAQEBAQUBAQEBAwQBAgICAQIBAQIBAQUBBQECAQEBAQEBAgECAgEHAQIDAQEBAQIBAQEBAQICAQECAQMCAQECAwECAQECAQEBAgEBAQIBAQECAQEBAQIBAwICBQIHAgIBAQECAQEBAQEBAwIBAQECAgEBAQEDAQEBAgQCCgEBAQECAgUCAgMCAgEBAQICAwIBAQECAQEBAQEBAQECAgEBAQEBAgEBAQECAQEBAgEBAQEBAwEDAQEBAQECAwIEBAICBAICAgIDAgMCAgICAgICAgMDAgQCAgQCAwIDAgIEAwICAgMCAgUCAgMDAgICAwMCBAICAwICAgIDBQICAgIDAgMDAwQCAgMDBQUDAgICAgICBQICAwICAgMCAwcCAgUCAgIDAwkDAwMEAgQCAwIDAwUEAwIDBgQHAwICAgMFAgICAwIDAgIDBAIEAwICAgMDAwUCBwICAgICBwIGBAMDBgIGAwcCAgMCBgIDAwMHAgYFBgICBwICAgICAgICAwcCAgICAwYCAgICBgMBAQEBAQEBAQMFAQQCAQIBAwEDAQEBAQECAQMBAQIBAQEBCAEBAQEBAQICAQEBBAEBAQEBAQEJAgEBAQEBAQEBAQEFAQMCBAEBAgIBAQEBAQEBAQEBAQICAwEBAQEBAQECAQECAQEEBgECAQEBAQICAQEBAQECBQIFAQEBAgEBAQEBAQEFAQEBAQIBAQECAQEGAgEGAQEBAQQEBAEBAQEBAQIBAQMBAQEBAQEBAgIBBgIGAQEBAQECAQEBAQYBAQECAQEEAgIBAQICAQMCBQIFAQEBAgEBAQEBAgEBAQIBAQIBAQEBAQEBBAICAgEEBgEBAQECAQEBAwEDAQEBAQEBAgEBAQECAQIBAQEBAwECAQECAQECAQICAgQEAQEBAQQBAQECAQgFAQQFAgEBAQEBAQEBAQEDAwECAwEDAgICAgIDBQIBBQEHAQQCAwMBAwEEAQIBAQECAQEBAQECAwIBAQIBAQICBAIEAQEBAQEBAQEBAQEBAQQBAQEBAQEBAQEIAgEDAQIBAgQCBQEBAQEBBgEBAQEBAQEBAQICAgICAQEBAQEBAQEBAQEBAQICAQMDAQMCAQEBAgEBAQIBAgUCAwECAQICAgIHAgMDAgQEAgICAgMBAQECAQQBAgIBAQIGAgEBAQYEAgEFAQgBBgQFAgIBAQECAgMJAwICAgECAQECAQIBAQEGAgEBAwEBAQECAQMBAwMDBAIDAgIEAgQCAwICAwQCAgQDAgMDAwICAgMDBAIDAgQCBQMDAwMDAgQCAgICAgIDAgICAgICBAQCAwMCAQICAgEBAQEBAgEEBAIDAgEBBAEDAwIDAgICBAMDAgMCAwIGAgICAwMCAgICAwICAwIDAwIGAgQCAwICAgIIBAIHAwICAgMGBAQEAwIDBgIDBAICBgIDAgkDBAMDAgMDAgIFAgIFAgIEAgUEBAMCBgcGAgMDAgUEAwIEAwMFBAIDBAMDAwICAwYEAwIFBAQFAwYHBgIDCQIGAgILBAkBBAIBAQEBAQEBBQEBAgECAgIBAQIBAQEBAQEBAQEBAQEEAQEBAQQBBAECAQEBAwECBwIBAwIGAgEBAQQBAwEGAQEDBAIDAgQHAQEBAQEBAwIBAQEBAQYBAQEBAQEBAQEBAQEBAQEBAQECAQEBAQEBAQEBAQEBAQEECQQBAQEBAQECAQEKAQEBAQMDAgEHAQMBAQEBAgEGAgEBBwEBAQIBAQEBAQEDBAQBAQEBAQUCAQMBAQEBAwEBAQEBAQEBAQIBAQECAQECAQEBAwIBAQICAQEBAQIFBwEBAQIFAQEBAQUCAQEBAQIBCgECAQMFAQIBAQECAgECAQEEAwICAQMGAgEHAQIBAgIBAQICAgQBAQMBAwECAQEBBgkBAgECAQEDAQEBBQECAQECAQIBAQEBAQEBBAEBAQMFAgMBAwEBAQEBAQEBAQUDAgIIAQUBAgECAgEBAQYCAgIBAQEBAQUDAgICAwEBBwIDBgIDAgECAQEDAwICAgcCBQEJAgQBAQECAgYBAwIEAgQBAQIFAgEHBgcCAgcBAQICAQIEAgUGAwQEAgYCAwMHBQECAwEDBAEBCAECAwEDAQICAgQDAQUCAQQCAgIJAgMCAgMCAgICAgICBQUCCgMDAgIDBAIDAwMCBAIECAMJBgQCBQQDAgQCCgIEAgMDAgQCAgQCAgICBQICAgIDAgMDAgMDAgMDBQQDAgMCAgMCBgICBwICBAQCAgIFBwIDAgMHAgUCAwICAgIEBAMCBQIDBQMDBQcJBAMCAgICCAIEBQMDAggCAwcECgIDBQQDAgMEAgMJBQQCBwcDAgQCAgIDAwEBAQEBAQEBAQEBAQEEBAcEAgUCAQEBAwICAgwGBAMCAQEFAQUDAQIBAQEDAgIBAgEJAQUBAgIWAgIBAQECAgUBAQEBAwICAwEBAQEGAQEDAgIDAQILAQEBAgYDBAMCAQEBDQECAQIBEwIKAQEFAgEBBAECAgICAg0BAQECAQQCAgIEAgIBDAECAQEBAQICAQEBAwICAwMCBAYBAQICAwMIBAEBAQEBAQECAQEBAQECAgEBAQEBAgEBAQECAgEDBAICAgMCAgMCAgEBBgEBAQEBAQEBAQECAgEBAgIBAQEBAQEBAQYCAQQCAwIDAgIDAgECAwEBAgEDAQMBAQEBAQIBAQECAQEBAQEBAgEBAQIBAgIBAgIBAgECAQEBAwICAgEBAQICAgQCBAICAgECAQEDAQQBAQIBAwoBAQEDAgIBAQICAQEBAQEBAgECAQECAwECAQIDAQIEBAIDAwUDAwMCAQIBAQEBAQIBAQECAQEBAQIBAQICAQEBAQEBAQEBAgMCAQEBAQEBAQECAQEBAQEDAgIDAQIIAQMBAQEBAgIDBAIDBwIDAgIBAQEBAQEBAQIBAwMBAQEBAQMBAQIBAQYCBAUBAQEBAgECAQEBAQIBBgIDAgEBAgEBAQEBAQEBAQIBAgEBAQEBBwICAwMCBwMCAgMCAgICAgQDAgEDAQICAQEBAQEGAQYBAQEBAQMBBAEBAQECAwECAQQCAQEBAQECAgICAQIBAgECAQYBAgECAgIMAgMCAgEBAgMCAgEGAQEEAgEBAwMEBwEBAQMDAwYBAQIBAQEBBQUCAgEBAQEBAQUBAgMCAgECAggDAgYEBQQDAgQCAgYDAgICBAIMAgICAgIEAQIBAgEBAQEBAgIBAQEBAQEBAQEBAQEBAQEHAQICAQEBAQEBAQEBAQEBAgICAgIFAgMDBAICAgMCAwMCBAMBAQMCAQEBAQQCAgEBAQICAQEBAQEBAQEBAQEBAQEBAQEBAQEBAQEDAQEBAgECAQEBAQEBAQMDAgECAgEBAQEBAQEBAQEBAQEBAQEBAQECAQEBAQEBAQIDAQEBAgIBAQECAwECAgEEAQIBAQQCAQEBAgIBAQEBAQIBAQEBAQECAQIBAgIFAgMCAgICBAQDAgICAgIDAgICAgICAgICAwICAgICAgMDAwMCAgICAgMBAwIEAgMBAQIDAgEBAQECAQEBAQEBAQQBAQEBAQECAQIBBwUBAgEBAQEBAQEBAQMDAQIEAgMBAgEBAQEBAQEBBAECAQEBAQIBAQECAQEBAQECAQEBAQEBAQEBAQEBAQEBAQECAQEBAwEBAQEBAgECAQEBAQEBAQMCAQIBAQEBAQEBAQEBAQIBAgEBAQMBAQEBAQEDAQECAQEDAQIBAQEBAQEBAQECAQEBAQEBAQEBAQEBAQEBAQEBAgECAQIBAQEBAQICAgECAQEBAQIBAQECAQEBBQEBAQEDAQEBBgQBAwEBBgEBAQUBAQEBAQECAQEBAQECAgMBAgIBAQcDAQEBAQEDAQEBAQEBAQEBAwECAgIBAQEDAQEEAwECAQEBAQEEAQIBAQIBAQICCAEBAQECAwEBAQEBAQEBAQEBAQECAQMCAgEEAgECAgIDAgEBAQECAQICAwEBAQEBAQEBAQIBAQEDAwMCAQEBAQIBAgECAwICAQEDAgICAwMCAgIBAgMEAgICAgIDAgIDAwICAgICBAICAgQCAgIBAgICAwICAgYCAwMDAgIDAwIBAgICAgMCAgICBAICAgMCAgICBQMCAgICAgICAgMCAwUCAgIFAgICBAMCAwIDAgYCAgIDAgIDAgICAwICAgIDAgIDAwICAgICAwMCAwMEAgMDBAICAgMCBAIEAgICAgUCAwUCAgIDBQIDAgMCAQIBBQIBAQEBAQEBAQEBAgECAQwBAQEBAwEBAQMDAQMDAwEBBAUBAQEEBgMCAgEDAQEBAwQBBQMBBgEBAgMCAgEBAQMBAQYDAQEBAwMBAQEGAQEFBgIFBQEBAQIBAgQBAQEGAgIBBwEBAQEFAQUBBAUBAQIBAwEBBgEFAwICBQEBAQUBAQUBAQEBAQEBAQECAQEBAQUBAQEEAQEBAQMFAwECBQEBAwEFAQEEAwQBAQUBBQEBAQECAwEDAQEBAgEDAQIDAgECAgEBAQQCAQEBAQEBAQEBAQEBAgICAgEBAwQFAQEBAQIBAwEBAgEBAQEBAQEBAQIBAQEBAQQBAQMBBAICAgEBAwMBAQICBAIBAQEBAQMDAQUCAQIBAwMBAQEBAQEBAgIBAwEBAgEBAgEBAQIBAQICAQICAgMDAQMCAgUBAgEBAwEDAgEBAQEGAQEBBgICBQMCAQMDAQICAgUCBAMBAQwCAwMEAQMFAwQCBAUDAwMEAwMBBQIGAQICAgIHAgUCAgICAgMEAwIEAwQEBAICAgMDBgICAwIDAwIDAwMCAwIDAwICAgMEAgQEBQUFAgQCAwMDAgMGAgMCAgQFAgQEBgMFAgMGAgQDBAMEAgUCAgQDAwICAgMFAwIDAwQDAgYEAwIEAgIEBAIEBAMCAgIDAgMDBgIEAwUCAwICAgMCBQICAgEBAQEBAQEBAQMCAgEDBAUHCAcBBAUBAQIBCQIDAQIEBAMCAQEBAQEEAwICAQEQAgECAgYBBAICAwwBAQEBAwEBAQEBAQIDAwIDAgICAgICBQMEFwgHAQEBAQEBAQEBAQEBAQEBAQEBAQEBAQEBAQEBAQEBAQEBAQEBCgECAQEBAQEBAQICAQIBAQECAQIBAQIBAgIBAQEDAQEBAQEBAQEBAQICAgIBAgEBAQEBAQECAQEBAQEBAgEBAQEBAwECAQEBAQEBAQEBAQIBAgECAwICAwEBAQECAQECAwICAgYDAQECAQMBAgIBAwECAQECAgMDAQEBAQECAQMDAQsCAwMCBQUDAgEEAQEBAQEBAQECAQEBAwIDAgICAwICAgICAgQFAgIBAQQEBAIDBAYCAwMCAgUEBgMCAgIBAgEBAgIDAgMDAwIFAwMGBAIFCQQFBAcCAwMEAgQFAgMCAwMEAQMDAwQCAgQFAwMDBAoDBgMCBQMFBgUEBAUGBQMFBAUCAgQEAQIEAQEEBAUBBQUGBQQGAgMIBQUFAgMHAwICCAQCBQICAwYDBQYGBQQEBQQCAgUEBwIFBgYFBwEDAQUBAQEBAQEBAQEBAQEBAQEBAQEBAQEBAQEBAQEBAQEBAQYCAQEBAQEBAQEBAQEBAQEBAQEBAQEBAQEDAQEBAwEBAgEBAQEBAQEBAQEBAgEBAgEBAQEBAQEBAQEBAQQBAQEEAgEBAQEBAQEBAQEBAQECAQEBAQYBAQEBAQEBAQEBAgEBAQEEAQEBAQEBAQEBBAECAQECAQECAQEBAQMFBAICAgICCQEFAgEBBAECBAEEAQIBBQIBAQEBAQEBAQIBAQEBAQECAQMBAQIBAQEBAwEBBAEBAQEBAgICAQECAQEBAQEBAQQBAQEBAQECAQICAQECAQIBAgECAgICCAkCAgICAgICAwIGBQIDAgIEAwQCBAIDCQMCAgIDAgIDAgICAgMCBwICAgQHAgUCAgICAgEHAgMCAgMDBQEBAwEBAQEFAgIBAQEBAQMCCAEBAQEBAQcCAwILBwQCAgEBAQEBAQEBAQECAQIBAQEBAQEBAQEBAQEBAwEBAgEBAQEBAwEBAQIBBAELBQIDAQQBAQECBgUCAgIBAgEBAQEBAQEBAQEBAQkBAQEBAQEBAQEBAQEBAgIBAQEBAQEBAQEBAQEBAQEBAQEBAQEBAQEBAQEBAQEBAQIBAQEBAQEBAQEBAgUDAQIBAQQBAQEBAgEBAQEIAQECAQEBAQIBAQMBAQEBAQECAQEBAQEEAQEBAQECAQEFAQEBAQEBAQEBAQIBAQEFAQECAQICAgICAQQBAQEBAQEBAgEBAQEBAQEBAQEBAQEBAwIBAgICAgICAgICAQIBBAEBAgEBAQECAQECAQICAgMBAgEBAQECAQECAgIBAQICAgEBAgEBAgECAwEBAQEBAgIBAgEBAgIBAgECAgECAQIBAgEBAgEBAgECAgICAwEDAgIEAgECAgMCAwMCAgIEAgQCBAICAQIDAgICAgICAQEBAQEDAQEGBAMDAgIDBAICAgIEAgICBAIDAgICAgICAgICAgIDAwMCAgQDAwMCAwIEAgMDAwIDAgQDBAMCAwMDAwMCCAICAgIDAwYCBgICAwIFAgIFAgIFAgUCAgMEAQMEBAUBAQMBAQEBAQEBAQEDAQEBAQEBAQEBCwEBBgEBAQEBAQEBAQEBAQEBAgEBAwEBAQEFAQEBAQEBAQEBAQECAQQBAgEBAwEBAQEBCAEEAQEBAQEBAgEBAQEBAQEBAQEBAQEBAQEBAQEBAQEBAQIBAQEBAQEBAQEBAQEBAQEBAQEBAQEBAQEDAQEBAQEBAQEBAQEBBAEBAQIBAQEBAQEBAQEBAQEBAQMBAQEBAQECAQEBAQEBAQEBAQEBAQEBAQEBAQEBAQIBAQEBAQECAQECAQMCAQIBBAEBAQIBAQECAQEBAgEBAQECAQEBBwEBAgEBAQQBAQEBAQEBAwEBAQEBAwIBAQEGAQEBAQICAgECAgMCAgIBAQICAgEBAgIDAQECAgICAgECAQMCAwIBAQECAQMCAgIBAQEBCAICBAEBAQMDAgEBAQEBAQEDBgECAgEDAQEBAQEBAgICAwIDBAICAgIDAgIDAgICAgICAwICAwMCAwIIAwICAgMCAgICAgMCAgICBAICAgMCAgICAwICAgICAwICAgICAgMEAgUCAgECAgMCAgICAgMCAwIGAwQCAgICBgIECAICAwQDBwIDAwQCAgICAwQCAwUBAgIDAQMEAwEEBQIEAgQBAQEBAgIBAgEBAQMBBQEBAgEEAgIIAgMCAwkEAgICAQEBAQEDAQEFAQEBAgECCAEGAgQBAQEBAQEBAQEBAQEBAQECBAEDAQMBAQEBAQUBBQEBAwEBAQEBAQEBAQEFAwEBAQEBAQEBAgECAQECAQEBBQECAQEBAgEBBAEBBgEBBQQGAgMBAQEEAQEBAQEBAQIBAgEBAwUBAQEBAQEBAQEFAgECAQECAQEBAQEBAQIBAQEBAQEBAQEBAQIBBAEBAQEBAgIBAgIBAQEDAgQCAQIDAQICAgIDAQEBAgIBAgEBAQEBAQEBAQEBAQIBAgQDAgEDAQEBAQMBAQEBAQIBAQIDAQICAQIBBQEBAQEBAgECAgMCAQEBAQICAQEBAQEBAQECAwEBAgEBAQEDAQIBAQICAgIEAQYBAgEBAQIBAQICAQIBBgICBQEBAgIEBAYCAgICAgICAgICAgICAgIEAgIFCAMBAgEBAgYCAgQDAgQDAwIEBAUDAgQDAgICAgIEAgICAQIDAgIEAgECAgIEAwICAgICBAIEBQQDBgICAgMFAgICAwIDAgICAgICAgIHAgIDAwICAwMDAgQEAwIEAwcCAgQBBAECAQMCAgIDBAMBBAQFAQEBAQEBAQEBAQEGAQMBAgEBAQEEAwIHBQUCBgUDBgUDBAgCCAIHBQgBAQYBAQEBAQEBAQEBAQIBAQEBAQEBAQEBBwEBAQEBAQUDAQUBBwEBAQEBAwQBAQEBAQEBAgEBAQEBAgEBBwMBCAEBAQEBCAUBAQEBAgEBBQEBAQEGAQcCAQIBAQEBAQECAgEBAQEBAQEDAQEBAQEBAQEBBgECAgMBAgIBAQEGAQEBAQEBAQIGAQEBAQEBAQUCAQEFAQYBAQEBAQIBAQECAQYDAgEDAQIBBgECAgEBAQICAwUBAgEBAQEIAQIBAQEBAQEBAQEGAgECAQEDAQEBAQMCAwEBAgEDAwEBAgEBAQECAgEBAQECAgECAQIBAQIBAQIBBAECAQEBAgIJAwMCBAIDAgMCAQIFAwEDAQIBAQECAQECAQECAQICAwICAQEBAQEBAQEBAgICAwECAQMCBQMBAQEBAgIBAgICAQMBAQEBAQEBAQICAgECAQEBAgIBAgIBAgICBAYCAgICAgIBAwECAgIEAQEBAQEBAQICAgUFAgMCAQICAgMDBgYCAgMCBAIDAgIEAgICAgMCAgICAgIEBQICAgICAgMCAgIDBgMCAwICBAMCAgMCBAICAgMCAgMDAgICAgICAwUDAgIDAwQDAgQEAwMFAwMCAwIEAgIDBAICAwICAgIDAgQDAgICAwgCAwUGAgUGAgwIBAICAgYDAwICBAMJAgcGAgMCDAMEBgIDBwUGBgMCAgIDBgYIAwYIAwMFAQEBAQEEBAEEAQEBAQEBAQUBAQEBAQIBAQEBAQEEBAIBAQEBBAEBAQUBAQEFAQMBAQEBAQEBAQECAgEDAgEBAQEBAQUBBgQDAwEGDAMBBQEFAQMIAgEBAQcBBAEBAQQBAQEBAQIFAQMBAQEBAgEBAQEDAwEBAQEBAQEGAwECAQEBAgEGAgEBAgEEAQMFAQUHAQECAQEBAQEBBgEFAwECBQIBAwMCBQQCAgEBBAEBAwEBAQECBAEDAQUCAQEFCgEDAgEBAwIBAQUBAQEEAQMBAQEBAQEDAQEBAQEBAgEBAQMBAQQBAwICAgEBAgECAQMFAgECAgIBAwIBAQECAQIBCAQGAQEEAQEEBAQBAwEBAQIBAQECAQECAwEBAQEDAgUCBQIEAQICAwICAgICAgICCQICAwICAQICBAECAQEDBgECAwICBQIEBgIEBAIDBgICAwQCAwICAgQCBAQHAwIEAgICAgQDAgICBQMCAgIFAgIDBgUCAgIFAgoEAgQEBAMCBAIEAwYFBAMCBQUDCAICBgMCAgIGAwIEBgUEBQMCBAICAwUCAgQDAwUCAgQFBAMDAgMDBwQGAwIFBwIFBQcCAwUEBgQCBAQEAwcCAwgCBgIDBQUCBAcFAwICBAQCAwEBAQEDAwEHAQEBAwYBAQkCAQEGAQEBAQEBAQUBAQEDAQEBAQECAQEBAQEBAgEBBgEBAQMBAQEBAQICAQEDAQEHCQgBAQwLAQEBAQoEAQEJDQEBAQEBAgQBAQEBBwIFAQEBAgcDAQUBBwEBAwIBAQECAwIBAQUCBAIBAgIIBQIBAQEEAwEBAQUBAgMBAQYBAQEBAgEBAQEBAQECAQIBAQEBAQEIAgYCAQEBBAIBAQIBAQEBAQEBAQIBAQMBAQEBAgIGAQIFAgEFBAMDAQQCAQgDAQQBAQcBAQEGAwIBAgEBAQIBAQEBAQECAQIBAQEBBgEBAQEBAQIBAQEEAQYBAgUEAgEBAgIBAQECAgECAQEBAQEBAQEBAgEDAQEBAQICAQEDAQIBAQEBAQEBAQEBAQEDAgQBBgECAwQBBAQBAQEBAgEFAgEBAQEBAQEBAQIEAwEBAQEBAQECAwEBAQgDAwICAwMEAgICAgIDAgICAgICAgMDAwQCAgUCAgMEAgIFAwIEAgIDAgMCAwIEAgICBQICAgMEAgIDAgMEAgQDAgMCAgcCAgQCAgMDAgQCAgIJAwIHAgIFAwICAgQCBQICAwICAwICAwICAgMCBQIFBAIDAwICAwIEAwIDAggGBQICAgIFAgUDAwMFAwQDAgMDAgQDAwMCAgUEBAQFAwsCAgYEAgIJAgMHAwIDBQMEAwgDAwMCAwIHBgcCBwYGAwIEAwIFBQcHBAMIAgIDCAUGBwcEDwIBAQgGAwEBCAYBAQEGAQELBAEFCwgHAQEBAQEBCAoCAwEBAQQGAQEBAQEBAQEGAQICAQEBAQIBAwEFAQEBAgEBAQEBAQEDAQEHAQEBBgEBAQIBAQEBCAMDAwEGAQEBAQEBAQECBgMBBQEBBwUFBgcCBgICBAEBAQECAQECAQwIAQUHAQEBAQcCAQIBAQEBAQQEAgQDAwMCBAIFAgECAwUCAQEBAQEFAQUEAQECAQEBAQECAQEDAwEBAQEBAQkCAQEBAQECAgEBAQEBAQEBAQEEAQIBAQECDwIBAwEBAQECAQIBAQEBAQICAgICAgIEAgMCAQEBAQYBAQEBBwEBBgEBAQIBAQYEAgIBAQEBBgIBAQEIAwEBAQECAQEBAQEBAQECAgEBAQEBAQIBAQEDAQEBAQEBAQIBAgIDAQIFAgIHBAIBAwYCAgYCAgICAgMCCAIBAwECAgEBAwMHAwYBAgIDAgIHAwQCAgICAwYEAgICBAQGAgICAgIIAgUCAgMDAwMBAQEDAQEDAQICAgICAwMEBAQCBQYCAgMCAgYHBAICAwICAwQCAgUCAgIIAgICAwIECgICAwMDAwMDAwQCAwQEAwkCAgMCBAIHBQICBgQDBQMEBQMFBwIEAgUHAwQFCgMCAwMDAgUDBgMFAwUHBAYCAgsGAwcFBAQJAgMDBAIDBAQDAgMCBAIDBgcCBAUGBAUGAwQCBQQECQYGAwQFAggFBwgEAQEDAQQBBQEJAQMBBgEBAQEBAQEBAwEBAgEBAQEBAQEGBAEEAQMBAQIBAQgCBAMCAQEBAQEBAQEGAQEBCAQBAQQBAQEBAgEBAQYBAQEBAQQBAQYEAQQBAQkBAgECAQUBBgcDBAIEBgEBAQEDBQEBBwUJBwQBAQMBAQEBAQEBAQEBAQECAQEBAQUDBgUHAgEBAQEBBQIDAQEBCAICBQEIAwcBAQEBAQIBAQEBAQEBAgUBAwIBAQECBQELBgUCBgUJAgYBAQEBBQECAQEBAQECAQMBBgECAQcBAQsFAQIBBAECAQEIBAECAgEGAwIDBAICBgMHAgEBAQEBAwEHBAIEAgQECwEFBAQHAgMCAQoBAQIDAgMBAQICAgIEAgEBAgEBAQQBAQIEBQICAwcEAgQCAwICBAsCAgIFAgkGAwICAgICBAIDBAILBQICAwMJAgIHAgMCAgMJAwMGBQkIAwMIBQgCAwICAg8CAgICCgUHCAUDCAIDCAkCBQMIBAMCAwYCBAUCAggDBQMDBQIEBAMKAwMGAgIDBAUFAwQGAgICAwQFAwMFAgoEAwMCCwMIAgMDCAMEAgMDAwMFCAQDAwMCAgcGAwIGAgYDBQkCBAMDCAYHCgMJAgUCBAIHBAMCAwICBQYCBAcEAwMLAwUGAgUCBQcEBAUGCgUCBQcGBgoFCA4EBQMGBQcIAwQEBQIGBQUGAgIDAgIFCAYEBgcHCQcIBwICAQEBBgQBAgUBAQEGBAEBAQYBAQEBAQEBAQEBAQcBAQECAQEJAQEBAQEBAQEBAQ0JAQEBBQEBAQEBAwEBAQEFAQEBAQECAQICAQEEAQEBAQEBAQEGBQQBAQQBAQEBAQEFAQEBBAEFCwEBAgEBAQEEAQICAgEBAQEDBQYBAQEBAwMCBQIHAQEBAgEBAQEBAQECAQYCAgEBBQIBAQEBAQEBAQEEAQEBAQICAQEBAQEBBAICBAMCAgMGAwMDAgICCAQDAgcDAgICAwIDAgIEAgIEBAUEAgUCAwMIBAUGAgIDAgICAgICAgICAgMCAgICAwMCAgQEBwQDBAQCAgMCAgwCBAMCBAIDBAICBgoGAgUEAgYDBAIDAgIDAgMCAgUGBAQHAwICAwUDAgICAgICAgICBgMEBwIJAgQCAgcIBgMIAgYCAQEBAQEBAQEBAQcCAQEBAQECAQEBAQEBAQEBAQEBAQEBAgIBAwcBAgIBAQIDAQMCAwMCAQEBAQEFAQEBAQEBAQEBAQECAQEBAQEBAQEBAQIBAQEEAQEBAQEBAgEBAQEBAQEBAgIBAQECAgIBAwEEBAEDAgMCAgICBAICAQEBAQIBAQEBAQMBAQUCAQEBAQMBAgIBBQEBAgEEAgEBAQIBAQEBAQIBAQEBAQEBAQEBAQECAQEBBgEBAQIBAQEBAQECAwECAgEBAQECAQQBAQEBAQEBAQICAgECAgMCAgICAgIDAQIBAgEDAgEBAQECAgIBAgICAgcBAQIBAQEBAQECAgIBAQEBAgUCBAIBAwICAgIEAwQCAwICBAIHAgYDAggCAgEBAwYDAwMCBAICAwQDAQICAwIBAQEBAQEBAQEBAQEBAQEBAQEBAgEBAQIBAQEBAQIBAQEBAQEBAQEBAgIBAQIBAQEBAQEBAQIDAgICAQECAgIBAQIBAQEBAQECAQEBAQIBAgEBAgEBAQECAQEBAQEBAQEBAgEBAQEBAQEBAgQBAQEDAgEBAQEBAQEBAgEBAQEBAQEBAQEBAQMBAQECAwIBAgECBAMCAgICAQQBAgICAgMCAwEBAQEBAQMBAQEBAQIBAQECAgEBAQEBAQEBAQEBAQIBAQEBAQEBAgYBAQMBAQEBAQMBAQMBAQIDBAIBAgEBAgECAgMBBAUCAQMCAQEBAgEBAQEBAQECAgEBAQEBAwEBAgICAQECBQMDAQMBAQEBAQEBAQEDAQECAQEBAQEBAQECAQECAQICAQICAgMBAgICAgICAgICAgIBAgUCBAECAgUCAwICAwMEAgMCAgMEBAIDAgUCAwMDAgUDAgQDAwMFAQEBAgEBAQEBAQIBAQEBAQIBAQEBAgEBAQEBAgEEAQEDAgMCAQEBAQEBAQECAQEBAgIDAgIDAgIEBAcGBA8DAwIEBQUCAgMFAgEFAgEBAwEBAQECAQMBAQEDAgEBAQEBAQEBAQEBAgEBAwEBAQEBAQEBAQEBAQEBAgEBAgEDAwECAgIEBwIFAwMCAQEBAQIBAgEBAQEBAQEBAQEBAQIBAQEBAQECAQEBAQECAwEBAQECAgIDAwMCBAQDAgIHAwIDBwYDAwMCAgICBAYEBAIFAwYJBgYCAQEBAQEBAQIBAQEBAQEBAQMCAQIDAQEBAQECBQUCAQEDBwYEAgYCAQQBAQEBAgEBAQEBAQEBAgEBAgEBAgIBAgEBAQEBAQIBAQIBAQEBAQEBAQECAQECAQEBAQMCAwICAQEBAQECAQEBAQEBAgIBBAICAwECAgEBAQEBAgICAQMBAQEBAQMBAwEBAQIBAQEBAQEBAQEBAQIBAQEBAQEBAQMBAwEDBAMBAgECAwICBAECAgIBAQICAgEBAQICAQQCAQEBAwECAgMBAQEBAQEBAQECAQEBAQIBAQEBAQEBAQIFAgIEAQMBAQICAQEDAwEBAgICAgIDAQICAgEBAQEBAQIBAQEBAQEBAQEBAQICAQEBAQECAgICAgMCAQEEAgICAgMDAQEBAQEBAQEDAQECAgMBAQIFAgICAwMLAwIEAQEBAQEBAQEBAgEBAQIBAQEBAQECAgEBAgIBAQEBAgECAQEBAQEBAQIBAQEBAQECAwMEBQQCAQQBAQIBAQEBAQICBQIDAgECAQEFAgEBAQEBAgEBAQEBAQEBAQEBAQIBAQEBAQEDBQMCAgIBBAEBAQECAgICAwMDAgIEAQECAQEBAQEDBQIDBQYDAQEBAQMEAwEBAgIBAgICAwMDAgEBAQEBAQEBAQEDAgICAgICAwQFAQEBDAEBAwEBAQIFAgUCAg0CAwIBAQEBAQEEBgIDBAEBAQEBAgEBAQEBAQIBAgICAQIBAQEBAQIBAQMBAgIDAgMHAQMBAQEDAQEBAQEBAQEBAgIBAQEBAgECAgEBAQEDAQECAQUCAgEBBAgCAgIBAQECAQEDAgICAgECAQEBAgEBAQEBAwICAwMDAQEBAQIDAQECAgIBAQEBAgEBAQEBAQIDAQEBAQEBAQEBAQEBAQEBAQEBAQEBAQIBBgEBAQEBAgICAQEBAQEBAQEBAgEBAQEBAQICAQECAgECAQEBAgEBAQEBAgECAQEBAQMCAQEBAQEBAQEBAQEBAQECAQIBAgICAgEBAQEBAwIBAQMCAgIEAQEBAQEBAgEBAQECAgUBAgICAgUCAQEBAQECAQEBAgEBAgIBAQEBAQEBAQEBAQEBAQMDAgEBAQMCAgIDAQEBAQEBAgIDAQEDAQICAgEBAgEEAQEBAgEBAQEEAgICAgICAgIBAQEBAQEBAQIBAQECAQIBAgICAQIBAgICAgEBAQEBAQEBAQIBAQEBAQICAgECBAIBAQECAgECAgYEAgMFAwEBAQIEAgICAwIEAgICAgMEAwEBAQEBAQMFAQIFAgQCBQMBAQQCAwEBAgIEAgUBAQEBAQEBAQECAgMDCAIBAQICAgECAQICAQEFAgMCAgIBAQEEAQICBAIBBQIDAQEBAQEBAgECAwICAQUFAwUBBAEBAQMCAgIDAwEBBQgBAQEBAQEHAgIBAwMBAQQEBAEBCAMFAQEBAQECAQMDAQEBAwICAgIBAQIBAQEBAQEBAQEBAQEBAQICAgIEAwMDAwEGAQEBAQECAQMBAQECBQICAgIFAgEDAQEGAgUEBQMBCAEFAwICAQEBAQEBAQMGAgEEAQEBAQEEAgYGBgIEBQIBAwMBAgIDAQEDAQQBAQEBAQIEAgEBAwMEAwEBAQEBAQEBBgMCAgECBwQBAwEHAwIBAgIEAwIDBgIBAQEEAgQBAQECAQIDAgICAgIEAwEFAQUDAgIBAgEBAQIBAQMBAQIHAQEBAQIDAgEGAgICAQEDAQECAgICAQEBAQIDAQIDBQECAgQDBAICBAEBAQEBAQIDBAMCBgICAQEBAQICAQEBAQECAgMCAwQCAQICBAMBAgECBAIBAQIEBQEBAggDAgIDBQoCAwMBAgEBAQMBBgIBAgcCBAICAQECAQEBAQEBAQEBAQEBAQEBAQQBAQIBAQECAgIBAwEDBQIGAgMFAQECAQECAQECBQEEAwMCAQIFAgEHAQECBAEBAQIHAQEBAQEBAQIBAgEDBAEDAwIBAQEBBQEBAQMBAgIBAQEBAQEBAQEBAQECAgEBAQEBAQEBAQEBAQICAQEBAgEBAQEBAQMCBgQDAgEBAwEBAQECAQQBAQICAQEBAQEBAQMCAgEBAQEBAwIBAQIBAQEBAQEBAQEGAQIFBgEDAQMCAwQBBAEBAQEEAQIBAQIBAwEFAQQEBAEBAQIBAQECAgIBAwEBBAECAQEBAQEDBAsBAQECBwICCQIBAQEBAQECBAICAQEBAwIBBgIBAQMCAQEBAwEDCQEFAQICAgQBAgEIBAEBAQIEAQIFAgMBAQIFAQEBAQEBAQMBAQICAQIBAQEBAQIDAQEBAQICAQIBAwQBAQYCBAIHAQMDAQMCAgIDAgMDAgEECAIBAQcBAQIDAQECAwEBAgEBAQECAgEBAQMBAQEDBAEBAQUBAgECBQMCAQEBAgEBAQICAQIBCAMBAQECAQECAQEBBAEBAgMCAgEBAwMHBgEBAQEBAQEQAQEBAQEBAQEBAQEBAQECAQEBAQECAQQCAgEBAQEBAQEBAQIDAQIGAQEHAgYDAwECAQEDCQIBAwEBAgEBAQUBAgcBAgEDAQEBAQEBAwUEAgEBAQEEAwEBAQEEAQECAgMHAQMBAQEBAQEBAQEBAQIBAQECAQIBAQIDAgQBAQEEAgEBAQIBAQECAQEBAgIBAQEBBAMCCQEBAQUCBAQCAwQCBAEBAgEBAgICAQICAQEBAQEBAQEBAQECAwICBAEBAQMBAQEBAgICAgIBAQECAgEBAQEBAgIEAwEBAQEBAQECAgEBAgIDAwIBBgIBAwIEAgECAQQEAQEFAgMDBAICAwEBAQECAgIBAwUCAgMEBAIBAQEBAwEBAgECAQEBAQEBAQIBAQEBAQIDAQEBAgICAgEBAQIDAQECAgICAgEBAQECAgMEAQIBAgMDAQMCAgUCBQQBAgMCBQIBAQYDAgEBAgM="
         },
         "xaxis": "x",
         "yaxis": "y",
         "type": "histogram"
        },
        {
         "bingroup": "x",
         "hovertemplate": "Accepted Campaign=yes<br>Number of calls=%{x}<br>count=%{y}<extra></extra>",
         "legendgroup": "yes",
         "marker": {
          "color": "#EF553B",
          "pattern": {
           "shape": ""
          }
         },
         "name": "yes",
         "orientation": "v",
         "showlegend": true,
         "x": {
          "dtype": "i1",
          "bdata": "AQEBAQECAwEBAQEBAwIBAgEBAQIEAQMBAgEBAgICAgQDAQMBAgEBAgICBQIGAwQBBAEBAQIBAgEEAQYCAgMBAQECAgECAgEDAwEBAQMXAQIBAgICAgYCAwQBAQEBAQEDAQEBAgMBAQEBAQUEAQICAQQDAgYFAwECAQIBAQMCAgEBAQEBAgIBAQEEAgEBAwICAQMDAgUCAQEBAQMDAgYCBQYLBAIEAQIDAgQCBgIDAwIFAQEBAwEBAQIGAgMCBAIBAQIBAgECAQUJAQEBAQIBAQICAgMCAgMDAwMFAQIBAQICAgEKDwICAwIDAgQMDAIFBQQCAQIBAQEDAgUEAgYEAwIDAwcBAgMBAQICBgcEAQEPBAECAQIBAgEGAQIBAgECAgMBAQICAgIDBAECAgsEAgICAwMBCQMKAQEBBgECAwgDAwQIAQEBAQEBAgICAwIBAQUGAgIGAhECBwILBAkBAgEDAwIEAQEBBAMDAgMDAQICAQEBAQEBAQQJAgUDAQEBAwIBBAECAwIBAgMBAgECAgUHAQMBAgoDAgYDBAUDAwQCAwICAwMDAgYCAQYJAgIBAQMEAgEDAwICBQMBAQEBAQMFAgQBAQEBAQMBAgICAQEBBQIBAQMCAgQDAgEBAQECAQEBAQEBAwMBAQEBBQEEBgIDAQEBAQEBAQEBAgEBBwEEBQEBAQMBAwEDAQEBAgICAgICAgICAgICAgICAgIDAwIDAgMEAgQDBwIDAwUDAgQDBAMEAQIBAQQDAQYFAwUEBQQDBgUFAQEEAQEBAQEGAQECAQEBBgsCCQICAwIBAgIBAQECAwIHAwEDBQIFBAMDAgEBAQEBAQECAQIBAwEBAgQFAQIJAwMJBwQEAgICAwIDAQIHAQIGAQMBBAEBBAoBBAgCAgMLAwUDBgIBAQEBAQIBAgIBAgUCBwQICw0BAQEBAQEBAgMDAgIGAgIBAgYEBgQCAgQCAQIBAgEIAQECAQIJBgICAgUBAQEBAQQIDQEICAMDEQQECQQGAgMHAgECBgIBAQIDAwIFAgIDAwQRAQIBAQEBBQELBgMLAQEBAQIBAQMCAgECAQIGAgQDBAgDBwoEAwIEDgQBAwsCAgICBAMFBAEBAgIDAgIBAQEBAQMEAgEDAgIBAgMCAwMDAQIBAQEBAgECAQIBAwEBBAcDAwECAQMBBQECBgEDAQUEBQIEAQECAQEBAQIBAQEDAwEDBwQCAgIBAwEBAgQCAQECAgEBAwMFAwEBAQEFAgECAQMCAwIBAQQDAgQHAwEBAwEDBAoEAQEBAQgBBAUBAgQGAwICAgEBAQECAQIBAQEJAgEBAgINAwIDAgICBAIEAwICAQYCDAoEAwICAgkDAQEBAQEDAQIDCQUDAQMCBQIBAgMCBgMDAgEFBAMBBAIBAQgBAQEBAQEDBwUCBQICAgMDAwMDBgUGAwUHCQQEAwYGCAQDCQUDBwoHAwILAwIBAQYDAwsBAQEBAQEBAQEBAQEBAQEBAQEBAQEBAQEBAQEBAQEBAQEBAQEBAQEBAQEBAQEBAQEBAQEBAQEBAQEBAQEBAQEBAQEBAgECAgIBAQECAQECAgICAQIBAgEBAQEBAQECAQICAgQBAQEDAQEBAQEBAQEBAQEBAwIBAQECAgEBAQECAQEBAgECAQMBAgQDAgICAwICAQEBAQEBAQIBAQEBAQEBAQIFBAEBAwQBAQIBAwIBAQEBAgICAQIDAQEDAwICAwQDAgIBAQEBAQEBAQEBAQEBBQEBAQMDAQIBAQICAQECAwkCAgQCAgICAQQCBAEBAQUDAgMCAwIBAQMBAQECDQIGAgICAQEBAQIBAQEDAgEDAwIBAgIBAQMBAwEDAwIEBQIBAQcDAgEEAQEBAQQFAQIEAgEBAQECAgIBAQEEAQMEAQECAQECAwMBAgIIAgICAQEEAgEBAQECAQECAQMCAgICCAMBAgMCAgMCAQICBAIDAwIBAQIBAgECBgIBAQECAwIEAQECBAEBAQEBAQECAwEBAQEBAQEBAgIDAgQCBAECAQMBAQEBAQEDAgUCAwUBAQEBAQIBAQEBAgEBAQEBAQMBAQEBAgMFAgICAQECAgEBAwIBCwEBAQEDAQMBAgUCAgMEAgECAgECAQEBAQQBAgIBAQEFAgIDAQECAQEBAQEBAwEDAgEBAgMCAQEBAwEBAQIBAQEBAwEFAwEBAgIEAgMDAgMCAQIBAQIDAwUBAQQBAQEEAQECAQMBAQECAQEEAQEBAQEBAQEBAQICAgMBAwEFAQUDAgQDAgEEAxEBAQEBAQEBAgICAgIDAwQBAgEBAQEBAQEBAQEBAQICBAICBQMBAgIBBQUBAgMBBAQBAgEFAQEBAQEBAgMCAgEBAQEBAQEBAQEBAQEBAQEBAQEBAQEBAQEBAQEBAQEBAQECAQIBAQEBAQECAQEBAQICAgIBAgEBAQECAQEBAQEBAgECAQECAQIBAQIBAQEBAgEBAQEBAgEBAQEBAQIBAQEBAgECAgEBAQECAgECAQICAQICAQMBAQMDAwIBAgICAwEBAQIBAgECAgIEAwIBAQIBAQEBAQEDAwEEAwECAwIBAQMGBAYDBQMEAwIDBAMDAwQCAgUEAwMFCAQFBQQHBgIDAQEBAQEBAQEBAQECAQECAgEBAQICBgMCAwEBAQEBAQEBAgEBAQEBAQIBAgIBAQIBAgMBAwIEAgIDAQEBAQIBAQEBAQQBAgEBAQICAQICAQICAgMDAwMCAwMDBAEBAQEBAQECAQIBAwEBAQIBAQECAwMBAQEBAQECAQECAQEBAQICAQEDAQEBAgcCAwIDAgEBAQEBAQEEAQEDAQEBAQoBAQEBAQIBAQEHAwECAgMEBgQCAwIDAgMCAQEBBAEBAQEBAQEBAwEDAQEDAQIBAQIBAQEDAQMCAQEDAwMFAgICAgICAgIDAwICBwIDAgIBAQEBAQEDBQECBQEBAQEBAQEBAQMBAQEBAQECAQEBBAQCAgEDAgIEAgIDAgIDAgQEAwIDBAIBAQEBAQIBBQEBAQEBAgUFAgIEAQUBAQMCAQEDAQEBAQEFAQMDAgMFBAUEBAQCAwQEAwQHCAQDBAIDAwEBBAEBAQEBAQEBAQQBAwEBAQEBBQICAgQCAgMDBQMCAQEBAQEBAQEBAQECAgECAQICBAECAQEBAQEBAQIBAQcBAQQBAQICAwECAgEBAQEBAQECAQECAQEBAQIDAQIBAQMBAQEBAwMEAQEBAgEBAgMCAgIJBAMBAQEBAQEBAQECAQECAQEBAQICAgEBAgEBAgIBAQIBAgEDAQEBAQEBAQIBAQEBAQEBAQEBAgECAgEBAQEBAQEBAQEBBAECAgEBAwIDAgIBAQMCAgQCAgIEAQIBAQIBAQEEAQEBAQEBAgIBAwEBAgMCAQEBAgIBAgICAgICAQMCAgIBAQEBAQECAQEBAgEBAgECAQMCAQQCAQEBAgIDAwICAQEBAQEBAQIBAQEBAQIBAQMCAgMCAwIBAgICAgICAgcCAgIDAwYDBAQEAgQCBAICBwICAgYEBwMCAgEBAQYBAQEBAgEBAgEBAQEBAQIBAQICAgEDAwQDAgQKAgYFAwMBAQECAQEBAQMCAQQCAQEBAQEBAQEBAQICBQICAQICAQEBBgICAQIEAwIEAQEBAQECAgEBAQEBAQICAQEFAQMCAgQCBAUCBgYFBQEBAQEBAQEBAgEBAgEBAQIBAgIDBAIEAQECAQQCAQECAQIBAQIBAQEBAgEBAQMBAgEBAQEBAQICAgMBAQEBAgECAQECAQMBAgECAwIBAQEBAwEBAQECAgEBAgICAgICAQIBAQICAQEBAgQCAQEBAQMBAgIFAwECAwECAgEBAwQCAgIDAQIBAwYCAgQBAgEDAQEBBAIGAgEDAwIDAwMBAQEBAQEBAQIBAQEBAQECAgECAQEBAQECAQIBAQEBAQQCAgIBAQMBAQEDAQEGAQEBAQECAwIEAQEBAQECAgEBAQECBAEBAgICAgEBAgECAwYDAgMDBAEEAwEDAQIBAwEBAgIIAgMCAwEBAgIBAQECAgIDAQEBAQEBAQIBAQEBAQECAgQDAQQBAQEBAgYBAQEBAQEBAgEBAQICBQEDAQEBAQECAgMBAwMDAwEBAQECBAIBAQEBAQECAgIBAgEBAQEBAQEBAgMCAQEBAQEBAQEBAgEBAQECAwEBAQECAQECAQMBAQEBAQEBAgEBAgEDAQEBAQECAgIBAQEBAgIDAQEBAQECBQECAgMBAQEBAgECAQEBAQEBAQICAQEBAgEBAgEBAQICAQIBAwEBAQICAQEBAQIBAgIFAQMDAQEBBAMCAQECAwEBAQEBAQIBAgEBAgEBAQEBAQEBAQEBAgEBAwIBAQEBAQEDAQIDAQEBAQEBAgMCAQIBAgIDAQEDAgECAgMBAQEBAQEDAgICAQEBAgIBAQEBAQEBAQQBAQEBAgEBBwMFAQICAgEBAQEBAQEBAwECAQQCAgICBAEBAgIBAQECAgIFAwEBBAIBAQMBAQIDAgEBAQEBAwMBAQEBAQICAQEBAQEBAQEBAQcCAgIEAgEBAgECAQMCAQEBAQECAQECAgICAgEBAQEBAQUFAQEBAQECAgUCAQIBAgICAQQBAwMBAQICAQEBAQEBAQEBAgECAQIBAQEBAgEBAQEBAgMKAQEBAgIDAgcBAQECAgEBAgMDBQEBAQEBBAIDAgMBAQIDAQECAgIDAwQDAQcCAgICAgIDAwECAgEBAgEBAgEBAQQCAQECAQMCAgMDAQEBAQEBAQEBAgECBAMCAwEBAQIBAgIBAwICAQEBAgMBAQQBAQECAQEBAgICAgEBBAEBAgIBAQIBAQEBAQEBAQMBAgICAQMCAgECBAEBBAEBAQEDAwIBAQECAgcGAQEBAQEBAQEDAQMBAQEBAgIEAgIDAgIBAQEBAQEBAQECAQEBAQEBAwEBAgIDAgEBAQQEAgEBAQEBAQEBAgMCAQMBAQEGAQIBAQECAQIBAwEDBAECAQQCAQEBAQEBAQIGAwECAQIFBgEBAQMBAwECAgIBAQIHAQQBAQEBAwICAQECAQIBAgEDAgECAQIDAgEBAQIFAwMBAQMBAQEBAQECAgIBAQIBAQEBBAQBAQEBAQECAwIDAgQCBgUBAQIBAgIBAQEBAQEBAQEBAQECAQEBAwMCBQEEAgMDBQQBAQICAQEBAwMBAQECAgMDBAEBAwECAgEBAQICAgQBAQEBAQMDAwICAgEDAQEBAQICAwIDAgMDAQEBAQEBAQIDBQECAQECAQEBAQEBAQEBAQICAgEFAQEBAQEBBAECAQEBAgICAgEDBQEBAwYDAQEBBAIBAgEBAQEBAQIBAQMEAQYBAQICAwQDAQEBAQEBBAYBAQEBAQECAgECAgQEAQICAQICAgUBAgIDAwEFAQECAwIBAgEDAQEDAgECAgIBAQEBAgEBAgIDAQQHAwEKAwMEAwEBAQECAQIBAgEBAQEBAQEBAQMGAwEEAQECAQEBAgIDBQEBAQECAQMCAgIEAgICAQEBAgMCAQIDAQECAgYHAQMEAgICAgEBAQIBAQEBAgQBAgIDAwYCBAEBAQIBAQECAgMBAQEBAgICAQIFAgIDAQMDAwIDAwEEBAEBAgEBBQEBBgIFAQIDAQICAQECAgEEAgICAwMBAQEBAQECAQEBAQIBAQEBAQEDAQIDAQEBAwICAQIBAQECAQECAgIDAQEBAgIBAwQBAQEBAQEBAQEBAQEBAwICAQEBAQECAgMBAQEDAQEDAgMBAQEBBAEGBgYDAgMDBAMEAQEEAQIDBQIBAQEBAQEBAgMCAgEDAgECAQICAgIDAgIDAQEBAwEBAgMDAQEDAQECAQICAwMCAwEBAQEBAQQBAQEBAwIBBQIBAgMDAQEBAgMCAQEBAQIBAQIDAQIBAQECAwECAgEBAgMBAQMBAQEBBQECAgQDAQUBAwECAQEBAgEBAQEBAgEBAQICAQIEAgICAQEBBQIBAgICAQMBAQEBAQEBAgICAQIDAQEBAgICAgEBAgECBAEBAQEDAQEBAQIBAQECAQECAwEBAQEBAQEDAQIHBAEDAwEBAgEBAgICAwMDAwEBAwICAQEBAQECBQECAQEEAgEBAQEBAQEBAQECAgMCAQIBAQMBAQEBAQEBAgEDBAEBAQICAQIBAgIBBAMEAgMCAgIBAQEDAgIBAQEBAQIBAQE="
         },
         "xaxis": "x",
         "yaxis": "y",
         "type": "histogram"
        }
       ],
       "layout": {
        "template": {
         "data": {
          "histogram2dcontour": [
           {
            "type": "histogram2dcontour",
            "colorbar": {
             "outlinewidth": 0,
             "ticks": ""
            },
            "colorscale": [
             [
              0.0,
              "#0d0887"
             ],
             [
              0.1111111111111111,
              "#46039f"
             ],
             [
              0.2222222222222222,
              "#7201a8"
             ],
             [
              0.3333333333333333,
              "#9c179e"
             ],
             [
              0.4444444444444444,
              "#bd3786"
             ],
             [
              0.5555555555555556,
              "#d8576b"
             ],
             [
              0.6666666666666666,
              "#ed7953"
             ],
             [
              0.7777777777777778,
              "#fb9f3a"
             ],
             [
              0.8888888888888888,
              "#fdca26"
             ],
             [
              1.0,
              "#f0f921"
             ]
            ]
           }
          ],
          "choropleth": [
           {
            "type": "choropleth",
            "colorbar": {
             "outlinewidth": 0,
             "ticks": ""
            }
           }
          ],
          "histogram2d": [
           {
            "type": "histogram2d",
            "colorbar": {
             "outlinewidth": 0,
             "ticks": ""
            },
            "colorscale": [
             [
              0.0,
              "#0d0887"
             ],
             [
              0.1111111111111111,
              "#46039f"
             ],
             [
              0.2222222222222222,
              "#7201a8"
             ],
             [
              0.3333333333333333,
              "#9c179e"
             ],
             [
              0.4444444444444444,
              "#bd3786"
             ],
             [
              0.5555555555555556,
              "#d8576b"
             ],
             [
              0.6666666666666666,
              "#ed7953"
             ],
             [
              0.7777777777777778,
              "#fb9f3a"
             ],
             [
              0.8888888888888888,
              "#fdca26"
             ],
             [
              1.0,
              "#f0f921"
             ]
            ]
           }
          ],
          "heatmap": [
           {
            "type": "heatmap",
            "colorbar": {
             "outlinewidth": 0,
             "ticks": ""
            },
            "colorscale": [
             [
              0.0,
              "#0d0887"
             ],
             [
              0.1111111111111111,
              "#46039f"
             ],
             [
              0.2222222222222222,
              "#7201a8"
             ],
             [
              0.3333333333333333,
              "#9c179e"
             ],
             [
              0.4444444444444444,
              "#bd3786"
             ],
             [
              0.5555555555555556,
              "#d8576b"
             ],
             [
              0.6666666666666666,
              "#ed7953"
             ],
             [
              0.7777777777777778,
              "#fb9f3a"
             ],
             [
              0.8888888888888888,
              "#fdca26"
             ],
             [
              1.0,
              "#f0f921"
             ]
            ]
           }
          ],
          "contourcarpet": [
           {
            "type": "contourcarpet",
            "colorbar": {
             "outlinewidth": 0,
             "ticks": ""
            }
           }
          ],
          "contour": [
           {
            "type": "contour",
            "colorbar": {
             "outlinewidth": 0,
             "ticks": ""
            },
            "colorscale": [
             [
              0.0,
              "#0d0887"
             ],
             [
              0.1111111111111111,
              "#46039f"
             ],
             [
              0.2222222222222222,
              "#7201a8"
             ],
             [
              0.3333333333333333,
              "#9c179e"
             ],
             [
              0.4444444444444444,
              "#bd3786"
             ],
             [
              0.5555555555555556,
              "#d8576b"
             ],
             [
              0.6666666666666666,
              "#ed7953"
             ],
             [
              0.7777777777777778,
              "#fb9f3a"
             ],
             [
              0.8888888888888888,
              "#fdca26"
             ],
             [
              1.0,
              "#f0f921"
             ]
            ]
           }
          ],
          "surface": [
           {
            "type": "surface",
            "colorbar": {
             "outlinewidth": 0,
             "ticks": ""
            },
            "colorscale": [
             [
              0.0,
              "#0d0887"
             ],
             [
              0.1111111111111111,
              "#46039f"
             ],
             [
              0.2222222222222222,
              "#7201a8"
             ],
             [
              0.3333333333333333,
              "#9c179e"
             ],
             [
              0.4444444444444444,
              "#bd3786"
             ],
             [
              0.5555555555555556,
              "#d8576b"
             ],
             [
              0.6666666666666666,
              "#ed7953"
             ],
             [
              0.7777777777777778,
              "#fb9f3a"
             ],
             [
              0.8888888888888888,
              "#fdca26"
             ],
             [
              1.0,
              "#f0f921"
             ]
            ]
           }
          ],
          "mesh3d": [
           {
            "type": "mesh3d",
            "colorbar": {
             "outlinewidth": 0,
             "ticks": ""
            }
           }
          ],
          "scatter": [
           {
            "fillpattern": {
             "fillmode": "overlay",
             "size": 10,
             "solidity": 0.2
            },
            "type": "scatter"
           }
          ],
          "parcoords": [
           {
            "type": "parcoords",
            "line": {
             "colorbar": {
              "outlinewidth": 0,
              "ticks": ""
             }
            }
           }
          ],
          "scatterpolargl": [
           {
            "type": "scatterpolargl",
            "marker": {
             "colorbar": {
              "outlinewidth": 0,
              "ticks": ""
             }
            }
           }
          ],
          "bar": [
           {
            "error_x": {
             "color": "#2a3f5f"
            },
            "error_y": {
             "color": "#2a3f5f"
            },
            "marker": {
             "line": {
              "color": "#E5ECF6",
              "width": 0.5
             },
             "pattern": {
              "fillmode": "overlay",
              "size": 10,
              "solidity": 0.2
             }
            },
            "type": "bar"
           }
          ],
          "scattergeo": [
           {
            "type": "scattergeo",
            "marker": {
             "colorbar": {
              "outlinewidth": 0,
              "ticks": ""
             }
            }
           }
          ],
          "scatterpolar": [
           {
            "type": "scatterpolar",
            "marker": {
             "colorbar": {
              "outlinewidth": 0,
              "ticks": ""
             }
            }
           }
          ],
          "histogram": [
           {
            "marker": {
             "pattern": {
              "fillmode": "overlay",
              "size": 10,
              "solidity": 0.2
             }
            },
            "type": "histogram"
           }
          ],
          "scattergl": [
           {
            "type": "scattergl",
            "marker": {
             "colorbar": {
              "outlinewidth": 0,
              "ticks": ""
             }
            }
           }
          ],
          "scatter3d": [
           {
            "type": "scatter3d",
            "line": {
             "colorbar": {
              "outlinewidth": 0,
              "ticks": ""
             }
            },
            "marker": {
             "colorbar": {
              "outlinewidth": 0,
              "ticks": ""
             }
            }
           }
          ],
          "scattermap": [
           {
            "type": "scattermap",
            "marker": {
             "colorbar": {
              "outlinewidth": 0,
              "ticks": ""
             }
            }
           }
          ],
          "scattermapbox": [
           {
            "type": "scattermapbox",
            "marker": {
             "colorbar": {
              "outlinewidth": 0,
              "ticks": ""
             }
            }
           }
          ],
          "scatterternary": [
           {
            "type": "scatterternary",
            "marker": {
             "colorbar": {
              "outlinewidth": 0,
              "ticks": ""
             }
            }
           }
          ],
          "scattercarpet": [
           {
            "type": "scattercarpet",
            "marker": {
             "colorbar": {
              "outlinewidth": 0,
              "ticks": ""
             }
            }
           }
          ],
          "carpet": [
           {
            "aaxis": {
             "endlinecolor": "#2a3f5f",
             "gridcolor": "white",
             "linecolor": "white",
             "minorgridcolor": "white",
             "startlinecolor": "#2a3f5f"
            },
            "baxis": {
             "endlinecolor": "#2a3f5f",
             "gridcolor": "white",
             "linecolor": "white",
             "minorgridcolor": "white",
             "startlinecolor": "#2a3f5f"
            },
            "type": "carpet"
           }
          ],
          "table": [
           {
            "cells": {
             "fill": {
              "color": "#EBF0F8"
             },
             "line": {
              "color": "white"
             }
            },
            "header": {
             "fill": {
              "color": "#C8D4E3"
             },
             "line": {
              "color": "white"
             }
            },
            "type": "table"
           }
          ],
          "barpolar": [
           {
            "marker": {
             "line": {
              "color": "#E5ECF6",
              "width": 0.5
             },
             "pattern": {
              "fillmode": "overlay",
              "size": 10,
              "solidity": 0.2
             }
            },
            "type": "barpolar"
           }
          ],
          "pie": [
           {
            "automargin": true,
            "type": "pie"
           }
          ]
         },
         "layout": {
          "autotypenumbers": "strict",
          "colorway": [
           "#636efa",
           "#EF553B",
           "#00cc96",
           "#ab63fa",
           "#FFA15A",
           "#19d3f3",
           "#FF6692",
           "#B6E880",
           "#FF97FF",
           "#FECB52"
          ],
          "font": {
           "color": "#2a3f5f"
          },
          "hovermode": "closest",
          "hoverlabel": {
           "align": "left"
          },
          "paper_bgcolor": "white",
          "plot_bgcolor": "#E5ECF6",
          "polar": {
           "bgcolor": "#E5ECF6",
           "angularaxis": {
            "gridcolor": "white",
            "linecolor": "white",
            "ticks": ""
           },
           "radialaxis": {
            "gridcolor": "white",
            "linecolor": "white",
            "ticks": ""
           }
          },
          "ternary": {
           "bgcolor": "#E5ECF6",
           "aaxis": {
            "gridcolor": "white",
            "linecolor": "white",
            "ticks": ""
           },
           "baxis": {
            "gridcolor": "white",
            "linecolor": "white",
            "ticks": ""
           },
           "caxis": {
            "gridcolor": "white",
            "linecolor": "white",
            "ticks": ""
           }
          },
          "coloraxis": {
           "colorbar": {
            "outlinewidth": 0,
            "ticks": ""
           }
          },
          "colorscale": {
           "sequential": [
            [
             0.0,
             "#0d0887"
            ],
            [
             0.1111111111111111,
             "#46039f"
            ],
            [
             0.2222222222222222,
             "#7201a8"
            ],
            [
             0.3333333333333333,
             "#9c179e"
            ],
            [
             0.4444444444444444,
             "#bd3786"
            ],
            [
             0.5555555555555556,
             "#d8576b"
            ],
            [
             0.6666666666666666,
             "#ed7953"
            ],
            [
             0.7777777777777778,
             "#fb9f3a"
            ],
            [
             0.8888888888888888,
             "#fdca26"
            ],
            [
             1.0,
             "#f0f921"
            ]
           ],
           "sequentialminus": [
            [
             0.0,
             "#0d0887"
            ],
            [
             0.1111111111111111,
             "#46039f"
            ],
            [
             0.2222222222222222,
             "#7201a8"
            ],
            [
             0.3333333333333333,
             "#9c179e"
            ],
            [
             0.4444444444444444,
             "#bd3786"
            ],
            [
             0.5555555555555556,
             "#d8576b"
            ],
            [
             0.6666666666666666,
             "#ed7953"
            ],
            [
             0.7777777777777778,
             "#fb9f3a"
            ],
            [
             0.8888888888888888,
             "#fdca26"
            ],
            [
             1.0,
             "#f0f921"
            ]
           ],
           "diverging": [
            [
             0,
             "#8e0152"
            ],
            [
             0.1,
             "#c51b7d"
            ],
            [
             0.2,
             "#de77ae"
            ],
            [
             0.3,
             "#f1b6da"
            ],
            [
             0.4,
             "#fde0ef"
            ],
            [
             0.5,
             "#f7f7f7"
            ],
            [
             0.6,
             "#e6f5d0"
            ],
            [
             0.7,
             "#b8e186"
            ],
            [
             0.8,
             "#7fbc41"
            ],
            [
             0.9,
             "#4d9221"
            ],
            [
             1,
             "#276419"
            ]
           ]
          },
          "xaxis": {
           "gridcolor": "white",
           "linecolor": "white",
           "ticks": "",
           "title": {
            "standoff": 15
           },
           "zerolinecolor": "white",
           "automargin": true,
           "zerolinewidth": 2
          },
          "yaxis": {
           "gridcolor": "white",
           "linecolor": "white",
           "ticks": "",
           "title": {
            "standoff": 15
           },
           "zerolinecolor": "white",
           "automargin": true,
           "zerolinewidth": 2
          },
          "scene": {
           "xaxis": {
            "backgroundcolor": "#E5ECF6",
            "gridcolor": "white",
            "linecolor": "white",
            "showbackground": true,
            "ticks": "",
            "zerolinecolor": "white",
            "gridwidth": 2
           },
           "yaxis": {
            "backgroundcolor": "#E5ECF6",
            "gridcolor": "white",
            "linecolor": "white",
            "showbackground": true,
            "ticks": "",
            "zerolinecolor": "white",
            "gridwidth": 2
           },
           "zaxis": {
            "backgroundcolor": "#E5ECF6",
            "gridcolor": "white",
            "linecolor": "white",
            "showbackground": true,
            "ticks": "",
            "zerolinecolor": "white",
            "gridwidth": 2
           }
          },
          "shapedefaults": {
           "line": {
            "color": "#2a3f5f"
           }
          },
          "annotationdefaults": {
           "arrowcolor": "#2a3f5f",
           "arrowhead": 0,
           "arrowwidth": 1
          },
          "geo": {
           "bgcolor": "white",
           "landcolor": "#E5ECF6",
           "subunitcolor": "white",
           "showland": true,
           "showlakes": true,
           "lakecolor": "white"
          },
          "title": {
           "x": 0.05
          },
          "mapbox": {
           "style": "light"
          }
         }
        },
        "xaxis": {
         "anchor": "y",
         "domain": [
          0.0,
          1.0
         ],
         "title": {
          "text": "Number of calls"
         }
        },
        "yaxis": {
         "anchor": "x",
         "domain": [
          0.0,
          1.0
         ],
         "title": {
          "text": "count"
         }
        },
        "legend": {
         "title": {
          "text": "Accepted Campaign"
         },
         "tracegroupgap": 0
        },
        "title": {
         "text": "There are diminishing returns when making a call to the same person"
        },
        "barmode": "relative"
       },
       "config": {
        "plotlyServerURL": "https://plot.ly"
       }
      }
     },
     "metadata": {},
     "output_type": "display_data"
    }
   ],
   "execution_count": 32
  },
  {
   "metadata": {
    "ExecuteTime": {
     "end_time": "2025-08-09T23:00:12.832639Z",
     "start_time": "2025-08-09T23:00:12.771367Z"
    }
   },
   "cell_type": "code",
   "source": [
    "fig = px.histogram(\n",
    "    df[df['pdays'] != 999],\n",
    "    x='pdays',\n",
    "    color='y',\n",
    "    title=\"Following up within a week increases the chance of success\",\n",
    "    labels={\"pdays\": \"Days since last contact\", 'y': 'Accepted Campaign'},\n",
    ")\n",
    "fig.show()\n",
    "fig.write_image(\"images/days_since_last_contact_acceptance_ratio.png\")"
   ],
   "outputs": [
    {
     "data": {
      "application/vnd.plotly.v1+json": {
       "data": [
        {
         "bingroup": "x",
         "hovertemplate": "Accepted Campaign=no<br>Days since last contact=%{x}<br>count=%{y}<extra></extra>",
         "legendgroup": "no",
         "marker": {
          "color": "#636efa",
          "pattern": {
           "shape": ""
          }
         },
         "name": "no",
         "orientation": "v",
         "showlegend": true,
         "x": {
          "dtype": "i1",
          "bdata": "BgQEAwQFAQYEBAQGAAMFBAAGBgMFBAMDBgYGAwYDBQEIBQEBCQsCBQUJCQkFCggBBQYJBgECAgUCAgICAgICCAIDAwMDAwMDAwMMBgoABgsMBgsMDAoMBgkGBgYMAQoHCgwLCwMGCQoMAQYLCgwLBgwDBgwJCgYMCwYMDAYBBgwKDAsGDAwKDAwJDAoJDAIKCwoDAwECAwMDDAMDAwIJAwMBAgMBAwMDAQMDBwMGAwMDAwwMAwMDAwQDAwMDCgMCAwMDAwMDBAMDCwMDDQMODQMPBAQEDwQEAwQDBAMEAgQDBAMEBAQGAwUEAw8EBAQEBAEDAwQEBAYEBAQEAwQDAwYEAwQPBgMGAwMDBgMNBQMDDwYOBBADAQ4DBAMFAwMDAwMBBAQGBAQGAwIFAgMIBwYCBgYGBgYGBgYGAgYDBwcGCAcJBwcGCQMJAwMDAwMDBwMDBwcDBAMHBgMJBgYGBgQGCgYGBgYGBgYEBgYDBxEHDQMGAwYGCQsJCQkLBwYHAwYKBgYGBgwOBgwGCgYDBgcBBgcHAwMNAwYPCQINBgYEBQMFDgMEAwMDAgwGAwMNAw4GBwQGBQ4EBgMDCQMGEAYGDwYGCQYNAwMGBgYQBgoECQYAEQkGBgMMAwYWDwYAEhEKBgIGBgYGBgkGBgMDBgMSBggGEwkSEA4RDhQKCgwGEAMMAwYGAwMDBgMGEQwGCQYRAwQGAwYDCQMDEwMBBgoGBAk="
         },
         "xaxis": "x",
         "yaxis": "y",
         "type": "histogram"
        },
        {
         "bingroup": "x",
         "hovertemplate": "Accepted Campaign=yes<br>Days since last contact=%{x}<br>count=%{y}<extra></extra>",
         "legendgroup": "yes",
         "marker": {
          "color": "#EF553B",
          "pattern": {
           "shape": ""
          }
         },
         "name": "yes",
         "orientation": "v",
         "showlegend": true,
         "x": {
          "dtype": "i1",
          "bdata": "BQUGCgcKBQUGBgsGBgUFAgUCAgICBQICAgIFAgACAgICAgACAgICAAIDAwMDAwYDAwMLCQMDCwMLCgcKCwYKDAkMCgoBCgoKCwYMDAsGCQoDAwMDAwMDAwMHAwMCAgMEAwMNAwMDBAQDBAMDAwQEAwMDAwMEAwQHAwMDAwQDAwMEAwMDAwMDAwMEAw0OBQ0NDQ0EBAIEBAQEDwQEBAQEBAQFBAYGBAQMBAoGBg8EBgQEDwQEDwMEBAMEDQMPBgYDBgMNDQEDCQMDAwYDAw8CAwMDDgMGBgYGAwMPDwMPBgMJAwYQAwcDAwMDAwMDAwMBAwMDAwMDAwMBAwMDBgMDAwMDAwYDAwQDAwYDBAQEBAIIBQYGBgYCBgMGBgYCBggGBgYGBgYGBgYHCAYGAwYDBgYCBgYEBgYDBAYCBwUHBgkDAwMDAwMHBgcIAwcDAwMDAwMDBwMHAwMDAwMDDQMDBwMJBwMHBgYDBgcHBwMDAwMDAwMDAwMDBwcHCQMDBwMDBwMDAwMDAwMGBgYECAYIBgYGBAkJBgYGBgQEBgYICgYGBgYGBgUGBgYGFQUGBAYNBAMLCgYDBgkGBgMGAwcGBgYDBgsDBQYGBgMKBgYDBgYGAwoKAwYJBg0GCwYDDAMDCQMOBgYDAwsDBQYMBwQFDAcGDAYGBgoGBgYGBgcGBgYKBgYGBAoGBgYGEg0GBgMDAwYDBgIHAwIDAwMCAwMDAgYDBgYGBgMGBgMGAwMGBgMGAwIDAw0JBgMGAwMDBg4PAwMDEggDDQMMCgcDBAYGCQENAwUKAwYGBgYDBgMDBgYDCgYDCQMEBg4MAw0HCQYGFgwEAwwDBgwHAwYMDgMKAwIEAwkDBgIMAwwDBAcKBAMODQMJDwYIDA0IDgYGBgMGDAMGBgsGBgYGAwYGBgYGBgYNBgYGDw0PDQ8QBQMLBhkJBhoJBgYMDQMGAwYDBgQGBgYGBgkFBgYGAwQJEgkNCQYGCQMABgAABwoDBgYGEAoRAAQAAAkABgMDEAkDBgMDBgQDBgYGAwYDBgYGBgYOBgMGBgYJBgYBBgYDBgYQBgYGAwYMBgUDBgUDBwYRBgoJBgMGAwYDBgYGBg4DBgYGAxYGBgYGAwMMAwYJBgMGAwMDBwMDDAYGBggGBg8GAwkNCgMGBgYGBgYGAwMGDw0DBgYDAxAHAwkbAwMFAwUIAwMGAwYGAwMGBgYDBwMDAwYDCwMFBg0DAwsGAwYOAwMMDAMDBQYJBgYEEgYDBgMFBgYGDQcCAwMMAwMGBwEGFQMTBgUJBAoBBg=="
         },
         "xaxis": "x",
         "yaxis": "y",
         "type": "histogram"
        }
       ],
       "layout": {
        "template": {
         "data": {
          "histogram2dcontour": [
           {
            "type": "histogram2dcontour",
            "colorbar": {
             "outlinewidth": 0,
             "ticks": ""
            },
            "colorscale": [
             [
              0.0,
              "#0d0887"
             ],
             [
              0.1111111111111111,
              "#46039f"
             ],
             [
              0.2222222222222222,
              "#7201a8"
             ],
             [
              0.3333333333333333,
              "#9c179e"
             ],
             [
              0.4444444444444444,
              "#bd3786"
             ],
             [
              0.5555555555555556,
              "#d8576b"
             ],
             [
              0.6666666666666666,
              "#ed7953"
             ],
             [
              0.7777777777777778,
              "#fb9f3a"
             ],
             [
              0.8888888888888888,
              "#fdca26"
             ],
             [
              1.0,
              "#f0f921"
             ]
            ]
           }
          ],
          "choropleth": [
           {
            "type": "choropleth",
            "colorbar": {
             "outlinewidth": 0,
             "ticks": ""
            }
           }
          ],
          "histogram2d": [
           {
            "type": "histogram2d",
            "colorbar": {
             "outlinewidth": 0,
             "ticks": ""
            },
            "colorscale": [
             [
              0.0,
              "#0d0887"
             ],
             [
              0.1111111111111111,
              "#46039f"
             ],
             [
              0.2222222222222222,
              "#7201a8"
             ],
             [
              0.3333333333333333,
              "#9c179e"
             ],
             [
              0.4444444444444444,
              "#bd3786"
             ],
             [
              0.5555555555555556,
              "#d8576b"
             ],
             [
              0.6666666666666666,
              "#ed7953"
             ],
             [
              0.7777777777777778,
              "#fb9f3a"
             ],
             [
              0.8888888888888888,
              "#fdca26"
             ],
             [
              1.0,
              "#f0f921"
             ]
            ]
           }
          ],
          "heatmap": [
           {
            "type": "heatmap",
            "colorbar": {
             "outlinewidth": 0,
             "ticks": ""
            },
            "colorscale": [
             [
              0.0,
              "#0d0887"
             ],
             [
              0.1111111111111111,
              "#46039f"
             ],
             [
              0.2222222222222222,
              "#7201a8"
             ],
             [
              0.3333333333333333,
              "#9c179e"
             ],
             [
              0.4444444444444444,
              "#bd3786"
             ],
             [
              0.5555555555555556,
              "#d8576b"
             ],
             [
              0.6666666666666666,
              "#ed7953"
             ],
             [
              0.7777777777777778,
              "#fb9f3a"
             ],
             [
              0.8888888888888888,
              "#fdca26"
             ],
             [
              1.0,
              "#f0f921"
             ]
            ]
           }
          ],
          "contourcarpet": [
           {
            "type": "contourcarpet",
            "colorbar": {
             "outlinewidth": 0,
             "ticks": ""
            }
           }
          ],
          "contour": [
           {
            "type": "contour",
            "colorbar": {
             "outlinewidth": 0,
             "ticks": ""
            },
            "colorscale": [
             [
              0.0,
              "#0d0887"
             ],
             [
              0.1111111111111111,
              "#46039f"
             ],
             [
              0.2222222222222222,
              "#7201a8"
             ],
             [
              0.3333333333333333,
              "#9c179e"
             ],
             [
              0.4444444444444444,
              "#bd3786"
             ],
             [
              0.5555555555555556,
              "#d8576b"
             ],
             [
              0.6666666666666666,
              "#ed7953"
             ],
             [
              0.7777777777777778,
              "#fb9f3a"
             ],
             [
              0.8888888888888888,
              "#fdca26"
             ],
             [
              1.0,
              "#f0f921"
             ]
            ]
           }
          ],
          "surface": [
           {
            "type": "surface",
            "colorbar": {
             "outlinewidth": 0,
             "ticks": ""
            },
            "colorscale": [
             [
              0.0,
              "#0d0887"
             ],
             [
              0.1111111111111111,
              "#46039f"
             ],
             [
              0.2222222222222222,
              "#7201a8"
             ],
             [
              0.3333333333333333,
              "#9c179e"
             ],
             [
              0.4444444444444444,
              "#bd3786"
             ],
             [
              0.5555555555555556,
              "#d8576b"
             ],
             [
              0.6666666666666666,
              "#ed7953"
             ],
             [
              0.7777777777777778,
              "#fb9f3a"
             ],
             [
              0.8888888888888888,
              "#fdca26"
             ],
             [
              1.0,
              "#f0f921"
             ]
            ]
           }
          ],
          "mesh3d": [
           {
            "type": "mesh3d",
            "colorbar": {
             "outlinewidth": 0,
             "ticks": ""
            }
           }
          ],
          "scatter": [
           {
            "fillpattern": {
             "fillmode": "overlay",
             "size": 10,
             "solidity": 0.2
            },
            "type": "scatter"
           }
          ],
          "parcoords": [
           {
            "type": "parcoords",
            "line": {
             "colorbar": {
              "outlinewidth": 0,
              "ticks": ""
             }
            }
           }
          ],
          "scatterpolargl": [
           {
            "type": "scatterpolargl",
            "marker": {
             "colorbar": {
              "outlinewidth": 0,
              "ticks": ""
             }
            }
           }
          ],
          "bar": [
           {
            "error_x": {
             "color": "#2a3f5f"
            },
            "error_y": {
             "color": "#2a3f5f"
            },
            "marker": {
             "line": {
              "color": "#E5ECF6",
              "width": 0.5
             },
             "pattern": {
              "fillmode": "overlay",
              "size": 10,
              "solidity": 0.2
             }
            },
            "type": "bar"
           }
          ],
          "scattergeo": [
           {
            "type": "scattergeo",
            "marker": {
             "colorbar": {
              "outlinewidth": 0,
              "ticks": ""
             }
            }
           }
          ],
          "scatterpolar": [
           {
            "type": "scatterpolar",
            "marker": {
             "colorbar": {
              "outlinewidth": 0,
              "ticks": ""
             }
            }
           }
          ],
          "histogram": [
           {
            "marker": {
             "pattern": {
              "fillmode": "overlay",
              "size": 10,
              "solidity": 0.2
             }
            },
            "type": "histogram"
           }
          ],
          "scattergl": [
           {
            "type": "scattergl",
            "marker": {
             "colorbar": {
              "outlinewidth": 0,
              "ticks": ""
             }
            }
           }
          ],
          "scatter3d": [
           {
            "type": "scatter3d",
            "line": {
             "colorbar": {
              "outlinewidth": 0,
              "ticks": ""
             }
            },
            "marker": {
             "colorbar": {
              "outlinewidth": 0,
              "ticks": ""
             }
            }
           }
          ],
          "scattermap": [
           {
            "type": "scattermap",
            "marker": {
             "colorbar": {
              "outlinewidth": 0,
              "ticks": ""
             }
            }
           }
          ],
          "scattermapbox": [
           {
            "type": "scattermapbox",
            "marker": {
             "colorbar": {
              "outlinewidth": 0,
              "ticks": ""
             }
            }
           }
          ],
          "scatterternary": [
           {
            "type": "scatterternary",
            "marker": {
             "colorbar": {
              "outlinewidth": 0,
              "ticks": ""
             }
            }
           }
          ],
          "scattercarpet": [
           {
            "type": "scattercarpet",
            "marker": {
             "colorbar": {
              "outlinewidth": 0,
              "ticks": ""
             }
            }
           }
          ],
          "carpet": [
           {
            "aaxis": {
             "endlinecolor": "#2a3f5f",
             "gridcolor": "white",
             "linecolor": "white",
             "minorgridcolor": "white",
             "startlinecolor": "#2a3f5f"
            },
            "baxis": {
             "endlinecolor": "#2a3f5f",
             "gridcolor": "white",
             "linecolor": "white",
             "minorgridcolor": "white",
             "startlinecolor": "#2a3f5f"
            },
            "type": "carpet"
           }
          ],
          "table": [
           {
            "cells": {
             "fill": {
              "color": "#EBF0F8"
             },
             "line": {
              "color": "white"
             }
            },
            "header": {
             "fill": {
              "color": "#C8D4E3"
             },
             "line": {
              "color": "white"
             }
            },
            "type": "table"
           }
          ],
          "barpolar": [
           {
            "marker": {
             "line": {
              "color": "#E5ECF6",
              "width": 0.5
             },
             "pattern": {
              "fillmode": "overlay",
              "size": 10,
              "solidity": 0.2
             }
            },
            "type": "barpolar"
           }
          ],
          "pie": [
           {
            "automargin": true,
            "type": "pie"
           }
          ]
         },
         "layout": {
          "autotypenumbers": "strict",
          "colorway": [
           "#636efa",
           "#EF553B",
           "#00cc96",
           "#ab63fa",
           "#FFA15A",
           "#19d3f3",
           "#FF6692",
           "#B6E880",
           "#FF97FF",
           "#FECB52"
          ],
          "font": {
           "color": "#2a3f5f"
          },
          "hovermode": "closest",
          "hoverlabel": {
           "align": "left"
          },
          "paper_bgcolor": "white",
          "plot_bgcolor": "#E5ECF6",
          "polar": {
           "bgcolor": "#E5ECF6",
           "angularaxis": {
            "gridcolor": "white",
            "linecolor": "white",
            "ticks": ""
           },
           "radialaxis": {
            "gridcolor": "white",
            "linecolor": "white",
            "ticks": ""
           }
          },
          "ternary": {
           "bgcolor": "#E5ECF6",
           "aaxis": {
            "gridcolor": "white",
            "linecolor": "white",
            "ticks": ""
           },
           "baxis": {
            "gridcolor": "white",
            "linecolor": "white",
            "ticks": ""
           },
           "caxis": {
            "gridcolor": "white",
            "linecolor": "white",
            "ticks": ""
           }
          },
          "coloraxis": {
           "colorbar": {
            "outlinewidth": 0,
            "ticks": ""
           }
          },
          "colorscale": {
           "sequential": [
            [
             0.0,
             "#0d0887"
            ],
            [
             0.1111111111111111,
             "#46039f"
            ],
            [
             0.2222222222222222,
             "#7201a8"
            ],
            [
             0.3333333333333333,
             "#9c179e"
            ],
            [
             0.4444444444444444,
             "#bd3786"
            ],
            [
             0.5555555555555556,
             "#d8576b"
            ],
            [
             0.6666666666666666,
             "#ed7953"
            ],
            [
             0.7777777777777778,
             "#fb9f3a"
            ],
            [
             0.8888888888888888,
             "#fdca26"
            ],
            [
             1.0,
             "#f0f921"
            ]
           ],
           "sequentialminus": [
            [
             0.0,
             "#0d0887"
            ],
            [
             0.1111111111111111,
             "#46039f"
            ],
            [
             0.2222222222222222,
             "#7201a8"
            ],
            [
             0.3333333333333333,
             "#9c179e"
            ],
            [
             0.4444444444444444,
             "#bd3786"
            ],
            [
             0.5555555555555556,
             "#d8576b"
            ],
            [
             0.6666666666666666,
             "#ed7953"
            ],
            [
             0.7777777777777778,
             "#fb9f3a"
            ],
            [
             0.8888888888888888,
             "#fdca26"
            ],
            [
             1.0,
             "#f0f921"
            ]
           ],
           "diverging": [
            [
             0,
             "#8e0152"
            ],
            [
             0.1,
             "#c51b7d"
            ],
            [
             0.2,
             "#de77ae"
            ],
            [
             0.3,
             "#f1b6da"
            ],
            [
             0.4,
             "#fde0ef"
            ],
            [
             0.5,
             "#f7f7f7"
            ],
            [
             0.6,
             "#e6f5d0"
            ],
            [
             0.7,
             "#b8e186"
            ],
            [
             0.8,
             "#7fbc41"
            ],
            [
             0.9,
             "#4d9221"
            ],
            [
             1,
             "#276419"
            ]
           ]
          },
          "xaxis": {
           "gridcolor": "white",
           "linecolor": "white",
           "ticks": "",
           "title": {
            "standoff": 15
           },
           "zerolinecolor": "white",
           "automargin": true,
           "zerolinewidth": 2
          },
          "yaxis": {
           "gridcolor": "white",
           "linecolor": "white",
           "ticks": "",
           "title": {
            "standoff": 15
           },
           "zerolinecolor": "white",
           "automargin": true,
           "zerolinewidth": 2
          },
          "scene": {
           "xaxis": {
            "backgroundcolor": "#E5ECF6",
            "gridcolor": "white",
            "linecolor": "white",
            "showbackground": true,
            "ticks": "",
            "zerolinecolor": "white",
            "gridwidth": 2
           },
           "yaxis": {
            "backgroundcolor": "#E5ECF6",
            "gridcolor": "white",
            "linecolor": "white",
            "showbackground": true,
            "ticks": "",
            "zerolinecolor": "white",
            "gridwidth": 2
           },
           "zaxis": {
            "backgroundcolor": "#E5ECF6",
            "gridcolor": "white",
            "linecolor": "white",
            "showbackground": true,
            "ticks": "",
            "zerolinecolor": "white",
            "gridwidth": 2
           }
          },
          "shapedefaults": {
           "line": {
            "color": "#2a3f5f"
           }
          },
          "annotationdefaults": {
           "arrowcolor": "#2a3f5f",
           "arrowhead": 0,
           "arrowwidth": 1
          },
          "geo": {
           "bgcolor": "white",
           "landcolor": "#E5ECF6",
           "subunitcolor": "white",
           "showland": true,
           "showlakes": true,
           "lakecolor": "white"
          },
          "title": {
           "x": 0.05
          },
          "mapbox": {
           "style": "light"
          }
         }
        },
        "xaxis": {
         "anchor": "y",
         "domain": [
          0.0,
          1.0
         ],
         "title": {
          "text": "Days since last contact"
         }
        },
        "yaxis": {
         "anchor": "x",
         "domain": [
          0.0,
          1.0
         ],
         "title": {
          "text": "count"
         }
        },
        "legend": {
         "title": {
          "text": "Accepted Campaign"
         },
         "tracegroupgap": 0
        },
        "title": {
         "text": "Following up within a week increases the chance of success"
        },
        "barmode": "relative"
       },
       "config": {
        "plotlyServerURL": "https://plot.ly"
       }
      }
     },
     "metadata": {},
     "output_type": "display_data"
    }
   ],
   "execution_count": 43
  },
  {
   "metadata": {
    "ExecuteTime": {
     "end_time": "2025-08-09T22:45:36.464542Z",
     "start_time": "2025-08-09T22:45:36.381185Z"
    }
   },
   "cell_type": "code",
   "source": [
    "# Correlation plots\n",
    "corr_matrix = (\n",
    "    df.corr(numeric_only=True).round(2)\n",
    ")\n",
    "fig = px.imshow(\n",
    "    corr_matrix,\n",
    "    title=\"Strong positive correlation between employment statistics suggest PCA may be worthwhile\",\n",
    "    color_continuous_scale=\"RdBu_r\",\n",
    "    aspect=\"auto\",\n",
    ")\n",
    "fig.update_layout(height=1000, width=1000, showlegend=False)\n",
    "fig.show()\n",
    "fig.write_image(\"images/correlation.png\")"
   ],
   "outputs": [
    {
     "data": {
      "application/vnd.plotly.v1+json": {
       "data": [
        {
         "coloraxis": "coloraxis",
         "name": "0",
         "x": [
          "age",
          "duration",
          "campaign",
          "pdays",
          "previous",
          "emp.var.rate",
          "cons.price.idx",
          "cons.conf.idx",
          "euribor3m",
          "nr.employed"
         ],
         "y": [
          "age",
          "duration",
          "campaign",
          "pdays",
          "previous",
          "emp.var.rate",
          "cons.price.idx",
          "cons.conf.idx",
          "euribor3m",
          "nr.employed"
         ],
         "z": {
          "dtype": "f8",
          "bdata": "AAAAAAAA8D8AAAAAAAAAgAAAAAAAAAAAuB6F61G4nr97FK5H4XqUPwAAAAAAAACAAAAAAAAAAACkcD0K16PAP3sUrkfheoQ/exSuR+F6lL8AAAAAAAAAgAAAAAAAAPA/7FG4HoXrsb+amZmZmZmpv3sUrkfhepQ/uB6F61G4nr97FK5H4XqEP3sUrkfheoS/uB6F61G4nr97FK5H4XqkvwAAAAAAAAAA7FG4HoXrsb8AAAAAAADwP5qZmZmZmak/exSuR+F6tL8zMzMzMzPDP6RwPQrXo8A/exSuR+F6hL/sUbgehevBP+xRuB6F68E/uB6F61G4nr+amZmZmZmpv5qZmZmZmak/AAAAAAAA8D/hehSuR+Hiv0jhehSuR9E/exSuR+F6tD8K16NwPQq3vzMzMzMzM9M/rkfhehSu1z97FK5H4XqUP3sUrkfhepQ/exSuR+F6tL/hehSuR+HivwAAAAAAAPA/4XoUrkfh2r+amZmZmZnJv5qZmZmZmam/zczMzMzM3L8AAAAAAADgvwAAAAAAAACAuB6F61G4nr8zMzMzMzPDP0jhehSuR9E/4XoUrkfh2r8AAAAAAADwP/YoXI/C9eg/mpmZmZmZyT8K16NwPQrvPx+F61G4Hu0/AAAAAAAAAAB7FK5H4XqEP6RwPQrXo8A/exSuR+F6tD+amZmZmZnJv/YoXI/C9eg/AAAAAAAA8D+4HoXrUbiuPxSuR+F6FOY/pHA9Ctej4D+kcD0K16PAP3sUrkfheoS/exSuR+F6hL8K16NwPQq3v5qZmZmZmam/mpmZmZmZyT+4HoXrUbiuPwAAAAAAAPA/7FG4HoXr0T+amZmZmZm5P3sUrkfheoQ/uB6F61G4nr/sUbgehevBPzMzMzMzM9M/zczMzMzM3L8K16NwPQrvPxSuR+F6FOY/7FG4HoXr0T8AAAAAAADwP2ZmZmZmZu4/exSuR+F6lL97FK5H4Xqkv+xRuB6F68E/rkfhehSu1z8AAAAAAADgvx+F61G4Hu0/pHA9Ctej4D+amZmZmZm5P2ZmZmZmZu4/AAAAAAAA8D8=",
          "shape": "10, 10"
         },
         "type": "heatmap",
         "xaxis": "x",
         "yaxis": "y",
         "hovertemplate": "x: %{x}<br>y: %{y}<br>color: %{z}<extra></extra>"
        }
       ],
       "layout": {
        "template": {
         "data": {
          "histogram2dcontour": [
           {
            "type": "histogram2dcontour",
            "colorbar": {
             "outlinewidth": 0,
             "ticks": ""
            },
            "colorscale": [
             [
              0.0,
              "#0d0887"
             ],
             [
              0.1111111111111111,
              "#46039f"
             ],
             [
              0.2222222222222222,
              "#7201a8"
             ],
             [
              0.3333333333333333,
              "#9c179e"
             ],
             [
              0.4444444444444444,
              "#bd3786"
             ],
             [
              0.5555555555555556,
              "#d8576b"
             ],
             [
              0.6666666666666666,
              "#ed7953"
             ],
             [
              0.7777777777777778,
              "#fb9f3a"
             ],
             [
              0.8888888888888888,
              "#fdca26"
             ],
             [
              1.0,
              "#f0f921"
             ]
            ]
           }
          ],
          "choropleth": [
           {
            "type": "choropleth",
            "colorbar": {
             "outlinewidth": 0,
             "ticks": ""
            }
           }
          ],
          "histogram2d": [
           {
            "type": "histogram2d",
            "colorbar": {
             "outlinewidth": 0,
             "ticks": ""
            },
            "colorscale": [
             [
              0.0,
              "#0d0887"
             ],
             [
              0.1111111111111111,
              "#46039f"
             ],
             [
              0.2222222222222222,
              "#7201a8"
             ],
             [
              0.3333333333333333,
              "#9c179e"
             ],
             [
              0.4444444444444444,
              "#bd3786"
             ],
             [
              0.5555555555555556,
              "#d8576b"
             ],
             [
              0.6666666666666666,
              "#ed7953"
             ],
             [
              0.7777777777777778,
              "#fb9f3a"
             ],
             [
              0.8888888888888888,
              "#fdca26"
             ],
             [
              1.0,
              "#f0f921"
             ]
            ]
           }
          ],
          "heatmap": [
           {
            "type": "heatmap",
            "colorbar": {
             "outlinewidth": 0,
             "ticks": ""
            },
            "colorscale": [
             [
              0.0,
              "#0d0887"
             ],
             [
              0.1111111111111111,
              "#46039f"
             ],
             [
              0.2222222222222222,
              "#7201a8"
             ],
             [
              0.3333333333333333,
              "#9c179e"
             ],
             [
              0.4444444444444444,
              "#bd3786"
             ],
             [
              0.5555555555555556,
              "#d8576b"
             ],
             [
              0.6666666666666666,
              "#ed7953"
             ],
             [
              0.7777777777777778,
              "#fb9f3a"
             ],
             [
              0.8888888888888888,
              "#fdca26"
             ],
             [
              1.0,
              "#f0f921"
             ]
            ]
           }
          ],
          "contourcarpet": [
           {
            "type": "contourcarpet",
            "colorbar": {
             "outlinewidth": 0,
             "ticks": ""
            }
           }
          ],
          "contour": [
           {
            "type": "contour",
            "colorbar": {
             "outlinewidth": 0,
             "ticks": ""
            },
            "colorscale": [
             [
              0.0,
              "#0d0887"
             ],
             [
              0.1111111111111111,
              "#46039f"
             ],
             [
              0.2222222222222222,
              "#7201a8"
             ],
             [
              0.3333333333333333,
              "#9c179e"
             ],
             [
              0.4444444444444444,
              "#bd3786"
             ],
             [
              0.5555555555555556,
              "#d8576b"
             ],
             [
              0.6666666666666666,
              "#ed7953"
             ],
             [
              0.7777777777777778,
              "#fb9f3a"
             ],
             [
              0.8888888888888888,
              "#fdca26"
             ],
             [
              1.0,
              "#f0f921"
             ]
            ]
           }
          ],
          "surface": [
           {
            "type": "surface",
            "colorbar": {
             "outlinewidth": 0,
             "ticks": ""
            },
            "colorscale": [
             [
              0.0,
              "#0d0887"
             ],
             [
              0.1111111111111111,
              "#46039f"
             ],
             [
              0.2222222222222222,
              "#7201a8"
             ],
             [
              0.3333333333333333,
              "#9c179e"
             ],
             [
              0.4444444444444444,
              "#bd3786"
             ],
             [
              0.5555555555555556,
              "#d8576b"
             ],
             [
              0.6666666666666666,
              "#ed7953"
             ],
             [
              0.7777777777777778,
              "#fb9f3a"
             ],
             [
              0.8888888888888888,
              "#fdca26"
             ],
             [
              1.0,
              "#f0f921"
             ]
            ]
           }
          ],
          "mesh3d": [
           {
            "type": "mesh3d",
            "colorbar": {
             "outlinewidth": 0,
             "ticks": ""
            }
           }
          ],
          "scatter": [
           {
            "fillpattern": {
             "fillmode": "overlay",
             "size": 10,
             "solidity": 0.2
            },
            "type": "scatter"
           }
          ],
          "parcoords": [
           {
            "type": "parcoords",
            "line": {
             "colorbar": {
              "outlinewidth": 0,
              "ticks": ""
             }
            }
           }
          ],
          "scatterpolargl": [
           {
            "type": "scatterpolargl",
            "marker": {
             "colorbar": {
              "outlinewidth": 0,
              "ticks": ""
             }
            }
           }
          ],
          "bar": [
           {
            "error_x": {
             "color": "#2a3f5f"
            },
            "error_y": {
             "color": "#2a3f5f"
            },
            "marker": {
             "line": {
              "color": "#E5ECF6",
              "width": 0.5
             },
             "pattern": {
              "fillmode": "overlay",
              "size": 10,
              "solidity": 0.2
             }
            },
            "type": "bar"
           }
          ],
          "scattergeo": [
           {
            "type": "scattergeo",
            "marker": {
             "colorbar": {
              "outlinewidth": 0,
              "ticks": ""
             }
            }
           }
          ],
          "scatterpolar": [
           {
            "type": "scatterpolar",
            "marker": {
             "colorbar": {
              "outlinewidth": 0,
              "ticks": ""
             }
            }
           }
          ],
          "histogram": [
           {
            "marker": {
             "pattern": {
              "fillmode": "overlay",
              "size": 10,
              "solidity": 0.2
             }
            },
            "type": "histogram"
           }
          ],
          "scattergl": [
           {
            "type": "scattergl",
            "marker": {
             "colorbar": {
              "outlinewidth": 0,
              "ticks": ""
             }
            }
           }
          ],
          "scatter3d": [
           {
            "type": "scatter3d",
            "line": {
             "colorbar": {
              "outlinewidth": 0,
              "ticks": ""
             }
            },
            "marker": {
             "colorbar": {
              "outlinewidth": 0,
              "ticks": ""
             }
            }
           }
          ],
          "scattermap": [
           {
            "type": "scattermap",
            "marker": {
             "colorbar": {
              "outlinewidth": 0,
              "ticks": ""
             }
            }
           }
          ],
          "scattermapbox": [
           {
            "type": "scattermapbox",
            "marker": {
             "colorbar": {
              "outlinewidth": 0,
              "ticks": ""
             }
            }
           }
          ],
          "scatterternary": [
           {
            "type": "scatterternary",
            "marker": {
             "colorbar": {
              "outlinewidth": 0,
              "ticks": ""
             }
            }
           }
          ],
          "scattercarpet": [
           {
            "type": "scattercarpet",
            "marker": {
             "colorbar": {
              "outlinewidth": 0,
              "ticks": ""
             }
            }
           }
          ],
          "carpet": [
           {
            "aaxis": {
             "endlinecolor": "#2a3f5f",
             "gridcolor": "white",
             "linecolor": "white",
             "minorgridcolor": "white",
             "startlinecolor": "#2a3f5f"
            },
            "baxis": {
             "endlinecolor": "#2a3f5f",
             "gridcolor": "white",
             "linecolor": "white",
             "minorgridcolor": "white",
             "startlinecolor": "#2a3f5f"
            },
            "type": "carpet"
           }
          ],
          "table": [
           {
            "cells": {
             "fill": {
              "color": "#EBF0F8"
             },
             "line": {
              "color": "white"
             }
            },
            "header": {
             "fill": {
              "color": "#C8D4E3"
             },
             "line": {
              "color": "white"
             }
            },
            "type": "table"
           }
          ],
          "barpolar": [
           {
            "marker": {
             "line": {
              "color": "#E5ECF6",
              "width": 0.5
             },
             "pattern": {
              "fillmode": "overlay",
              "size": 10,
              "solidity": 0.2
             }
            },
            "type": "barpolar"
           }
          ],
          "pie": [
           {
            "automargin": true,
            "type": "pie"
           }
          ]
         },
         "layout": {
          "autotypenumbers": "strict",
          "colorway": [
           "#636efa",
           "#EF553B",
           "#00cc96",
           "#ab63fa",
           "#FFA15A",
           "#19d3f3",
           "#FF6692",
           "#B6E880",
           "#FF97FF",
           "#FECB52"
          ],
          "font": {
           "color": "#2a3f5f"
          },
          "hovermode": "closest",
          "hoverlabel": {
           "align": "left"
          },
          "paper_bgcolor": "white",
          "plot_bgcolor": "#E5ECF6",
          "polar": {
           "bgcolor": "#E5ECF6",
           "angularaxis": {
            "gridcolor": "white",
            "linecolor": "white",
            "ticks": ""
           },
           "radialaxis": {
            "gridcolor": "white",
            "linecolor": "white",
            "ticks": ""
           }
          },
          "ternary": {
           "bgcolor": "#E5ECF6",
           "aaxis": {
            "gridcolor": "white",
            "linecolor": "white",
            "ticks": ""
           },
           "baxis": {
            "gridcolor": "white",
            "linecolor": "white",
            "ticks": ""
           },
           "caxis": {
            "gridcolor": "white",
            "linecolor": "white",
            "ticks": ""
           }
          },
          "coloraxis": {
           "colorbar": {
            "outlinewidth": 0,
            "ticks": ""
           }
          },
          "colorscale": {
           "sequential": [
            [
             0.0,
             "#0d0887"
            ],
            [
             0.1111111111111111,
             "#46039f"
            ],
            [
             0.2222222222222222,
             "#7201a8"
            ],
            [
             0.3333333333333333,
             "#9c179e"
            ],
            [
             0.4444444444444444,
             "#bd3786"
            ],
            [
             0.5555555555555556,
             "#d8576b"
            ],
            [
             0.6666666666666666,
             "#ed7953"
            ],
            [
             0.7777777777777778,
             "#fb9f3a"
            ],
            [
             0.8888888888888888,
             "#fdca26"
            ],
            [
             1.0,
             "#f0f921"
            ]
           ],
           "sequentialminus": [
            [
             0.0,
             "#0d0887"
            ],
            [
             0.1111111111111111,
             "#46039f"
            ],
            [
             0.2222222222222222,
             "#7201a8"
            ],
            [
             0.3333333333333333,
             "#9c179e"
            ],
            [
             0.4444444444444444,
             "#bd3786"
            ],
            [
             0.5555555555555556,
             "#d8576b"
            ],
            [
             0.6666666666666666,
             "#ed7953"
            ],
            [
             0.7777777777777778,
             "#fb9f3a"
            ],
            [
             0.8888888888888888,
             "#fdca26"
            ],
            [
             1.0,
             "#f0f921"
            ]
           ],
           "diverging": [
            [
             0,
             "#8e0152"
            ],
            [
             0.1,
             "#c51b7d"
            ],
            [
             0.2,
             "#de77ae"
            ],
            [
             0.3,
             "#f1b6da"
            ],
            [
             0.4,
             "#fde0ef"
            ],
            [
             0.5,
             "#f7f7f7"
            ],
            [
             0.6,
             "#e6f5d0"
            ],
            [
             0.7,
             "#b8e186"
            ],
            [
             0.8,
             "#7fbc41"
            ],
            [
             0.9,
             "#4d9221"
            ],
            [
             1,
             "#276419"
            ]
           ]
          },
          "xaxis": {
           "gridcolor": "white",
           "linecolor": "white",
           "ticks": "",
           "title": {
            "standoff": 15
           },
           "zerolinecolor": "white",
           "automargin": true,
           "zerolinewidth": 2
          },
          "yaxis": {
           "gridcolor": "white",
           "linecolor": "white",
           "ticks": "",
           "title": {
            "standoff": 15
           },
           "zerolinecolor": "white",
           "automargin": true,
           "zerolinewidth": 2
          },
          "scene": {
           "xaxis": {
            "backgroundcolor": "#E5ECF6",
            "gridcolor": "white",
            "linecolor": "white",
            "showbackground": true,
            "ticks": "",
            "zerolinecolor": "white",
            "gridwidth": 2
           },
           "yaxis": {
            "backgroundcolor": "#E5ECF6",
            "gridcolor": "white",
            "linecolor": "white",
            "showbackground": true,
            "ticks": "",
            "zerolinecolor": "white",
            "gridwidth": 2
           },
           "zaxis": {
            "backgroundcolor": "#E5ECF6",
            "gridcolor": "white",
            "linecolor": "white",
            "showbackground": true,
            "ticks": "",
            "zerolinecolor": "white",
            "gridwidth": 2
           }
          },
          "shapedefaults": {
           "line": {
            "color": "#2a3f5f"
           }
          },
          "annotationdefaults": {
           "arrowcolor": "#2a3f5f",
           "arrowhead": 0,
           "arrowwidth": 1
          },
          "geo": {
           "bgcolor": "white",
           "landcolor": "#E5ECF6",
           "subunitcolor": "white",
           "showland": true,
           "showlakes": true,
           "lakecolor": "white"
          },
          "title": {
           "x": 0.05
          },
          "mapbox": {
           "style": "light"
          }
         }
        },
        "xaxis": {
         "anchor": "y",
         "domain": [
          0.0,
          1.0
         ]
        },
        "yaxis": {
         "anchor": "x",
         "domain": [
          0.0,
          1.0
         ],
         "autorange": "reversed"
        },
        "coloraxis": {
         "colorscale": [
          [
           0.0,
           "rgb(5,48,97)"
          ],
          [
           0.1,
           "rgb(33,102,172)"
          ],
          [
           0.2,
           "rgb(67,147,195)"
          ],
          [
           0.3,
           "rgb(146,197,222)"
          ],
          [
           0.4,
           "rgb(209,229,240)"
          ],
          [
           0.5,
           "rgb(247,247,247)"
          ],
          [
           0.6,
           "rgb(253,219,199)"
          ],
          [
           0.7,
           "rgb(244,165,130)"
          ],
          [
           0.8,
           "rgb(214,96,77)"
          ],
          [
           0.9,
           "rgb(178,24,43)"
          ],
          [
           1.0,
           "rgb(103,0,31)"
          ]
         ]
        },
        "title": {
         "text": "Strong positive correlation between employment statistics suggest PCA may be worthwhile"
        },
        "height": 1000,
        "width": 1000,
        "showlegend": false
       },
       "config": {
        "plotlyServerURL": "https://plot.ly"
       }
      }
     },
     "metadata": {},
     "output_type": "display_data"
    }
   ],
   "execution_count": 36
  },
  {
   "metadata": {
    "ExecuteTime": {
     "end_time": "2025-08-09T23:34:02.303107Z",
     "start_time": "2025-08-09T23:34:02.246277Z"
    }
   },
   "cell_type": "code",
   "source": [
    "price_ratio = (by_y_df['cons.price.idx'].value_counts() / df['cons.price.idx'].value_counts()).reset_index()\n",
    "\n",
    "fig = px.histogram(\n",
    "    price_ratio.sort_values(by='count'),\n",
    "    x='cons.price.idx',\n",
    "    y='count',\n",
    "    color='y',\n",
    "    title=\"Consumer price index may be noisy data\",\n",
    "    labels={\"cons.price.idx\": \"Consumer price index\", 'y': 'Accepted Campaign', \"count\": \"Ratio accepting campaign\"},\n",
    ")\n",
    "fig.show()\n",
    "fig.write_image(\"images/consumer_price_index_acceptance_ratio.png\")"
   ],
   "outputs": [
    {
     "data": {
      "application/vnd.plotly.v1+json": {
       "data": [
        {
         "bingroup": "x",
         "histfunc": "sum",
         "hovertemplate": "Accepted Campaign=yes<br>Consumer price index=%{x}<br>sum of Ratio accepting campaign=%{y}<extra></extra>",
         "legendgroup": "yes",
         "marker": {
          "color": "#636efa",
          "pattern": {
           "shape": ""
          }
         },
         "name": "yes",
         "orientation": "v",
         "showlegend": true,
         "x": {
          "dtype": "f8",
          "bdata": "Vg4tsp1/V0D2KFyPwp1XQCPb+X5qXFdAzczMzMxMV0CYbhKDwHpXQP7UeOkmOVdAqvHSTWIwV0DNzMzMzERXQL6fGi/dDFdAEoPAyqE9V0C8dJMYBB5XQMdLN4lBGFdA3SQGgZUbV0DLoUW28zVXQAwCK4cWsVdAWDm0yHamV0DsUbgehYNXQKjGSzeJKVdA2/l+aryMV0ASg8DKoS1XQH0/NV66gVdADi2yne9vV0D2KFyPwo1XQFYOLbKdV1dA8tJNYhB4V0BQjZduEnNXQA=="
         },
         "xaxis": "x",
         "y": {
          "dtype": "f8",
          "bdata": "tmE/ymmonz/uDbuGowGmP5zQMffdz6o/RnGuYxTnqj8euTYnACyvPwBP4k/4Jrc/mpmZmZmZuT8IR1fRXwTHPxZf8RVf8dU/GHqhF3qh1z983ete97rXP5cJomWCaNk/UpD8eZXF2T9yBTG5gpjcPwAAAAAAAN0/LS0tLS0t3T9iiA73Z+fdPx4eHh4eHt4/mHRqHuSu3z8Y9AV9QV/gP3LYg0gOe+A/4Gwd+s3W4T8T3xe1/BviPy+66KKLLuI/GG9ln0Nq4j9c+NWYSA/kPw=="
         },
         "yaxis": "y",
         "type": "histogram"
        },
        {
         "bingroup": "x",
         "histfunc": "sum",
         "hovertemplate": "Accepted Campaign=no<br>Consumer price index=%{x}<br>sum of Ratio accepting campaign=%{y}<extra></extra>",
         "legendgroup": "no",
         "marker": {
          "color": "#EF553B",
          "pattern": {
           "shape": ""
          }
         },
         "name": "no",
         "orientation": "v",
         "showlegend": true,
         "x": {
          "dtype": "f8",
          "bdata": "UI2XbhJzV0Dy0k1iEHhXQFYOLbKdV1dA9ihcj8KNV0AOLbKd729XQH0/NV66gVdAEoPAyqEtV0Db+X5qvIxXQKjGSzeJKVdA7FG4HoWDV0BYObTIdqZXQAwCK4cWsVdAy6FFtvM1V0DdJAaBlRtXQMdLN4lBGFdAvHSTGAQeV0ASg8DKoT1XQL6fGi/dDFdAzczMzMxEV0Cq8dJNYjBXQP7UeOkmOVdAmG4Sg8B6V0DNzMzMzExXQCPb+X5qXFdA9ihcj8KdV0BWDi2ynX9XQA=="
         },
         "xaxis": "x",
         "y": {
          "dtype": "f8",
          "bdata": "SQ9Uzm7h1z/QITXBeCvbP6OLLrroots/2kHQlQbI2z9BJsULZFLcPxtP+G7jCd8/0Bf0BX1B3z+0xcrwjSjgP/Hw8PDw8OA/z7t4BEwM4T9paWlpaWnhPwAAAAAAgOE/R31no76z4T/XtwFDNR3jPzX7Ls2+S+M/QhGKUIQi5D/0Qi/0Qi/kP3VQB3VQB+U/Pi6qC+g+6j/NzMzMzMzsPyC2A/YgG+0/bpSM/T8N7j/sGMW5jlHuP/bijCACU+4/IU+Ux+Wf7j/yBK6xvALvPw=="
         },
         "yaxis": "y",
         "type": "histogram"
        }
       ],
       "layout": {
        "template": {
         "data": {
          "histogram2dcontour": [
           {
            "type": "histogram2dcontour",
            "colorbar": {
             "outlinewidth": 0,
             "ticks": ""
            },
            "colorscale": [
             [
              0.0,
              "#0d0887"
             ],
             [
              0.1111111111111111,
              "#46039f"
             ],
             [
              0.2222222222222222,
              "#7201a8"
             ],
             [
              0.3333333333333333,
              "#9c179e"
             ],
             [
              0.4444444444444444,
              "#bd3786"
             ],
             [
              0.5555555555555556,
              "#d8576b"
             ],
             [
              0.6666666666666666,
              "#ed7953"
             ],
             [
              0.7777777777777778,
              "#fb9f3a"
             ],
             [
              0.8888888888888888,
              "#fdca26"
             ],
             [
              1.0,
              "#f0f921"
             ]
            ]
           }
          ],
          "choropleth": [
           {
            "type": "choropleth",
            "colorbar": {
             "outlinewidth": 0,
             "ticks": ""
            }
           }
          ],
          "histogram2d": [
           {
            "type": "histogram2d",
            "colorbar": {
             "outlinewidth": 0,
             "ticks": ""
            },
            "colorscale": [
             [
              0.0,
              "#0d0887"
             ],
             [
              0.1111111111111111,
              "#46039f"
             ],
             [
              0.2222222222222222,
              "#7201a8"
             ],
             [
              0.3333333333333333,
              "#9c179e"
             ],
             [
              0.4444444444444444,
              "#bd3786"
             ],
             [
              0.5555555555555556,
              "#d8576b"
             ],
             [
              0.6666666666666666,
              "#ed7953"
             ],
             [
              0.7777777777777778,
              "#fb9f3a"
             ],
             [
              0.8888888888888888,
              "#fdca26"
             ],
             [
              1.0,
              "#f0f921"
             ]
            ]
           }
          ],
          "heatmap": [
           {
            "type": "heatmap",
            "colorbar": {
             "outlinewidth": 0,
             "ticks": ""
            },
            "colorscale": [
             [
              0.0,
              "#0d0887"
             ],
             [
              0.1111111111111111,
              "#46039f"
             ],
             [
              0.2222222222222222,
              "#7201a8"
             ],
             [
              0.3333333333333333,
              "#9c179e"
             ],
             [
              0.4444444444444444,
              "#bd3786"
             ],
             [
              0.5555555555555556,
              "#d8576b"
             ],
             [
              0.6666666666666666,
              "#ed7953"
             ],
             [
              0.7777777777777778,
              "#fb9f3a"
             ],
             [
              0.8888888888888888,
              "#fdca26"
             ],
             [
              1.0,
              "#f0f921"
             ]
            ]
           }
          ],
          "contourcarpet": [
           {
            "type": "contourcarpet",
            "colorbar": {
             "outlinewidth": 0,
             "ticks": ""
            }
           }
          ],
          "contour": [
           {
            "type": "contour",
            "colorbar": {
             "outlinewidth": 0,
             "ticks": ""
            },
            "colorscale": [
             [
              0.0,
              "#0d0887"
             ],
             [
              0.1111111111111111,
              "#46039f"
             ],
             [
              0.2222222222222222,
              "#7201a8"
             ],
             [
              0.3333333333333333,
              "#9c179e"
             ],
             [
              0.4444444444444444,
              "#bd3786"
             ],
             [
              0.5555555555555556,
              "#d8576b"
             ],
             [
              0.6666666666666666,
              "#ed7953"
             ],
             [
              0.7777777777777778,
              "#fb9f3a"
             ],
             [
              0.8888888888888888,
              "#fdca26"
             ],
             [
              1.0,
              "#f0f921"
             ]
            ]
           }
          ],
          "surface": [
           {
            "type": "surface",
            "colorbar": {
             "outlinewidth": 0,
             "ticks": ""
            },
            "colorscale": [
             [
              0.0,
              "#0d0887"
             ],
             [
              0.1111111111111111,
              "#46039f"
             ],
             [
              0.2222222222222222,
              "#7201a8"
             ],
             [
              0.3333333333333333,
              "#9c179e"
             ],
             [
              0.4444444444444444,
              "#bd3786"
             ],
             [
              0.5555555555555556,
              "#d8576b"
             ],
             [
              0.6666666666666666,
              "#ed7953"
             ],
             [
              0.7777777777777778,
              "#fb9f3a"
             ],
             [
              0.8888888888888888,
              "#fdca26"
             ],
             [
              1.0,
              "#f0f921"
             ]
            ]
           }
          ],
          "mesh3d": [
           {
            "type": "mesh3d",
            "colorbar": {
             "outlinewidth": 0,
             "ticks": ""
            }
           }
          ],
          "scatter": [
           {
            "fillpattern": {
             "fillmode": "overlay",
             "size": 10,
             "solidity": 0.2
            },
            "type": "scatter"
           }
          ],
          "parcoords": [
           {
            "type": "parcoords",
            "line": {
             "colorbar": {
              "outlinewidth": 0,
              "ticks": ""
             }
            }
           }
          ],
          "scatterpolargl": [
           {
            "type": "scatterpolargl",
            "marker": {
             "colorbar": {
              "outlinewidth": 0,
              "ticks": ""
             }
            }
           }
          ],
          "bar": [
           {
            "error_x": {
             "color": "#2a3f5f"
            },
            "error_y": {
             "color": "#2a3f5f"
            },
            "marker": {
             "line": {
              "color": "#E5ECF6",
              "width": 0.5
             },
             "pattern": {
              "fillmode": "overlay",
              "size": 10,
              "solidity": 0.2
             }
            },
            "type": "bar"
           }
          ],
          "scattergeo": [
           {
            "type": "scattergeo",
            "marker": {
             "colorbar": {
              "outlinewidth": 0,
              "ticks": ""
             }
            }
           }
          ],
          "scatterpolar": [
           {
            "type": "scatterpolar",
            "marker": {
             "colorbar": {
              "outlinewidth": 0,
              "ticks": ""
             }
            }
           }
          ],
          "histogram": [
           {
            "marker": {
             "pattern": {
              "fillmode": "overlay",
              "size": 10,
              "solidity": 0.2
             }
            },
            "type": "histogram"
           }
          ],
          "scattergl": [
           {
            "type": "scattergl",
            "marker": {
             "colorbar": {
              "outlinewidth": 0,
              "ticks": ""
             }
            }
           }
          ],
          "scatter3d": [
           {
            "type": "scatter3d",
            "line": {
             "colorbar": {
              "outlinewidth": 0,
              "ticks": ""
             }
            },
            "marker": {
             "colorbar": {
              "outlinewidth": 0,
              "ticks": ""
             }
            }
           }
          ],
          "scattermap": [
           {
            "type": "scattermap",
            "marker": {
             "colorbar": {
              "outlinewidth": 0,
              "ticks": ""
             }
            }
           }
          ],
          "scattermapbox": [
           {
            "type": "scattermapbox",
            "marker": {
             "colorbar": {
              "outlinewidth": 0,
              "ticks": ""
             }
            }
           }
          ],
          "scatterternary": [
           {
            "type": "scatterternary",
            "marker": {
             "colorbar": {
              "outlinewidth": 0,
              "ticks": ""
             }
            }
           }
          ],
          "scattercarpet": [
           {
            "type": "scattercarpet",
            "marker": {
             "colorbar": {
              "outlinewidth": 0,
              "ticks": ""
             }
            }
           }
          ],
          "carpet": [
           {
            "aaxis": {
             "endlinecolor": "#2a3f5f",
             "gridcolor": "white",
             "linecolor": "white",
             "minorgridcolor": "white",
             "startlinecolor": "#2a3f5f"
            },
            "baxis": {
             "endlinecolor": "#2a3f5f",
             "gridcolor": "white",
             "linecolor": "white",
             "minorgridcolor": "white",
             "startlinecolor": "#2a3f5f"
            },
            "type": "carpet"
           }
          ],
          "table": [
           {
            "cells": {
             "fill": {
              "color": "#EBF0F8"
             },
             "line": {
              "color": "white"
             }
            },
            "header": {
             "fill": {
              "color": "#C8D4E3"
             },
             "line": {
              "color": "white"
             }
            },
            "type": "table"
           }
          ],
          "barpolar": [
           {
            "marker": {
             "line": {
              "color": "#E5ECF6",
              "width": 0.5
             },
             "pattern": {
              "fillmode": "overlay",
              "size": 10,
              "solidity": 0.2
             }
            },
            "type": "barpolar"
           }
          ],
          "pie": [
           {
            "automargin": true,
            "type": "pie"
           }
          ]
         },
         "layout": {
          "autotypenumbers": "strict",
          "colorway": [
           "#636efa",
           "#EF553B",
           "#00cc96",
           "#ab63fa",
           "#FFA15A",
           "#19d3f3",
           "#FF6692",
           "#B6E880",
           "#FF97FF",
           "#FECB52"
          ],
          "font": {
           "color": "#2a3f5f"
          },
          "hovermode": "closest",
          "hoverlabel": {
           "align": "left"
          },
          "paper_bgcolor": "white",
          "plot_bgcolor": "#E5ECF6",
          "polar": {
           "bgcolor": "#E5ECF6",
           "angularaxis": {
            "gridcolor": "white",
            "linecolor": "white",
            "ticks": ""
           },
           "radialaxis": {
            "gridcolor": "white",
            "linecolor": "white",
            "ticks": ""
           }
          },
          "ternary": {
           "bgcolor": "#E5ECF6",
           "aaxis": {
            "gridcolor": "white",
            "linecolor": "white",
            "ticks": ""
           },
           "baxis": {
            "gridcolor": "white",
            "linecolor": "white",
            "ticks": ""
           },
           "caxis": {
            "gridcolor": "white",
            "linecolor": "white",
            "ticks": ""
           }
          },
          "coloraxis": {
           "colorbar": {
            "outlinewidth": 0,
            "ticks": ""
           }
          },
          "colorscale": {
           "sequential": [
            [
             0.0,
             "#0d0887"
            ],
            [
             0.1111111111111111,
             "#46039f"
            ],
            [
             0.2222222222222222,
             "#7201a8"
            ],
            [
             0.3333333333333333,
             "#9c179e"
            ],
            [
             0.4444444444444444,
             "#bd3786"
            ],
            [
             0.5555555555555556,
             "#d8576b"
            ],
            [
             0.6666666666666666,
             "#ed7953"
            ],
            [
             0.7777777777777778,
             "#fb9f3a"
            ],
            [
             0.8888888888888888,
             "#fdca26"
            ],
            [
             1.0,
             "#f0f921"
            ]
           ],
           "sequentialminus": [
            [
             0.0,
             "#0d0887"
            ],
            [
             0.1111111111111111,
             "#46039f"
            ],
            [
             0.2222222222222222,
             "#7201a8"
            ],
            [
             0.3333333333333333,
             "#9c179e"
            ],
            [
             0.4444444444444444,
             "#bd3786"
            ],
            [
             0.5555555555555556,
             "#d8576b"
            ],
            [
             0.6666666666666666,
             "#ed7953"
            ],
            [
             0.7777777777777778,
             "#fb9f3a"
            ],
            [
             0.8888888888888888,
             "#fdca26"
            ],
            [
             1.0,
             "#f0f921"
            ]
           ],
           "diverging": [
            [
             0,
             "#8e0152"
            ],
            [
             0.1,
             "#c51b7d"
            ],
            [
             0.2,
             "#de77ae"
            ],
            [
             0.3,
             "#f1b6da"
            ],
            [
             0.4,
             "#fde0ef"
            ],
            [
             0.5,
             "#f7f7f7"
            ],
            [
             0.6,
             "#e6f5d0"
            ],
            [
             0.7,
             "#b8e186"
            ],
            [
             0.8,
             "#7fbc41"
            ],
            [
             0.9,
             "#4d9221"
            ],
            [
             1,
             "#276419"
            ]
           ]
          },
          "xaxis": {
           "gridcolor": "white",
           "linecolor": "white",
           "ticks": "",
           "title": {
            "standoff": 15
           },
           "zerolinecolor": "white",
           "automargin": true,
           "zerolinewidth": 2
          },
          "yaxis": {
           "gridcolor": "white",
           "linecolor": "white",
           "ticks": "",
           "title": {
            "standoff": 15
           },
           "zerolinecolor": "white",
           "automargin": true,
           "zerolinewidth": 2
          },
          "scene": {
           "xaxis": {
            "backgroundcolor": "#E5ECF6",
            "gridcolor": "white",
            "linecolor": "white",
            "showbackground": true,
            "ticks": "",
            "zerolinecolor": "white",
            "gridwidth": 2
           },
           "yaxis": {
            "backgroundcolor": "#E5ECF6",
            "gridcolor": "white",
            "linecolor": "white",
            "showbackground": true,
            "ticks": "",
            "zerolinecolor": "white",
            "gridwidth": 2
           },
           "zaxis": {
            "backgroundcolor": "#E5ECF6",
            "gridcolor": "white",
            "linecolor": "white",
            "showbackground": true,
            "ticks": "",
            "zerolinecolor": "white",
            "gridwidth": 2
           }
          },
          "shapedefaults": {
           "line": {
            "color": "#2a3f5f"
           }
          },
          "annotationdefaults": {
           "arrowcolor": "#2a3f5f",
           "arrowhead": 0,
           "arrowwidth": 1
          },
          "geo": {
           "bgcolor": "white",
           "landcolor": "#E5ECF6",
           "subunitcolor": "white",
           "showland": true,
           "showlakes": true,
           "lakecolor": "white"
          },
          "title": {
           "x": 0.05
          },
          "mapbox": {
           "style": "light"
          }
         }
        },
        "xaxis": {
         "anchor": "y",
         "domain": [
          0.0,
          1.0
         ],
         "title": {
          "text": "Consumer price index"
         }
        },
        "yaxis": {
         "anchor": "x",
         "domain": [
          0.0,
          1.0
         ],
         "title": {
          "text": "sum of Ratio accepting campaign"
         }
        },
        "legend": {
         "title": {
          "text": "Accepted Campaign"
         },
         "tracegroupgap": 0
        },
        "title": {
         "text": "Consumer price index may be noisy data"
        },
        "barmode": "relative"
       },
       "config": {
        "plotlyServerURL": "https://plot.ly"
       }
      }
     },
     "metadata": {},
     "output_type": "display_data"
    }
   ],
   "execution_count": 61
  },
  {
   "metadata": {
    "ExecuteTime": {
     "end_time": "2025-08-10T01:22:57.852119Z",
     "start_time": "2025-08-10T01:22:57.765376Z"
    }
   },
   "cell_type": "code",
   "source": [
    "price_ratio = (by_y_df['cons.conf.idx'].value_counts() / df['cons.conf.idx'].value_counts()).reset_index()\n",
    "\n",
    "fig = px.histogram(\n",
    "    price_ratio.sort_values(by='count'),\n",
    "    x='cons.conf.idx',\n",
    "    y='count',\n",
    "    color='y',\n",
    "    title=\"Consumer confidence index may be noisy data\",\n",
    "    labels={\"cons.conf.idx\": \"Consumer confidence index\", 'y': 'Accepted Campaign',\n",
    "            \"count\": \"Ratio accepting campaign\"},\n",
    "    nbins=10\n",
    ")\n",
    "fig.update_layout(height=800, width=1000)\n",
    "fig.show()\n",
    "fig.write_image(\"images/consumer_confidence_index_acceptance_ratio.png\")"
   ],
   "outputs": [
    {
     "data": {
      "application/vnd.plotly.v1+json": {
       "data": [
        {
         "bingroup": "x",
         "histfunc": "sum",
         "hovertemplate": "Accepted Campaign=yes<br>Consumer confidence index=%{x}<br>sum of Ratio accepting campaign=%{y}<extra></extra>",
         "legendgroup": "yes",
         "marker": {
          "color": "#636efa",
          "pattern": {
           "shape": ""
          }
         },
         "name": "yes",
         "nbinsx": 10,
         "orientation": "v",
         "showlegend": true,
         "x": {
          "dtype": "f8",
          "bdata": "MzMzMzMzQsBmZmZmZuZEwM3MzMzMDELAAAAAAAAARcCamZmZmVlFwJqZmZmZGUfAMzMzMzPzRsDNzMzMzIxHwGZmZmZmZj/AZmZmZmZmRMDNzMzMzMxAwM3MzMzMzD3AZmZmZmbmOsAAAAAAAABJwGZmZmZmZknAAAAAAADASMBmZmZmZuZDwJqZmZmZGT7AAAAAAADAQsAAAAAAAIBAwGZmZmZmJkPAzczMzMxMQcBmZmZmZiZEwGZmZmZmZkHAAAAAAAAARMAzMzMzMzNEwA=="
         },
         "xaxis": "x",
         "y": {
          "dtype": "f8",
          "bdata": "tmE/ymmonz/uDbuGowGmP5zQMffdz6o/RnGuYxTnqj8euTYnACyvPwBP4k/4Jrc/mpmZmZmZuT8IR1fRXwTHPxZf8RVf8dU/GHqhF3qh1z983ete97rXP5cJomWCaNk/UpD8eZXF2T9yBTG5gpjcPwAAAAAAAN0/LS0tLS0t3T9iiA73Z+fdPx4eHh4eHt4/mHRqHuSu3z8Y9AV9QV/gP3LYg0gOe+A/4Gwd+s3W4T8T3xe1/BviPy+66KKLLuI/GG9ln0Nq4j9c+NWYSA/kPw=="
         },
         "yaxis": "y",
         "type": "histogram"
        },
        {
         "bingroup": "x",
         "histfunc": "sum",
         "hovertemplate": "Accepted Campaign=no<br>Consumer confidence index=%{x}<br>sum of Ratio accepting campaign=%{y}<extra></extra>",
         "legendgroup": "no",
         "marker": {
          "color": "#EF553B",
          "pattern": {
           "shape": ""
          }
         },
         "name": "no",
         "nbinsx": 10,
         "orientation": "v",
         "showlegend": true,
         "x": {
          "dtype": "f8",
          "bdata": "MzMzMzMzRMAAAAAAAABEwGZmZmZmZkHAZmZmZmYmRMDNzMzMzExBwGZmZmZmJkPAAAAAAACAQMAAAAAAAMBCwJqZmZmZGT7AZmZmZmbmQ8AAAAAAAMBIwGZmZmZmZknAAAAAAAAAScBmZmZmZuY6wM3MzMzMzD3AzczMzMzMQMBmZmZmZmZEwGZmZmZmZj/AzczMzMyMR8AzMzMzM/NGwJqZmZmZGUfAmpmZmZlZRcAAAAAAAABFwM3MzMzMDELAZmZmZmbmRMAzMzMzMzNCwA=="
         },
         "xaxis": "x",
         "y": {
          "dtype": "f8",
          "bdata": "SQ9Uzm7h1z/QITXBeCvbP6OLLrroots/2kHQlQbI2z9BJsULZFLcPxtP+G7jCd8/0Bf0BX1B3z+0xcrwjSjgP/Hw8PDw8OA/z7t4BEwM4T9paWlpaWnhPwAAAAAAgOE/R31no76z4T/XtwFDNR3jPzX7Ls2+S+M/QhGKUIQi5D/0Qi/0Qi/kP3VQB3VQB+U/Pi6qC+g+6j/NzMzMzMzsPyC2A/YgG+0/bpSM/T8N7j/sGMW5jlHuP/bijCACU+4/IU+Ux+Wf7j/yBK6xvALvPw=="
         },
         "yaxis": "y",
         "type": "histogram"
        }
       ],
       "layout": {
        "template": {
         "data": {
          "histogram2dcontour": [
           {
            "type": "histogram2dcontour",
            "colorbar": {
             "outlinewidth": 0,
             "ticks": ""
            },
            "colorscale": [
             [
              0.0,
              "#0d0887"
             ],
             [
              0.1111111111111111,
              "#46039f"
             ],
             [
              0.2222222222222222,
              "#7201a8"
             ],
             [
              0.3333333333333333,
              "#9c179e"
             ],
             [
              0.4444444444444444,
              "#bd3786"
             ],
             [
              0.5555555555555556,
              "#d8576b"
             ],
             [
              0.6666666666666666,
              "#ed7953"
             ],
             [
              0.7777777777777778,
              "#fb9f3a"
             ],
             [
              0.8888888888888888,
              "#fdca26"
             ],
             [
              1.0,
              "#f0f921"
             ]
            ]
           }
          ],
          "choropleth": [
           {
            "type": "choropleth",
            "colorbar": {
             "outlinewidth": 0,
             "ticks": ""
            }
           }
          ],
          "histogram2d": [
           {
            "type": "histogram2d",
            "colorbar": {
             "outlinewidth": 0,
             "ticks": ""
            },
            "colorscale": [
             [
              0.0,
              "#0d0887"
             ],
             [
              0.1111111111111111,
              "#46039f"
             ],
             [
              0.2222222222222222,
              "#7201a8"
             ],
             [
              0.3333333333333333,
              "#9c179e"
             ],
             [
              0.4444444444444444,
              "#bd3786"
             ],
             [
              0.5555555555555556,
              "#d8576b"
             ],
             [
              0.6666666666666666,
              "#ed7953"
             ],
             [
              0.7777777777777778,
              "#fb9f3a"
             ],
             [
              0.8888888888888888,
              "#fdca26"
             ],
             [
              1.0,
              "#f0f921"
             ]
            ]
           }
          ],
          "heatmap": [
           {
            "type": "heatmap",
            "colorbar": {
             "outlinewidth": 0,
             "ticks": ""
            },
            "colorscale": [
             [
              0.0,
              "#0d0887"
             ],
             [
              0.1111111111111111,
              "#46039f"
             ],
             [
              0.2222222222222222,
              "#7201a8"
             ],
             [
              0.3333333333333333,
              "#9c179e"
             ],
             [
              0.4444444444444444,
              "#bd3786"
             ],
             [
              0.5555555555555556,
              "#d8576b"
             ],
             [
              0.6666666666666666,
              "#ed7953"
             ],
             [
              0.7777777777777778,
              "#fb9f3a"
             ],
             [
              0.8888888888888888,
              "#fdca26"
             ],
             [
              1.0,
              "#f0f921"
             ]
            ]
           }
          ],
          "contourcarpet": [
           {
            "type": "contourcarpet",
            "colorbar": {
             "outlinewidth": 0,
             "ticks": ""
            }
           }
          ],
          "contour": [
           {
            "type": "contour",
            "colorbar": {
             "outlinewidth": 0,
             "ticks": ""
            },
            "colorscale": [
             [
              0.0,
              "#0d0887"
             ],
             [
              0.1111111111111111,
              "#46039f"
             ],
             [
              0.2222222222222222,
              "#7201a8"
             ],
             [
              0.3333333333333333,
              "#9c179e"
             ],
             [
              0.4444444444444444,
              "#bd3786"
             ],
             [
              0.5555555555555556,
              "#d8576b"
             ],
             [
              0.6666666666666666,
              "#ed7953"
             ],
             [
              0.7777777777777778,
              "#fb9f3a"
             ],
             [
              0.8888888888888888,
              "#fdca26"
             ],
             [
              1.0,
              "#f0f921"
             ]
            ]
           }
          ],
          "surface": [
           {
            "type": "surface",
            "colorbar": {
             "outlinewidth": 0,
             "ticks": ""
            },
            "colorscale": [
             [
              0.0,
              "#0d0887"
             ],
             [
              0.1111111111111111,
              "#46039f"
             ],
             [
              0.2222222222222222,
              "#7201a8"
             ],
             [
              0.3333333333333333,
              "#9c179e"
             ],
             [
              0.4444444444444444,
              "#bd3786"
             ],
             [
              0.5555555555555556,
              "#d8576b"
             ],
             [
              0.6666666666666666,
              "#ed7953"
             ],
             [
              0.7777777777777778,
              "#fb9f3a"
             ],
             [
              0.8888888888888888,
              "#fdca26"
             ],
             [
              1.0,
              "#f0f921"
             ]
            ]
           }
          ],
          "mesh3d": [
           {
            "type": "mesh3d",
            "colorbar": {
             "outlinewidth": 0,
             "ticks": ""
            }
           }
          ],
          "scatter": [
           {
            "fillpattern": {
             "fillmode": "overlay",
             "size": 10,
             "solidity": 0.2
            },
            "type": "scatter"
           }
          ],
          "parcoords": [
           {
            "type": "parcoords",
            "line": {
             "colorbar": {
              "outlinewidth": 0,
              "ticks": ""
             }
            }
           }
          ],
          "scatterpolargl": [
           {
            "type": "scatterpolargl",
            "marker": {
             "colorbar": {
              "outlinewidth": 0,
              "ticks": ""
             }
            }
           }
          ],
          "bar": [
           {
            "error_x": {
             "color": "#2a3f5f"
            },
            "error_y": {
             "color": "#2a3f5f"
            },
            "marker": {
             "line": {
              "color": "#E5ECF6",
              "width": 0.5
             },
             "pattern": {
              "fillmode": "overlay",
              "size": 10,
              "solidity": 0.2
             }
            },
            "type": "bar"
           }
          ],
          "scattergeo": [
           {
            "type": "scattergeo",
            "marker": {
             "colorbar": {
              "outlinewidth": 0,
              "ticks": ""
             }
            }
           }
          ],
          "scatterpolar": [
           {
            "type": "scatterpolar",
            "marker": {
             "colorbar": {
              "outlinewidth": 0,
              "ticks": ""
             }
            }
           }
          ],
          "histogram": [
           {
            "marker": {
             "pattern": {
              "fillmode": "overlay",
              "size": 10,
              "solidity": 0.2
             }
            },
            "type": "histogram"
           }
          ],
          "scattergl": [
           {
            "type": "scattergl",
            "marker": {
             "colorbar": {
              "outlinewidth": 0,
              "ticks": ""
             }
            }
           }
          ],
          "scatter3d": [
           {
            "type": "scatter3d",
            "line": {
             "colorbar": {
              "outlinewidth": 0,
              "ticks": ""
             }
            },
            "marker": {
             "colorbar": {
              "outlinewidth": 0,
              "ticks": ""
             }
            }
           }
          ],
          "scattermap": [
           {
            "type": "scattermap",
            "marker": {
             "colorbar": {
              "outlinewidth": 0,
              "ticks": ""
             }
            }
           }
          ],
          "scattermapbox": [
           {
            "type": "scattermapbox",
            "marker": {
             "colorbar": {
              "outlinewidth": 0,
              "ticks": ""
             }
            }
           }
          ],
          "scatterternary": [
           {
            "type": "scatterternary",
            "marker": {
             "colorbar": {
              "outlinewidth": 0,
              "ticks": ""
             }
            }
           }
          ],
          "scattercarpet": [
           {
            "type": "scattercarpet",
            "marker": {
             "colorbar": {
              "outlinewidth": 0,
              "ticks": ""
             }
            }
           }
          ],
          "carpet": [
           {
            "aaxis": {
             "endlinecolor": "#2a3f5f",
             "gridcolor": "white",
             "linecolor": "white",
             "minorgridcolor": "white",
             "startlinecolor": "#2a3f5f"
            },
            "baxis": {
             "endlinecolor": "#2a3f5f",
             "gridcolor": "white",
             "linecolor": "white",
             "minorgridcolor": "white",
             "startlinecolor": "#2a3f5f"
            },
            "type": "carpet"
           }
          ],
          "table": [
           {
            "cells": {
             "fill": {
              "color": "#EBF0F8"
             },
             "line": {
              "color": "white"
             }
            },
            "header": {
             "fill": {
              "color": "#C8D4E3"
             },
             "line": {
              "color": "white"
             }
            },
            "type": "table"
           }
          ],
          "barpolar": [
           {
            "marker": {
             "line": {
              "color": "#E5ECF6",
              "width": 0.5
             },
             "pattern": {
              "fillmode": "overlay",
              "size": 10,
              "solidity": 0.2
             }
            },
            "type": "barpolar"
           }
          ],
          "pie": [
           {
            "automargin": true,
            "type": "pie"
           }
          ]
         },
         "layout": {
          "autotypenumbers": "strict",
          "colorway": [
           "#636efa",
           "#EF553B",
           "#00cc96",
           "#ab63fa",
           "#FFA15A",
           "#19d3f3",
           "#FF6692",
           "#B6E880",
           "#FF97FF",
           "#FECB52"
          ],
          "font": {
           "color": "#2a3f5f"
          },
          "hovermode": "closest",
          "hoverlabel": {
           "align": "left"
          },
          "paper_bgcolor": "white",
          "plot_bgcolor": "#E5ECF6",
          "polar": {
           "bgcolor": "#E5ECF6",
           "angularaxis": {
            "gridcolor": "white",
            "linecolor": "white",
            "ticks": ""
           },
           "radialaxis": {
            "gridcolor": "white",
            "linecolor": "white",
            "ticks": ""
           }
          },
          "ternary": {
           "bgcolor": "#E5ECF6",
           "aaxis": {
            "gridcolor": "white",
            "linecolor": "white",
            "ticks": ""
           },
           "baxis": {
            "gridcolor": "white",
            "linecolor": "white",
            "ticks": ""
           },
           "caxis": {
            "gridcolor": "white",
            "linecolor": "white",
            "ticks": ""
           }
          },
          "coloraxis": {
           "colorbar": {
            "outlinewidth": 0,
            "ticks": ""
           }
          },
          "colorscale": {
           "sequential": [
            [
             0.0,
             "#0d0887"
            ],
            [
             0.1111111111111111,
             "#46039f"
            ],
            [
             0.2222222222222222,
             "#7201a8"
            ],
            [
             0.3333333333333333,
             "#9c179e"
            ],
            [
             0.4444444444444444,
             "#bd3786"
            ],
            [
             0.5555555555555556,
             "#d8576b"
            ],
            [
             0.6666666666666666,
             "#ed7953"
            ],
            [
             0.7777777777777778,
             "#fb9f3a"
            ],
            [
             0.8888888888888888,
             "#fdca26"
            ],
            [
             1.0,
             "#f0f921"
            ]
           ],
           "sequentialminus": [
            [
             0.0,
             "#0d0887"
            ],
            [
             0.1111111111111111,
             "#46039f"
            ],
            [
             0.2222222222222222,
             "#7201a8"
            ],
            [
             0.3333333333333333,
             "#9c179e"
            ],
            [
             0.4444444444444444,
             "#bd3786"
            ],
            [
             0.5555555555555556,
             "#d8576b"
            ],
            [
             0.6666666666666666,
             "#ed7953"
            ],
            [
             0.7777777777777778,
             "#fb9f3a"
            ],
            [
             0.8888888888888888,
             "#fdca26"
            ],
            [
             1.0,
             "#f0f921"
            ]
           ],
           "diverging": [
            [
             0,
             "#8e0152"
            ],
            [
             0.1,
             "#c51b7d"
            ],
            [
             0.2,
             "#de77ae"
            ],
            [
             0.3,
             "#f1b6da"
            ],
            [
             0.4,
             "#fde0ef"
            ],
            [
             0.5,
             "#f7f7f7"
            ],
            [
             0.6,
             "#e6f5d0"
            ],
            [
             0.7,
             "#b8e186"
            ],
            [
             0.8,
             "#7fbc41"
            ],
            [
             0.9,
             "#4d9221"
            ],
            [
             1,
             "#276419"
            ]
           ]
          },
          "xaxis": {
           "gridcolor": "white",
           "linecolor": "white",
           "ticks": "",
           "title": {
            "standoff": 15
           },
           "zerolinecolor": "white",
           "automargin": true,
           "zerolinewidth": 2
          },
          "yaxis": {
           "gridcolor": "white",
           "linecolor": "white",
           "ticks": "",
           "title": {
            "standoff": 15
           },
           "zerolinecolor": "white",
           "automargin": true,
           "zerolinewidth": 2
          },
          "scene": {
           "xaxis": {
            "backgroundcolor": "#E5ECF6",
            "gridcolor": "white",
            "linecolor": "white",
            "showbackground": true,
            "ticks": "",
            "zerolinecolor": "white",
            "gridwidth": 2
           },
           "yaxis": {
            "backgroundcolor": "#E5ECF6",
            "gridcolor": "white",
            "linecolor": "white",
            "showbackground": true,
            "ticks": "",
            "zerolinecolor": "white",
            "gridwidth": 2
           },
           "zaxis": {
            "backgroundcolor": "#E5ECF6",
            "gridcolor": "white",
            "linecolor": "white",
            "showbackground": true,
            "ticks": "",
            "zerolinecolor": "white",
            "gridwidth": 2
           }
          },
          "shapedefaults": {
           "line": {
            "color": "#2a3f5f"
           }
          },
          "annotationdefaults": {
           "arrowcolor": "#2a3f5f",
           "arrowhead": 0,
           "arrowwidth": 1
          },
          "geo": {
           "bgcolor": "white",
           "landcolor": "#E5ECF6",
           "subunitcolor": "white",
           "showland": true,
           "showlakes": true,
           "lakecolor": "white"
          },
          "title": {
           "x": 0.05
          },
          "mapbox": {
           "style": "light"
          }
         }
        },
        "xaxis": {
         "anchor": "y",
         "domain": [
          0.0,
          1.0
         ],
         "title": {
          "text": "Consumer confidence index"
         }
        },
        "yaxis": {
         "anchor": "x",
         "domain": [
          0.0,
          1.0
         ],
         "title": {
          "text": "sum of Ratio accepting campaign"
         }
        },
        "legend": {
         "title": {
          "text": "Accepted Campaign"
         },
         "tracegroupgap": 0
        },
        "title": {
         "text": "Consumer confidence index may be noisy data"
        },
        "barmode": "relative",
        "height": 800,
        "width": 1000
       },
       "config": {
        "plotlyServerURL": "https://plot.ly"
       }
      }
     },
     "metadata": {},
     "output_type": "display_data"
    }
   ],
   "execution_count": 77
  },
  {
   "metadata": {
    "ExecuteTime": {
     "end_time": "2025-08-10T01:23:36.565363Z",
     "start_time": "2025-08-10T01:23:36.503779Z"
    }
   },
   "cell_type": "code",
   "source": [
    "poutcome_ratio = (by_y_df['poutcome'].value_counts() / df['poutcome'].value_counts()).reset_index()\n",
    "\n",
    "fig = px.bar(\n",
    "    poutcome_ratio,\n",
    "    x='poutcome',\n",
    "    y='count',\n",
    "    color='y',\n",
    "    title=\"Those that accept the previous campaign are more likely to accept the next campaign\",\n",
    "    labels={\"poutcome\": \"Previous outcome\", 'y': 'Accepted Campaign', \"count\": \"Ratio accepting campaign\", },\n",
    ")\n",
    "fig.update_layout(height=800, width=1000)\n",
    "fig.show()\n",
    "fig.write_image(\"images/poutcome_acceptance_ratio.png\")"
   ],
   "outputs": [
    {
     "data": {
      "application/vnd.plotly.v1+json": {
       "data": [
        {
         "hovertemplate": "Accepted Campaign=no<br>Previous outcome=%{x}<br>Ratio accepting campaign=%{y}<extra></extra>",
         "legendgroup": "no",
         "marker": {
          "color": "#636efa",
          "pattern": {
           "shape": ""
          }
         },
         "name": "no",
         "orientation": "v",
         "showlegend": true,
         "textposition": "auto",
         "x": [
          "nonexistent",
          "failure",
          "success"
         ],
         "xaxis": "x",
         "y": {
          "dtype": "f8",
          "bdata": "om4lEHcs7T+9kIGqZHLrP1wkYWPnU9Y/"
         },
         "yaxis": "y",
         "type": "bar"
        },
        {
         "hovertemplate": "Accepted Campaign=yes<br>Previous outcome=%{x}<br>Ratio accepting campaign=%{y}<extra></extra>",
         "legendgroup": "yes",
         "marker": {
          "color": "#EF553B",
          "pattern": {
           "shape": ""
          }
         },
         "name": "yes",
         "orientation": "v",
         "showlegend": true,
         "textposition": "auto",
         "x": [
          "nonexistent",
          "success",
          "failure"
         ],
         "xaxis": "x",
         "y": {
          "dtype": "f8",
          "bdata": "7orUfkectj/SbU9ODNbkPw29+VVtNsI/"
         },
         "yaxis": "y",
         "type": "bar"
        }
       ],
       "layout": {
        "template": {
         "data": {
          "histogram2dcontour": [
           {
            "type": "histogram2dcontour",
            "colorbar": {
             "outlinewidth": 0,
             "ticks": ""
            },
            "colorscale": [
             [
              0.0,
              "#0d0887"
             ],
             [
              0.1111111111111111,
              "#46039f"
             ],
             [
              0.2222222222222222,
              "#7201a8"
             ],
             [
              0.3333333333333333,
              "#9c179e"
             ],
             [
              0.4444444444444444,
              "#bd3786"
             ],
             [
              0.5555555555555556,
              "#d8576b"
             ],
             [
              0.6666666666666666,
              "#ed7953"
             ],
             [
              0.7777777777777778,
              "#fb9f3a"
             ],
             [
              0.8888888888888888,
              "#fdca26"
             ],
             [
              1.0,
              "#f0f921"
             ]
            ]
           }
          ],
          "choropleth": [
           {
            "type": "choropleth",
            "colorbar": {
             "outlinewidth": 0,
             "ticks": ""
            }
           }
          ],
          "histogram2d": [
           {
            "type": "histogram2d",
            "colorbar": {
             "outlinewidth": 0,
             "ticks": ""
            },
            "colorscale": [
             [
              0.0,
              "#0d0887"
             ],
             [
              0.1111111111111111,
              "#46039f"
             ],
             [
              0.2222222222222222,
              "#7201a8"
             ],
             [
              0.3333333333333333,
              "#9c179e"
             ],
             [
              0.4444444444444444,
              "#bd3786"
             ],
             [
              0.5555555555555556,
              "#d8576b"
             ],
             [
              0.6666666666666666,
              "#ed7953"
             ],
             [
              0.7777777777777778,
              "#fb9f3a"
             ],
             [
              0.8888888888888888,
              "#fdca26"
             ],
             [
              1.0,
              "#f0f921"
             ]
            ]
           }
          ],
          "heatmap": [
           {
            "type": "heatmap",
            "colorbar": {
             "outlinewidth": 0,
             "ticks": ""
            },
            "colorscale": [
             [
              0.0,
              "#0d0887"
             ],
             [
              0.1111111111111111,
              "#46039f"
             ],
             [
              0.2222222222222222,
              "#7201a8"
             ],
             [
              0.3333333333333333,
              "#9c179e"
             ],
             [
              0.4444444444444444,
              "#bd3786"
             ],
             [
              0.5555555555555556,
              "#d8576b"
             ],
             [
              0.6666666666666666,
              "#ed7953"
             ],
             [
              0.7777777777777778,
              "#fb9f3a"
             ],
             [
              0.8888888888888888,
              "#fdca26"
             ],
             [
              1.0,
              "#f0f921"
             ]
            ]
           }
          ],
          "contourcarpet": [
           {
            "type": "contourcarpet",
            "colorbar": {
             "outlinewidth": 0,
             "ticks": ""
            }
           }
          ],
          "contour": [
           {
            "type": "contour",
            "colorbar": {
             "outlinewidth": 0,
             "ticks": ""
            },
            "colorscale": [
             [
              0.0,
              "#0d0887"
             ],
             [
              0.1111111111111111,
              "#46039f"
             ],
             [
              0.2222222222222222,
              "#7201a8"
             ],
             [
              0.3333333333333333,
              "#9c179e"
             ],
             [
              0.4444444444444444,
              "#bd3786"
             ],
             [
              0.5555555555555556,
              "#d8576b"
             ],
             [
              0.6666666666666666,
              "#ed7953"
             ],
             [
              0.7777777777777778,
              "#fb9f3a"
             ],
             [
              0.8888888888888888,
              "#fdca26"
             ],
             [
              1.0,
              "#f0f921"
             ]
            ]
           }
          ],
          "surface": [
           {
            "type": "surface",
            "colorbar": {
             "outlinewidth": 0,
             "ticks": ""
            },
            "colorscale": [
             [
              0.0,
              "#0d0887"
             ],
             [
              0.1111111111111111,
              "#46039f"
             ],
             [
              0.2222222222222222,
              "#7201a8"
             ],
             [
              0.3333333333333333,
              "#9c179e"
             ],
             [
              0.4444444444444444,
              "#bd3786"
             ],
             [
              0.5555555555555556,
              "#d8576b"
             ],
             [
              0.6666666666666666,
              "#ed7953"
             ],
             [
              0.7777777777777778,
              "#fb9f3a"
             ],
             [
              0.8888888888888888,
              "#fdca26"
             ],
             [
              1.0,
              "#f0f921"
             ]
            ]
           }
          ],
          "mesh3d": [
           {
            "type": "mesh3d",
            "colorbar": {
             "outlinewidth": 0,
             "ticks": ""
            }
           }
          ],
          "scatter": [
           {
            "fillpattern": {
             "fillmode": "overlay",
             "size": 10,
             "solidity": 0.2
            },
            "type": "scatter"
           }
          ],
          "parcoords": [
           {
            "type": "parcoords",
            "line": {
             "colorbar": {
              "outlinewidth": 0,
              "ticks": ""
             }
            }
           }
          ],
          "scatterpolargl": [
           {
            "type": "scatterpolargl",
            "marker": {
             "colorbar": {
              "outlinewidth": 0,
              "ticks": ""
             }
            }
           }
          ],
          "bar": [
           {
            "error_x": {
             "color": "#2a3f5f"
            },
            "error_y": {
             "color": "#2a3f5f"
            },
            "marker": {
             "line": {
              "color": "#E5ECF6",
              "width": 0.5
             },
             "pattern": {
              "fillmode": "overlay",
              "size": 10,
              "solidity": 0.2
             }
            },
            "type": "bar"
           }
          ],
          "scattergeo": [
           {
            "type": "scattergeo",
            "marker": {
             "colorbar": {
              "outlinewidth": 0,
              "ticks": ""
             }
            }
           }
          ],
          "scatterpolar": [
           {
            "type": "scatterpolar",
            "marker": {
             "colorbar": {
              "outlinewidth": 0,
              "ticks": ""
             }
            }
           }
          ],
          "histogram": [
           {
            "marker": {
             "pattern": {
              "fillmode": "overlay",
              "size": 10,
              "solidity": 0.2
             }
            },
            "type": "histogram"
           }
          ],
          "scattergl": [
           {
            "type": "scattergl",
            "marker": {
             "colorbar": {
              "outlinewidth": 0,
              "ticks": ""
             }
            }
           }
          ],
          "scatter3d": [
           {
            "type": "scatter3d",
            "line": {
             "colorbar": {
              "outlinewidth": 0,
              "ticks": ""
             }
            },
            "marker": {
             "colorbar": {
              "outlinewidth": 0,
              "ticks": ""
             }
            }
           }
          ],
          "scattermap": [
           {
            "type": "scattermap",
            "marker": {
             "colorbar": {
              "outlinewidth": 0,
              "ticks": ""
             }
            }
           }
          ],
          "scattermapbox": [
           {
            "type": "scattermapbox",
            "marker": {
             "colorbar": {
              "outlinewidth": 0,
              "ticks": ""
             }
            }
           }
          ],
          "scatterternary": [
           {
            "type": "scatterternary",
            "marker": {
             "colorbar": {
              "outlinewidth": 0,
              "ticks": ""
             }
            }
           }
          ],
          "scattercarpet": [
           {
            "type": "scattercarpet",
            "marker": {
             "colorbar": {
              "outlinewidth": 0,
              "ticks": ""
             }
            }
           }
          ],
          "carpet": [
           {
            "aaxis": {
             "endlinecolor": "#2a3f5f",
             "gridcolor": "white",
             "linecolor": "white",
             "minorgridcolor": "white",
             "startlinecolor": "#2a3f5f"
            },
            "baxis": {
             "endlinecolor": "#2a3f5f",
             "gridcolor": "white",
             "linecolor": "white",
             "minorgridcolor": "white",
             "startlinecolor": "#2a3f5f"
            },
            "type": "carpet"
           }
          ],
          "table": [
           {
            "cells": {
             "fill": {
              "color": "#EBF0F8"
             },
             "line": {
              "color": "white"
             }
            },
            "header": {
             "fill": {
              "color": "#C8D4E3"
             },
             "line": {
              "color": "white"
             }
            },
            "type": "table"
           }
          ],
          "barpolar": [
           {
            "marker": {
             "line": {
              "color": "#E5ECF6",
              "width": 0.5
             },
             "pattern": {
              "fillmode": "overlay",
              "size": 10,
              "solidity": 0.2
             }
            },
            "type": "barpolar"
           }
          ],
          "pie": [
           {
            "automargin": true,
            "type": "pie"
           }
          ]
         },
         "layout": {
          "autotypenumbers": "strict",
          "colorway": [
           "#636efa",
           "#EF553B",
           "#00cc96",
           "#ab63fa",
           "#FFA15A",
           "#19d3f3",
           "#FF6692",
           "#B6E880",
           "#FF97FF",
           "#FECB52"
          ],
          "font": {
           "color": "#2a3f5f"
          },
          "hovermode": "closest",
          "hoverlabel": {
           "align": "left"
          },
          "paper_bgcolor": "white",
          "plot_bgcolor": "#E5ECF6",
          "polar": {
           "bgcolor": "#E5ECF6",
           "angularaxis": {
            "gridcolor": "white",
            "linecolor": "white",
            "ticks": ""
           },
           "radialaxis": {
            "gridcolor": "white",
            "linecolor": "white",
            "ticks": ""
           }
          },
          "ternary": {
           "bgcolor": "#E5ECF6",
           "aaxis": {
            "gridcolor": "white",
            "linecolor": "white",
            "ticks": ""
           },
           "baxis": {
            "gridcolor": "white",
            "linecolor": "white",
            "ticks": ""
           },
           "caxis": {
            "gridcolor": "white",
            "linecolor": "white",
            "ticks": ""
           }
          },
          "coloraxis": {
           "colorbar": {
            "outlinewidth": 0,
            "ticks": ""
           }
          },
          "colorscale": {
           "sequential": [
            [
             0.0,
             "#0d0887"
            ],
            [
             0.1111111111111111,
             "#46039f"
            ],
            [
             0.2222222222222222,
             "#7201a8"
            ],
            [
             0.3333333333333333,
             "#9c179e"
            ],
            [
             0.4444444444444444,
             "#bd3786"
            ],
            [
             0.5555555555555556,
             "#d8576b"
            ],
            [
             0.6666666666666666,
             "#ed7953"
            ],
            [
             0.7777777777777778,
             "#fb9f3a"
            ],
            [
             0.8888888888888888,
             "#fdca26"
            ],
            [
             1.0,
             "#f0f921"
            ]
           ],
           "sequentialminus": [
            [
             0.0,
             "#0d0887"
            ],
            [
             0.1111111111111111,
             "#46039f"
            ],
            [
             0.2222222222222222,
             "#7201a8"
            ],
            [
             0.3333333333333333,
             "#9c179e"
            ],
            [
             0.4444444444444444,
             "#bd3786"
            ],
            [
             0.5555555555555556,
             "#d8576b"
            ],
            [
             0.6666666666666666,
             "#ed7953"
            ],
            [
             0.7777777777777778,
             "#fb9f3a"
            ],
            [
             0.8888888888888888,
             "#fdca26"
            ],
            [
             1.0,
             "#f0f921"
            ]
           ],
           "diverging": [
            [
             0,
             "#8e0152"
            ],
            [
             0.1,
             "#c51b7d"
            ],
            [
             0.2,
             "#de77ae"
            ],
            [
             0.3,
             "#f1b6da"
            ],
            [
             0.4,
             "#fde0ef"
            ],
            [
             0.5,
             "#f7f7f7"
            ],
            [
             0.6,
             "#e6f5d0"
            ],
            [
             0.7,
             "#b8e186"
            ],
            [
             0.8,
             "#7fbc41"
            ],
            [
             0.9,
             "#4d9221"
            ],
            [
             1,
             "#276419"
            ]
           ]
          },
          "xaxis": {
           "gridcolor": "white",
           "linecolor": "white",
           "ticks": "",
           "title": {
            "standoff": 15
           },
           "zerolinecolor": "white",
           "automargin": true,
           "zerolinewidth": 2
          },
          "yaxis": {
           "gridcolor": "white",
           "linecolor": "white",
           "ticks": "",
           "title": {
            "standoff": 15
           },
           "zerolinecolor": "white",
           "automargin": true,
           "zerolinewidth": 2
          },
          "scene": {
           "xaxis": {
            "backgroundcolor": "#E5ECF6",
            "gridcolor": "white",
            "linecolor": "white",
            "showbackground": true,
            "ticks": "",
            "zerolinecolor": "white",
            "gridwidth": 2
           },
           "yaxis": {
            "backgroundcolor": "#E5ECF6",
            "gridcolor": "white",
            "linecolor": "white",
            "showbackground": true,
            "ticks": "",
            "zerolinecolor": "white",
            "gridwidth": 2
           },
           "zaxis": {
            "backgroundcolor": "#E5ECF6",
            "gridcolor": "white",
            "linecolor": "white",
            "showbackground": true,
            "ticks": "",
            "zerolinecolor": "white",
            "gridwidth": 2
           }
          },
          "shapedefaults": {
           "line": {
            "color": "#2a3f5f"
           }
          },
          "annotationdefaults": {
           "arrowcolor": "#2a3f5f",
           "arrowhead": 0,
           "arrowwidth": 1
          },
          "geo": {
           "bgcolor": "white",
           "landcolor": "#E5ECF6",
           "subunitcolor": "white",
           "showland": true,
           "showlakes": true,
           "lakecolor": "white"
          },
          "title": {
           "x": 0.05
          },
          "mapbox": {
           "style": "light"
          }
         }
        },
        "xaxis": {
         "anchor": "y",
         "domain": [
          0.0,
          1.0
         ],
         "title": {
          "text": "Previous outcome"
         }
        },
        "yaxis": {
         "anchor": "x",
         "domain": [
          0.0,
          1.0
         ],
         "title": {
          "text": "Ratio accepting campaign"
         }
        },
        "legend": {
         "title": {
          "text": "Accepted Campaign"
         },
         "tracegroupgap": 0
        },
        "title": {
         "text": "Those that accept the previous campaign are more likely to accept the next campaign"
        },
        "barmode": "relative",
        "height": 800,
        "width": 1000
       },
       "config": {
        "plotlyServerURL": "https://plot.ly"
       }
      }
     },
     "metadata": {},
     "output_type": "display_data"
    }
   ],
   "execution_count": 78
  },
  {
   "metadata": {
    "ExecuteTime": {
     "end_time": "2025-08-10T01:38:23.799236Z",
     "start_time": "2025-08-10T01:38:23.149570Z"
    }
   },
   "cell_type": "code",
   "source": [
    "fig = px.scatter(\n",
    "    df,\n",
    "    x='duration',\n",
    "    y='campaign',\n",
    "    color='y',\n",
    "    title=\"Number of calls does not correlate with duration of the call\",\n",
    "    labels={\"campaign\": \"Number of calls\", 'duration': 'Duration', 'y': 'Accepted Campaign'},\n",
    ")\n",
    "fig.show()\n",
    "fig.write_image(\"images/calls_vs_duration.png\")\n"
   ],
   "outputs": [
    {
     "data": {
      "application/vnd.plotly.v1+json": {
       "data": [
        {
         "hovertemplate": "Accepted Campaign=no<br>Duration=%{x}<br>Number of calls=%{y}<extra></extra>",
         "legendgroup": "no",
         "marker": {
          "color": "#636efa",
          "symbol": "circle"
         },
         "mode": "markers",
         "name": "no",
         "showlegend": true,
         "x": {
          "dtype": "i2",
          "bdata": "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"
         },
         "xaxis": "x",
         "y": {
          "dtype": "i1",
          "bdata": "AQEBAQEBAQEBAQEBAQEBAQEBAQEBAQEBAQEBAQIBAQEBAQEBAQEBAQEBAQEBAQEBAQIBAQEBAgEBAQEBAQEBAQEBAQECAQEBAQEBAQIBAQEBAgEBAgECAgECAQEBAQEBAQEDAQEBAQICAQEBAgECAgECAQEBAQEBAQECAQECAQEBAQEBAgICAQEBAQEBAQEBAQEBAQEBAQEBAgICAgEDAQEBAgICAQEBAQMCAQIBAQEBAwEBAQEBAQECAgIBAQEBAgECAQIBAQEBAQEBAQEBAgECAQEBAwICAQEBAQICAwECAQIBAQEBAgIDAgEBAgECAQIBAQEBAQMCAwIBAQEBAQEDAgECAgIDAQIBAgIBAQIEAwIDAwICAgICAgICAgICAgICAwQCAgICAgICAgMCAwICAgICAgICAgMCAgMCBAMDAgMCAgUFAwQCAwICAwMDAgICAgQDAgMCAgMCBAICAwIDAgMDAQEBAQEBAQEBAQEBAQEBAQIBAQEBAQEEAQEBAQECAwECAQEBAQEBAQECAgEBAQEBAQIBAQEBAQEBAwECAQEDAQEBAQEBAgEBAQEBAQIBAQEBAQEBAQIBAQECAQIBAQQBAQEBAQMBAQEBAQIBAQEBAQEBAQEBAgEBAgICAgIBAQEBAQIBAQEBAQEDAQEBAQIBAQECAQICAQEBAQEBAQECAQICAQECAQEBAQEBAQEBAgECAgIBAQIBAgEBAQEBAQEBAQEBAQECAwICAgIEAgMEAgIDAQIBAgECAgIBBQMCAQICBAECAQEBAgEBAQEBAgUBAgEBAwECBAICAwEEAwICAQEBAgICAQIBAwICAgMFAgMCAQIDAQECAQEBAQICAgQCAgMCAwEDAgIDAgEDAQICAgICAgICAwICAgMCAgIDAgMCAgIGAwIDAgICAgMDAwIEAgICAgMFAgICAwUDAgICAwQCAgQCAwICAwIEAwMCAgMDAgIFAgMCAgIDAwIDAwMDAgMDAwMDBAIDAgMCAgIDAgICAgICAgMCAgMBAQMDAQYCBAEBAQEDAQEBAQEBAQEBAQMCAQICAQEBAQEBAQEBAQIBAQEBAgEGAQEBAwEBAQEBBAIBAQECAQEBAQMBAQECAQICAQEBAgEBAgEBAQEBAgEBAQEBAQIBAQICAQIBAQcBAQYBAgEBAQECAQICAQICAQEBAQEBAQEBAQEBAQEDAgMBAgQDAgIDAgICAgICAQIBAgMCAQEBAgEBAQUCBQEBAQECAgICAgICAwQCAQICAQMBAQIBAQEBAgEBAQEBAwIBAQECAgECAgEBAQEBAQEDAgEDAgECAwIBBQEBBQEFAQEBAgIBAQMDAwEDAgICAgIBAQEBAQICBgUCAggCAgYDBgIDAgQDAgIDAgMDAwQCBAICBAQDAgQCAwQCAgEBAwUDAgIDAwMCAwMCAwIECAIFBwIGAgMFAwEBAwEDAgEDAgECAwQCAwMEAgICAQIFAgMDAwICAgICBQIEAgMDAwIEAwMCBgICAgIDAgIBBQMDAQEBAQEBAQEBAQEBAQEBAQEBAgEBAgEBAQEBAQEBAQEBAgEBAQEDAQIBAQEBAQEBAQEBAQICAQICAQECAQMBAQEBAQcBAQEBAQECAQEBAQEBAQEDAQEBAQIBAQEBAQEBAQEBAQEBBAEBAgIBAgEBAQIBAQEBAQEBAQEBAgEBAQEBAQEBAwEBAgIBAgEBAQEBAgEBAQEBBAEBAQIBAQIEAgMDAgEBAQIBAQEDAQIBAgEDAQECAQEBAQECAQEBAQEBAwEBAQECAQUBAgICAgICAgIDAgIDAwIEAgICAgECAQEBAQIBAQEBAQECAQICAgICAQICAgICBQIFAgMBAQECAgYBAQQCBwIDAwICAwIDAgIFAwICAgIBAQIHAQUCAgICAwECAgQBAgICCQECAgICAgICBQIGAgIDAgIJAgQCAwIDAwQCAgIDAgICAgUCAgMDAgMCAgICAgMDAwIDBAQCAwICAgQHAgMDAgUEBAMCAwIFAgIDAwMDBAICAwMDAwUHAgIEAwMDAgMBBQMEBAIDBAIEAgIBBQMDAgIEBAICAgQFBQICBAEBAQUCAQQBAQEBAQEBAwEBAQEDAQIBAQEBAQIBAQICAQMBAQICAQEBAwEBAQICAgEBAQEBAQEBAgEDAwEBAQEBAQEBAQEBAQECAQEBAQEBAQICBAICAwIBAQIBAQEDAQEBAQECAgEBAQECAQEBAQICAgEBAQIBBgIBAQEBAgEBAQEBAQMCAgICAgEBAwECBQMCAgECAQEBAgECAwICAgEBAQEBAQECAQECBAMBAgIBAgMBAQECAQEBAQMEAgICAQEBAQEBAgEBAQEBAwEBAwECAgICBAIDAgIDBAECAQIBAQEBAQEBAQUCAwECAQIDAQMCAgIDBAECAgUCAQIDAQcBAgIBAQEBCQMCBwICAQIBAQECAgIEAgQCAgMCAgIDBQICBAIEAgICAgECAwIDAgQHAgICBAICAgICAgMCAgMDAgUBAwMCAgMEAgQCAwMCAwIDBgICAgcCAwICBAIDAwMBBQQCBQQEBAMDAwIHCAIDBAIDBAMEAwMDCQUDAwIEAgYEBgQDBgIFBAUCBQIFBAICAgMCBwMGBAUCBAICBQIDAgUEBwQCAwQEBAQHAgICAgICBAEBBAIBAQIBAQEBAQMCAwMIAQMCAQECAQEDAwEBAQEBAQIBAgECAgEDAQEBAQEBCAMCBAIEAgMCAwQGAgIGAgQBAQMBAgIBAgEBAQEBBAMBAQECBAEBAQECAgEGBAIDAgIEAQEEBQQBAQMBBgQCAQECAQEDAQIBBAMCAgICAwQDAwEDAgICAgQCBAMDBQoDAgEBAgsBAwUDAgMCBAcGBAMCBAQFBQQFCAMEAwMDAgIHBwMGAwUJAwMIAwMDAwUEBAwEBQIEAgYFBAQEBAQCAgYGBwMEAgUFAwMCAQEBAQECAQEBAQEBAQEBAgEDAgEBAQIBAQMBAQEBAgEBAQEBAQEBAQECAQEBAQEBAQEDBgEBAQEBAgEBAQEBAQMBAQQCAQEBAQECAQEBAQEBAQEBAQEBAQEBAQEBAQEBAQIBAQMBAgEBAQEBAQEBAQEBAQEEAwEBAQIBAQECAwEBAQIBAQIBAQUBAQEBBAEBAgEBAQIBAQEDAQEBAQIBAQEBAQEDAQEBAQEBAQECAQEBAgEBAgIBAQICAgIBAQEDAQICAQICAgICAwIBAgIBAQICAQkGAwIFAgMCAwIFAQMBAQEEAQECAwECAgECAQECAwEBAQEBAQQBAQMCAQIBAwECAQEBAgEBAQECAQIBAgICAQEDAQQBAgoNAQQDAQICAQECBAMBBAMBBAMDAgIBAgICAwMCAwICBgIEBAsLAgQCBQICAgICAgMCAgICAgQCBAcDBgwDAgIDAgIJAgICAwQCAgMEBRMCCQcCAwMCBAQCAgUCAgIDAgMEAQECBgQCBAsEAggCAwIEAgMDBAQDBAQCBAMGAgICAgIEAgMJBAEBAQQBAQEBAQEBAwEBAQEBAQcDAgMBAQEBAQgBAQEBAgMCAgEBAQECAQwCAgEBAQEBAgEBAQEBAQEBAQMCAgIBAQUJAQECAQEBAgECAQIBAQEBAQEBAQEBAQEBAQEBAQYBAQEBAgEBAQEBAQEBAQECAQEBAQEBAQICAQIBAQECAgEBAQECAQIBAQEBAQEBAgICAgIEAgMCAgECAgEBAgECCAECAQEBCwICAgICCgEBAgECAgEBAQUBAgICAQICAQIBAQIBAQEEAgEBAQQBAQEBAQEBAQECAgEBAgECBwEEAwIGBQECAQEEAQECAQMDBwICBAIBBgIJBQEBAwEEAQEEAgECCgMDAwICAQEDAgoBAQIFAgEBAQIBEgEBBAECBQIBBQIBAwELBAIBBQECAgICBAICAgIEBAMHBAICAwoEBgUDAgMCAgICAgICAwMCAgIEAgICCQMCBQcEAgUEBwMEBAICAgMCAwMHAwMCAgICAgMDBAICBQIFBQMEAgMDBwMGBQICAwMBAgEEAQQBBgEBAQEDAQEBAQEBBwEBAQUBAQECAQECAQELAQEBAQEBAgECAQECAQEBBgIBAQEBAQEBAQEBAQMBAQIBAQEBAQIBCgECBAIBAQEBAQEBAQECAQEDAgEFAwEBAgEBAQEBAQEBAwEBAQECAwEBAQIBAQEBAQEEAQIBAwQBAQIBAQEBAQEBAQUBAQECDQIDAgIDAgECBwECBAcEAQMBAQEDAQEBAgECAQEEAQEBAQEBAwIDBwIKBQMEAgIBAgIEAQIBAgICAQIFAwQCAQEBAQIBAgEBAQkBBgICAgUDAgEBAgEDAQEBAQEBAQMBAQECAwIDAwQDAwIBAgEBAQEOAQIFAwEBAQIBFgoEAgkIAQECAQICBAEBAgECBAEBAgICBQUFBQMCBAIDAgIEAwIGBxcBAgIHAwMEAgQIAggCBQIBAgIEAgUDGQIKBAUCAgQCAQMCAQcBAwIEAQMNAgYDBwcCBwICAgIGAgQDBwQCBgkEBAUCEAYDBAIEAwQEAwwEBQMGCAIEAwQGBAMCCwIFAwcMBQICAgECBAICAwIDAwIEAgMRAQEGAQEEDwEBAQEBAQEEAwEBAQEDAQIDAQEBAQEBAQQBAgEGAgECAQEBAQEEAQECAQEBAQEBBAEBAgEHAwICAQEBAQEBAQEBAQEBAQIBAgUBAQEBAQECBAEBAgEBAwECAQgBAQEGAgEBAQEBAgEWAQECBAIBAQEBAQEEAQEDAQERAQEBAwIBAgECAgEBAgEBAwECAQECAQMEAQEDAQIIAgECAQICAgEBAgIDBAMEAgICAgEEAgEBBAEBAQILBAICAgMCAg4LAQEBAQQDAQEBAQEDAQEBAQEBAwEBAQIHAxcSAwICAggBAgECBA8JAQIBAQICAwUBEQIEAgIDAgICAwcDBA8LBAICAgUCEAMEBAQCAwMIAgMFAgIFAwMGAwMDBgIDAgUCAwkKAwICAwIFBAMCAgQCBwMDBgICBgQTAgQCFAMDAgYCAgYDAwUEAwcEBwUEAwQEAgMTBAYCAgQCAgICAwIFAwICAgQGAQEBAQEHBQIDAQMEAQIBAQEBAQIBAQMCAQEBBgQBAwECAgEBAgEDAQEBAQEBAQEBAgYBAgEBAQEBAwICAQIBAQICAwEBBAEBAQwDBAEBAQEBAgEBAQECAwECAQEDAQMCBQIBAgIBAQIEAQEBAQEBAQEBAgMBAgMCCQQCAgICDAIEAQMBAQEBAQ4DAwMBBAMDAQEBAQECAgEBAQQDAQcBAQEBAQEGAQECAQEBBAEBAwIDAwIBAgIFAQMBATgBAQEBBicDAgUFAgkDCwEFAQMCAwECAgMCBAICAgMjDQMFAgICAgIGBgICAgMCBQcCBgMEBQMDAioFCgIFBwMCFgcEAwcIBgQCCgkJCQICCQMHCwMIBAsEAwcCAgUCBAIKAwkKBAcBBQEBAQEPCQEBBAEBCgEBAQwBAgEBAQQBAQEBAgEBAQEBDAEBBgEBAQEEAQIFAQEBAQEBAwEBAQIBAQEBCgECAQEBAQEBAQEBAQECAQEBAQEBAQEBAQEBAQEDAQEBAQEBAQEBAQEBAQEBAQEBAQECAgEBAQIBAgEBAQYBAgEBAQEBBAYBAQECAQECAwIDAQEBAQMCAgIEAQEBAQECAQEBAQEBAgEBAQIBAgICAgICAgICBQECAwIGAgEBAgEMCgICAQIHAgEJAgIBAQEGCgEBAQEBAQEBAQECAgEBAQgBAQEBAQECAQEBAgICAhEBAwECAQEBAQECAwICAwECAgIBCQECAQICAgMCCAIDAwgCAgIDAgIDBAEDAQYBDgYDAQoCAQcEAgEBAQIBAQgCAgIBAgICEAICAwICAgICAgIDAwIFCgQDAgwCAg0EAwMDBAYCCAIDBwMCAgICBQICAgMDEQICAwICAgICAgICDAMDAgICAgIEAgIDCgcCBgUBAQ0IAwkBAwoEAgQBAgEDBQEBAQEBAQEBAQEDAQEBAQEGAQEBAQEBAQUBHAEBAQECAQUBAQEBAgECAQEDAQIBAQEDAQEBBQEBAQECAQECAQEBAQECAQEBAQEBBQEBBQEBAQoBCwEBAQECAQEBAgEBAQEDBwIBAQICAQECAQEBAQEBAQICAwEBAQECAQEBAQEBAQIBAgEFAQgDAQYBAQEBAgIBAgEBAQwCBwEBAQIBAgIDAQECAQEEAwEBAQEBAQEBAgICAwMCAg0DAwICCQICAgICAgEBAQEBAgEBAQEBBQECAQECAQIMAgEBAQUEAgIBAwEBBAQBAQICAgEBAgECAgEBDAIBAwIBAQECAQEBAwMCAQEEAhoCAgICAQIFAgICAggCAgMCAgICAwICBAUDAgIHAgICAwICBQQCAQEBAgsCDgIBARACBQMCAwICAgQCAgMCAwICAgICBAMCAwICAQMNAg8BAgMDCQECAgMCAgIDBAIDAwIJAgMCBAMEAgUDBAMDAwMMBgUTAwQDBQUIBgYDAgQKBgQCAgoCCAkEBQMDDgIDBQYFAgMDBQMCAgMJAwIBAQQBAQEBAQEBAQEBBQEBAQEDAQEEAQICAQEBBgEBBAEBAQECAQQBAgIBAQEBAQEBAQEBAQEEAQEBAQEEAQEBAQEBAQEBAgEDAQEBAgEBAQEBAQEDAQICAQIEAQIFAQICAQMDBAIBAwEBAQEBAQICAQECAQECAgMBAQECAwECAQEBAgIBAQIBAgEBAQEBAQEBAQEBAQEBAQEBAQEBAQECAQICAgECAwICAQIBAwIEAgUDBQECAQEBAQ4DAQEBAgEBAgIBAQEEAwIEAQIDAwECAgIBAQIBAgMSAgEBAQICAQMBAQIGAgMCAgIGAgMqAgUGAgEEAQECAgYDAQIEBAEEAgICAQEBAwICAgUDBBsBAgECAgIDBAICAgMCAgQEAwICAgcBDgQBAQICAQEDAQMDBgIBAQMBBAIEAgICAwMDAgQDAgQCAwMDAwMCAgIMCgQCDQMCBQsJAwQCAxAGBQUCAgIGAwIDAwMDAgQEAgICBAIGAgMCAwQFBAQEBQQIBQILBAQDAwQDAwIFCQQHBBEHAwQJAwMCBgUDAgIGAQUDAQIBAgIBAQEBAQUBAQEBAQUBAQEBAQMGAQEBAQMBBwMCBAICBAEBAQERAQECAQUBAQIBAgIBAQEBAQEBAQEEAgEBAQIBAQEBAQEgAQECAgIBAQEBAQEBAQMBAQEBAQEBAQEBAQEBAQMCAQIBAQEBAQIBAQEBAQECAQEMAgEBAQEBAQEBAQEBBQQBAQgBAgIBAQsBBAkBAgIEAQMCAQEBAQIDAQEBAwIBAgEBAwECAQEBAQEBAQEBAQICAg4FAgICBwYBAQUDBAMCAwIBAwIBAgICAgICAQICBgIDAQIEAgMDBgMDAwMDAwMDAQEDBAMCAgECAQEBCAEDAgICAgEDAQYCAwIBAQEBAgICAgMMAQMCAgIDAgEBAQEBAgIEAwIGAwIEDgECAgICAwYDAgIDBAQCAgQCAgICAgICBQYCBAIDCwMDBAQCAwUCAwMFAgICBgUCAgQFBQIDBAYCAgsBBAcEAwMGAgMDAwcDAwQDAgQCCgYFAgYFBAUFAwUFAwQLBQIDBwICFgYEAgIFAwIEAhAEBQMEAwEEAwcHAwYDBgIEAwMFAwIDAgIEBAICAgIEAwYDBgEBAQIJAgEBAQEBAwUEBAQFAQIBAQECAQEBAgEBAwsBAgIDAQMBAQIBAQEBAQMBAQECAQEBAQEBAQEBAQIBAQEBAQIDAQECAQQBBAoDAQIBAQICAgEBAQIBAQEDAgEBAQIBAQIBAQEBAQIBAQEBAQIBAQQBAgIBAQECAgMBAgIBAgEHAQICAQEBAQUBAQMCAQECBAIBAgIBAQECARACAQEEAQEBAQEBAQEBAQEBAQEBBQICAQMCAgIBBAIBAQEDAQEBCQEBAQEBAQIBAQICCgkBAQICAQEBAQEBAQQBAgIBAgECAwEBAQIBAQIBAgIBAQEBAQEBAQICAQUDAQIBAQYCBAICAwIBAQECAgYCAgECBQEDCQIBAgIBAwICAQEBAQEBAQEBAQIIAQMCAwEEAgQCAgMCAgICAgICAgIDAgICAgsIAwICAQICAQICAQEKBQMCBgICBQUCBQIGAwIDAgICAwIEBQMCBgMDAgUCBQoCBAIDAgMCAgICAgIEBQIDAgIFAwoEAwMFAQECARMNCQQEAwICAgcCAgkDAgUCAwIGBAQIAgIDAwIDAgMEAgQDBAMEEAMCCAMDBQMFBwgFAwgDBAIDAgQCAwINAwIMAwIGCQcBAgIBBgECAQMIAgEBAgEBAQECAQQBAwYDAgMBAQECAQEEAwIBAwIBAQICAgEDAgEDAQYBAgcGAQEBAgIBAQMBAwEBAgEBAgEBAQEBAQECAQEBAQEBAQEBAQEBBAEBBgEBAgEBAQIDCgEBAQUBAQMBBAEVEgIBAgEBAgIBAgUBAQQBAQIBAQEBBQEBBAIBAQEBBAEBAQEDAgsBAQEBAQEHAgMBAQIDBAMBAQICBAEBAQEBAQEBAgIBAQIEAQEBAgECAQEBEgICAgMEAgMCAgECAgMBAgECAgQFAwEBAQECAgMCAQICAwMBAQICAQEBAgEBAQECAgEEBgECAQIDBwECAgIGAgMCAwIGBgIFAwIJAgIFAgEDAQUDAgIBAQEDAQEBAgEDAgEBAQIBAQICAgICAQQCAQEBAQICAgICBQUDAwECCAQDBBABAwEBAQECAgIFAwoBBwICAgQDAgMOAQoCAQQDAgQCAgUCAwIDAgIBAgIBAwICAgQDAgICBQIDAgMCAgICBAUEAgIDAggDAwMCBAQDAgIFAgICBwICBgQDBQMCBQUDAwMDEQIFCAQCAgICAgQEBAUEBAMDAwMEBAYDBQICAwIIAgIDAwIBAQIBAgEDAgEGAQEBAQEHBAEBAgUBAwEBAQEBAgcBAQECAgMFAQECAQEBAQECAwUBAQEBAQEBAQECBAEBAQEBAQEDAQEBAQEBAwEJAQEDAQEBCAIBAQIBAQEBAQEBAQEFAQEBAgcBCgMBBAYGAgYBAgEBAgEBAQIBAgEEAwEBAQEEAQEBAQEBAQIBAQIBAQEBAQECAgYEAQEFAwIBAQIBAQEBAwEBAgEBAQICAwUBBQMFBwEBAQEBAwMDAQMCAwQCAwMCAgICAQMCAwEBAgEBAgIEAgICAgQDAgECAgMCAwEBAQEBCgEBBQEBAQQFAgICAwICAgIDAgYBBQMDAgENBAMHBAECAgEDBAIEAwQDAgIEAQEBAwQFAwIBAQEBAwMCAgQCBAYCAgMCBQMCDwICAwMFAwIDAQMCAwIDAwICAgICAgIGBAMEAwMMAgICAgIJBgMCAwMCCQIQBAIDFgUCAwIDAgMDAgIDAgIDAgMCBwQDAgMCAxgEAwUCAwICAgUGBAUJAgQDAwIHAgYCFw8EBwQDBgIEBg8LBwMIAwMLBAcCAgMDEQIDBAIDAwEBAQEBAQEBAQECAQEDAgEGBAEDAwkCBAcCAwYEAQMFAQICBwEBAQIBAQQBAQUBAwIBAQMEBAYBEQMCAQEBAQMBAQIBAQEBAQIBAQEBAQEFAgEBAQEBAQECAQEBAQEBAQECAQEBAQEBAwEBAgMCAgIBAQEBAwMEAgIEAQQDAgIMAgIBAQIBAgIBAQICAQEBBAEDDQEDAgEBAQEBAgIBAQEBAQEBAQgEAgIDAwICAQICCAIBAgIBAwEIBQICAQIBAQUBAgIJAwMBAwICAgMCAgICAgMDAgUCAwEDAgcCCQICAQIBAQEBAQECAQECBAUCAgEBAgMDAwQDAwIHAgIGBQIDBgICAgICAgQFAwIDBgMDAgUEAgMCDgQCAgMCAwkDBAIDBQMCAgkDAgIDAhIHBAwDBwMDAggCAwUCBgMCAgsCAgQCAhACAwMEAwIDAwYCAgQCCAMKBg0FAwIFAhICAgQJBgQHAwMGAwQDGQYGAgQDAgYECQIEBQMIBAMEAgIDAwMHAwgCAgMDAhAJAxMDBQMEAwgCBQIDCQIDAgMCBAIDBAMHAwQDBAICAQMBAQIBCAECAQECAwIBAgEBAwMBAgEDAQIBAgEBAQEBAQEBAQECAQIEBAECAQEBAQIDBQENAQMBFQEBAQMCBwECAQEBAQIFAQICAQEBAgEGAgEBBgEBAQEBAwQBAQEBAQICAQEBAgIBAQICBAYBAQMDAQICAgIBAQMBAQECAQEFAQIBAQQBBQEBBAIDAgMEAgICBAIEAgIDAgMMBAECCAEDAwYBBAcBAgIEAQMLAgECAwICAgIDAggDAwMCAgIDAgUBAgEEAQMDAwkEAwIDBAMCAgUCAgIHAQICCQQCAwYDAggEAgIBAQQFAwIBAgEgBQUBAQMCAgEFAQMEBQEDBQIDBQMFAwEECgEEBggCAQEBAgQDAQQBAgQGFAIBAwIBAwIGAgMICAIPAgICAgQHEAIIAwsDBgMIBQQIAgcDAg0DCQMCAwQMCgQEBAkECAYDBA4DBgcFCgIDBQMCBQoFAQQDAQEIAQEBAQECBAEDAQEBAwEBBAIBAQEBAQIBBwEEAgEBBQEBAQIBAQEBAQQBAQEBAQEBAQEBAQEBAQEBAwECAQEBAQ0NAQEDAQEBAQEEAgIBAQEBAQMEAQIFAQIDAQMFAQIBAgIBAwYDAwEBAgEBAQQCAQEEAQUCAwEBAQEBAQICAgIEBQMGAQIFAQIDAgEaAQ8BAQMCAwIBAgIBAgIFAQwBAQEFAwQCAQECAgICAwIBAQECHAEgAQEBAQwHAQUCAwEBBQMHAgMFAQYSAQcDBAYBAwIKAgMGAQ0BAwEBAQYBAQIBAgMBAQEBAQMDAgMFBAMCAgUHAxUFCAMCBAIEAgQDBQQGAgMCBQICEgcCAgIGCgwIAgICAggDCAIHAggFBQcVBwICCQYCAQIFBgYDBBQGDgMDBgQBAQMDBgsCEwcHAQsBDgsGAQEIAQEGAQEBAwIEAQICAwICAgMDAwQDBAMFAgICAgIEBQEBAQEBAgEBAgEIAQEKAQQBAgEBCQEBAQEBCggBAQEBBgEBAQIBAgkBAQEBAQIDAQEEAgIBAQICAgIDAQEBAQEDAgQBAQECAgEIAgEDAgEBAQEBAgIBBgICAQMBBgIBAQIKAgEHCAQGBAUCAgMCAgICEAICAQEBAgcKAgEDAQIFAgECAgICAwEGAQkEBQQBAgIEAQEBBAIBAgYCDQECBgMEAgIDAwICAgIQAg8EBAQCBgIFBgICAgECAgoCBAoBAgMBAQEBAQELAwEBAQEBAQEBAQEBAQEBAQEBCAIBAQEBCwICAQEBAQEBAQEBAQEBAQEBAgEBAgYBAQEBAQEGAQEBAQECAgIBAQEBAQEBAQUBAQIBAgEBAQEBAQECAgIBAgEBAQEBAQIBAQEBAQEBAQgBAQECAQEBAgIBAQEBAQECAQECAQEBAQEBAQIBAQEBFAICAgIBAgEBAQIBAQIDAQICAgEBAgMBAQECCwMDAgMCAQEDAgIIAQICAQIBAwMCAQIBAQICAgEEAgIBAQIBAgICCAEBAQEDAgEBAgMCAQEKAQcBAQEEAQEEAgICAgIDAQIGAgMDBAEYAgQCAgsCAgICBAICAgMCBAIFAh0CAgIDAwICAwICBwIDAwMDAwMGAwIRAgIDAwIDEAUCAwINAgIHAgQCAgIaCh8FAgMCDAICAgICAgMGAwMDBwECAQIEAQEBAQIBBAQPAgIEAQsBAQEDAQEBAwkDAgECBgEBAQIFAgEDAgEBAQMCAwIBAQEBAQEBAQUDBQICBQICAQICAQEDAQUDAQECAgMDAgEBBQMCAgEBAQMQAQEBAQIBAwEBAQIDAQIBAQEBDQINAgMBAQEBAwECAgMBBQICBAEBBAIDAwMDAQEBAQEBAQEDAgIHBAIBAQECAQEBAwIBAwIFBAINAwICBAIDAgICAgUDAQEBBAICAgECBQICAgEIAQICAgICBwYCAgQCAgUCBAICAgQDAwMIAgICAgICBAQDAgQBAQIBGAICAQEDGAIBAQEGAgEBAgEDAgECCQMCFwMFBwICAQIBAgMCAgEDAwUDAQYCAwICAQcCAQIEAQICAQEBARQCAwEFAQEBAgIDAgYCAgECAwEEAgQGAwIEAwoDBAICAgQEAwcCAwQCBgQCAgMCAwQEAwUDBhAEAQEBAQEFDAEBAQEBAgUBAQEFAQEBAQMCAQEBAQcBAQMKAQEBAgIBAgMCAwEBAQESAQEBAQEBAQEBAQEBAgECAQEBAgQCAQEBAQIFAQQCAQEBAQUCAQEBAQEBAQEBAQEBAwEJAQEBAgEBAgEBAQMBAQEBAwEBAQEBAQIBAQEBAQEGBgICAQEBAQEBAgICAgQCAQEDAQMBAQEBAQEBAQEBAQEBBBECAgIBBwEDAQIBAgECAQEBAQEBAQEDAgICAQEBAQEBAQEBAQEBAgICAgIBAQEBAgIBAQEBAwICAgIEAQEBAQEEBAMDAgIDAgIGAwEBAQMEAgICAgUCAgICAgMGAgMRAgICAwQRAgMEAgIEAgIDBAUDAgMCBgMDAgIDBQQDAwIEAgUCAgICAgIDDQMCAgMMBgMCGgICAgUDAgQKAwMDBAQFBgQCCgMEAwcGCAMMBQcEAgMFBAMDBQICAgMIAgIOAwIFCgECAwEBAQQBAQEJBAEJAQEEAQIBAQUCAwEBAQIFAQEBAQEEAQEBAQEBAQEBAgMCAgEBAQEBAQEBAgEBAQEBAQIBAQEBARABAQEEAQECAQEBAQEBAQEBAQEEAQEBAQEBAgIHAQEBAQEBAQEKAQEBAQEJAgQCBxEFAgUDAgYEAgMGAg0JFgICAgkIAwICAgIGBgYEAgMJCwMDBwINAwIGAgMCCgMCBAMCBAoCBBEKBAgDAgQdAwUTAwMKAwUHAwIEAgQDAwgCBgwDAgMDAxAIAwUDAgMCAwICFgIBBAEBAQEBAQIBAQEBAQEBAQIBAgEBAQEDAQEBAgEBAQEBAQEFAQEBAQEBAQMBAgEBAQEBAQEBAQEBBgECAQEBBgEBAQEBAQIMAQEGAgEBAQEBAgEBAQUCAQEBAQEBAQEDAQEBAQEBAQEBAgIDAwICAgMCAwMCBwICBAMCBAIGAwMCAwYCAwIDAwICCAICAgYCAgICCAIEBAIEAgQCAgIDBAUCAgICBAMCAgMCAgIdBAMDAgMCAw8GBQIDBAQDFQQIAwMCAwMIBQIGAwMFAgMCAwIKAgUCBAICAgMDAgICBgQCBAMBEQEBAgYDCAEDAgIGAQEBBAIDAgIBBAIBAQICAQEBAwMFAQEBBAEBCAEBAQECAQECAgQIEwYDAgICAwIFAwIDAQEBAhkCBQwBAQEBAQICAgECAQEBAQYBAQEBAQEBAQMCAwMDAQMDAQEBAQEBBAEBAQEBAwQBAwMDAgQHARUPBgMEAwEDDgQBAwEBHgIDAyMBFQMGBAMBAgIBAQECAwMCAgMHAgMEAxkSBhQFAwIDAwYMBQIFAgMEAgQCCAMQCgMFBAMCBAgDDQcEAggCBgICAwICBAECAQEBAQEBAQEBAwEBAQEBAQEBAQEBBAEBAQEEAgEBAQEDAgEIAQIBAQEBAQUBAQEBAQEBAQMBAwECAQEBAQEBAQEBAQEBCQMCAQsJBAEBBQIBAQECAQEDAQICAQECAQEfAQEBAgUCBgQBAQECAQEDAQEBAQECBAECAQIBBQECAQIBBQICAQEBAQEBAwICAQEBAQIBAQIEAgQDAgYCBAICAwIDAgcGAgUCBAQEAwIIAgkCAgICAwMDAgIGBAICAgICAgMHAwICAgMCBQcCAgMEAwICAwIDAwYDAwIHAgUCBgMFGwcEBgICAgUCAwMCAgIGAgICCgYEAgQQCQQGBAMCAgQCAgYCAwMDAgUCAgYCAwMVBgMDBwQDAgICBwMGAgMDBQcDBwUEAwMIAgUCAwYDAgEGAQEEBAEBCQQDAQEBAQEHAQECAQMFAwMLAgoEAwUCBAUFAgQCAgMEAwICAwMDBAMBAwEBAQEBAQEBAQEBAQEIAQEBAQEBAQEBAQEDAQEBAQEBAQEBAQEBAQEBAQEBAQQBBgEKAQIBAgEBAQEFAQQCAQEBAgIBAQEBAQEBBgIBAwIDAgMBAQEDHQIBCQEBAQQCAwEBAgEBBAwBAwsTAgICBgIOEQMHAgEBBwMCEAUEAgIeAgICDgMJDAMCAwMCFwMCAwIFBAIKCgIDAwYpAgICAQIBAgYCDQQDCAIJAwEDAwURCAgOFQIUBAIIBwIFAwMDAgsCAwMDAgQGCw0GAgEBAQEBAgUDAQEBAQEEAQEBAQQBCQYBAQEBAQMBAQEBAQEfAQoBAQEBAgIBBQEBAQEBAQEBAQEBAQEBAQEBAgEBAQEBBwEBAQECAgMBAQEBAQQDAQIBBAYCAgICAQIBAQEBAQwDAQEBAQEBAQEDAQEBAQEBAwEBAQQCAQEBAQMCAQECAwEBAgQCAQUDAwoEAwICAgIBAgEBAQIBBAcCAQEBAQEBAQEBAg4BAQIBAQMBAQEBAgEBAgEJAQECAQEBAQMBAQIQAQIBBwECAQEBBAICAQEBBQIBAQICBAEBAwECAgIBAgICAwMHAgICAQICBAIIAQoCAQISAQgCAgICAgUEBwQcBQIDCQICBQICAgILDwIMAgIDAwIEAgYCCwQIAgMCBQwFAgIHHAIDAwIDAwIDAwIFFwMDAwIEAwMBAQEBAQEDAQECAQEBAQEBAQEBAgMDAQIBAQEBAQEBAQECAQEBAQEBBAEBAQEEAQECAQIBAQEBAQEBAQEBBAEDAxIWAQEDAwEDFAIBAQIIAQEMAQIBAQMBAQEDBAQBAQECAgMDAgIEAgILAgMDAgICAgUDAxEDAgMEAwQCAgEDAQECCAIGBgICBAIFBAQCAgYCAgIDDAMCAwoCBQIDBAIUAggEBQMlEgMJAwMFDgoEAwMFBAUEDgwCAwUCDRoCAgMGAxILAwMCAwQOHQ4VAwoGAwUCCwMSDQQCBAQWFQMCBAUDAwIOAxQEAwwUCQkFBQUKDAwDBAgLGwQIAxUDBAMFBRAHBAQKAg4OBhMCAwIDAgMEAwUECAQDAwIOBAMCCgIGAw4PAgMMAwMHBAMIBQcEBAMMAggDCAcLDwICCQwDDRsDHwYHBAMKAgYEBAMDAygEAgwHBQkGAwMKBAYOAg0HBwwDBgMDAxUEDQIKBQUEBQoCBQUHAwIEBgUDDxYIBwsDBwMGBgMCBBIPAwMDAgMDAwIDAwcJBgIDBQIJAggDBwUHAwUEAwMMBwQDAwUGBQIRCgcFBBMGBAQLBAMDGgQEAgUJBwQQBAMEAgIDAwQIFBATBhgXBAQEBQQEAwIDBBgNCBwPCAQCAgMFCxICAgIJBAICBQMEAgIEAgMEAgMFBQUDAwQGAwMEAwMIBgQBBQEBAQEBAQEBAQEBAQICAQIBAQECAgMCCAMFBAQCAgICAgEBAwMCAQEEAQEBAQEBAgECAgEHAwMDAgMCAgMFCAQCBQYDAgQCBAQCAwMGBAEBAwIBBgEBBAIBAgEFAQECCAIFHAEBAgEBAQIEAQECAgUCAwIDBAIDBAIFAwIDBAMCAgIFAwMDAwMCAgQEBAEDAQEBAwEBAQICAgMDBAIEBAMCBAIDAwMBAQEBAQEDAQECAQYBAQEHAQEBAgEBAgEBAQEBAQECAQEBAQEDAQQBAQECAQIBAQICAgIDBAcCAgUEAwIDAgEDAQEBAQICAwIDAwIDAwIDAQEBAQEBAQEBAgECAgEBAQEBAQMKAQEBAQQBAQEBAQEBAQEBAQEBAQEBBAEDAgEBAwICAgICBQICAgMCBAsCBgIBAwEBAQsBAQECAQEBBAEBAQEBAgEBAgMBAQIBAwEBAQMEAQEBAQEBAQEBAQMCAgICAgIBAQECAwQDAwYCAgEBAQEBAgIEAwICAgMGAwICAwMCAQEBAQEDAwIDAgQCAgQFAxMCAwMEAgIDBgUFAgUGAgYCAgIEAgICAwQFAQICAwkGAgMEBgMCAwIDAgIBAgMDAwIEBQQEBAEEAgkCBAUBAQEIAwYECAQDBgcEAQQDAwECAQEBAQEBAQEBAQEBAQEBAQEBAQEBAwEBAQEBBAEPAQEBAwEGAQMBAwEBAQEBAQEBBAEBAQECAQEJAQMBAgEBAQEEAQECAQwBAQECAwEBAQEBAQIBAgEBBAQBAgMCAgQCBwECAQIBBwEDAQQDAQIBAgQBAQEBAQIBCgICAgMFBQMCAgECAQEGAQEBAQIHAwMFAgECAQMEAQEDAh4DIQICAwEBCwIBAwIFAwQDCAgCBwIDAg0CBQMCAwQUAgQDBAcBAwMCBQICBQQDBQEEAQQDAgIBAiIDAwIFAgEBAQIDAw0KAgIFAQEDAQELAQEBEQQDCwEBAQEBAQEBAQEBAQcBAQECAwEBAQEaAQIBAQEBAQEBAQEBAQEBAQEBAQUEAQMBAQMCAQQBAgEBAQEBAQEBAQEEAQEDAQEBAQEBAQIBAgMBAQEBAQIBAQEBAgEBAgEBAQECAgECAQEBAQICAwEBAQEBAQEBAQIBAgEBAgEBAQMBAQIBAgEBAQEBAgIBAQICAQQBAgICAgMBAgIBBgEBAQIBAQEBAgEEAQEBAgEBAgEBAgEBAQEBAQEBAwIBAQICAQIBAgMCAQEEAQUBAgIBAQEDAwMCAQMBAQEBAQICAQEBAQQCCAIEAwIBBAEDAgMCAgQCBgIDAgICAwMCAQEFAgEBAQECAgIDAwIBDAIDAQEBAgMjAgkDAwQCBQIHAwECAwQCAgQDAgIEBwIDCwMCAgICAgICAgMBAwEDAwEDAwEDAwIFAwEDAQMBAQYEAQEFAQEEAgIDAQIFAQEBAQEBAQEBAQEBAQECAwECAQEBAQEBAQEDAQEBAQMDAQEBAQEBAQIBAQIBAQEBBAEBAQEBAwICAQEDAQEDAQEBAQECAQEBAQEBAQUBAQEBAQEBAgEBAQIBAQEBAQMBAQEBAQEBAQEBAQEBAQEBAQgCAQEBAQEBAQEBAwEBAQEBDQEFAQIBAQEBAQEBAQIBAQEBAQEKAQEBAQEBAQEFAQECAQEBAQEBAQEBAQEGAQECAgIDAQEBAQgFAQECAQIBAQECAQEBBgEBAQECAQIBAQICAQEBBQECAgEBAQIBAQYBAQIBAQIBAQEBAQEBAQECAQEEAQMBAgEBBQIBAQMBAQEEAQEHAQEBAQEBAQEBAQEBAQEBBgEBAQMFAQIBAQEBBAcBAQEBBAQBAgEIAwEBCwICAQIBAwUQAgEDAgERBQgBEwEFAwQBAgoBASsFAgEEBAEBBgEDAQYBAQEBAQQBAQQBAQEBAQIBAQEBAQEBAQEBAQEBAQEEAQEBAQEDBgEBAgEBAQEBAQEBBQIBAQEBAQEBAQEBAQEBAQEBAQEBAQEBAQEBAQYBAQEBAQEBAQEBAQEBAQEBAQEBAQEBAQEBAQEBAQEBAQECAQEBAwEBAQEBAQEBAQEBAQEBAQEBAQEBAQEBAQEGAQEEAgEBAQEBAQYBAQEBAQEBAQEBAQEBAQEBAQEBAQEBAQMBAQEBAQEBAQEBAQEBAQEBAQkBAQEBAQEBAQEBAQYBAgEBAQEBAgEBAgEBBgEBAQEBAwUBAQEBAQEBAQEBAQEBAQEBAQIBAgYBEQEHAQIBAwIBAQIBAQIBAQEBAQUBAQEBAQEDAQEECQIBAQIBBAEIBAcBCgEFAQUBAgEBAwMGBAMBAwEHCQUDAQQDBgUDFA8FCgIHDhsEBQMFAQEBAQIBAQEBAQEBAQIDAQEBAQEBAQEBAQEBAQEBAQEBAQEBAQEBAQEBAQEBAgEBAwICAgICAgICAgICAgICAgICAgICAgICAgICAgICAgICAgICAgICAgIDAgICAgICAgICAgICAgICAgIEBwICAgICAgMKAgICAgICAgMCAgICAgIDAgICAgICAgICAgICAgICAgIIAgICAgICAgICAgICAgICAgICDwICAgIKAgICAgICAgICAwICAgICAgICAgICAgICAgICAgICAgICAgIFAgICAwICAgIFAgIHAgICAgICDQICAgICAwICAgQCAwICAgICAgICAgICAgICAgICAgICAgMCAgICAgICAwICAgICAgcCAgIIAwIEAwIDAwQCAgcDAwIDAgMCAwYDAwIDBAICDAUCAwMDAwICAwIOBgIDAwMDAwQDAgMCAwMDAgMCAwIDAgMCAgMEAwIDAgIEAgUDAgMCAwYDAwMDAgwLAwMDAgMCAwMDAwMDAwgDAwMDAwICAwMCAwMEAwMDBAMDAgMDAwMDAgMDAwMDAwIDAgIDAwMDAwQDAwMCAgICBAgDBQUDAwQCAwICBAMDAwICAgMDAwMDBAICAgMDBQMDAwUDAwMDAwMCAwMFCAYEBQMCAwsFAwIFBAYDAwMCAgIGAwMDDQMDBAMEAwQEAwQDAwQDBAQDAwQDAwMECgMDAwICAwMFBgMDAwQEAgMDBAMKBgQEBAQDAw4DAwMDBAQCAgMDEwMDAwQDBAIDAwIDAwIEAwMDAgICAgQDAgMCAgIDAwICAwMEAwQEBAUEBAQDAwMDAwIEBAYEBAIEBAUFAgICAwQCAwIEBAQEAwMFAgICAwMCBQQDBAQEAwMFBAQDBQMDBAUFBAQCAwQDAwoEAgMCAwMEBAUEAwQGAgQDAQwCBQEFBAEBAQEBAQEBAQUBBgEBAQEFAgEEBAQEAQEBAQIGAgUEAgQBBQMEAQIBBAMCAgICAgUFCQIICwYHAQUFBAUEBAYCDgICCAUFBAMCAgUEBAQIBwQEBQMDAgQFBAUEAgcCAwQFBwQCBAIEBQYDAgIFBAQEBAQDAwQHBQwDBgUDAwUEBQQEBQUGBQgGBQMFCAUGAgQHBAgFBgIEDgYEBAgCBQQHBwgDBwMFBgQGBAEBBwEEAQECAgECAQEBAQIBAQEBAQEEAQEDAQEBAQEBBAEBAgECAQECAQEBAgIDAQEEAQIBAQEICQIBAQIBAgIBAQEBAgECBwEJAQEBAQEBAQEBAQEBAQIBAQEBAQEBAQICAQIBAQECAQIBAgEBAgYBAQEBAQEFAgECAQECAwMHAQEEAQICAgIGAwIQCQICBgICAwUFBAcEAwEFAwIFAgIHBgIGBQQCAgYCBQIGBgICBgoCBwUGBwYHAgYCAQUBAwILBQgFAgYCBQQCAQMBBgcDCwMBBwICFAIBAgMDBgEEAgICAg4BAQMBAQEBBAEBAwcBAwIBAQEBAgEBAQEBAQEBAQIBBQEBAQIBAwEDAgECAwEBAQECAQECBgEBAQEBAQEBAQIBAgEBAgEBAQoBAQIFAQEBAQEBAQEBAQEBAQEBBgEBAQEBAQEMAQEBAwIBAgMCAQECBwEBAQECAQEBAQEBAQEDAgMBAQEBAQEBAwEBAQEBAQEBAQIBAQIBAQEEBQECAQEBAQECCwICBwIDCwYGAgIBAwQCCAMRBwIDCAICAQIBBQIBAggDAwMCBQYCAwUCAwIDAQUBAwIBAwMFAgIDBAICAgIDAgMEAQgCAwICAwECBgUCAwECAQIDAgMJBAsBAQMGAgQCAgQCAxEDBQQKBQMDBwIBAQEIAQMBBgIDAQICAQMJAgICAwIDAgIJAwUDCAQDBAYHBAkKAwoEBgIBCwMDAgQCAQIBAgECAgEBAQMBAQEBAQECAQEBAQEBAQEGAgEBAQUBAwEBAQEBAQMBAQEKBwEBAwEBAQEBAgEDAQMBAQEBAQEBAQEHAQQDAQEDAgIBAQIBAQMBAQEBAgEBAQMFAgEBAQEBAgEBAQEBAgEBAQEEAwEBBAMCAQEBAwQBAQEGAQECAwcBAgcCAwECAwcCAwUDAwMFAgYCAgIHCQsHBAQCCQkGAgMKAgMDAgQCBAYLAwUDBgIDAgIHBAQCAgMCBQUCAgMCCQMCAwMEAwQFAgQCAgoIBQMCAggBAwEYAwMGAgEBAgcEAgIHAwMDAgIEAgICAgICAgMCAwQCCAICAgQDBBACBQcDBAMCAwICBwQCBAMDAgYBCwcBAgEDBAQBAQICBAICBAQUAwQCAQECAQEDAgEEAQEBAQQBAQYBBAQBAQEBAQEBAQEBBAEBAQEBAgEDAwEBAQIBBgUBBAYKAQgIAgEBAQMDAgEBAQMBAQEBAgMBAQQBAQsCAQEBAQEBAQEEAwIIAQIBAQEBBAIBAQcBAQECAw8DAQIBAQUBAQEBBQIBBAECAgIDAwEEAQUBAwICAwECAwMBAQEDAQMBAQQBAQEDAQgBAQIBAQEFAQcCAwMCCwEFAQEBAQMBAwEJCQIBAQQJAQEBAQECBAMBAQECAQECAwkCBQEBAQEBBgEBAQEBAwQBAQkFAwIFAwIFBAMDAgoCAgIMAwQDAgIEDwQEAwMFAwIEBAIDAgIDAwIfAgUEFAcCAgkDCgMFAgUDAwIEAhwFCwIVAgMHAgMEAwMDBAICAwgJAgMOBAMUCwMCBQIDAwcDAwMHAgECAwIDAQIBAQMFAwEBBQgEBQUDAQEBAQEBAQEBAQEBAQEBAQgBAQMBAQEBBgICAgQBAQEBAQMBAQEBAQEDAQEBAQEGAQEBAwEBAQgEAQ0BAQEBAgIBAQEBAQEGAQEDAgEFAQICAQICAgEBAQEBAQIBAQEBAgICAQEQAwICAQEBAQIBAQwBAQEDAgIBAQgMCQEDAQMBAwICAgMDAwMBAQEBAQwBARECAQIDAgICAgEDAwECAgIEAwIBAQEBAQEBAQEEAwEGAQIBAQEBAQECAgICAgIHAgsDBAICBwMJBAIGAQEEBwkEAQICAgEBAgMCFQIBCgICAgcCAgMCBwIDBAQNBQUCBAMDBAIFCAMNAwIFBwMCDxEFAgIBBAQKBAQDAggDAgUFAwICAgUDAgsDAgMCBAIDAQEFAQECAgEGAQkBAgICCA0FAgMCAgMCAgQFAwgEBQYKCAICAQIBAQEBAQEFAQMBAQEBAQEBAQEBAQEBAQEBAgEJAgQBAQMBAQEBAQEBAQEBAQEBAQEBAQQBAQIBAQILAQEBAQEBAQEBAQEBAQsCAQYBAQEDAQIBAQEBAQEBCQECAQEBAQECAQEBAQEJAQEBAQEIAgICAQECAwQCAQEBAwUFAgEBAgECAQEBAQEBBAEDAgECAgECAQgDAgIBAQIBBQUBAgICAgEBAwMCAgICCAEBAhECBAIBAQMEAQIDAgQBAQEDAgIBAQYDAgECGAIEAgIEAQMDAwICAwQGAgEBBAECBgMBAwICAgIJAgsHAgEEAwMDAgEKAgsDDAMCAgQKAgMCAhECAgQDBQETAQMBAQEBAgYFDQICAxACAgQCBAICAgIFAwMDAgIGAgYDBAUFAgMCAwIECgUCAgMEBA8DEQMEAgICBgQCAgQCDQIFBQMFAwQdAwQDAwIDAgYGBAMEBxQCAQQBAQEFAQECGAEBAgEDAQEBAQEBAgEEAQEBAQEBAQEBAgEBAgcDBQIBAQEBAQEBAgEBAQEBAQIBCwIBAQEBAQQBAQIFAwECAQEBAQEBAQICBgEBAQEBAQECAQICAQECAQYBAQEBAQICAwIBAQEBAQEBAQIBAgMEBAECAgIFAQEHAQEBAQEBBA4CAgEBAQEBAgEBAQEBAQEDAQICAQQBAgICBQICDAECAQEDBQEEAQMFAgIEAQIEAgECAgEDAQIDBQIBAwIDAQMBAQIBAgICAwEJAwUCCwECBg4BAQEBAQEBBgEFBgEBAgoCAwIEAgMEAwIDBgYCAgICAwMFBAIKBQUDAgoDBQMHAwITAgMDBAIQAgMCBgMMAwICAwICBwIDCgICCQwCBAQQAgQFAwcCAgIEAwUCAQECAQEFCAEBBAEBAQsBAQUBAQIBAQECAQIBAQECAQEFAQEBAgIEAQIBAgIBAgEBAQEBAQEBAQEDBQIBAQIBAQIHAQECAQEBAgEBAQIBAQECAggFAgECAQQCAQECAgMBAgEBAQECBQEFAQIFAgEBAgIBBAMCBgMBAQEBAwEBAQIBAgEBBQUDAQECAQMMAgECAQEaBwECAgQDBAkCAgMCDQIBAQYCAQEBAR4BBQcPAgMCBAIDBQIEAQEECgIDAwIDAgMLBwMDAwMEAgMECQMHBQYEBQMCAgQCBQwDDgMFAwkGBAcEAgIGAgMMBQMCAgQRBgIFAh4FBgMKEQIJAgICAwIDAwgDAgIFAwMDCxQFAgIFBgIBAwICAgYBAQICAgECAgIBBwIBAgIFAQECAQEBBAEFAwIBBwECBAIDBAEBAQEBAQQHAQIBAQEBAgQBAQMMAgMBAQYBAQUBAQMEAQMBCRcBAQEDAwEECQEBAQMBAwEBAQEDAgIDBQYBBgUSAgQEAQMCAQEDEgIBBAMBCAUDAgMDAgIDAgUKBAIEAwoBAh0CAgUIFgECAgMCAgMFAwIDAgMDCAMJBQcDAgcIDwUDBAMIBwQCAwsHAwUIBQIEAwsHAwQFBBMMAgQEAgQFCwQDBwMICgwEBgIFBAIGAgYLAwYDAwMEAwIHAwIFBhADBQQCBQQGDAMJDAcCDgMGGAgEEgYDBAIPBwMECQ0EBgQDEAQEBgQHAgcEAgYGAwoLEQMIAgMIBBAJAwIEBRAFCwYDBggGBAcCFAcHFgMBAQEEAQcBARQOBQEBAQIBBAQGAQECAwEBBAEBAQQEBQECBQEBAQEBARUBAgQBAQMBBAECAgIBAQEBAQICAQIBAQEEAQEBAQMCAgECAQYEAQEPAQEBBQICAgEBAQEEAQIBAgMDAwMDAgICAgIBAQEDAgECAQICAgEDEw4DAQIDAgICBAEBAQUHAQEGBAEEAQECCwQGCAMDAgIBAQEBEgMGAgMDEQMCAQUBAQMBCQEBBgMMEQEGAwcDAQMFIgIFDQQCBAEBAQEEAwYDBAMFBwQDAwYFAgQEAgMNBAUFCwMCDAUGAwcHBQMCAwkFBAYCBAEFAwkDAhgGFAIIBQcDAgsGBQMGEwgEBgYEDgoXHgMDBAYNFQYEBgcIBwQEBQMDAwUDBQsCAgYCAQEBFAEBAQIGAQIBAQgBBQEBBQEBAQEBAQEBAQIBAgECAQEEAQEEAQQBAQIBAgEBAwEBAwECAQEBAQECEwQIAQECAQEBARYBAQIIAR0BAQECAQEBAQEBBQIBAQEBAQECAwECBAQCCQIBAQYBAQYCAgECAgQCAQMBAgEDBAMCAQQPAwIEBAMEAggQAgIBAgECAQEIAQYCAgUFEgICAgcEBgINAgUCAwMBBwcFAQQHAQMKAQcCAwMLAgQDAwQFAxEFAwMCBwIKAgMDBQMBAwQCAQgBBAEEAQEEBwIDAwEDBQUBBAEDAwMDBhEDAwMCCQMGBwMDBQYCBAMFAwMGBQIDBAgRAwMIAwMDAwUIAwoEAwMECwMFCAcDBBcDCAMEAwMUBAQKAwICCwIDCA8EBQsCAgwUBA4KCgUEBQIEBgYCBRsDBhEQBgIHBAMCBQIDAwoDBhAXDBgFAwIDAwMCAwMIBAIDBQEDAwMBAQEBAwMBAwEBAQEBBgEDAQMBFwQFAQEUAgcDAQEFBQEBAgIBAwEBAQEBBgEBBgECAQIBAQETAQcBAQEWAQEBBgMBAQEBAhABAQQBAQUFBAEBAQEBAgIFBAEBDgMBAQEEAQEBAR0BAQECAgEDAQEBAQMBDAEBAQEBAQEBCAwGCAINAQECAQICBg8BAQECAQEBAQQBAQYBCgIBAQEBAgMHAQICBgMhAgYBAgEBAgMCAgIDBwIBBQMLBQIFAwYMCQoKAgMDAgQCBwMBAQEBBQEFAQoBAgEBAwMDAQEEAQUBBAEBAQEBAx0FCAQEBRkQAgkCAhQHBgUbIQgfBQYREgIDBAUiAgUYAwcDEgQDGwMIAwUCAwYDEiMcEggDFSAbAgMhDggDEgcEBAMZBAMGBwMDAxkXAgMDDiMDAwIFBxUGCAYKKwgQBAMIBwUHCQQGCAwNBgUEAwUJFBEECggoBBAFHhsEAwcEBQcGDA0QBQYNBAIDBwgRDAgMBg8EGQMDGAMfBxYDAwYDFQUDDg0HAwoFCgUEBgUECwcDCRUDCBUBAQEBAQEBAQEBAQEBAQEBAQEBAQEBAQEBAQEBAQEBAQEBAQEBAQEBAgEBAQEBAgEBAgEBAQIBAQECAQMBAQEBAgEBAQEBAQEBAQEBAQEBAQMBAgIBAgEBAQEBAgIBAQIBAQEDAgEBAgQBAQECAgEDAgIBAgECAgEBAwMBAgICAQIBAgECAwEBAwICAQMGAgIDAwIEAwICAgICAgICBAIDAwMCAgICAgICAgIDAgMEAwEBAQEBAQEBAQEBAQEBAQEBAQEBAQEBAwECAQIBAQEBAwEBAQEBAQEBAQMBAQECAQEBAQEBAQEBAQIBAQEBAQEBAgEBAQICAQEBAgECAgEDAgECAQEBAQQCAQIDAgECAgEBAgECAgICAgIDAgICAgEBAQECAQQBAQEEAQICAQECAQIBAQECAwMCAwIDAgICAwMEAwICAwICAgIEAgICAgQCBAICAgQCBQMDBQUFAwICBAICAQEBAwEBAQEBAQEBAQECAgEBAQEBAQEBAQEBAQEBAQECAQEDAQEBAgEBAQEDAQECAgIBAQEBAQEBAQEBAgECAQECAQEBAgEBCQEBAQEBAQECAQEBAQEBAQEBAQEDAgICAgUDAgECAgMCAgEBAgIBAQEBAQIBAQEEAgIBAQECAQECAgEBAQEBAQECAQEBBgEBAQICAgQCAgEDBAICAQEDAQQBAwcDAwMFAQEBAQEDAQMDAwMBBwEDBQUFAwMDBAMDBAIDAwIEAgQDAwMDAgQDBgkEBgUCAwMCAgICAgMCAwIHAwEBAQECAQEBAQEBAQEBAQEBAQEBAgEBAQEBAQEBAQEBAQEBAQEBAQEBAQEBAgEBAQEBAQIBAQEEAgEBAQEBAQEBAQMBAQEBAQEBAQEBAQEBAQIBAQEDAQEBAQEBAQEDAQEBAQEBAQQHAQECAQEBAQECAQEBAQIBAQECAQMCAQUCAgIFAgIFCgICAgMDAgICAgUDAgECAQEBAgQCAQECAgIGAQECAgUBAgICAQEDAgEBAQIBAQICAwIDAQIBAQEBAQEDAQIBAQMBAQQDAQMBAQUCBwMDAgMFAQECAwEBAwIDAwUDBwUEAwMHAwMDAwQEAgMDAwMFAwIEAwIDAwMDAwUDAgMDBAMEBAQDAwMDAwQDBgUEAwUHBAEBAQEBAQEBAwIBAQEBAQgBAQEDAQEBAwEEAQEBAQEBBAEBAQEBAQMBAQEFAQEBAQEBBgEBAQEBAQIBAgEEAQICAQEBAQEBAgECAQICBQMCBQEBAQEBAQEBAQEBAQEBAgEBAQECAwEBAQEBAQEBAgEBAQEBAQEDAQEBAQEBAQEBAQEFAQECAQEBAQECAQECBAEBAgECBQICBwICAwEBAQIBAQUCAgIBAQIFAQIBAwYEAgICAQUBAQEBAgMBAwEDBAcDAwEBAQcFAQEBAgEDAQEDBQEDAwEBBAMDAwQEAgIEAwMIBgMGAwMDAwMEAgMDAgQFAwMDAwUDAgMDBAQDAwIDAwUDAgcDAwQDAgMCBQYCBAMDAgICAgMBAQIDAQECAgIBAgECAQEBAQEBAQEBAQEBAQIBAQEBAQIBAQICAQEBAQEBAQMBAQEBAQEBAgEBAQEBAgICAQEBBAIBAQEBAgEFAQEDAgICAQEBAQEBAgMBAQEDAQECAgEBAQEBAQEBAQIBAQEBBQECAQEBAQIBAQEBAQEBAQEBAgICAgICAwICAgYCAgIJAwICBQICAwMBAQIDAgICAQEDAQEBAQEBBwEBAQECAgEDCgICAwMCBgMCAwMDAwIFAgIDAwEBAQQBAQIHAQEBAgcBAwEBAgYDAwEDAwMDBQMFAwUDBgMDAgUDAwUEAwUEAgMDBQMFAgMJAwMDBQIDBAMEAgEBAQIBBAQCBQYFAwYBAQcGAwEBAQUBBgUDAQEBAQEBAQEBAQEBAQEBAQEBAQEBAQEGAQMBAQIBAgEBAQIBAQQBAQEBAgEBAQUBAQEBAQEBAQEBAgIBAQEBAQEBAQIBBAEBAgICAQICAgIBAwEBAQEBAgEBAQECAQEBBQEDAQEBAQECAgECAQIBAQIBAQEBAQMDAgEBAgIFAgICAgICBgICAwIBAgIBAgICBAICAwECAgEBAQECAgICAgIEAQMIDAUBAQgBBAEEBQMFAwIIBAQDBQMCAwIDBAUDBAMHAwMEBwIDBgMIAwQEBQIFAwYDBgMDAgQCAgIDAwYHBAEBAQEBAQEBAQEBAQEEAwEBAQECAQEBAQIBAQEBBAMBAQICAQIBAQEBAQIBAQEBAQEBAQEBAQMBAQECAQEBAQIBAQEBAQEJAQEBAQEBAQEBAQEBAQECAgEBAgEBAQEBAQEGAQMBAQEFAQECAQEBAQECBAMCAwICAgICAgIBAgICAQMCAQEBAQEBAQIEDAICBQEDBQELAQEBAQEBBAEBAwUBAQEBAQEEAQIDAQEDAgIFAgEBAQIBAwMEAwMDAwMGAggCAwMCAgMDAwMFBAMCCAgDAwUEAgQCBQgEAwIBAQEBAQEBAQEBAQEDAQEBAgEBAQEBAQIDAQEBAQEBAQEFAQEBAQECAQEBAgEBAQEBAwMBAgMBAQEBAQEBBgICAwEDAQEBAQEBAgEBAgEBAQICAQECAQEBAgEBAQMCDQUBAQEBAQECAgEBAQEBAQEBAwYBAgMCAQEBAQEBAQEBAQIFAwMCAgIBAgEDAgEBAQIBAgEDAQIBAQEBAQQEDgMDAwEBAgICBAEDAQQBAgEBAQEIAgMBAwICAgQBAQEBAwIDAQIDAQIEBwEBBQEBAgIBAQEBAQIEAwEDAwMDBQQBAQIBAQMCAwIDBAMCBQMEAwIDAgMCAgMDAwUDBwMFBAICAgICAwQCAgICAgMCAwMCBAcFAgUJCQICBAMDBAkGAwIDAwUCAgIDAgsCBAUCAgICBQMCAgIDAwIEAwICAgIEAgUDAwICAwQCAwwDAgICAwMCAgICBAICAgIHBAcCBwICBAICBQQEAQQCAgEBAQEBAQQBAQMBAQEBAQEBAQECAgMBBQMBAQMBAgMCBAECAQEFAQEBBAECBwICCgMBAgICAwMEAgQDBwEBAgIDBgEBAQEBAQECAQMDBQMEBQUCBAICBAIKAwcCAwoCBgMDAwQGBQYDBgMCBAgLBAQDAwcMDAQDAgUFBwQFAgIKBgMEAwUDAwQFAwcFBAcFBgMDAgYCBgkCBAUECQUCBgEBAQEBAQEFAQECAQEBAQEMAQEFAQEBAQEBAQkBAQEBAQEEAgEBAQQEAgEBAQEBAQEBBwEDAQIBAQEBBgECAQICAQECAQIBAQIICgQDAQEGAQIBAQEBAQEBAQIBAQMCBAMCCAUDAQIBAQEBAgIBAQMDAwEBAQEBAgEBAgEBAQQBAgIBAwEDAQIBAQQCAwINAgIGAhECDQcEBAIDAgEBAQMBAgEBAgMBAQECAQIBAQMBAQICAQEDAgICAQEBAQoEAQEBAQEBAQEFAQQBAQEBAgEBAgEHAgEDAQEBAQEBAQECAgEDAQUCAQEBAQEBAQEDAQsCDQEEAgIBAgIBAgIBAQwDAQMDAwMDAwEGAQMBAwEBAQQMAQEFAwEBAQEBAgQBAgEBAQMDBgUDAgUEAgMDAwMDAwMHBQgFAwsDAwUDAwMDAwQDBwIEBgIEAwMFBAIDBQMJBQMCAgQDBgUDAwMFAwMFBAIDBwIDCAIDCwQEBAQFAwMDBAQFBAQJAwMDAwEBAQEBAQEBAQMCAQEBAQIBAQEBAQEBAQIBAgEBAQIBBAEBBAMBAQEBAQEBAQEBAgEBAQEBAQECAQEBAQEBAQECBAIBAQEBAgICAgIDAQEEAgIBAQEBAQIBAgIBAQEBBgICCAIBAQICAQECAQICAgEBAQICAQEBAQMBAQEBAgICAgEBAQ0CAQEBAgMBAQEBBQIBAQEBAgECAgMCAgICBgICAgYBAQIFAQMCAwICAgIBAgEBAQECAgICAgILAgIFAQEBBAECAQEBAQEBAgIBAQIBAQEDAQoBAQUDAwIDAwMCAgYDAwMBAQEBBwIEAwQDAwMEBQMDBAMMBAIGAwMEDQMDAgMGBAMDAwQEAgMDCAMHAwIDAwMDBQMDAwIDAwIDCAcEBAYJBAMEAwMDBwMGAgMEAwMEAwMJCQQBAQEBAQEBAQcBAwEBAwEBAQEBBwEBAQEBAwEBAQIBBAEDAQEBAQEBAQECAQEBBAIBAQQBAQEBAQIBAQEBAQEBAQEBBgIFBgIDAQEBAQEBAgICAQEBAQEDAgEBAQEBAQEBAQIBAQEBAQEFAwEJAgEBAQEBAQUDAgMCAQECAwICAgMDAgIHAgIDDwIDAwICAwMBAQMBBQIBAQUBAwIBAQECAQEDAgIEDwYEAwMEAwEDAQEBAgEGAgEBAQEBAwEDBQEBAQMDAwMDBQkFAwcDBAIDBwMNAwMDCgcDAgMGAwQCAwMEAwMDCgMDAQEDBwEBBwUBAQEEAwEBAQEOAwEBAQkDAQEBAQEBAQgEBQMDBgQEBAEBAQEBAQEBAgQBAQEBAQEBBgEBAQgBBAEBBAEBBAIEAQEBAwIBAQEBAQIBAQEBAQEBAQEBBAIDAQkBAQICAgQCAgEBBQEHAQEFAQMBAQEBAQMBAQEBAQEBAQEBAQEDAQIJAwEEAQEBAQINAQIBAQEBAQEBAQQBBgMLAQEBAQIBAQEBAgEBAQEBAgICAgMCAgICAgQNAgIFBAQCAgMCCgICBAQCBAILCQMCBQIEAgMHBAIDAgICAgQCBAIHBAQBAQIBAQMCBgIPAwIKCQICBAICAgIDAgECAgQFAwIDAwMBAwMDAgMCBQEBBQEBAQEBAQMBAwMDAwQEBwcCAgIEAwMCBwUFBwQEBQYDAwUKBgcEBgUFBwMDAQIJAwEBAQMBBQEFAQEBAQUCBQIBAQEBAwEBBQQCAwEBCAEBAQUDAQMCBwIDAwMCAgMHAwUKAgQCAwICAgMHCAMEAwMKAwUCAgQHAgQEAgIIAwgCAgIDAgEHCgICAQEHAgMDAwIDAgICAgICAwICAgIDAgYFBQICAwkDAgIDAg4CAgMCAgIMAgICAwICAgECAgICAQIBAQEGAgMEAwICAwIFCwICAwQMAgMCAgsCAgMDBgMJBwIEBQMJAgMEAgMCAg0CBgIDAgQFAwIEAgMFAwYDBAMFBAQDAwIEAw8DAgMEBQMDBAkDAgQCBAICAwMEAgMDBAIGBAUCBwQCAwcIAgMEAgQEAwYDBAIEAwMDAwMJAwUEBAIFBAUNBQIFBwUEBQMGBAUIBAIDAwUFAwILAgQCCwQEDg4DAwIDAwMCBAQDDAYECQUCAggKBQQJBwICAgIKDwQFAgEBAQMFBQEBAQEBAwQBAQEBAQEDCwINAgMBAQEBAQgCAgECAQENAQQCAQMLAQEBAQEBCgEBAQEBAQEBAQEBAQEBDAwDBwUHAgkGAgIBAgIBAQcBAQICAQEBAgIBAQEBAQEBAQIDAgYBGwIFAgcGCwMMAgMEBAICAgIDAgIDEwIKAgIKAgMCDQMJDgYDAwICAwgIAwQHEwMFBAUFAgUIAgUCCwIDAwcDAgQDBAQGBAIDAgYFCQUEAgsFBgMFBgIEBQkKCgUHCgMCAgMEAgQGGAILAwIGBAUECAUCBAIECwMEBQcLAg4HBgUEAgIEAgYCCQMFCAEBAgEJAwEBAQYBAw4GBAEEAQIFAQMBAQEBAQEBCw0CBAICBgMIBwIECQIFAgoCBAMEFQUDBAIDEAoCBQoOBgsEAwcCAgQDCw4JAgINAgQEAwsCAwIFBAMNAwIDBgMGBwYEBAMCDA8ICw0CEQQNAgIDBAoKBQYDBwcHBAIFBAMDBQICBgQFDAMHBQIRBQIFBwIHBwUCBAMEBQIGCQkJAwMEBQICCAIDAwUCBgIIAgQDCwUGBgIGBwQEAwMCCgMICwYLAwMDDQIFBwMCBwgGCQ0JAgUFBwsCAgMFAgYCAgIEBAsCAwQEAggGBw8KDAYSAQMBAQECAgYBBAEBDhIBAgUBAgEBAQICBQEBBgEFCQEBAQQCBQIFBQYGBBYCBAsCBAMNCAUDBwMCBgwHBQoCBwQREQIDDxEECQgOFQgIDwsMAwoEBQQECgoICggFCQ4EBAMEAwgIBQsCAQ8FEhQJEREBAQsGDgIBEQoQCAsJBAEJAggBAQEBAgkHBAUBCwwKBAQFCgkBAgIBAQUBAQEBAgMJEQQIBwIRCggCAgQFBwMXEgUIAgUFBAQCBAIGDgQKBAgBAQ4LBQoFEgYJAgUHBAMLDQgBAQMKAQEBAg0JAQEGBgEBAQEBAQEIAQcNAwkDBwIEARAHAQEBAQMEAgIBAQEKAQEDAQQCAQEBAQQBAQEBAgEEAQIBAQEBAQEBAQEBAgECAQECAQEBAQEBBwUBAQoBAgEBAgEBAQIBAQEBAQEBAQEBBgEBAQEBAQEBAgEBAQkBAQEBAQgBAgEBAwICBAICAgIDAgkCCQICAgIHCggKAgcDAwICAgIOCQIBAQMBAQsCAwIBAgEBBQEJAQEBAwECAQIFAQIBAQIEAQIIAgICAQEBAgMBAwECAwEBBgUFBAoDAwkHAgYFAwIDBwEBAQEBAQEBAQEBAQEBAQEBAQEBAQEBAQEBAQEBAQEBAQEBAQEBAQEBAQEBAQEBAQEBAQEBAQEBAQEBAQEBAQEBAQEBAQEBAQEBAQEBAQEBAQEBAQEBAQEBAQEBAQEBAQEBAQEBAQEBAQEBAQEBAQEBAQEBAQEBAQEBAQEBAgEBAQEBAQEBAgEBAQEBAQEBAQEBAQEBAQECAgEBAQEBAgEBAQEBAQEBAQEBAQEBAQEBAQEBAQEBAQEBAQEBAQECAQEBAQEBAgMBAQEBAgEBAQEBAQEBAQEBAQEBAQEBAgICAQEBAQEBAQEBAQIBAQIBAQEBAQEBAgIBAQECAQEBAQEBAQEBAQEBAQEBAQEBAQEBAQEBAQEBAQIBAQECAgEBAQEBAQICAgEBAQEBAQEBAQMCAgICAgICAgIBAgIBAQEBAQEBAQECAQEBAQEBAQEBAQEBAgEBAQECAQIBAQECAQECAQEBAQMDAgIBAgEBAgMBAgEBAQECAQEBAQEBAQIBAQEBAQEBAQEBAgEBAQEBAQEBAQICAQEBAgIBAgIBAQECAgIBAQMBAQICAQIDAgIDAQMCAwIBAQMCAQEBAgMCAQECAQECAQEBAQEBAQICAQEBAQEBAQEBAQEBAQEBAQECAgEBAQEBAQECAgICAQEBAQECAgIBBAIBAgECAQMBAQEBAQECAgICAwICAgICAwICAgICAgIDAgICAgICAgICAgICAgICAwMCAgICAgICBAICAwICAgICAgICAgICAgQDAgIDAgQDAgICAgICAwIDAgQCAgICAgICAgIDAgICAgMDAwMCAgMBAQEBAQEBBAICAQQCAQMBAQEBBAQBAwMBAQEDAQEBAQEBAQEDBQECAQEBAQEBAQEBAQEBAgEBAQECAgEBAQEBAQEEAQECAQEBAQEBAQIBAQEBAQIFAQEBAQEBAQEBAQEBAQEBAQEBAQEBAQEBAQEBAQEBAQEBAwEBAQEBAQEBAQEBAQEBAQEBAQEBAgEBAQEBAgIBAQEBAgECAgEBAQEBAQEBAQEBAQEBAgMBAQEBAgIBAQIBAQECBQEBAgEBAgEBAwICAQEBAgEBAgIBAQEBAQICAQEBAQEEAQEBAQEBAQEBAQEBAgEBAQEBAQECAQEEAgICAgEBAQEBAQEBAQEBAQEBAQEBAQIBAQEBAgEBAQEBAgECAQEBAQEBAQEBAgEBAQEBAQEBAQECAwIBAQEBAQEBAQEBAgEBAQIBAQEBAQEBAQICAgEBAQEBAQEBAQEBAQEBAQEBAQMBAQIBAQIDAgEBAQECAgICAQEBAQICAQEBAQEBAQECAQECAQEBAQQBAgEBAgMBAQIBAQEBAwIBAQEBAQEBAQEBAQEBAQEBAQEBAQECAwIBAQIBAQIBAQIBAwEBAQIBAQEDAQIBAQEBAQEBAgIBBAIDAgICAgMCAgICAgICAgIBBQMCAgICAgICAgUCAgIDAgICAwMCAgICAgQCAgMCAgICAgICAgMEAgICAgICAwICAgICAgMEAgMCAgMCAwMCAgICAgICBAICAgICAgICBwMGAgYDAgICAwICAgIDAgIDAgIDAgQCAwICAgQBBAEBAgEEAgICAgICAwICAgIBAgIBAQICAQIBAQICAgMDAwICAgICAgIDBQMHAgIEAwUCBQMCAgMCAwIEAgIDBAMDAgICAgMCAQYBAQMCAQEBAQQEAgMFAgICAQEBAQEBAQEBAgIBBAIBBAEBAQEDAwYCBQQBBQEDAQIBAQEBAQEBAQICAwUDAwUFBQUBAQQCAQECAwIDAQEEAQEBAQEBAQIBAQEBAQEBAQIBAQEBAQQEAQEBAQEBAQEBAQQBAQEEAQEBAQEBAQQBAgEBAQEBAQEBAQEBAQEBAQEBAQEBAQIBAQEBAQIBAQECAgEBAQMBAQEBAwEBAgIBAQEBAQEBAQEBAQEBAQEBAQEBAgEBAQEBAwEBAQEBAgEBAQEBAQEBAQEBAQEBAwIBAgEBAQQGAwICAgQCAQICAwICAQEBAQEBBQEBAgIBAQEBAgIDAgIBAQECAQEBAQEBAQEBAQEBAQEBAQEBAQEDAgICBAQCAgIBAQEBAQEDAQIBAQEBAQEBAQECAgMBAQEBAQEBAQEDAgEBAQMBAQMBAQECAgEBAQECAQIBAgEBAQEBAQEBAQIFAwEBAgECAQIBAQECAQEBAQIBAQEBAQEBAQEBAQEEAQECBQEDAQIBAQEBAQECAQIBAQEBAQIBAQEDAQEBAQUBAQEBAwQBAgICAQIBAQIBAQUBBQECAQEBAQEBAgECAgEHAQIDAQEBAQIBAQEBAQICAQECAQMCAQECAwECAQECAQEBAgEBAQIBAQECAQEBAQIBAwICBQIHAgIBAQECAQEBAQEBAwIBAQECAgEBAQEDAQEBAgQCCgEBAQECAgUCAgMCAgEBAQICAwIBAQECAQEBAQEBAQECAgEBAQEBAgEBAQECAQEBAgEBAQEBAwEDAQEBAQECAwIEBAICBAICAgIDAgMCAgICAgICAgMDAgQCAgQCAwIDAgIEAwICAgMCAgUCAgMDAgICAwMCBAICAwICAgIDBQICAgIDAgMDAwQCAgMDBQUDAgICAgICBQICAwICAgMCAwcCAgUCAgIDAwkDAwMEAgQCAwIDAwUEAwIDBgQHAwICAgMFAgICAwIDAgIDBAIEAwICAgMDAwUCBwICAgICBwIGBAMDBgIGAwcCAgMCBgIDAwMHAgYFBgICBwICAgICAgICAwcCAgICAwYCAgICBgMBAQEBAQEBAQMFAQQCAQIBAwEDAQEBAQECAQMBAQIBAQEBCAEBAQEBAQICAQEBBAEBAQEBAQEJAgEBAQEBAQEBAQEFAQMCBAEBAgIBAQEBAQEBAQEBAQICAwEBAQEBAQECAQECAQEEBgECAQEBAQICAQEBAQECBQIFAQEBAgEBAQEBAQEFAQEBAQIBAQECAQEGAgEGAQEBAQQEBAEBAQEBAQIBAQMBAQEBAQEBAgIBBgIGAQEBAQECAQEBAQYBAQECAQEEAgIBAQICAQMCBQIFAQEBAgEBAQEBAgEBAQIBAQIBAQEBAQEBBAICAgEEBgEBAQECAQEBAwEDAQEBAQEBAgEBAQECAQIBAQEBAwECAQECAQECAQICAgQEAQEBAQQBAQECAQgFAQQFAgEBAQEBAQEBAQEDAwECAwEDAgICAgIDBQIBBQEHAQQCAwMBAwEEAQIBAQECAQEBAQECAwIBAQIBAQICBAIEAQEBAQEBAQEBAQEBAQQBAQEBAQEBAQEIAgEDAQIBAgQCBQEBAQEBBgEBAQEBAQEBAQICAgICAQEBAQEBAQEBAQEBAQICAQMDAQMCAQEBAgEBAQIBAgUCAwECAQICAgIHAgMDAgQEAgICAgMBAQECAQQBAgIBAQIGAgEBAQYEAgEFAQgBBgQFAgIBAQECAgMJAwICAgECAQECAQIBAQEGAgEBAwEBAQECAQMBAwMDBAIDAgIEAgQCAwICAwQCAgQDAgMDAwICAgMDBAIDAgQCBQMDAwMDAgQCAgICAgIDAgICAgICBAQCAwMCAQICAgEBAQEBAgEEBAIDAgEBBAEDAwIDAgICBAMDAgMCAwIGAgICAwMCAgICAwICAwIDAwIGAgQCAwICAgIIBAIHAwICAgMGBAQEAwIDBgIDBAICBgIDAgkDBAMDAgMDAgIFAgIFAgIEAgUEBAMCBgcGAgMDAgUEAwIEAwMFBAIDBAMDAwICAwYEAwIFBAQFAwYHBgIDCQIGAgILBAkBBAIBAQEBAQEBBQEBAgECAgIBAQIBAQEBAQEBAQEBAQEEAQEBAQQBBAECAQEBAwECBwIBAwIGAgEBAQQBAwEGAQEDBAIDAgQHAQEBAQEBAwIBAQEBAQYBAQEBAQEBAQEBAQEBAQEBAQECAQEBAQEBAQEBAQEBAQEECQQBAQEBAQECAQEKAQEBAQMDAgEHAQMBAQEBAgEGAgEBBwEBAQIBAQEBAQEDBAQBAQEBAQUCAQMBAQEBAwEBAQEBAQEBAQIBAQECAQECAQEBAwIBAQICAQEBAQIFBwEBAQIFAQEBAQUCAQEBAQIBCgECAQMFAQIBAQECAgECAQEEAwICAQMGAgEHAQIBAgIBAQICAgQBAQMBAwECAQEBBgkBAgECAQEDAQEBBQECAQECAQIBAQEBAQEBBAEBAQMFAgMBAwEBAQEBAQEBAQUDAgIIAQUBAgECAgEBAQYCAgIBAQEBAQUDAgICAwEBBwIDBgIDAgECAQEDAwICAgcCBQEJAgQBAQECAgYBAwIEAgQBAQIFAgEHBgcCAgcBAQICAQIEAgUGAwQEAgYCAwMHBQECAwEDBAEBCAECAwEDAQICAgQDAQUCAQQCAgIJAgMCAgMCAgICAgICBQUCCgMDAgIDBAIDAwMCBAIECAMJBgQCBQQDAgQCCgIEAgMDAgQCAgQCAgICBQICAgIDAgMDAgMDAgMDBQQDAgMCAgMCBgICBwICBAQCAgIFBwIDAgMHAgUCAwICAgIEBAMCBQIDBQMDBQcJBAMCAgICCAIEBQMDAggCAwcECgIDBQQDAgMEAgMJBQQCBwcDAgQCAgIDAwEBAQEBAQEBAQEBAQEEBAcEAgUCAQEBAwICAgwGBAMCAQEFAQUDAQIBAQEDAgIBAgEJAQUBAgIWAgIBAQECAgUBAQEBAwICAwEBAQEGAQEDAgIDAQILAQEBAgYDBAMCAQEBDQECAQIBEwIKAQEFAgEBBAECAgICAg0BAQECAQQCAgIEAgIBDAECAQEBAQICAQEBAwICAwMCBAYBAQICAwMIBAEBAQEBAQECAQEBAQECAgEBAQEBAgEBAQECAgEDBAICAgMCAgMCAgEBBgEBAQEBAQEBAQECAgEBAgIBAQEBAQEBAQYCAQQCAwIDAgIDAgECAwEBAgEDAQMBAQEBAQIBAQECAQEBAQEBAgEBAQIBAgIBAgIBAgECAQEBAwICAgEBAQICAgQCBAICAgECAQEDAQQBAQIBAwoBAQEDAgIBAQICAQEBAQEBAgECAQECAwECAQIDAQIEBAIDAwUDAwMCAQIBAQEBAQIBAQECAQEBAQIBAQICAQEBAQEBAQEBAgMCAQEBAQEBAQECAQEBAQEDAgIDAQIIAQMBAQEBAgIDBAIDBwIDAgIBAQEBAQEBAQIBAwMBAQEBAQMBAQIBAQYCBAUBAQEBAgECAQEBAQIBBgIDAgEBAgEBAQEBAQEBAQIBAgEBAQEBBwICAwMCBwMCAgMCAgICAgQDAgEDAQICAQEBAQEGAQYBAQEBAQMBBAEBAQECAwECAQQCAQEBAQECAgICAQIBAgECAQYBAgECAgIMAgMCAgEBAgMCAgEGAQEEAgEBAwMEBwEBAQMDAwYBAQIBAQEBBQUCAgEBAQEBAQUBAgMCAgECAggDAgYEBQQDAgQCAgYDAgICBAIMAgICAgIEAQIBAgEBAQEBAgIBAQEBAQEBAQEBAQEBAQEHAQICAQEBAQEBAQEBAQEBAgICAgIFAgMDBAICAgMCAwMCBAMBAQMCAQEBAQQCAgEBAQICAQEBAQEBAQEBAQEBAQEBAQEBAQEBAQEDAQEBAgECAQEBAQEBAQMDAgECAgEBAQEBAQEBAQEBAQEBAQEBAQECAQEBAQEBAQIDAQEBAgIBAQECAwECAgEEAQIBAQQCAQEBAgIBAQEBAQIBAQEBAQECAQIBAgIFAgMCAgICBAQDAgICAgIDAgICAgICAgICAwICAgICAgMDAwMCAgICAgMBAwIEAgMBAQIDAgEBAQECAQEBAQEBAQQBAQEBAQECAQIBBwUBAgEBAQEBAQEBAQMDAQIEAgMBAgEBAQEBAQEBBAECAQEBAQIBAQECAQEBAQECAQEBAQEBAQEBAQEBAQEBAQECAQEBAwEBAQEBAgECAQEBAQEBAQMCAQIBAQEBAQEBAQEBAQIBAgEBAQMBAQEBAQEDAQECAQEDAQIBAQEBAQEBAQECAQEBAQEBAQEBAQEBAQEBAQEBAgECAQIBAQEBAQICAgECAQEBAQIBAQECAQEBBQEBAQEDAQEBBgQBAwEBBgEBAQUBAQEBAQECAQEBAQECAgMBAgIBAQcDAQEBAQEDAQEBAQEBAQEBAwECAgIBAQEDAQEEAwECAQEBAQEEAQIBAQIBAQICCAEBAQECAwEBAQEBAQEBAQEBAQECAQMCAgEEAgECAgIDAgEBAQECAQICAwEBAQEBAQEBAQIBAQEDAwMCAQEBAQIBAgECAwICAQEDAgICAwMCAgIBAgMEAgICAgIDAgIDAwICAgICBAICAgQCAgIBAgICAwICAgYCAwMDAgIDAwIBAgICAgMCAgICBAICAgMCAgICBQMCAgICAgICAgMCAwUCAgIFAgICBAMCAwIDAgYCAgIDAgIDAgICAwICAgIDAgIDAwICAgICAwMCAwMEAgMDBAICAgMCBAIEAgICAgUCAwUCAgIDBQIDAgMCAQIBBQIBAQEBAQEBAQEBAgECAQwBAQEBAwEBAQMDAQMDAwEBBAUBAQEEBgMCAgEDAQEBAwQBBQMBBgEBAgMCAgEBAQMBAQYDAQEBAwMBAQEGAQEFBgIFBQEBAQIBAgQBAQEGAgIBBwEBAQEFAQUBBAUBAQIBAwEBBgEFAwICBQEBAQUBAQUBAQEBAQEBAQECAQEBAQUBAQEEAQEBAQMFAwECBQEBAwEFAQEEAwQBAQUBBQEBAQECAwEDAQEBAgEDAQIDAgECAgEBAQQCAQEBAQEBAQEBAQEBAgICAgEBAwQFAQEBAQIBAwEBAgEBAQEBAQEBAQIBAQEBAQQBAQMBBAICAgEBAwMBAQICBAIBAQEBAQMDAQUCAQIBAwMBAQEBAQEBAgIBAwEBAgEBAgEBAQIBAQICAQICAgMDAQMCAgUBAgEBAwEDAgEBAQEGAQEBBgICBQMCAQMDAQICAgUCBAMBAQwCAwMEAQMFAwQCBAUDAwMEAwMBBQIGAQICAgIHAgUCAgICAgMEAwIEAwQEBAICAgMDBgICAwIDAwIDAwMCAwIDAwICAgMEAgQEBQUFAgQCAwMDAgMGAgMCAgQFAgQEBgMFAgMGAgQDBAMEAgUCAgQDAwICAgMFAwIDAwQDAgYEAwIEAgIEBAIEBAMCAgIDAgMDBgIEAwUCAwICAgMCBQICAgEBAQEBAQEBAQMCAgEDBAUHCAcBBAUBAQIBCQIDAQIEBAMCAQEBAQEEAwICAQEQAgECAgYBBAICAwwBAQEBAwEBAQEBAQIDAwIDAgICAgICBQMEFwgHAQEBAQEBAQEBAQEBAQEBAQEBAQEBAQEBAQEBAQEBAQEBAQEBCgECAQEBAQEBAQICAQIBAQECAQIBAQIBAgIBAQEDAQEBAQEBAQEBAQICAgIBAgEBAQEBAQECAQEBAQEBAgEBAQEBAwECAQEBAQEBAQEBAQIBAgECAwICAwEBAQECAQECAwICAgYDAQECAQMBAgIBAwECAQECAgMDAQEBAQECAQMDAQsCAwMCBQUDAgEEAQEBAQEBAQECAQEBAwIDAgICAwICAgICAgQFAgIBAQQEBAIDBAYCAwMCAgUEBgMCAgIBAgEBAgIDAgMDAwIFAwMGBAIFCQQFBAcCAwMEAgQFAgMCAwMEAQMDAwQCAgQFAwMDBAoDBgMCBQMFBgUEBAUGBQMFBAUCAgQEAQIEAQEEBAUBBQUGBQQGAgMIBQUFAgMHAwICCAQCBQICAwYDBQYGBQQEBQQCAgUEBwIFBgYFBwEDAQUBAQEBAQEBAQEBAQEBAQEBAQEBAQEBAQEBAQEBAQEBAQYCAQEBAQEBAQEBAQEBAQEBAQEBAQEBAQEDAQEBAwEBAgEBAQEBAQEBAQEBAgEBAgEBAQEBAQEBAQEBAQQBAQEEAgEBAQEBAQEBAQEBAQECAQEBAQYBAQEBAQEBAQEBAgEBAQEEAQEBAQEBAQEBBAECAQECAQECAQEBAQMFBAICAgICCQEFAgEBBAECBAEEAQIBBQIBAQEBAQEBAQIBAQEBAQECAQMBAQIBAQEBAwEBBAEBAQEBAgICAQECAQEBAQEBAQQBAQEBAQECAQICAQECAQIBAgECAgICCAkCAgICAgICAwIGBQIDAgIEAwQCBAIDCQMCAgIDAgIDAgICAgMCBwICAgQHAgUCAgICAgEHAgMCAgMDBQEBAwEBAQEFAgIBAQEBAQMCCAEBAQEBAQcCAwILBwQCAgEBAQEBAQEBAQECAQIBAQEBAQEBAQEBAQEBAwEBAgEBAQEBAwEBAQIBBAELBQIDAQQBAQECBgUCAgIBAgEBAQEBAQEBAQEBAQkBAQEBAQEBAQEBAQEBAgIBAQEBAQEBAQEBAQEBAQEBAQEBAQEBAQEBAQEBAQEBAQIBAQEBAQEBAQEBAgUDAQIBAQQBAQEBAgEBAQEIAQECAQEBAQIBAQMBAQEBAQECAQEBAQEEAQEBAQECAQEFAQEBAQEBAQEBAQIBAQEFAQECAQICAgICAQQBAQEBAQEBAgEBAQEBAQEBAQEBAQEBAwIBAgICAgICAgICAQIBBAEBAgEBAQECAQECAQICAgMBAgEBAQECAQECAgIBAQICAgEBAgEBAgECAwEBAQEBAgIBAgEBAgIBAgECAgECAQIBAgEBAgEBAgECAgICAwEDAgIEAgECAgMCAwMCAgIEAgQCBAICAQIDAgICAgICAQEBAQEDAQEGBAMDAgIDBAICAgIEAgICBAIDAgICAgICAgICAgIDAwMCAgQDAwMCAwIEAgMDAwIDAgQDBAMCAwMDAwMCCAICAgIDAwYCBgICAwIFAgIFAgIFAgUCAgMEAQMEBAUBAQMBAQEBAQEBAQEDAQEBAQEBAQEBCwEBBgEBAQEBAQEBAQEBAQEBAgEBAwEBAQEFAQEBAQEBAQEBAQECAQQBAgEBAwEBAQEBCAEEAQEBAQEBAgEBAQEBAQEBAQEBAQEBAQEBAQEBAQEBAQIBAQEBAQEBAQEBAQEBAQEBAQEBAQEBAQEDAQEBAQEBAQEBAQEBBAEBAQIBAQEBAQEBAQEBAQEBAQMBAQEBAQECAQEBAQEBAQEBAQEBAQEBAQEBAQEBAQIBAQEBAQECAQECAQMCAQIBBAEBAQIBAQECAQEBAgEBAQECAQEBBwEBAgEBAQQBAQEBAQEBAwEBAQEBAwIBAQEGAQEBAQICAgECAgMCAgIBAQICAgEBAgIDAQECAgICAgECAQMCAwIBAQECAQMCAgIBAQEBCAICBAEBAQMDAgEBAQEBAQEDBgECAgEDAQEBAQEBAgICAwIDBAICAgIDAgIDAgICAgICAwICAwMCAwIIAwICAgMCAgICAgMCAgICBAICAgMCAgICAwICAgICAwICAgICAgMEAgUCAgECAgMCAgICAgMCAwIGAwQCAgICBgIECAICAwQDBwIDAwQCAgICAwQCAwUBAgIDAQMEAwEEBQIEAgQBAQEBAgIBAgEBAQMBBQEBAgEEAgIIAgMCAwkEAgICAQEBAQEDAQEFAQEBAgECCAEGAgQBAQEBAQEBAQEBAQEBAQECBAEDAQMBAQEBAQUBBQEBAwEBAQEBAQEBAQEFAwEBAQEBAQEBAgECAQECAQEBBQECAQEBAgEBBAEBBgEBBQQGAgMBAQEEAQEBAQEBAQIBAgEBAwUBAQEBAQEBAQEFAgECAQECAQEBAQEBAQIBAQEBAQEBAQEBAQIBBAEBAQEBAgIBAgIBAQEDAgQCAQIDAQICAgIDAQEBAgIBAgEBAQEBAQEBAQEBAQIBAgQDAgEDAQEBAQMBAQEBAQIBAQIDAQICAQIBBQEBAQEBAgECAgMCAQEBAQICAQEBAQEBAQECAwEBAgEBAQEDAQIBAQICAgIEAQYBAgEBAQIBAQICAQIBBgICBQEBAgIEBAYCAgICAgICAgICAgICAgIEAgIFCAMBAgEBAgYCAgQDAgQDAwIEBAUDAgQDAgICAgIEAgICAQIDAgIEAgECAgIEAwICAgICBAIEBQQDBgICAgMFAgICAwIDAgICAgICAgIHAgIDAwICAwMDAgQEAwIEAwcCAgQBBAECAQMCAgIDBAMBBAQFAQEBAQEBAQEBAQEGAQMBAgEBAQEEAwIHBQUCBgUDBgUDBAgCCAIHBQgBAQYBAQEBAQEBAQEBAQIBAQEBAQEBAQEBBwEBAQEBAQUDAQUBBwEBAQEBAwQBAQEBAQEBAgEBAQEBAgEBBwMBCAEBAQEBCAUBAQEBAgEBBQEBAQEGAQcCAQIBAQEBAQECAgEBAQEBAQEDAQEBAQEBAQEBBgECAgMBAgIBAQEGAQEBAQEBAQIGAQEBAQEBAQUCAQEFAQYBAQEBAQIBAQECAQYDAgEDAQIBBgECAgEBAQICAwUBAgEBAQEIAQIBAQEBAQEBAQEGAgECAQEDAQEBAQMCAwEBAgEDAwEBAgEBAQECAgEBAQECAgECAQIBAQIBAQIBBAECAQEBAgIJAwMCBAIDAgMCAQIFAwEDAQIBAQECAQECAQECAQICAwICAQEBAQEBAQEBAgICAwECAQMCBQMBAQEBAgIBAgICAQMBAQEBAQEBAQICAgECAQEBAgIBAgIBAgICBAYCAgICAgIBAwECAgIEAQEBAQEBAQICAgUFAgMCAQICAgMDBgYCAgMCBAIDAgIEAgICAgMCAgICAgIEBQICAgICAgMCAgIDBgMCAwICBAMCAgMCBAICAgMCAgMDAgICAgICAwUDAgIDAwQDAgQEAwMFAwMCAwIEAgIDBAICAwICAgIDAgQDAgICAwgCAwUGAgUGAgwIBAICAgYDAwICBAMJAgcGAgMCDAMEBgIDBwUGBgMCAgIDBgYIAwYIAwMFAQEBAQEEBAEEAQEBAQEBAQUBAQEBAQIBAQEBAQEEBAIBAQEBBAEBAQUBAQEFAQMBAQEBAQEBAQECAgEDAgEBAQEBAQUBBgQDAwEGDAMBBQEFAQMIAgEBAQcBBAEBAQQBAQEBAQIFAQMBAQEBAgEBAQEDAwEBAQEBAQEGAwECAQEBAgEGAgEBAgEEAQMFAQUHAQECAQEBAQEBBgEFAwECBQIBAwMCBQQCAgEBBAEBAwEBAQECBAEDAQUCAQEFCgEDAgEBAwIBAQUBAQEEAQMBAQEBAQEDAQEBAQEBAgEBAQMBAQQBAwICAgEBAgECAQMFAgECAgIBAwIBAQECAQIBCAQGAQEEAQEEBAQBAwEBAQIBAQECAQECAwEBAQEDAgUCBQIEAQICAwICAgICAgICCQICAwICAQICBAECAQEDBgECAwICBQIEBgIEBAIDBgICAwQCAwICAgQCBAQHAwIEAgICAgQDAgICBQMCAgIFAgIDBgUCAgIFAgoEAgQEBAMCBAIEAwYFBAMCBQUDCAICBgMCAgIGAwIEBgUEBQMCBAICAwUCAgQDAwUCAgQFBAMDAgMDBwQGAwIFBwIFBQcCAwUEBgQCBAQEAwcCAwgCBgIDBQUCBAcFAwICBAQCAwEBAQEDAwEHAQEBAwYBAQkCAQEGAQEBAQEBAQUBAQEDAQEBAQECAQEBAQEBAgEBBgEBAQMBAQEBAQICAQEDAQEHCQgBAQwLAQEBAQoEAQEJDQEBAQEBAgQBAQEBBwIFAQEBAgcDAQUBBwEBAwIBAQECAwIBAQUCBAIBAgIIBQIBAQEEAwEBAQUBAgMBAQYBAQEBAgEBAQEBAQECAQIBAQEBAQEIAgYCAQEBBAIBAQIBAQEBAQEBAQIBAQMBAQEBAgIGAQIFAgEFBAMDAQQCAQgDAQQBAQcBAQEGAwIBAgEBAQIBAQEBAQECAQIBAQEBBgEBAQEBAQIBAQEEAQYBAgUEAgEBAgIBAQECAgECAQEBAQEBAQEBAgEDAQEBAQICAQEDAQIBAQEBAQEBAQEBAQEDAgQBBgECAwQBBAQBAQEBAgEFAgEBAQEBAQEBAQIEAwEBAQEBAQECAwEBAQgDAwICAwMEAgICAgIDAgICAgICAgMDAwQCAgUCAgMEAgIFAwIEAgIDAgMCAwIEAgICBQICAgMEAgIDAgMEAgQDAgMCAgcCAgQCAgMDAgQCAgIJAwIHAgIFAwICAgQCBQICAwICAwICAwICAgMCBQIFBAIDAwICAwIEAwIDAggGBQICAgIFAgUDAwMFAwQDAgMDAgQDAwMCAgUEBAQFAwsCAgYEAgIJAgMHAwIDBQMEAwgDAwMCAwIHBgcCBwYGAwIEAwIFBQcHBAMIAgIDCAUGBwcEDwIBAQgGAwEBCAYBAQEGAQELBAEFCwgHAQEBAQEBCAoCAwEBAQQGAQEBAQEBAQEGAQICAQEBAQIBAwEFAQEBAgEBAQEBAQEDAQEHAQEBBgEBAQIBAQEBCAMDAwEGAQEBAQEBAQECBgMBBQEBBwUFBgcCBgICBAEBAQECAQECAQwIAQUHAQEBAQcCAQIBAQEBAQQEAgQDAwMCBAIFAgECAwUCAQEBAQEFAQUEAQECAQEBAQECAQEDAwEBAQEBAQkCAQEBAQECAgEBAQEBAQEBAQEEAQIBAQECDwIBAwEBAQECAQIBAQEBAQICAgICAgIEAgMCAQEBAQYBAQEBBwEBBgEBAQIBAQYEAgIBAQEBBgIBAQEIAwEBAQECAQEBAQEBAQECAgEBAQEBAQIBAQEDAQEBAQEBAQIBAgIDAQIFAgIHBAIBAwYCAgYCAgICAgMCCAIBAwECAgEBAwMHAwYBAgIDAgIHAwQCAgICAwYEAgICBAQGAgICAgIIAgUCAgMDAwMBAQEDAQEDAQICAgICAwMEBAQCBQYCAgMCAgYHBAICAwICAwQCAgUCAgIIAgICAwIECgICAwMDAwMDAwQCAwQEAwkCAgMCBAIHBQICBgQDBQMEBQMFBwIEAgUHAwQFCgMCAwMDAgUDBgMFAwUHBAYCAgsGAwcFBAQJAgMDBAIDBAQDAgMCBAIDBgcCBAUGBAUGAwQCBQQECQYGAwQFAggFBwgEAQEDAQQBBQEJAQMBBgEBAQEBAQEBAwEBAgEBAQEBAQEGBAEEAQMBAQIBAQgCBAMCAQEBAQEBAQEGAQEBCAQBAQQBAQEBAgEBAQYBAQEBAQQBAQYEAQQBAQkBAgECAQUBBgcDBAIEBgEBAQEDBQEBBwUJBwQBAQMBAQEBAQEBAQEBAQECAQEBAQUDBgUHAgEBAQEBBQIDAQEBCAICBQEIAwcBAQEBAQIBAQEBAQEBAgUBAwIBAQECBQELBgUCBgUJAgYBAQEBBQECAQEBAQECAQMBBgECAQcBAQsFAQIBBAECAQEIBAECAgEGAwIDBAICBgMHAgEBAQEBAwEHBAIEAgQECwEFBAQHAgMCAQoBAQIDAgMBAQICAgIEAgEBAgEBAQQBAQIEBQICAwcEAgQCAwICBAsCAgIFAgkGAwICAgICBAIDBAILBQICAwMJAgIHAgMCAgMJAwMGBQkIAwMIBQgCAwICAg8CAgICCgUHCAUDCAIDCAkCBQMIBAMCAwYCBAUCAggDBQMDBQIEBAMKAwMGAgIDBAUFAwQGAgICAwQFAwMFAgoEAwMCCwMIAgMDCAMEAgMDAwMFCAQDAwMCAgcGAwIGAgYDBQkCBAMDCAYHCgMJAgUCBAIHBAMCAwICBQYCBAcEAwMLAwUGAgUCBQcEBAUGCgUCBQcGBgoFCA4EBQMGBQcIAwQEBQIGBQUGAgIDAgIFCAYEBgcHCQcIBwICAQEBBgQBAgUBAQEGBAEBAQYBAQEBAQEBAQEBAQcBAQECAQEJAQEBAQEBAQEBAQ0JAQEBBQEBAQEBAwEBAQEFAQEBAQECAQICAQEEAQEBAQEBAQEGBQQBAQQBAQEBAQEFAQEBBAEFCwEBAgEBAQEEAQICAgEBAQEDBQYBAQEBAwMCBQIHAQEBAgEBAQEBAQECAQYCAgEBBQIBAQEBAQEBAQEEAQEBAQICAQEBAQEBBAICBAMCAgMGAwMDAgICCAQDAgcDAgICAwIDAgIEAgIEBAUEAgUCAwMIBAUGAgIDAgICAgICAgICAgMCAgICAwMCAgQEBwQDBAQCAgMCAgwCBAMCBAIDBAICBgoGAgUEAgYDBAIDAgIDAgMCAgUGBAQHAwICAwUDAgICAgICAgICBgMEBwIJAgQCAgcIBgMIAgYCAQEBAQEBAQEBAQcCAQEBAQECAQEBAQEBAQEBAQEBAQEBAgIBAwcBAgIBAQIDAQMCAwMCAQEBAQEFAQEBAQEBAQEBAQECAQEBAQEBAQEBAQIBAQEEAQEBAQEBAgEBAQEBAQEBAgIBAQECAgIBAwEEBAEDAgMCAgICBAICAQEBAQIBAQEBAQMBAQUCAQEBAQMBAgIBBQEBAgEEAgEBAQIBAQEBAQIBAQEBAQEBAQEBAQECAQEBBgEBAQIBAQEBAQECAwECAgEBAQECAQQBAQEBAQEBAQICAgECAgMCAgICAgIDAQIBAgEDAgEBAQECAgIBAgICAgcBAQIBAQEBAQECAgIBAQEBAgUCBAIBAwICAgIEAwQCAwICBAIHAgYDAggCAgEBAwYDAwMCBAICAwQDAQICAwIBAQEBAQEBAQEBAQEBAQEBAQEBAgEBAQIBAQEBAQIBAQEBAQEBAQEBAgIBAQIBAQEBAQEBAQIDAgICAQECAgIBAQIBAQEBAQECAQEBAQIBAgEBAgEBAQECAQEBAQEBAQEBAgEBAQEBAQEBAgQBAQEDAgEBAQEBAQEBAgEBAQEBAQEBAQEBAQMBAQECAwIBAgECBAMCAgICAQQBAgICAgMCAwEBAQEBAQMBAQEBAQIBAQECAgEBAQEBAQEBAQEBAQIBAQEBAQEBAgYBAQMBAQEBAQMBAQMBAQIDBAIBAgEBAgECAgMBBAUCAQMCAQEBAgEBAQEBAQECAgEBAQEBAwEBAgICAQECBQMDAQMBAQEBAQEBAQEDAQECAQEBAQEBAQECAQECAQICAQICAgMBAgICAgICAgICAgIBAgUCBAECAgUCAwICAwMEAgMCAgMEBAIDAgUCAwMDAgUDAgQDAwMFAQEBAgEBAQEBAQIBAQEBAQIBAQEBAgEBAQEBAgEEAQEDAgMCAQEBAQEBAQECAQEBAgIDAgIDAgIEBAcGBA8DAwIEBQUCAgMFAgEFAgEBAwEBAQECAQMBAQEDAgEBAQEBAQEBAQEBAgEBAwEBAQEBAQEBAQEBAQEBAgEBAgEDAwECAgIEBwIFAwMCAQEBAQIBAgEBAQEBAQEBAQEBAQIBAQEBAQECAQEBAQECAwEBAQECAgIDAwMCBAQDAgIHAwIDBwYDAwMCAgICBAYEBAIFAwYJBgYCAQEBAQEBAQIBAQEBAQEBAQMCAQIDAQEBAQECBQUCAQEDBwYEAgYCAQQBAQEBAgEBAQEBAQEBAgEBAgEBAgIBAgEBAQEBAQIBAQIBAQEBAQEBAQECAQECAQEBAQMCAwICAQEBAQECAQEBAQEBAgIBBAICAwECAgEBAQEBAgICAQMBAQEBAQMBAwEBAQIBAQEBAQEBAQEBAQIBAQEBAQEBAQMBAwEDBAMBAgECAwICBAECAgIBAQICAgEBAQICAQQCAQEBAwECAgMBAQEBAQEBAQECAQEBAQIBAQEBAQEBAQIFAgIEAQMBAQICAQEDAwEBAgICAgIDAQICAgEBAQEBAQIBAQEBAQEBAQEBAQICAQEBAQECAgICAgMCAQEEAgICAgMDAQEBAQEBAQEDAQECAgMBAQIFAgICAwMLAwIEAQEBAQEBAQEBAgEBAQIBAQEBAQECAgEBAgIBAQEBAgECAQEBAQEBAQIBAQEBAQECAwMEBQQCAQQBAQIBAQEBAQICBQIDAgECAQEFAgEBAQEBAgEBAQEBAQEBAQEBAQIBAQEBAQEDBQMCAgIBBAEBAQECAgICAwMDAgIEAQECAQEBAQEDBQIDBQYDAQEBAQMEAwEBAgIBAgICAwMDAgEBAQEBAQEBAQEDAgICAgICAwQFAQEBDAEBAwEBAQIFAgUCAg0CAwIBAQEBAQEEBgIDBAEBAQEBAgEBAQEBAQIBAgICAQIBAQEBAQIBAQMBAgIDAgMHAQMBAQEDAQEBAQEBAQEBAgIBAQEBAgECAgEBAQEDAQECAQUCAgEBBAgCAgIBAQECAQEDAgICAgECAQEBAgEBAQEBAwICAwMDAQEBAQIDAQECAgIBAQEBAgEBAQEBAQIDAQEBAQEBAQEBAQEBAQEBAQEBAQEBAQIBBgEBAQEBAgICAQEBAQEBAQEBAgEBAQEBAQICAQECAgECAQEBAgEBAQEBAgECAQEBAQMCAQEBAQEBAQEBAQEBAQECAQIBAgICAgEBAQEBAwIBAQMCAgIEAQEBAQEBAgEBAQECAgUBAgICAgUCAQEBAQECAQEBAgEBAgIBAQEBAQEBAQEBAQEBAQMDAgEBAQMCAgIDAQEBAQEBAgIDAQEDAQICAgEBAgEEAQEBAgEBAQEEAgICAgICAgIBAQEBAQEBAQIBAQECAQIBAgICAQIBAgICAgEBAQEBAQEBAQIBAQEBAQICAgECBAIBAQECAgECAgYEAgMFAwEBAQIEAgICAwIEAgICAgMEAwEBAQEBAQMFAQIFAgQCBQMBAQQCAwEBAgIEAgUBAQEBAQEBAQECAgMDCAIBAQICAgECAQICAQEFAgMCAgIBAQEEAQICBAIBBQIDAQEBAQEBAgECAwICAQUFAwUBBAEBAQMCAgIDAwEBBQgBAQEBAQEHAgIBAwMBAQQEBAEBCAMFAQEBAQECAQMDAQEBAwICAgIBAQIBAQEBAQEBAQEBAQEBAQICAgIEAwMDAwEGAQEBAQECAQMBAQECBQICAgIFAgEDAQEGAgUEBQMBCAEFAwICAQEBAQEBAQMGAgEEAQEBAQEEAgYGBgIEBQIBAwMBAgIDAQEDAQQBAQEBAQIEAgEBAwMEAwEBAQEBAQEBBgMCAgECBwQBAwEHAwIBAgIEAwIDBgIBAQEEAgQBAQECAQIDAgICAgIEAwEFAQUDAgIBAgEBAQIBAQMBAQIHAQEBAQIDAgEGAgICAQEDAQECAgICAQEBAQIDAQIDBQECAgQDBAICBAEBAQEBAQIDBAMCBgICAQEBAQICAQEBAQECAgMCAwQCAQICBAMBAgECBAIBAQIEBQEBAggDAgIDBQoCAwMBAgEBAQMBBgIBAgcCBAICAQECAQEBAQEBAQEBAQEBAQEBAQQBAQIBAQECAgIBAwEDBQIGAgMFAQECAQECAQECBQEEAwMCAQIFAgEHAQECBAEBAQIHAQEBAQEBAQIBAgEDBAEDAwIBAQEBBQEBAQMBAgIBAQEBAQEBAQEBAQECAgEBAQEBAQEBAQEBAQICAQEBAgEBAQEBAQMCBgQDAgEBAwEBAQECAQQBAQICAQEBAQEBAQMCAgEBAQEBAwIBAQIBAQEBAQEBAQEGAQIFBgEDAQMCAwQBBAEBAQEEAQIBAQIBAwEFAQQEBAEBAQIBAQECAgIBAwEBBAECAQEBAQEDBAsBAQECBwICCQIBAQEBAQECBAICAQEBAwIBBgIBAQMCAQEBAwEDCQEFAQICAgQBAgEIBAEBAQIEAQIFAgMBAQIFAQEBAQEBAQMBAQICAQIBAQEBAQIDAQEBAQICAQIBAwQBAQYCBAIHAQMDAQMCAgIDAgMDAgEECAIBAQcBAQIDAQECAwEBAgEBAQECAgEBAQMBAQEDBAEBAQUBAgECBQMCAQEBAgEBAQICAQIBCAMBAQECAQECAQEBBAEBAgMCAgEBAwMHBgEBAQEBAQEQAQEBAQEBAQEBAQEBAQECAQEBAQECAQQCAgEBAQEBAQEBAQIDAQIGAQEHAgYDAwECAQEDCQIBAwEBAgEBAQUBAgcBAgEDAQEBAQEBAwUEAgEBAQEEAwEBAQEEAQECAgMHAQMBAQEBAQEBAQEBAQIBAQECAQIBAQIDAgQBAQEEAgEBAQIBAQECAQEBAgIBAQEBBAMCCQEBAQUCBAQCAwQCBAEBAgEBAgICAQICAQEBAQEBAQEBAQECAwICBAEBAQMBAQEBAgICAgIBAQECAgEBAQEBAgIEAwEBAQEBAQECAgEBAgIDAwIBBgIBAwIEAgECAQQEAQEFAgMDBAICAwEBAQECAgIBAwUCAgMEBAIBAQEBAwEBAgECAQEBAQEBAQIBAQEBAQIDAQEBAgICAgEBAQIDAQECAgICAgEBAQECAgMEAQIBAgMDAQMCAgUCBQQBAgMCBQIBAQYDAgEBAgM="
         },
         "yaxis": "y",
         "type": "scattergl"
        },
        {
         "hovertemplate": "Accepted Campaign=yes<br>Duration=%{x}<br>Number of calls=%{y}<extra></extra>",
         "legendgroup": "yes",
         "marker": {
          "color": "#EF553B",
          "symbol": "circle"
         },
         "mode": "markers",
         "name": "yes",
         "showlegend": true,
         "x": {
          "dtype": "i2",
          "bdata": "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"
         },
         "xaxis": "x",
         "y": {
          "dtype": "i1",
          "bdata": "AQEBAQECAwEBAQEBAwIBAgEBAQIEAQMBAgEBAgICAgQDAQMBAgEBAgICBQIGAwQBBAEBAQIBAgEEAQYCAgMBAQECAgECAgEDAwEBAQMXAQIBAgICAgYCAwQBAQEBAQEDAQEBAgMBAQEBAQUEAQICAQQDAgYFAwECAQIBAQMCAgEBAQEBAgIBAQEEAgEBAwICAQMDAgUCAQEBAQMDAgYCBQYLBAIEAQIDAgQCBgIDAwIFAQEBAwEBAQIGAgMCBAIBAQIBAgECAQUJAQEBAQIBAQICAgMCAgMDAwMFAQIBAQICAgEKDwICAwIDAgQMDAIFBQQCAQIBAQEDAgUEAgYEAwIDAwcBAgMBAQICBgcEAQEPBAECAQIBAgEGAQIBAgECAgMBAQICAgIDBAECAgsEAgICAwMBCQMKAQEBBgECAwgDAwQIAQEBAQEBAgICAwIBAQUGAgIGAhECBwILBAkBAgEDAwIEAQEBBAMDAgMDAQICAQEBAQEBAQQJAgUDAQEBAwIBBAECAwIBAgMBAgECAgUHAQMBAgoDAgYDBAUDAwQCAwICAwMDAgYCAQYJAgIBAQMEAgEDAwICBQMBAQEBAQMFAgQBAQEBAQMBAgICAQEBBQIBAQMCAgQDAgEBAQECAQEBAQEBAwMBAQEBBQEEBgIDAQEBAQEBAQEBAgEBBwEEBQEBAQMBAwEDAQEBAgICAgICAgICAgICAgICAgIDAwIDAgMEAgQDBwIDAwUDAgQDBAMEAQIBAQQDAQYFAwUEBQQDBgUFAQEEAQEBAQEGAQECAQEBBgsCCQICAwIBAgIBAQECAwIHAwEDBQIFBAMDAgEBAQEBAQECAQIBAwEBAgQFAQIJAwMJBwQEAgICAwIDAQIHAQIGAQMBBAEBBAoBBAgCAgMLAwUDBgIBAQEBAQIBAgIBAgUCBwQICw0BAQEBAQEBAgMDAgIGAgIBAgYEBgQCAgQCAQIBAgEIAQECAQIJBgICAgUBAQEBAQQIDQEICAMDEQQECQQGAgMHAgECBgIBAQIDAwIFAgIDAwQRAQIBAQEBBQELBgMLAQEBAQIBAQMCAgECAQIGAgQDBAgDBwoEAwIEDgQBAwsCAgICBAMFBAEBAgIDAgIBAQEBAQMEAgEDAgIBAgMCAwMDAQIBAQEBAgECAQIBAwEBBAcDAwECAQMBBQECBgEDAQUEBQIEAQECAQEBAQIBAQEDAwEDBwQCAgIBAwEBAgQCAQECAgEBAwMFAwEBAQEFAgECAQMCAwIBAQQDAgQHAwEBAwEDBAoEAQEBAQgBBAUBAgQGAwICAgEBAQECAQIBAQEJAgEBAgINAwIDAgICBAIEAwICAQYCDAoEAwICAgkDAQEBAQEDAQIDCQUDAQMCBQIBAgMCBgMDAgEFBAMBBAIBAQgBAQEBAQEDBwUCBQICAgMDAwMDBgUGAwUHCQQEAwYGCAQDCQUDBwoHAwILAwIBAQYDAwsBAQEBAQEBAQEBAQEBAQEBAQEBAQEBAQEBAQEBAQEBAQEBAQEBAQEBAQEBAQEBAQEBAQEBAQEBAQEBAQEBAQEBAQEBAgECAgIBAQECAQECAgICAQIBAgEBAQEBAQECAQICAgQBAQEDAQEBAQEBAQEBAQEBAwIBAQECAgEBAQECAQEBAgECAQMBAgQDAgICAwICAQEBAQEBAQIBAQEBAQEBAQIFBAEBAwQBAQIBAwIBAQEBAgICAQIDAQEDAwICAwQDAgIBAQEBAQEBAQEBAQEBBQEBAQMDAQIBAQICAQECAwkCAgQCAgICAQQCBAEBAQUDAgMCAwIBAQMBAQECDQIGAgICAQEBAQIBAQEDAgEDAwIBAgIBAQMBAwEDAwIEBQIBAQcDAgEEAQEBAQQFAQIEAgEBAQECAgIBAQEEAQMEAQECAQECAwMBAgIIAgICAQEEAgEBAQECAQECAQMCAgICCAMBAgMCAgMCAQICBAIDAwIBAQIBAgECBgIBAQECAwIEAQECBAEBAQEBAQECAwEBAQEBAQEBAgIDAgQCBAECAQMBAQEBAQEDAgUCAwUBAQEBAQIBAQEBAgEBAQEBAQMBAQEBAgMFAgICAQECAgEBAwIBCwEBAQEDAQMBAgUCAgMEAgECAgECAQEBAQQBAgIBAQEFAgIDAQECAQEBAQEBAwEDAgEBAgMCAQEBAwEBAQIBAQEBAwEFAwEBAgIEAgMDAgMCAQIBAQIDAwUBAQQBAQEEAQECAQMBAQECAQEEAQEBAQEBAQEBAQICAgMBAwEFAQUDAgQDAgEEAxEBAQEBAQEBAgICAgIDAwQBAgEBAQEBAQEBAQEBAQICBAICBQMBAgIBBQUBAgMBBAQBAgEFAQEBAQEBAgMCAgEBAQEBAQEBAQEBAQEBAQEBAQEBAQEBAQEBAQEBAQEBAQECAQIBAQEBAQECAQEBAQICAgIBAgEBAQECAQEBAQEBAgECAQECAQIBAQIBAQEBAgEBAQEBAgEBAQEBAQIBAQEBAgECAgEBAQECAgECAQICAQICAQMBAQMDAwIBAgICAwEBAQIBAgECAgIEAwIBAQIBAQEBAQEDAwEEAwECAwIBAQMGBAYDBQMEAwIDBAMDAwQCAgUEAwMFCAQFBQQHBgIDAQEBAQEBAQEBAQECAQECAgEBAQICBgMCAwEBAQEBAQEBAgEBAQEBAQIBAgIBAQIBAgMBAwIEAgIDAQEBAQIBAQEBAQQBAgEBAQICAQICAQICAgMDAwMCAwMDBAEBAQEBAQECAQIBAwEBAQIBAQECAwMBAQEBAQECAQECAQEBAQICAQEDAQEBAgcCAwIDAgEBAQEBAQEEAQEDAQEBAQoBAQEBAQIBAQEHAwECAgMEBgQCAwIDAgMCAQEBBAEBAQEBAQEBAwEDAQEDAQIBAQIBAQEDAQMCAQEDAwMFAgICAgICAgIDAwICBwIDAgIBAQEBAQEDBQECBQEBAQEBAQEBAQMBAQEBAQECAQEBBAQCAgEDAgIEAgIDAgIDAgQEAwIDBAIBAQEBAQIBBQEBAQEBAgUFAgIEAQUBAQMCAQEDAQEBAQEFAQMDAgMFBAUEBAQCAwQEAwQHCAQDBAIDAwEBBAEBAQEBAQEBAQQBAwEBAQEBBQICAgQCAgMDBQMCAQEBAQEBAQEBAQECAgECAQICBAECAQEBAQEBAQIBAQcBAQQBAQICAwECAgEBAQEBAQECAQECAQEBAQIDAQIBAQMBAQEBAwMEAQEBAgEBAgMCAgIJBAMBAQEBAQEBAQECAQECAQEBAQICAgEBAgEBAgIBAQIBAgEDAQEBAQEBAQIBAQEBAQEBAQEBAgECAgEBAQEBAQEBAQEBBAECAgEBAwIDAgIBAQMCAgQCAgIEAQIBAQIBAQEEAQEBAQEBAgIBAwEBAgMCAQEBAgIBAgICAgICAQMCAgIBAQEBAQECAQEBAgEBAgECAQMCAQQCAQEBAgIDAwICAQEBAQEBAQIBAQEBAQIBAQMCAgMCAwIBAgICAgICAgcCAgIDAwYDBAQEAgQCBAICBwICAgYEBwMCAgEBAQYBAQEBAgEBAgEBAQEBAQIBAQICAgEDAwQDAgQKAgYFAwMBAQECAQEBAQMCAQQCAQEBAQEBAQEBAQICBQICAQICAQEBBgICAQIEAwIEAQEBAQECAgEBAQEBAQICAQEFAQMCAgQCBAUCBgYFBQEBAQEBAQEBAgEBAgEBAQIBAgIDBAIEAQECAQQCAQECAQIBAQIBAQEBAgEBAQMBAgEBAQEBAQICAgMBAQEBAgECAQECAQMBAgECAwIBAQEBAwEBAQECAgEBAgICAgICAQIBAQICAQEBAgQCAQEBAQMBAgIFAwECAwECAgEBAwQCAgIDAQIBAwYCAgQBAgEDAQEBBAIGAgEDAwIDAwMBAQEBAQEBAQIBAQEBAQECAgECAQEBAQECAQIBAQEBAQQCAgIBAQMBAQEDAQEGAQEBAQECAwIEAQEBAQECAgEBAQECBAEBAgICAgEBAgECAwYDAgMDBAEEAwEDAQIBAwEBAgIIAgMCAwEBAgIBAQECAgIDAQEBAQEBAQIBAQEBAQECAgQDAQQBAQEBAgYBAQEBAQEBAgEBAQICBQEDAQEBAQECAgMBAwMDAwEBAQECBAIBAQEBAQECAgIBAgEBAQEBAQEBAgMCAQEBAQEBAQEBAgEBAQECAwEBAQECAQECAQMBAQEBAQEBAgEBAgEDAQEBAQECAgIBAQEBAgIDAQEBAQECBQECAgMBAQEBAgECAQEBAQEBAQICAQEBAgEBAgEBAQICAQIBAwEBAQICAQEBAQIBAgIFAQMDAQEBBAMCAQECAwEBAQEBAQIBAgEBAgEBAQEBAQEBAQEBAgEBAwIBAQEBAQEDAQIDAQEBAQEBAgMCAQIBAgIDAQEDAgECAgMBAQEBAQEDAgICAQEBAgIBAQEBAQEBAQQBAQEBAgEBBwMFAQICAgEBAQEBAQEBAwECAQQCAgICBAEBAgIBAQECAgIFAwEBBAIBAQMBAQIDAgEBAQEBAwMBAQEBAQICAQEBAQEBAQEBAQcCAgIEAgEBAgECAQMCAQEBAQECAQECAgICAgEBAQEBAQUFAQEBAQECAgUCAQIBAgICAQQBAwMBAQICAQEBAQEBAQEBAgECAQIBAQEBAgEBAQEBAgMKAQEBAgIDAgcBAQECAgEBAgMDBQEBAQEBBAIDAgMBAQIDAQECAgIDAwQDAQcCAgICAgIDAwECAgEBAgEBAgEBAQQCAQECAQMCAgMDAQEBAQEBAQEBAgECBAMCAwEBAQIBAgIBAwICAQEBAgMBAQQBAQECAQEBAgICAgEBBAEBAgIBAQIBAQEBAQEBAQMBAgICAQMCAgECBAEBBAEBAQEDAwIBAQECAgcGAQEBAQEBAQEDAQMBAQEBAgIEAgIDAgIBAQEBAQEBAQECAQEBAQEBAwEBAgIDAgEBAQQEAgEBAQEBAQEBAgMCAQMBAQEGAQIBAQECAQIBAwEDBAECAQQCAQEBAQEBAQIGAwECAQIFBgEBAQMBAwECAgIBAQIHAQQBAQEBAwICAQECAQIBAgEDAgECAQIDAgEBAQIFAwMBAQMBAQEBAQECAgIBAQIBAQEBBAQBAQEBAQECAwIDAgQCBgUBAQIBAgIBAQEBAQEBAQEBAQECAQEBAwMCBQEEAgMDBQQBAQICAQEBAwMBAQECAgMDBAEBAwECAgEBAQICAgQBAQEBAQMDAwICAgEDAQEBAQICAwIDAgMDAQEBAQEBAQIDBQECAQECAQEBAQEBAQEBAQICAgEFAQEBAQEBBAECAQEBAgICAgEDBQEBAwYDAQEBBAIBAgEBAQEBAQIBAQMEAQYBAQICAwQDAQEBAQEBBAYBAQEBAQECAgECAgQEAQICAQICAgUBAgIDAwEFAQECAwIBAgEDAQEDAgECAgIBAQEBAgEBAgIDAQQHAwEKAwMEAwEBAQECAQIBAgEBAQEBAQEBAQMGAwEEAQECAQEBAgIDBQEBAQECAQMCAgIEAgICAQEBAgMCAQIDAQECAgYHAQMEAgICAgEBAQIBAQEBAgQBAgIDAwYCBAEBAQIBAQECAgMBAQEBAgICAQIFAgIDAQMDAwIDAwEEBAEBAgEBBQEBBgIFAQIDAQICAQECAgEEAgICAwMBAQEBAQECAQEBAQIBAQEBAQEDAQIDAQEBAwICAQIBAQECAQECAgIDAQEBAgIBAwQBAQEBAQEBAQEBAQEBAwICAQEBAQECAgMBAQEDAQEDAgMBAQEBBAEGBgYDAgMDBAMEAQEEAQIDBQIBAQEBAQEBAgMCAgEDAgECAQICAgIDAgIDAQEBAwEBAgMDAQEDAQECAQICAwMCAwEBAQEBAQQBAQEBAwIBBQIBAgMDAQEBAgMCAQEBAQIBAQIDAQIBAQECAwECAgEBAgMBAQMBAQEBBQECAgQDAQUBAwECAQEBAgEBAQEBAgEBAQICAQIEAgICAQEBBQIBAgICAQMBAQEBAQEBAgICAQIDAQEBAgICAgEBAgECBAEBAQEDAQEBAQIBAQECAQECAwEBAQEBAQEDAQIHBAEDAwEBAgEBAgICAwMDAwEBAwICAQEBAQECBQECAQEEAgEBAQEBAQEBAQECAgMCAQIBAQMBAQEBAQEBAgEDBAEBAQICAQIBAgIBBAMEAgMCAgIBAQEDAgIBAQEBAQIBAQE="
         },
         "yaxis": "y",
         "type": "scattergl"
        }
       ],
       "layout": {
        "template": {
         "data": {
          "histogram2dcontour": [
           {
            "type": "histogram2dcontour",
            "colorbar": {
             "outlinewidth": 0,
             "ticks": ""
            },
            "colorscale": [
             [
              0.0,
              "#0d0887"
             ],
             [
              0.1111111111111111,
              "#46039f"
             ],
             [
              0.2222222222222222,
              "#7201a8"
             ],
             [
              0.3333333333333333,
              "#9c179e"
             ],
             [
              0.4444444444444444,
              "#bd3786"
             ],
             [
              0.5555555555555556,
              "#d8576b"
             ],
             [
              0.6666666666666666,
              "#ed7953"
             ],
             [
              0.7777777777777778,
              "#fb9f3a"
             ],
             [
              0.8888888888888888,
              "#fdca26"
             ],
             [
              1.0,
              "#f0f921"
             ]
            ]
           }
          ],
          "choropleth": [
           {
            "type": "choropleth",
            "colorbar": {
             "outlinewidth": 0,
             "ticks": ""
            }
           }
          ],
          "histogram2d": [
           {
            "type": "histogram2d",
            "colorbar": {
             "outlinewidth": 0,
             "ticks": ""
            },
            "colorscale": [
             [
              0.0,
              "#0d0887"
             ],
             [
              0.1111111111111111,
              "#46039f"
             ],
             [
              0.2222222222222222,
              "#7201a8"
             ],
             [
              0.3333333333333333,
              "#9c179e"
             ],
             [
              0.4444444444444444,
              "#bd3786"
             ],
             [
              0.5555555555555556,
              "#d8576b"
             ],
             [
              0.6666666666666666,
              "#ed7953"
             ],
             [
              0.7777777777777778,
              "#fb9f3a"
             ],
             [
              0.8888888888888888,
              "#fdca26"
             ],
             [
              1.0,
              "#f0f921"
             ]
            ]
           }
          ],
          "heatmap": [
           {
            "type": "heatmap",
            "colorbar": {
             "outlinewidth": 0,
             "ticks": ""
            },
            "colorscale": [
             [
              0.0,
              "#0d0887"
             ],
             [
              0.1111111111111111,
              "#46039f"
             ],
             [
              0.2222222222222222,
              "#7201a8"
             ],
             [
              0.3333333333333333,
              "#9c179e"
             ],
             [
              0.4444444444444444,
              "#bd3786"
             ],
             [
              0.5555555555555556,
              "#d8576b"
             ],
             [
              0.6666666666666666,
              "#ed7953"
             ],
             [
              0.7777777777777778,
              "#fb9f3a"
             ],
             [
              0.8888888888888888,
              "#fdca26"
             ],
             [
              1.0,
              "#f0f921"
             ]
            ]
           }
          ],
          "contourcarpet": [
           {
            "type": "contourcarpet",
            "colorbar": {
             "outlinewidth": 0,
             "ticks": ""
            }
           }
          ],
          "contour": [
           {
            "type": "contour",
            "colorbar": {
             "outlinewidth": 0,
             "ticks": ""
            },
            "colorscale": [
             [
              0.0,
              "#0d0887"
             ],
             [
              0.1111111111111111,
              "#46039f"
             ],
             [
              0.2222222222222222,
              "#7201a8"
             ],
             [
              0.3333333333333333,
              "#9c179e"
             ],
             [
              0.4444444444444444,
              "#bd3786"
             ],
             [
              0.5555555555555556,
              "#d8576b"
             ],
             [
              0.6666666666666666,
              "#ed7953"
             ],
             [
              0.7777777777777778,
              "#fb9f3a"
             ],
             [
              0.8888888888888888,
              "#fdca26"
             ],
             [
              1.0,
              "#f0f921"
             ]
            ]
           }
          ],
          "surface": [
           {
            "type": "surface",
            "colorbar": {
             "outlinewidth": 0,
             "ticks": ""
            },
            "colorscale": [
             [
              0.0,
              "#0d0887"
             ],
             [
              0.1111111111111111,
              "#46039f"
             ],
             [
              0.2222222222222222,
              "#7201a8"
             ],
             [
              0.3333333333333333,
              "#9c179e"
             ],
             [
              0.4444444444444444,
              "#bd3786"
             ],
             [
              0.5555555555555556,
              "#d8576b"
             ],
             [
              0.6666666666666666,
              "#ed7953"
             ],
             [
              0.7777777777777778,
              "#fb9f3a"
             ],
             [
              0.8888888888888888,
              "#fdca26"
             ],
             [
              1.0,
              "#f0f921"
             ]
            ]
           }
          ],
          "mesh3d": [
           {
            "type": "mesh3d",
            "colorbar": {
             "outlinewidth": 0,
             "ticks": ""
            }
           }
          ],
          "scatter": [
           {
            "fillpattern": {
             "fillmode": "overlay",
             "size": 10,
             "solidity": 0.2
            },
            "type": "scatter"
           }
          ],
          "parcoords": [
           {
            "type": "parcoords",
            "line": {
             "colorbar": {
              "outlinewidth": 0,
              "ticks": ""
             }
            }
           }
          ],
          "scatterpolargl": [
           {
            "type": "scatterpolargl",
            "marker": {
             "colorbar": {
              "outlinewidth": 0,
              "ticks": ""
             }
            }
           }
          ],
          "bar": [
           {
            "error_x": {
             "color": "#2a3f5f"
            },
            "error_y": {
             "color": "#2a3f5f"
            },
            "marker": {
             "line": {
              "color": "#E5ECF6",
              "width": 0.5
             },
             "pattern": {
              "fillmode": "overlay",
              "size": 10,
              "solidity": 0.2
             }
            },
            "type": "bar"
           }
          ],
          "scattergeo": [
           {
            "type": "scattergeo",
            "marker": {
             "colorbar": {
              "outlinewidth": 0,
              "ticks": ""
             }
            }
           }
          ],
          "scatterpolar": [
           {
            "type": "scatterpolar",
            "marker": {
             "colorbar": {
              "outlinewidth": 0,
              "ticks": ""
             }
            }
           }
          ],
          "histogram": [
           {
            "marker": {
             "pattern": {
              "fillmode": "overlay",
              "size": 10,
              "solidity": 0.2
             }
            },
            "type": "histogram"
           }
          ],
          "scattergl": [
           {
            "type": "scattergl",
            "marker": {
             "colorbar": {
              "outlinewidth": 0,
              "ticks": ""
             }
            }
           }
          ],
          "scatter3d": [
           {
            "type": "scatter3d",
            "line": {
             "colorbar": {
              "outlinewidth": 0,
              "ticks": ""
             }
            },
            "marker": {
             "colorbar": {
              "outlinewidth": 0,
              "ticks": ""
             }
            }
           }
          ],
          "scattermap": [
           {
            "type": "scattermap",
            "marker": {
             "colorbar": {
              "outlinewidth": 0,
              "ticks": ""
             }
            }
           }
          ],
          "scattermapbox": [
           {
            "type": "scattermapbox",
            "marker": {
             "colorbar": {
              "outlinewidth": 0,
              "ticks": ""
             }
            }
           }
          ],
          "scatterternary": [
           {
            "type": "scatterternary",
            "marker": {
             "colorbar": {
              "outlinewidth": 0,
              "ticks": ""
             }
            }
           }
          ],
          "scattercarpet": [
           {
            "type": "scattercarpet",
            "marker": {
             "colorbar": {
              "outlinewidth": 0,
              "ticks": ""
             }
            }
           }
          ],
          "carpet": [
           {
            "aaxis": {
             "endlinecolor": "#2a3f5f",
             "gridcolor": "white",
             "linecolor": "white",
             "minorgridcolor": "white",
             "startlinecolor": "#2a3f5f"
            },
            "baxis": {
             "endlinecolor": "#2a3f5f",
             "gridcolor": "white",
             "linecolor": "white",
             "minorgridcolor": "white",
             "startlinecolor": "#2a3f5f"
            },
            "type": "carpet"
           }
          ],
          "table": [
           {
            "cells": {
             "fill": {
              "color": "#EBF0F8"
             },
             "line": {
              "color": "white"
             }
            },
            "header": {
             "fill": {
              "color": "#C8D4E3"
             },
             "line": {
              "color": "white"
             }
            },
            "type": "table"
           }
          ],
          "barpolar": [
           {
            "marker": {
             "line": {
              "color": "#E5ECF6",
              "width": 0.5
             },
             "pattern": {
              "fillmode": "overlay",
              "size": 10,
              "solidity": 0.2
             }
            },
            "type": "barpolar"
           }
          ],
          "pie": [
           {
            "automargin": true,
            "type": "pie"
           }
          ]
         },
         "layout": {
          "autotypenumbers": "strict",
          "colorway": [
           "#636efa",
           "#EF553B",
           "#00cc96",
           "#ab63fa",
           "#FFA15A",
           "#19d3f3",
           "#FF6692",
           "#B6E880",
           "#FF97FF",
           "#FECB52"
          ],
          "font": {
           "color": "#2a3f5f"
          },
          "hovermode": "closest",
          "hoverlabel": {
           "align": "left"
          },
          "paper_bgcolor": "white",
          "plot_bgcolor": "#E5ECF6",
          "polar": {
           "bgcolor": "#E5ECF6",
           "angularaxis": {
            "gridcolor": "white",
            "linecolor": "white",
            "ticks": ""
           },
           "radialaxis": {
            "gridcolor": "white",
            "linecolor": "white",
            "ticks": ""
           }
          },
          "ternary": {
           "bgcolor": "#E5ECF6",
           "aaxis": {
            "gridcolor": "white",
            "linecolor": "white",
            "ticks": ""
           },
           "baxis": {
            "gridcolor": "white",
            "linecolor": "white",
            "ticks": ""
           },
           "caxis": {
            "gridcolor": "white",
            "linecolor": "white",
            "ticks": ""
           }
          },
          "coloraxis": {
           "colorbar": {
            "outlinewidth": 0,
            "ticks": ""
           }
          },
          "colorscale": {
           "sequential": [
            [
             0.0,
             "#0d0887"
            ],
            [
             0.1111111111111111,
             "#46039f"
            ],
            [
             0.2222222222222222,
             "#7201a8"
            ],
            [
             0.3333333333333333,
             "#9c179e"
            ],
            [
             0.4444444444444444,
             "#bd3786"
            ],
            [
             0.5555555555555556,
             "#d8576b"
            ],
            [
             0.6666666666666666,
             "#ed7953"
            ],
            [
             0.7777777777777778,
             "#fb9f3a"
            ],
            [
             0.8888888888888888,
             "#fdca26"
            ],
            [
             1.0,
             "#f0f921"
            ]
           ],
           "sequentialminus": [
            [
             0.0,
             "#0d0887"
            ],
            [
             0.1111111111111111,
             "#46039f"
            ],
            [
             0.2222222222222222,
             "#7201a8"
            ],
            [
             0.3333333333333333,
             "#9c179e"
            ],
            [
             0.4444444444444444,
             "#bd3786"
            ],
            [
             0.5555555555555556,
             "#d8576b"
            ],
            [
             0.6666666666666666,
             "#ed7953"
            ],
            [
             0.7777777777777778,
             "#fb9f3a"
            ],
            [
             0.8888888888888888,
             "#fdca26"
            ],
            [
             1.0,
             "#f0f921"
            ]
           ],
           "diverging": [
            [
             0,
             "#8e0152"
            ],
            [
             0.1,
             "#c51b7d"
            ],
            [
             0.2,
             "#de77ae"
            ],
            [
             0.3,
             "#f1b6da"
            ],
            [
             0.4,
             "#fde0ef"
            ],
            [
             0.5,
             "#f7f7f7"
            ],
            [
             0.6,
             "#e6f5d0"
            ],
            [
             0.7,
             "#b8e186"
            ],
            [
             0.8,
             "#7fbc41"
            ],
            [
             0.9,
             "#4d9221"
            ],
            [
             1,
             "#276419"
            ]
           ]
          },
          "xaxis": {
           "gridcolor": "white",
           "linecolor": "white",
           "ticks": "",
           "title": {
            "standoff": 15
           },
           "zerolinecolor": "white",
           "automargin": true,
           "zerolinewidth": 2
          },
          "yaxis": {
           "gridcolor": "white",
           "linecolor": "white",
           "ticks": "",
           "title": {
            "standoff": 15
           },
           "zerolinecolor": "white",
           "automargin": true,
           "zerolinewidth": 2
          },
          "scene": {
           "xaxis": {
            "backgroundcolor": "#E5ECF6",
            "gridcolor": "white",
            "linecolor": "white",
            "showbackground": true,
            "ticks": "",
            "zerolinecolor": "white",
            "gridwidth": 2
           },
           "yaxis": {
            "backgroundcolor": "#E5ECF6",
            "gridcolor": "white",
            "linecolor": "white",
            "showbackground": true,
            "ticks": "",
            "zerolinecolor": "white",
            "gridwidth": 2
           },
           "zaxis": {
            "backgroundcolor": "#E5ECF6",
            "gridcolor": "white",
            "linecolor": "white",
            "showbackground": true,
            "ticks": "",
            "zerolinecolor": "white",
            "gridwidth": 2
           }
          },
          "shapedefaults": {
           "line": {
            "color": "#2a3f5f"
           }
          },
          "annotationdefaults": {
           "arrowcolor": "#2a3f5f",
           "arrowhead": 0,
           "arrowwidth": 1
          },
          "geo": {
           "bgcolor": "white",
           "landcolor": "#E5ECF6",
           "subunitcolor": "white",
           "showland": true,
           "showlakes": true,
           "lakecolor": "white"
          },
          "title": {
           "x": 0.05
          },
          "mapbox": {
           "style": "light"
          }
         }
        },
        "xaxis": {
         "anchor": "y",
         "domain": [
          0.0,
          1.0
         ],
         "title": {
          "text": "Duration"
         }
        },
        "yaxis": {
         "anchor": "x",
         "domain": [
          0.0,
          1.0
         ],
         "title": {
          "text": "Number of calls"
         }
        },
        "legend": {
         "title": {
          "text": "Accepted Campaign"
         },
         "tracegroupgap": 0
        },
        "title": {
         "text": "Number of calls does not correlate with duration of the call"
        }
       },
       "config": {
        "plotlyServerURL": "https://plot.ly"
       }
      }
     },
     "metadata": {},
     "output_type": "display_data"
    }
   ],
   "execution_count": 82
  },
  {
   "cell_type": "markdown",
   "metadata": {},
   "source": "### Data Preparation"
  },
  {
   "metadata": {},
   "cell_type": "code",
   "outputs": [],
   "execution_count": null,
   "source": ""
  },
  {
   "cell_type": "markdown",
   "metadata": {},
   "source": "### Models"
  },
  {
   "cell_type": "code",
   "execution_count": null,
   "metadata": {},
   "outputs": [],
   "source": []
  },
  {
   "cell_type": "markdown",
   "metadata": {},
   "source": "### Evaluation"
  },
  {
   "cell_type": "code",
   "execution_count": null,
   "metadata": {},
   "outputs": [],
   "source": []
  }
 ],
 "metadata": {
  "kernelspec": {
   "display_name": "Python 3",
   "language": "python",
   "name": "python3"
  },
  "language_info": {
   "codemirror_mode": {
    "name": "ipython",
    "version": 3
   },
   "file_extension": ".py",
   "mimetype": "text/x-python",
   "name": "python",
   "nbconvert_exporter": "python",
   "pygments_lexer": "ipython3",
   "version": "3.8.8"
  },
  "widgets": {
   "application/vnd.jupyter.widget-state+json": {
    "state": {},
    "version_major": 2,
    "version_minor": 0
   }
  }
 },
 "nbformat": 4,
 "nbformat_minor": 4
}
